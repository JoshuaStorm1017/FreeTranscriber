{
  "nbformat": 4,
  "nbformat_minor": 0,
  "metadata": {
    "colab": {
      "provenance": [],
      "toc_visible": true,
      "gpuType": "T4",
      "authorship_tag": "ABX9TyOfOY8sPUKjUH5m8GhU69Tv",
      "include_colab_link": true
    },
    "kernelspec": {
      "name": "python3",
      "display_name": "Python 3"
    },
    "language_info": {
      "name": "python"
    },
    "accelerator": "GPU",
    "widgets": {
      "application/vnd.jupyter.widget-state+json": {
        "c980053224814e758ea42bcbaa00dba9": {
          "model_module": "@jupyter-widgets/controls",
          "model_name": "VBoxModel",
          "model_module_version": "1.5.0",
          "state": {
            "_dom_classes": [],
            "_model_module": "@jupyter-widgets/controls",
            "_model_module_version": "1.5.0",
            "_model_name": "VBoxModel",
            "_view_count": null,
            "_view_module": "@jupyter-widgets/controls",
            "_view_module_version": "1.5.0",
            "_view_name": "VBoxView",
            "box_style": "",
            "children": [
              "IPY_MODEL_194f34c7ec924c64bf9bdd8a5929894b",
              "IPY_MODEL_e84e8b5f890143cb90f750f0637b0a2b",
              "IPY_MODEL_f03f0bd79459416a84fc1f0a71fdaf1b",
              "IPY_MODEL_73865822456040e89aead6a56fda7675",
              "IPY_MODEL_89ecae41d56940239b980a10b6f260bd",
              "IPY_MODEL_72f647c90fbf4e46b368936ebf5f18de",
              "IPY_MODEL_0530fd9514074c6b890ad2d0b3ad304a"
            ],
            "layout": "IPY_MODEL_6c3cb536f61847cc9b62562a29d82d16"
          }
        },
        "194f34c7ec924c64bf9bdd8a5929894b": {
          "model_module": "@jupyter-widgets/controls",
          "model_name": "RadioButtonsModel",
          "model_module_version": "1.5.0",
          "state": {
            "_dom_classes": [],
            "_model_module": "@jupyter-widgets/controls",
            "_model_module_version": "1.5.0",
            "_model_name": "RadioButtonsModel",
            "_options_labels": [
              "Upload File",
              "Enter URL"
            ],
            "_view_count": null,
            "_view_module": "@jupyter-widgets/controls",
            "_view_module_version": "1.5.0",
            "_view_name": "RadioButtonsView",
            "description": "Input Method:",
            "description_tooltip": null,
            "disabled": false,
            "index": 1,
            "layout": "IPY_MODEL_8ed9885896b644259ef631a7c65e5a30",
            "style": "IPY_MODEL_82100f72a639484b968b233ad2534512"
          }
        },
        "e84e8b5f890143cb90f750f0637b0a2b": {
          "model_module": "@jupyter-widgets/controls",
          "model_name": "DropdownModel",
          "model_module_version": "1.5.0",
          "state": {
            "_dom_classes": [],
            "_model_module": "@jupyter-widgets/controls",
            "_model_module_version": "1.5.0",
            "_model_name": "DropdownModel",
            "_options_labels": [
              "Audio",
              "Video"
            ],
            "_view_count": null,
            "_view_module": "@jupyter-widgets/controls",
            "_view_module_version": "1.5.0",
            "_view_name": "DropdownView",
            "description": "Media Type:",
            "description_tooltip": null,
            "disabled": false,
            "index": 1,
            "layout": "IPY_MODEL_210ff52078b641d4b5d1f9d5ba3662c8",
            "style": "IPY_MODEL_c02334950910412898400b6da3239b1b"
          }
        },
        "f03f0bd79459416a84fc1f0a71fdaf1b": {
          "model_module": "@jupyter-widgets/controls",
          "model_name": "FileUploadModel",
          "model_module_version": "1.5.0",
          "state": {
            "_counter": 0,
            "_dom_classes": [],
            "_model_module": "@jupyter-widgets/controls",
            "_model_module_version": "1.5.0",
            "_model_name": "FileUploadModel",
            "_view_count": null,
            "_view_module": "@jupyter-widgets/controls",
            "_view_module_version": "1.5.0",
            "_view_name": "FileUploadView",
            "accept": ".mp3,.wav,.m4a,.ogg,.flac,.mp4,.mov,.avi,.mkv",
            "button_style": "",
            "data": [],
            "description": "Choose File",
            "description_tooltip": null,
            "disabled": false,
            "error": "",
            "icon": "upload",
            "layout": "IPY_MODEL_85b374cff8e248b6a55b7d908d864e25",
            "metadata": [],
            "multiple": false,
            "style": "IPY_MODEL_60cbe69c5f9247fda66978c6af3be2ef"
          }
        },
        "73865822456040e89aead6a56fda7675": {
          "model_module": "@jupyter-widgets/controls",
          "model_name": "TextModel",
          "model_module_version": "1.5.0",
          "state": {
            "_dom_classes": [],
            "_model_module": "@jupyter-widgets/controls",
            "_model_module_version": "1.5.0",
            "_model_name": "TextModel",
            "_view_count": null,
            "_view_module": "@jupyter-widgets/controls",
            "_view_module_version": "1.5.0",
            "_view_name": "TextView",
            "continuous_update": true,
            "description": "File URL:",
            "description_tooltip": null,
            "disabled": false,
            "layout": "IPY_MODEL_e52bfc5c2e6f4d4f8517263173a2ce57",
            "placeholder": "e.g., https://example.com/audio.mp3",
            "style": "IPY_MODEL_7c8996a291a341e8958b2ccd7c6107fa",
            "value": "https://support.asicentral.com/knowledgebase/videos/2025/espplus102_2025/espplus102_2025.mp4"
          }
        },
        "89ecae41d56940239b980a10b6f260bd": {
          "model_module": "@jupyter-widgets/controls",
          "model_name": "HBoxModel",
          "model_module_version": "1.5.0",
          "state": {
            "_dom_classes": [],
            "_model_module": "@jupyter-widgets/controls",
            "_model_module_version": "1.5.0",
            "_model_name": "HBoxModel",
            "_view_count": null,
            "_view_module": "@jupyter-widgets/controls",
            "_view_module_version": "1.5.0",
            "_view_name": "HBoxView",
            "box_style": "",
            "children": [
              "IPY_MODEL_3645348aed904393abe3327ec5fcf7da",
              "IPY_MODEL_ceff05fef4a949d4961d5373c06c43cc"
            ],
            "layout": "IPY_MODEL_917a5c957d1f43ccbe755c4236619b0e"
          }
        },
        "72f647c90fbf4e46b368936ebf5f18de": {
          "model_module": "@jupyter-widgets/output",
          "model_name": "OutputModel",
          "model_module_version": "1.0.0",
          "state": {
            "_dom_classes": [],
            "_model_module": "@jupyter-widgets/output",
            "_model_module_version": "1.0.0",
            "_model_name": "OutputModel",
            "_view_count": null,
            "_view_module": "@jupyter-widgets/output",
            "_view_module_version": "1.0.0",
            "_view_name": "OutputView",
            "layout": "IPY_MODEL_b7fa0d45b28c42d29b0c265fd68e3496",
            "msg_id": "",
            "outputs": [
              {
                "output_type": "stream",
                "name": "stdout",
                "text": [
                  "Attempting to download from URL: https://support.asicentral.com/knowledgebase/videos/2025/espplus102_2025/espplus102_2025.mp4\n"
                ]
              },
              {
                "output_type": "stream",
                "name": "stdout",
                "text": [
                  "Downloading... 0.08MB / 450.33MB (0.0%)\r"
                ]
              },
              {
                "output_type": "stream",
                "name": "stdout",
                "text": [
                  "Downloading... 0.16MB / 450.33MB (0.0%)\r"
                ]
              },
              {
                "output_type": "stream",
                "name": "stdout",
                "text": [
                  "Downloading... 0.23MB / 450.33MB (0.1%)\rDownloading... 0.31MB / 450.33MB (0.1%)\r"
                ]
              },
              {
                "output_type": "stream",
                "name": "stdout",
                "text": [
                  "Downloading... 0.39MB / 450.33MB (0.1%)\r"
                ]
              },
              {
                "output_type": "stream",
                "name": "stdout",
                "text": [
                  "Downloading... 0.47MB / 450.33MB (0.1%)\rDownloading... 0.55MB / 450.33MB (0.1%)\r"
                ]
              },
              {
                "output_type": "stream",
                "name": "stdout",
                "text": [
                  "Downloading... 0.62MB / 450.33MB (0.1%)\rDownloading... 0.70MB / 450.33MB (0.2%)\r"
                ]
              },
              {
                "output_type": "stream",
                "name": "stdout",
                "text": [
                  "Downloading... 0.78MB / 450.33MB (0.2%)\rDownloading... 0.86MB / 450.33MB (0.2%)\rDownloading... 0.94MB / 450.33MB (0.2%)\rDownloading... 1.02MB / 450.33MB (0.2%)\r"
                ]
              },
              {
                "output_type": "stream",
                "name": "stdout",
                "text": [
                  "Downloading... 1.09MB / 450.33MB (0.2%)\rDownloading... 1.17MB / 450.33MB (0.3%)\rDownloading... 1.25MB / 450.33MB (0.3%)\rDownloading... 1.33MB / 450.33MB (0.3%)\r"
                ]
              },
              {
                "output_type": "stream",
                "name": "stdout",
                "text": [
                  "Downloading... 1.41MB / 450.33MB (0.3%)\rDownloading... 1.48MB / 450.33MB (0.3%)\rDownloading... 1.56MB / 450.33MB (0.3%)\rDownloading... 1.64MB / 450.33MB (0.4%)\r"
                ]
              },
              {
                "output_type": "stream",
                "name": "stdout",
                "text": [
                  "Downloading... 1.72MB / 450.33MB (0.4%)\rDownloading... 1.80MB / 450.33MB (0.4%)\rDownloading... 1.88MB / 450.33MB (0.4%)\rDownloading... 1.95MB / 450.33MB (0.4%)\rDownloading... 2.03MB / 450.33MB (0.5%)\rDownloading... 2.11MB / 450.33MB (0.5%)\rDownloading... 2.19MB / 450.33MB (0.5%)\r"
                ]
              },
              {
                "output_type": "stream",
                "name": "stdout",
                "text": [
                  "Downloading... 2.27MB / 450.33MB (0.5%)\rDownloading... 2.34MB / 450.33MB (0.5%)\rDownloading... 2.42MB / 450.33MB (0.5%)\rDownloading... 2.50MB / 450.33MB (0.6%)\rDownloading... 2.58MB / 450.33MB (0.6%)\rDownloading... 2.66MB / 450.33MB (0.6%)\rDownloading... 2.73MB / 450.33MB (0.6%)\rDownloading... 2.81MB / 450.33MB (0.6%)\r"
                ]
              },
              {
                "output_type": "stream",
                "name": "stdout",
                "text": [
                  "Downloading... 2.89MB / 450.33MB (0.6%)\rDownloading... 2.97MB / 450.33MB (0.7%)\rDownloading... 3.05MB / 450.33MB (0.7%)\rDownloading... 3.12MB / 450.33MB (0.7%)\rDownloading... 3.20MB / 450.33MB (0.7%)\rDownloading... 3.28MB / 450.33MB (0.7%)\rDownloading... 3.36MB / 450.33MB (0.7%)\rDownloading... 3.44MB / 450.33MB (0.8%)\rDownloading... 3.52MB / 450.33MB (0.8%)\r"
                ]
              },
              {
                "output_type": "stream",
                "name": "stdout",
                "text": [
                  "Downloading... 3.59MB / 450.33MB (0.8%)\rDownloading... 3.67MB / 450.33MB (0.8%)\rDownloading... 3.75MB / 450.33MB (0.8%)\rDownloading... 3.83MB / 450.33MB (0.9%)\rDownloading... 3.91MB / 450.33MB (0.9%)\rDownloading... 3.98MB / 450.33MB (0.9%)\rDownloading... 4.06MB / 450.33MB (0.9%)\rDownloading... 4.14MB / 450.33MB (0.9%)\rDownloading... 4.22MB / 450.33MB (0.9%)\rDownloading... 4.30MB / 450.33MB (1.0%)\rDownloading... 4.38MB / 450.33MB (1.0%)\r"
                ]
              },
              {
                "output_type": "stream",
                "name": "stdout",
                "text": [
                  "Downloading... 4.45MB / 450.33MB (1.0%)\rDownloading... 4.53MB / 450.33MB (1.0%)\rDownloading... 4.61MB / 450.33MB (1.0%)\rDownloading... 4.69MB / 450.33MB (1.0%)\rDownloading... 4.77MB / 450.33MB (1.1%)\rDownloading... 4.84MB / 450.33MB (1.1%)\rDownloading... 4.92MB / 450.33MB (1.1%)\rDownloading... 5.00MB / 450.33MB (1.1%)\rDownloading... 5.08MB / 450.33MB (1.1%)\rDownloading... 5.16MB / 450.33MB (1.1%)\rDownloading... 5.23MB / 450.33MB (1.2%)\rDownloading... 5.31MB / 450.33MB (1.2%)\rDownloading... 5.39MB / 450.33MB (1.2%)\r"
                ]
              },
              {
                "output_type": "stream",
                "name": "stdout",
                "text": [
                  "Downloading... 5.47MB / 450.33MB (1.2%)\rDownloading... 5.55MB / 450.33MB (1.2%)\rDownloading... 5.62MB / 450.33MB (1.2%)\rDownloading... 5.70MB / 450.33MB (1.3%)\rDownloading... 5.78MB / 450.33MB (1.3%)\rDownloading... 5.86MB / 450.33MB (1.3%)\rDownloading... 5.94MB / 450.33MB (1.3%)\rDownloading... 6.02MB / 450.33MB (1.3%)\rDownloading... 6.09MB / 450.33MB (1.4%)\rDownloading... 6.17MB / 450.33MB (1.4%)\rDownloading... 6.25MB / 450.33MB (1.4%)\rDownloading... 6.33MB / 450.33MB (1.4%)\rDownloading... 6.41MB / 450.33MB (1.4%)\rDownloading... 6.48MB / 450.33MB (1.4%)\rDownloading... 6.56MB / 450.33MB (1.5%)\r"
                ]
              },
              {
                "output_type": "stream",
                "name": "stdout",
                "text": [
                  "Downloading... 6.64MB / 450.33MB (1.5%)\rDownloading... 6.72MB / 450.33MB (1.5%)\rDownloading... 6.80MB / 450.33MB (1.5%)\rDownloading... 6.88MB / 450.33MB (1.5%)\rDownloading... 6.95MB / 450.33MB (1.5%)\rDownloading... 7.03MB / 450.33MB (1.6%)\rDownloading... 7.11MB / 450.33MB (1.6%)\rDownloading... 7.19MB / 450.33MB (1.6%)\rDownloading... 7.27MB / 450.33MB (1.6%)\rDownloading... 7.34MB / 450.33MB (1.6%)\rDownloading... 7.42MB / 450.33MB (1.6%)\rDownloading... 7.50MB / 450.33MB (1.7%)\rDownloading... 7.58MB / 450.33MB (1.7%)\rDownloading... 7.66MB / 450.33MB (1.7%)\rDownloading... 7.73MB / 450.33MB (1.7%)\rDownloading... 7.81MB / 450.33MB (1.7%)\rDownloading... 7.89MB / 450.33MB (1.8%)\r"
                ]
              },
              {
                "output_type": "stream",
                "name": "stdout",
                "text": [
                  "Downloading... 7.97MB / 450.33MB (1.8%)\rDownloading... 8.05MB / 450.33MB (1.8%)\rDownloading... 8.12MB / 450.33MB (1.8%)\rDownloading... 8.20MB / 450.33MB (1.8%)\rDownloading... 8.28MB / 450.33MB (1.8%)\rDownloading... 8.36MB / 450.33MB (1.9%)\rDownloading... 8.44MB / 450.33MB (1.9%)\rDownloading... 8.52MB / 450.33MB (1.9%)\rDownloading... 8.59MB / 450.33MB (1.9%)\rDownloading... 8.67MB / 450.33MB (1.9%)\rDownloading... 8.75MB / 450.33MB (1.9%)\rDownloading... 8.83MB / 450.33MB (2.0%)\rDownloading... 8.91MB / 450.33MB (2.0%)\rDownloading... 8.98MB / 450.33MB (2.0%)\rDownloading... 9.06MB / 450.33MB (2.0%)\rDownloading... 9.14MB / 450.33MB (2.0%)\rDownloading... 9.22MB / 450.33MB (2.0%)\rDownloading... 9.30MB / 450.33MB (2.1%)\rDownloading... 9.38MB / 450.33MB (2.1%)\rDownloading... 9.45MB / 450.33MB (2.1%)\r"
                ]
              },
              {
                "output_type": "stream",
                "name": "stdout",
                "text": [
                  "Downloading... 9.53MB / 450.33MB (2.1%)\rDownloading... 9.61MB / 450.33MB (2.1%)\rDownloading... 9.69MB / 450.33MB (2.2%)\rDownloading... 9.77MB / 450.33MB (2.2%)\rDownloading... 9.84MB / 450.33MB (2.2%)\rDownloading... 9.92MB / 450.33MB (2.2%)\rDownloading... 10.00MB / 450.33MB (2.2%)\rDownloading... 10.08MB / 450.33MB (2.2%)\rDownloading... 10.16MB / 450.33MB (2.3%)\rDownloading... 10.23MB / 450.33MB (2.3%)\rDownloading... 10.31MB / 450.33MB (2.3%)\rDownloading... 10.39MB / 450.33MB (2.3%)\rDownloading... 10.47MB / 450.33MB (2.3%)\rDownloading... 10.55MB / 450.33MB (2.3%)\rDownloading... 10.62MB / 450.33MB (2.4%)\rDownloading... 10.70MB / 450.33MB (2.4%)\rDownloading... 10.78MB / 450.33MB (2.4%)\rDownloading... 10.86MB / 450.33MB (2.4%)\rDownloading... 10.94MB / 450.33MB (2.4%)\rDownloading... 11.02MB / 450.33MB (2.4%)\rDownloading... 11.09MB / 450.33MB (2.5%)\rDownloading... 11.17MB / 450.33MB (2.5%)\rDownloading... 11.25MB / 450.33MB (2.5%)\rDownloading... 11.33MB / 450.33MB (2.5%)\r"
                ]
              },
              {
                "output_type": "stream",
                "name": "stdout",
                "text": [
                  "Downloading... 11.41MB / 450.33MB (2.5%)\rDownloading... 11.48MB / 450.33MB (2.6%)\rDownloading... 11.56MB / 450.33MB (2.6%)\rDownloading... 11.64MB / 450.33MB (2.6%)\rDownloading... 11.72MB / 450.33MB (2.6%)\rDownloading... 11.80MB / 450.33MB (2.6%)\rDownloading... 11.88MB / 450.33MB (2.6%)\rDownloading... 11.95MB / 450.33MB (2.7%)\rDownloading... 12.03MB / 450.33MB (2.7%)\rDownloading... 12.11MB / 450.33MB (2.7%)\rDownloading... 12.19MB / 450.33MB (2.7%)\rDownloading... 12.27MB / 450.33MB (2.7%)\rDownloading... 12.34MB / 450.33MB (2.7%)\rDownloading... 12.42MB / 450.33MB (2.8%)\rDownloading... 12.50MB / 450.33MB (2.8%)\rDownloading... 12.58MB / 450.33MB (2.8%)\rDownloading... 12.66MB / 450.33MB (2.8%)\rDownloading... 12.73MB / 450.33MB (2.8%)\rDownloading... 12.81MB / 450.33MB (2.8%)\rDownloading... 12.89MB / 450.33MB (2.9%)\rDownloading... 12.97MB / 450.33MB (2.9%)\rDownloading... 13.05MB / 450.33MB (2.9%)\rDownloading... 13.12MB / 450.33MB (2.9%)\rDownloading... 13.20MB / 450.33MB (2.9%)\rDownloading... 13.28MB / 450.33MB (2.9%)\rDownloading... 13.36MB / 450.33MB (3.0%)\rDownloading... 13.44MB / 450.33MB (3.0%)\rDownloading... 13.52MB / 450.33MB (3.0%)\rDownloading... 13.59MB / 450.33MB (3.0%)\r"
                ]
              },
              {
                "output_type": "stream",
                "name": "stdout",
                "text": [
                  "Downloading... 13.67MB / 450.33MB (3.0%)\rDownloading... 13.75MB / 450.33MB (3.1%)\rDownloading... 13.83MB / 450.33MB (3.1%)\rDownloading... 13.91MB / 450.33MB (3.1%)\rDownloading... 13.98MB / 450.33MB (3.1%)\rDownloading... 14.06MB / 450.33MB (3.1%)\rDownloading... 14.14MB / 450.33MB (3.1%)\rDownloading... 14.22MB / 450.33MB (3.2%)\rDownloading... 14.30MB / 450.33MB (3.2%)\rDownloading... 14.38MB / 450.33MB (3.2%)\rDownloading... 14.45MB / 450.33MB (3.2%)\rDownloading... 14.53MB / 450.33MB (3.2%)\rDownloading... 14.61MB / 450.33MB (3.2%)\rDownloading... 14.69MB / 450.33MB (3.3%)\rDownloading... 14.77MB / 450.33MB (3.3%)\rDownloading... 14.84MB / 450.33MB (3.3%)\rDownloading... 14.92MB / 450.33MB (3.3%)\rDownloading... 15.00MB / 450.33MB (3.3%)\rDownloading... 15.08MB / 450.33MB (3.3%)\rDownloading... 15.16MB / 450.33MB (3.4%)\rDownloading... 15.23MB / 450.33MB (3.4%)\rDownloading... 15.31MB / 450.33MB (3.4%)\rDownloading... 15.39MB / 450.33MB (3.4%)\rDownloading... 15.47MB / 450.33MB (3.4%)\rDownloading... 15.55MB / 450.33MB (3.5%)\rDownloading... 15.62MB / 450.33MB (3.5%)\rDownloading... 15.70MB / 450.33MB (3.5%)\rDownloading... 15.78MB / 450.33MB (3.5%)\rDownloading... 15.86MB / 450.33MB (3.5%)\rDownloading... 15.94MB / 450.33MB (3.5%)\rDownloading... 16.02MB / 450.33MB (3.6%)\rDownloading... 16.09MB / 450.33MB (3.6%)\r"
                ]
              },
              {
                "output_type": "stream",
                "name": "stdout",
                "text": [
                  "Downloading... 16.17MB / 450.33MB (3.6%)\rDownloading... 16.25MB / 450.33MB (3.6%)\rDownloading... 16.33MB / 450.33MB (3.6%)\rDownloading... 16.41MB / 450.33MB (3.6%)\rDownloading... 16.48MB / 450.33MB (3.7%)\rDownloading... 16.56MB / 450.33MB (3.7%)\rDownloading... 16.64MB / 450.33MB (3.7%)\rDownloading... 16.72MB / 450.33MB (3.7%)\rDownloading... 16.80MB / 450.33MB (3.7%)\rDownloading... 16.88MB / 450.33MB (3.7%)\rDownloading... 16.95MB / 450.33MB (3.8%)\rDownloading... 17.03MB / 450.33MB (3.8%)\rDownloading... 17.11MB / 450.33MB (3.8%)\rDownloading... 17.19MB / 450.33MB (3.8%)\rDownloading... 17.27MB / 450.33MB (3.8%)\rDownloading... 17.34MB / 450.33MB (3.9%)\rDownloading... 17.42MB / 450.33MB (3.9%)\rDownloading... 17.50MB / 450.33MB (3.9%)\rDownloading... 17.58MB / 450.33MB (3.9%)\rDownloading... 17.66MB / 450.33MB (3.9%)\rDownloading... 17.73MB / 450.33MB (3.9%)\rDownloading... 17.81MB / 450.33MB (4.0%)\rDownloading... 17.89MB / 450.33MB (4.0%)\rDownloading... 17.97MB / 450.33MB (4.0%)\rDownloading... 18.05MB / 450.33MB (4.0%)\rDownloading... 18.12MB / 450.33MB (4.0%)\rDownloading... 18.20MB / 450.33MB (4.0%)\rDownloading... 18.28MB / 450.33MB (4.1%)\rDownloading... 18.36MB / 450.33MB (4.1%)\rDownloading... 18.44MB / 450.33MB (4.1%)\rDownloading... 18.52MB / 450.33MB (4.1%)\r"
                ]
              },
              {
                "output_type": "stream",
                "name": "stdout",
                "text": [
                  "Downloading... 18.59MB / 450.33MB (4.1%)\rDownloading... 18.67MB / 450.33MB (4.1%)\rDownloading... 18.75MB / 450.33MB (4.2%)\rDownloading... 18.83MB / 450.33MB (4.2%)\rDownloading... 18.91MB / 450.33MB (4.2%)\rDownloading... 18.98MB / 450.33MB (4.2%)\rDownloading... 19.06MB / 450.33MB (4.2%)\rDownloading... 19.14MB / 450.33MB (4.3%)\rDownloading... 19.22MB / 450.33MB (4.3%)\rDownloading... 19.30MB / 450.33MB (4.3%)\rDownloading... 19.38MB / 450.33MB (4.3%)\rDownloading... 19.45MB / 450.33MB (4.3%)\r"
                ]
              },
              {
                "output_type": "stream",
                "name": "stdout",
                "text": [
                  "Downloading... 19.53MB / 450.33MB (4.3%)\rDownloading... 19.61MB / 450.33MB (4.4%)\rDownloading... 19.69MB / 450.33MB (4.4%)\rDownloading... 19.77MB / 450.33MB (4.4%)\rDownloading... 19.84MB / 450.33MB (4.4%)\rDownloading... 19.92MB / 450.33MB (4.4%)\rDownloading... 20.00MB / 450.33MB (4.4%)\rDownloading... 20.08MB / 450.33MB (4.5%)\rDownloading... 20.16MB / 450.33MB (4.5%)\rDownloading... 20.23MB / 450.33MB (4.5%)\rDownloading... 20.31MB / 450.33MB (4.5%)\rDownloading... 20.39MB / 450.33MB (4.5%)\rDownloading... 20.47MB / 450.33MB (4.5%)\rDownloading... 20.55MB / 450.33MB (4.6%)\rDownloading... 20.62MB / 450.33MB (4.6%)\rDownloading... 20.70MB / 450.33MB (4.6%)\rDownloading... 20.78MB / 450.33MB (4.6%)\rDownloading... 20.86MB / 450.33MB (4.6%)\rDownloading... 20.94MB / 450.33MB (4.6%)\rDownloading... 21.02MB / 450.33MB (4.7%)\rDownloading... 21.09MB / 450.33MB (4.7%)\rDownloading... 21.17MB / 450.33MB (4.7%)\rDownloading... 21.25MB / 450.33MB (4.7%)\rDownloading... 21.33MB / 450.33MB (4.7%)\rDownloading... 21.41MB / 450.33MB (4.8%)\rDownloading... 21.48MB / 450.33MB (4.8%)\rDownloading... 21.56MB / 450.33MB (4.8%)\rDownloading... 21.64MB / 450.33MB (4.8%)\rDownloading... 21.72MB / 450.33MB (4.8%)\rDownloading... 21.80MB / 450.33MB (4.8%)\r"
                ]
              },
              {
                "output_type": "stream",
                "name": "stdout",
                "text": [
                  "Downloading... 21.88MB / 450.33MB (4.9%)\rDownloading... 21.95MB / 450.33MB (4.9%)\rDownloading... 22.03MB / 450.33MB (4.9%)\rDownloading... 22.11MB / 450.33MB (4.9%)\rDownloading... 22.19MB / 450.33MB (4.9%)\rDownloading... 22.27MB / 450.33MB (4.9%)\rDownloading... 22.34MB / 450.33MB (5.0%)\rDownloading... 22.42MB / 450.33MB (5.0%)\rDownloading... 22.50MB / 450.33MB (5.0%)\rDownloading... 22.58MB / 450.33MB (5.0%)\rDownloading... 22.66MB / 450.33MB (5.0%)\rDownloading... 22.73MB / 450.33MB (5.0%)\rDownloading... 22.81MB / 450.33MB (5.1%)\rDownloading... 22.89MB / 450.33MB (5.1%)\rDownloading... 22.97MB / 450.33MB (5.1%)\rDownloading... 23.05MB / 450.33MB (5.1%)\rDownloading... 23.12MB / 450.33MB (5.1%)\rDownloading... 23.20MB / 450.33MB (5.2%)\rDownloading... 23.28MB / 450.33MB (5.2%)\rDownloading... 23.36MB / 450.33MB (5.2%)\rDownloading... 23.44MB / 450.33MB (5.2%)\rDownloading... 23.52MB / 450.33MB (5.2%)\r"
                ]
              },
              {
                "output_type": "stream",
                "name": "stdout",
                "text": [
                  "Downloading... 23.59MB / 450.33MB (5.2%)\rDownloading... 23.67MB / 450.33MB (5.3%)\rDownloading... 23.75MB / 450.33MB (5.3%)\rDownloading... 23.83MB / 450.33MB (5.3%)\rDownloading... 23.91MB / 450.33MB (5.3%)\rDownloading... 23.98MB / 450.33MB (5.3%)\rDownloading... 24.06MB / 450.33MB (5.3%)\rDownloading... 24.14MB / 450.33MB (5.4%)\rDownloading... 24.22MB / 450.33MB (5.4%)\rDownloading... 24.30MB / 450.33MB (5.4%)\rDownloading... 24.38MB / 450.33MB (5.4%)\rDownloading... 24.45MB / 450.33MB (5.4%)\rDownloading... 24.53MB / 450.33MB (5.4%)\rDownloading... 24.61MB / 450.33MB (5.5%)\rDownloading... 24.69MB / 450.33MB (5.5%)\rDownloading... 24.77MB / 450.33MB (5.5%)\rDownloading... 24.84MB / 450.33MB (5.5%)\rDownloading... 24.92MB / 450.33MB (5.5%)\rDownloading... 25.00MB / 450.33MB (5.6%)\rDownloading... 25.08MB / 450.33MB (5.6%)\rDownloading... 25.16MB / 450.33MB (5.6%)\rDownloading... 25.23MB / 450.33MB (5.6%)\rDownloading... 25.31MB / 450.33MB (5.6%)\rDownloading... 25.39MB / 450.33MB (5.6%)\r"
                ]
              },
              {
                "output_type": "stream",
                "name": "stdout",
                "text": [
                  "Downloading... 25.47MB / 450.33MB (5.7%)\rDownloading... 25.55MB / 450.33MB (5.7%)\rDownloading... 25.62MB / 450.33MB (5.7%)\rDownloading... 25.70MB / 450.33MB (5.7%)\rDownloading... 25.78MB / 450.33MB (5.7%)\rDownloading... 25.86MB / 450.33MB (5.7%)\rDownloading... 25.94MB / 450.33MB (5.8%)\rDownloading... 26.02MB / 450.33MB (5.8%)\rDownloading... 26.09MB / 450.33MB (5.8%)\rDownloading... 26.17MB / 450.33MB (5.8%)\rDownloading... 26.25MB / 450.33MB (5.8%)\rDownloading... 26.33MB / 450.33MB (5.8%)\rDownloading... 26.41MB / 450.33MB (5.9%)\rDownloading... 26.48MB / 450.33MB (5.9%)\rDownloading... 26.56MB / 450.33MB (5.9%)\rDownloading... 26.64MB / 450.33MB (5.9%)\rDownloading... 26.72MB / 450.33MB (5.9%)\rDownloading... 26.80MB / 450.33MB (6.0%)\rDownloading... 26.88MB / 450.33MB (6.0%)\rDownloading... 26.95MB / 450.33MB (6.0%)\rDownloading... 27.03MB / 450.33MB (6.0%)\rDownloading... 27.11MB / 450.33MB (6.0%)\rDownloading... 27.19MB / 450.33MB (6.0%)\rDownloading... 27.27MB / 450.33MB (6.1%)\r"
                ]
              },
              {
                "output_type": "stream",
                "name": "stdout",
                "text": [
                  "Downloading... 27.34MB / 450.33MB (6.1%)\rDownloading... 27.42MB / 450.33MB (6.1%)\rDownloading... 27.50MB / 450.33MB (6.1%)\rDownloading... 27.58MB / 450.33MB (6.1%)\rDownloading... 27.66MB / 450.33MB (6.1%)\rDownloading... 27.73MB / 450.33MB (6.2%)\rDownloading... 27.81MB / 450.33MB (6.2%)\rDownloading... 27.89MB / 450.33MB (6.2%)\rDownloading... 27.97MB / 450.33MB (6.2%)\rDownloading... 28.05MB / 450.33MB (6.2%)\rDownloading... 28.12MB / 450.33MB (6.2%)\rDownloading... 28.20MB / 450.33MB (6.3%)\rDownloading... 28.28MB / 450.33MB (6.3%)\rDownloading... 28.36MB / 450.33MB (6.3%)\rDownloading... 28.44MB / 450.33MB (6.3%)\rDownloading... 28.52MB / 450.33MB (6.3%)\rDownloading... 28.59MB / 450.33MB (6.3%)\rDownloading... 28.67MB / 450.33MB (6.4%)\rDownloading... 28.75MB / 450.33MB (6.4%)\rDownloading... 28.83MB / 450.33MB (6.4%)\rDownloading... 28.91MB / 450.33MB (6.4%)\rDownloading... 28.98MB / 450.33MB (6.4%)\rDownloading... 29.06MB / 450.33MB (6.5%)\rDownloading... 29.14MB / 450.33MB (6.5%)\r"
                ]
              },
              {
                "output_type": "stream",
                "name": "stdout",
                "text": [
                  "Downloading... 29.22MB / 450.33MB (6.5%)\rDownloading... 29.30MB / 450.33MB (6.5%)\rDownloading... 29.38MB / 450.33MB (6.5%)\rDownloading... 29.45MB / 450.33MB (6.5%)\rDownloading... 29.53MB / 450.33MB (6.6%)\rDownloading... 29.61MB / 450.33MB (6.6%)\rDownloading... 29.69MB / 450.33MB (6.6%)\rDownloading... 29.77MB / 450.33MB (6.6%)\rDownloading... 29.84MB / 450.33MB (6.6%)\rDownloading... 29.92MB / 450.33MB (6.6%)\rDownloading... 30.00MB / 450.33MB (6.7%)\rDownloading... 30.08MB / 450.33MB (6.7%)\rDownloading... 30.16MB / 450.33MB (6.7%)\rDownloading... 30.23MB / 450.33MB (6.7%)\rDownloading... 30.31MB / 450.33MB (6.7%)\rDownloading... 30.39MB / 450.33MB (6.7%)\rDownloading... 30.47MB / 450.33MB (6.8%)\rDownloading... 30.55MB / 450.33MB (6.8%)\rDownloading... 30.62MB / 450.33MB (6.8%)\rDownloading... 30.70MB / 450.33MB (6.8%)\rDownloading... 30.78MB / 450.33MB (6.8%)\rDownloading... 30.86MB / 450.33MB (6.9%)\rDownloading... 30.94MB / 450.33MB (6.9%)\rDownloading... 31.02MB / 450.33MB (6.9%)\r"
                ]
              },
              {
                "output_type": "stream",
                "name": "stdout",
                "text": [
                  "Downloading... 31.09MB / 450.33MB (6.9%)\rDownloading... 31.17MB / 450.33MB (6.9%)\rDownloading... 31.25MB / 450.33MB (6.9%)\rDownloading... 31.33MB / 450.33MB (7.0%)\rDownloading... 31.41MB / 450.33MB (7.0%)\rDownloading... 31.48MB / 450.33MB (7.0%)\rDownloading... 31.56MB / 450.33MB (7.0%)\rDownloading... 31.64MB / 450.33MB (7.0%)\rDownloading... 31.72MB / 450.33MB (7.0%)\rDownloading... 31.80MB / 450.33MB (7.1%)\rDownloading... 31.88MB / 450.33MB (7.1%)\rDownloading... 31.95MB / 450.33MB (7.1%)\rDownloading... 32.03MB / 450.33MB (7.1%)\rDownloading... 32.11MB / 450.33MB (7.1%)\rDownloading... 32.19MB / 450.33MB (7.1%)\rDownloading... 32.27MB / 450.33MB (7.2%)\rDownloading... 32.34MB / 450.33MB (7.2%)\rDownloading... 32.42MB / 450.33MB (7.2%)\rDownloading... 32.50MB / 450.33MB (7.2%)\rDownloading... 32.58MB / 450.33MB (7.2%)\rDownloading... 32.66MB / 450.33MB (7.3%)\rDownloading... 32.73MB / 450.33MB (7.3%)\rDownloading... 32.81MB / 450.33MB (7.3%)\rDownloading... 32.89MB / 450.33MB (7.3%)\r"
                ]
              },
              {
                "output_type": "stream",
                "name": "stdout",
                "text": [
                  "Downloading... 32.97MB / 450.33MB (7.3%)\rDownloading... 33.05MB / 450.33MB (7.3%)\rDownloading... 33.12MB / 450.33MB (7.4%)\rDownloading... 33.20MB / 450.33MB (7.4%)\rDownloading... 33.28MB / 450.33MB (7.4%)\rDownloading... 33.36MB / 450.33MB (7.4%)\rDownloading... 33.44MB / 450.33MB (7.4%)\rDownloading... 33.52MB / 450.33MB (7.4%)\rDownloading... 33.59MB / 450.33MB (7.5%)\rDownloading... 33.67MB / 450.33MB (7.5%)\rDownloading... 33.75MB / 450.33MB (7.5%)\rDownloading... 33.83MB / 450.33MB (7.5%)\rDownloading... 33.91MB / 450.33MB (7.5%)\rDownloading... 33.98MB / 450.33MB (7.5%)\rDownloading... 34.06MB / 450.33MB (7.6%)\rDownloading... 34.14MB / 450.33MB (7.6%)\rDownloading... 34.22MB / 450.33MB (7.6%)\rDownloading... 34.30MB / 450.33MB (7.6%)\rDownloading... 34.38MB / 450.33MB (7.6%)\rDownloading... 34.45MB / 450.33MB (7.7%)\rDownloading... 34.53MB / 450.33MB (7.7%)\rDownloading... 34.61MB / 450.33MB (7.7%)\rDownloading... 34.69MB / 450.33MB (7.7%)\rDownloading... 34.77MB / 450.33MB (7.7%)\r"
                ]
              },
              {
                "output_type": "stream",
                "name": "stdout",
                "text": [
                  "Downloading... 34.84MB / 450.33MB (7.7%)\rDownloading... 34.92MB / 450.33MB (7.8%)\rDownloading... 35.00MB / 450.33MB (7.8%)\rDownloading... 35.08MB / 450.33MB (7.8%)\rDownloading... 35.16MB / 450.33MB (7.8%)\rDownloading... 35.23MB / 450.33MB (7.8%)\rDownloading... 35.31MB / 450.33MB (7.8%)\rDownloading... 35.39MB / 450.33MB (7.9%)\rDownloading... 35.47MB / 450.33MB (7.9%)\rDownloading... 35.55MB / 450.33MB (7.9%)\rDownloading... 35.62MB / 450.33MB (7.9%)\rDownloading... 35.70MB / 450.33MB (7.9%)\rDownloading... 35.78MB / 450.33MB (7.9%)\rDownloading... 35.86MB / 450.33MB (8.0%)\rDownloading... 35.94MB / 450.33MB (8.0%)\rDownloading... 36.02MB / 450.33MB (8.0%)\rDownloading... 36.09MB / 450.33MB (8.0%)\rDownloading... 36.17MB / 450.33MB (8.0%)\rDownloading... 36.25MB / 450.33MB (8.0%)\rDownloading... 36.33MB / 450.33MB (8.1%)\rDownloading... 36.41MB / 450.33MB (8.1%)\rDownloading... 36.48MB / 450.33MB (8.1%)\rDownloading... 36.56MB / 450.33MB (8.1%)\rDownloading... 36.64MB / 450.33MB (8.1%)\rDownloading... 36.72MB / 450.33MB (8.2%)\r"
                ]
              },
              {
                "output_type": "stream",
                "name": "stdout",
                "text": [
                  "Downloading... 36.80MB / 450.33MB (8.2%)\rDownloading... 36.88MB / 450.33MB (8.2%)\rDownloading... 36.95MB / 450.33MB (8.2%)\rDownloading... 37.03MB / 450.33MB (8.2%)\rDownloading... 37.11MB / 450.33MB (8.2%)\rDownloading... 37.19MB / 450.33MB (8.3%)\rDownloading... 37.27MB / 450.33MB (8.3%)\rDownloading... 37.34MB / 450.33MB (8.3%)\rDownloading... 37.42MB / 450.33MB (8.3%)\rDownloading... 37.50MB / 450.33MB (8.3%)\rDownloading... 37.58MB / 450.33MB (8.3%)\rDownloading... 37.66MB / 450.33MB (8.4%)\rDownloading... 37.73MB / 450.33MB (8.4%)\rDownloading... 37.81MB / 450.33MB (8.4%)\rDownloading... 37.89MB / 450.33MB (8.4%)\rDownloading... 37.97MB / 450.33MB (8.4%)\rDownloading... 38.05MB / 450.33MB (8.4%)\rDownloading... 38.12MB / 450.33MB (8.5%)\rDownloading... 38.20MB / 450.33MB (8.5%)\rDownloading... 38.28MB / 450.33MB (8.5%)\rDownloading... 38.36MB / 450.33MB (8.5%)\rDownloading... 38.44MB / 450.33MB (8.5%)\rDownloading... 38.52MB / 450.33MB (8.6%)\rDownloading... 38.59MB / 450.33MB (8.6%)\r"
                ]
              },
              {
                "output_type": "stream",
                "name": "stdout",
                "text": [
                  "Downloading... 38.67MB / 450.33MB (8.6%)\rDownloading... 38.75MB / 450.33MB (8.6%)\rDownloading... 38.83MB / 450.33MB (8.6%)\rDownloading... 38.91MB / 450.33MB (8.6%)\rDownloading... 38.98MB / 450.33MB (8.7%)\rDownloading... 39.06MB / 450.33MB (8.7%)\rDownloading... 39.14MB / 450.33MB (8.7%)\rDownloading... 39.22MB / 450.33MB (8.7%)\rDownloading... 39.30MB / 450.33MB (8.7%)\rDownloading... 39.38MB / 450.33MB (8.7%)\rDownloading... 39.45MB / 450.33MB (8.8%)\rDownloading... 39.53MB / 450.33MB (8.8%)\rDownloading... 39.61MB / 450.33MB (8.8%)\rDownloading... 39.69MB / 450.33MB (8.8%)\rDownloading... 39.77MB / 450.33MB (8.8%)\rDownloading... 39.84MB / 450.33MB (8.8%)\rDownloading... 39.92MB / 450.33MB (8.9%)\rDownloading... 40.00MB / 450.33MB (8.9%)\rDownloading... 40.08MB / 450.33MB (8.9%)\rDownloading... 40.16MB / 450.33MB (8.9%)\rDownloading... 40.23MB / 450.33MB (8.9%)\rDownloading... 40.31MB / 450.33MB (9.0%)\rDownloading... 40.39MB / 450.33MB (9.0%)\rDownloading... 40.47MB / 450.33MB (9.0%)\rDownloading... 40.55MB / 450.33MB (9.0%)\r"
                ]
              },
              {
                "output_type": "stream",
                "name": "stdout",
                "text": [
                  "Downloading... 40.62MB / 450.33MB (9.0%)\rDownloading... 40.70MB / 450.33MB (9.0%)\rDownloading... 40.78MB / 450.33MB (9.1%)\rDownloading... 40.86MB / 450.33MB (9.1%)\rDownloading... 40.94MB / 450.33MB (9.1%)\rDownloading... 41.02MB / 450.33MB (9.1%)\rDownloading... 41.09MB / 450.33MB (9.1%)\rDownloading... 41.17MB / 450.33MB (9.1%)\rDownloading... 41.25MB / 450.33MB (9.2%)\rDownloading... 41.33MB / 450.33MB (9.2%)\rDownloading... 41.41MB / 450.33MB (9.2%)\rDownloading... 41.48MB / 450.33MB (9.2%)\rDownloading... 41.56MB / 450.33MB (9.2%)\rDownloading... 41.64MB / 450.33MB (9.2%)\rDownloading... 41.72MB / 450.33MB (9.3%)\rDownloading... 41.80MB / 450.33MB (9.3%)\rDownloading... 41.88MB / 450.33MB (9.3%)\rDownloading... 41.95MB / 450.33MB (9.3%)\rDownloading... 42.03MB / 450.33MB (9.3%)\rDownloading... 42.11MB / 450.33MB (9.4%)\rDownloading... 42.19MB / 450.33MB (9.4%)\rDownloading... 42.27MB / 450.33MB (9.4%)\rDownloading... 42.34MB / 450.33MB (9.4%)\rDownloading... 42.42MB / 450.33MB (9.4%)\rDownloading... 42.50MB / 450.33MB (9.4%)\rDownloading... 42.58MB / 450.33MB (9.5%)\r"
                ]
              },
              {
                "output_type": "stream",
                "name": "stdout",
                "text": [
                  "Downloading... 42.66MB / 450.33MB (9.5%)\rDownloading... 42.73MB / 450.33MB (9.5%)\rDownloading... 42.81MB / 450.33MB (9.5%)\rDownloading... 42.89MB / 450.33MB (9.5%)\rDownloading... 42.97MB / 450.33MB (9.5%)\rDownloading... 43.05MB / 450.33MB (9.6%)\rDownloading... 43.12MB / 450.33MB (9.6%)\rDownloading... 43.20MB / 450.33MB (9.6%)\rDownloading... 43.28MB / 450.33MB (9.6%)\rDownloading... 43.36MB / 450.33MB (9.6%)\rDownloading... 43.44MB / 450.33MB (9.6%)\rDownloading... 43.52MB / 450.33MB (9.7%)\rDownloading... 43.59MB / 450.33MB (9.7%)\rDownloading... 43.67MB / 450.33MB (9.7%)\rDownloading... 43.75MB / 450.33MB (9.7%)\rDownloading... 43.83MB / 450.33MB (9.7%)\rDownloading... 43.91MB / 450.33MB (9.7%)\rDownloading... 43.98MB / 450.33MB (9.8%)\rDownloading... 44.06MB / 450.33MB (9.8%)\rDownloading... 44.14MB / 450.33MB (9.8%)\rDownloading... 44.22MB / 450.33MB (9.8%)\rDownloading... 44.30MB / 450.33MB (9.8%)\rDownloading... 44.38MB / 450.33MB (9.9%)\rDownloading... 44.45MB / 450.33MB (9.9%)\rDownloading... 44.53MB / 450.33MB (9.9%)\r"
                ]
              },
              {
                "output_type": "stream",
                "name": "stdout",
                "text": [
                  "Downloading... 44.61MB / 450.33MB (9.9%)\rDownloading... 44.69MB / 450.33MB (9.9%)\rDownloading... 44.77MB / 450.33MB (9.9%)\rDownloading... 44.84MB / 450.33MB (10.0%)\rDownloading... 44.92MB / 450.33MB (10.0%)\rDownloading... 45.00MB / 450.33MB (10.0%)\rDownloading... 45.08MB / 450.33MB (10.0%)\rDownloading... 45.16MB / 450.33MB (10.0%)\rDownloading... 45.23MB / 450.33MB (10.0%)\rDownloading... 45.31MB / 450.33MB (10.1%)\rDownloading... 45.39MB / 450.33MB (10.1%)\rDownloading... 45.47MB / 450.33MB (10.1%)\rDownloading... 45.55MB / 450.33MB (10.1%)\rDownloading... 45.62MB / 450.33MB (10.1%)\rDownloading... 45.70MB / 450.33MB (10.1%)\rDownloading... 45.78MB / 450.33MB (10.2%)\rDownloading... 45.86MB / 450.33MB (10.2%)\rDownloading... 45.94MB / 450.33MB (10.2%)\rDownloading... 46.02MB / 450.33MB (10.2%)\rDownloading... 46.09MB / 450.33MB (10.2%)\rDownloading... 46.17MB / 450.33MB (10.3%)\rDownloading... 46.25MB / 450.33MB (10.3%)\rDownloading... 46.33MB / 450.33MB (10.3%)\rDownloading... 46.41MB / 450.33MB (10.3%)\rDownloading... 46.48MB / 450.33MB (10.3%)\rDownloading... 46.56MB / 450.33MB (10.3%)\r"
                ]
              },
              {
                "output_type": "stream",
                "name": "stdout",
                "text": [
                  "Downloading... 46.64MB / 450.33MB (10.4%)\rDownloading... 46.72MB / 450.33MB (10.4%)\rDownloading... 46.80MB / 450.33MB (10.4%)\rDownloading... 46.88MB / 450.33MB (10.4%)\rDownloading... 46.95MB / 450.33MB (10.4%)\rDownloading... 47.03MB / 450.33MB (10.4%)\rDownloading... 47.11MB / 450.33MB (10.5%)\rDownloading... 47.19MB / 450.33MB (10.5%)\rDownloading... 47.27MB / 450.33MB (10.5%)\rDownloading... 47.34MB / 450.33MB (10.5%)\rDownloading... 47.42MB / 450.33MB (10.5%)\rDownloading... 47.50MB / 450.33MB (10.5%)\rDownloading... 47.58MB / 450.33MB (10.6%)\rDownloading... 47.66MB / 450.33MB (10.6%)\rDownloading... 47.73MB / 450.33MB (10.6%)\rDownloading... 47.81MB / 450.33MB (10.6%)\rDownloading... 47.89MB / 450.33MB (10.6%)\rDownloading... 47.97MB / 450.33MB (10.7%)\rDownloading... 48.05MB / 450.33MB (10.7%)\rDownloading... 48.12MB / 450.33MB (10.7%)\rDownloading... 48.20MB / 450.33MB (10.7%)\rDownloading... 48.28MB / 450.33MB (10.7%)\rDownloading... 48.36MB / 450.33MB (10.7%)\rDownloading... 48.44MB / 450.33MB (10.8%)\rDownloading... 48.52MB / 450.33MB (10.8%)\rDownloading... 48.59MB / 450.33MB (10.8%)\r"
                ]
              },
              {
                "output_type": "stream",
                "name": "stdout",
                "text": [
                  "Downloading... 48.67MB / 450.33MB (10.8%)\rDownloading... 48.75MB / 450.33MB (10.8%)\rDownloading... 48.83MB / 450.33MB (10.8%)\rDownloading... 48.91MB / 450.33MB (10.9%)\rDownloading... 48.98MB / 450.33MB (10.9%)\rDownloading... 49.06MB / 450.33MB (10.9%)\rDownloading... 49.14MB / 450.33MB (10.9%)\rDownloading... 49.22MB / 450.33MB (10.9%)\rDownloading... 49.30MB / 450.33MB (10.9%)\rDownloading... 49.38MB / 450.33MB (11.0%)\rDownloading... 49.45MB / 450.33MB (11.0%)\rDownloading... 49.53MB / 450.33MB (11.0%)\rDownloading... 49.61MB / 450.33MB (11.0%)\rDownloading... 49.69MB / 450.33MB (11.0%)\rDownloading... 49.77MB / 450.33MB (11.1%)\rDownloading... 49.84MB / 450.33MB (11.1%)\rDownloading... 49.92MB / 450.33MB (11.1%)\rDownloading... 50.00MB / 450.33MB (11.1%)\rDownloading... 50.08MB / 450.33MB (11.1%)\rDownloading... 50.16MB / 450.33MB (11.1%)\rDownloading... 50.23MB / 450.33MB (11.2%)\rDownloading... 50.31MB / 450.33MB (11.2%)\rDownloading... 50.39MB / 450.33MB (11.2%)\rDownloading... 50.47MB / 450.33MB (11.2%)\rDownloading... 50.55MB / 450.33MB (11.2%)\rDownloading... 50.62MB / 450.33MB (11.2%)\rDownloading... 50.70MB / 450.33MB (11.3%)\r"
                ]
              },
              {
                "output_type": "stream",
                "name": "stdout",
                "text": [
                  "Downloading... 50.78MB / 450.33MB (11.3%)\rDownloading... 50.86MB / 450.33MB (11.3%)\rDownloading... 50.94MB / 450.33MB (11.3%)\rDownloading... 51.02MB / 450.33MB (11.3%)\rDownloading... 51.09MB / 450.33MB (11.3%)\rDownloading... 51.17MB / 450.33MB (11.4%)\rDownloading... 51.25MB / 450.33MB (11.4%)\rDownloading... 51.33MB / 450.33MB (11.4%)\rDownloading... 51.41MB / 450.33MB (11.4%)\rDownloading... 51.48MB / 450.33MB (11.4%)\rDownloading... 51.56MB / 450.33MB (11.4%)\rDownloading... 51.64MB / 450.33MB (11.5%)\rDownloading... 51.72MB / 450.33MB (11.5%)\rDownloading... 51.80MB / 450.33MB (11.5%)\rDownloading... 51.88MB / 450.33MB (11.5%)\rDownloading... 51.95MB / 450.33MB (11.5%)\rDownloading... 52.03MB / 450.33MB (11.6%)\rDownloading... 52.11MB / 450.33MB (11.6%)\rDownloading... 52.19MB / 450.33MB (11.6%)\rDownloading... 52.27MB / 450.33MB (11.6%)\rDownloading... 52.34MB / 450.33MB (11.6%)\rDownloading... 52.42MB / 450.33MB (11.6%)\rDownloading... 52.50MB / 450.33MB (11.7%)\rDownloading... 52.58MB / 450.33MB (11.7%)\rDownloading... 52.66MB / 450.33MB (11.7%)\rDownloading... 52.73MB / 450.33MB (11.7%)\rDownloading... 52.81MB / 450.33MB (11.7%)\r"
                ]
              },
              {
                "output_type": "stream",
                "name": "stdout",
                "text": [
                  "Downloading... 52.89MB / 450.33MB (11.7%)\rDownloading... 52.97MB / 450.33MB (11.8%)\rDownloading... 53.05MB / 450.33MB (11.8%)\rDownloading... 53.12MB / 450.33MB (11.8%)\rDownloading... 53.20MB / 450.33MB (11.8%)\rDownloading... 53.28MB / 450.33MB (11.8%)\rDownloading... 53.36MB / 450.33MB (11.8%)\rDownloading... 53.44MB / 450.33MB (11.9%)\rDownloading... 53.52MB / 450.33MB (11.9%)\rDownloading... 53.59MB / 450.33MB (11.9%)\rDownloading... 53.67MB / 450.33MB (11.9%)\rDownloading... 53.75MB / 450.33MB (11.9%)\rDownloading... 53.83MB / 450.33MB (12.0%)\rDownloading... 53.91MB / 450.33MB (12.0%)\rDownloading... 53.98MB / 450.33MB (12.0%)\rDownloading... 54.06MB / 450.33MB (12.0%)\rDownloading... 54.14MB / 450.33MB (12.0%)\rDownloading... 54.22MB / 450.33MB (12.0%)\rDownloading... 54.30MB / 450.33MB (12.1%)\rDownloading... 54.38MB / 450.33MB (12.1%)\rDownloading... 54.45MB / 450.33MB (12.1%)\rDownloading... 54.53MB / 450.33MB (12.1%)\rDownloading... 54.61MB / 450.33MB (12.1%)\rDownloading... 54.69MB / 450.33MB (12.1%)\rDownloading... 54.77MB / 450.33MB (12.2%)\rDownloading... 54.84MB / 450.33MB (12.2%)\rDownloading... 54.92MB / 450.33MB (12.2%)\r"
                ]
              },
              {
                "output_type": "stream",
                "name": "stdout",
                "text": [
                  "Downloading... 55.00MB / 450.33MB (12.2%)\rDownloading... 55.08MB / 450.33MB (12.2%)\rDownloading... 55.16MB / 450.33MB (12.2%)\rDownloading... 55.23MB / 450.33MB (12.3%)\rDownloading... 55.31MB / 450.33MB (12.3%)\rDownloading... 55.39MB / 450.33MB (12.3%)\rDownloading... 55.47MB / 450.33MB (12.3%)\rDownloading... 55.55MB / 450.33MB (12.3%)\rDownloading... 55.62MB / 450.33MB (12.4%)\rDownloading... 55.70MB / 450.33MB (12.4%)\rDownloading... 55.78MB / 450.33MB (12.4%)\rDownloading... 55.86MB / 450.33MB (12.4%)\rDownloading... 55.94MB / 450.33MB (12.4%)\rDownloading... 56.02MB / 450.33MB (12.4%)\rDownloading... 56.09MB / 450.33MB (12.5%)\rDownloading... 56.17MB / 450.33MB (12.5%)\rDownloading... 56.25MB / 450.33MB (12.5%)\rDownloading... 56.33MB / 450.33MB (12.5%)\rDownloading... 56.41MB / 450.33MB (12.5%)\rDownloading... 56.48MB / 450.33MB (12.5%)\rDownloading... 56.56MB / 450.33MB (12.6%)\rDownloading... 56.64MB / 450.33MB (12.6%)\rDownloading... 56.72MB / 450.33MB (12.6%)\rDownloading... 56.80MB / 450.33MB (12.6%)\rDownloading... 56.88MB / 450.33MB (12.6%)\rDownloading... 56.95MB / 450.33MB (12.6%)\rDownloading... 57.03MB / 450.33MB (12.7%)\r"
                ]
              },
              {
                "output_type": "stream",
                "name": "stdout",
                "text": [
                  "Downloading... 57.11MB / 450.33MB (12.7%)\rDownloading... 57.19MB / 450.33MB (12.7%)\rDownloading... 57.27MB / 450.33MB (12.7%)\rDownloading... 57.34MB / 450.33MB (12.7%)\rDownloading... 57.42MB / 450.33MB (12.8%)\rDownloading... 57.50MB / 450.33MB (12.8%)\rDownloading... 57.58MB / 450.33MB (12.8%)\rDownloading... 57.66MB / 450.33MB (12.8%)\rDownloading... 57.73MB / 450.33MB (12.8%)\rDownloading... 57.81MB / 450.33MB (12.8%)\rDownloading... 57.89MB / 450.33MB (12.9%)\rDownloading... 57.97MB / 450.33MB (12.9%)\rDownloading... 58.05MB / 450.33MB (12.9%)\rDownloading... 58.12MB / 450.33MB (12.9%)\rDownloading... 58.20MB / 450.33MB (12.9%)\rDownloading... 58.28MB / 450.33MB (12.9%)\rDownloading... 58.36MB / 450.33MB (13.0%)\rDownloading... 58.44MB / 450.33MB (13.0%)\rDownloading... 58.52MB / 450.33MB (13.0%)\rDownloading... 58.59MB / 450.33MB (13.0%)\rDownloading... 58.67MB / 450.33MB (13.0%)\rDownloading... 58.75MB / 450.33MB (13.0%)\rDownloading... 58.83MB / 450.33MB (13.1%)\rDownloading... 58.91MB / 450.33MB (13.1%)\rDownloading... 58.98MB / 450.33MB (13.1%)\rDownloading... 59.06MB / 450.33MB (13.1%)\rDownloading... 59.14MB / 450.33MB (13.1%)\rDownloading... 59.22MB / 450.33MB (13.2%)\r"
                ]
              },
              {
                "output_type": "stream",
                "name": "stdout",
                "text": [
                  "Downloading... 59.30MB / 450.33MB (13.2%)\rDownloading... 59.38MB / 450.33MB (13.2%)\rDownloading... 59.45MB / 450.33MB (13.2%)\rDownloading... 59.53MB / 450.33MB (13.2%)\rDownloading... 59.61MB / 450.33MB (13.2%)\rDownloading... 59.69MB / 450.33MB (13.3%)\rDownloading... 59.77MB / 450.33MB (13.3%)\rDownloading... 59.84MB / 450.33MB (13.3%)\rDownloading... 59.92MB / 450.33MB (13.3%)\rDownloading... 60.00MB / 450.33MB (13.3%)\rDownloading... 60.08MB / 450.33MB (13.3%)\rDownloading... 60.16MB / 450.33MB (13.4%)\rDownloading... 60.23MB / 450.33MB (13.4%)\rDownloading... 60.31MB / 450.33MB (13.4%)\rDownloading... 60.39MB / 450.33MB (13.4%)\rDownloading... 60.47MB / 450.33MB (13.4%)\rDownloading... 60.55MB / 450.33MB (13.4%)\rDownloading... 60.62MB / 450.33MB (13.5%)\rDownloading... 60.70MB / 450.33MB (13.5%)\rDownloading... 60.78MB / 450.33MB (13.5%)\rDownloading... 60.86MB / 450.33MB (13.5%)\rDownloading... 60.94MB / 450.33MB (13.5%)\rDownloading... 61.02MB / 450.33MB (13.5%)\rDownloading... 61.09MB / 450.33MB (13.6%)\rDownloading... 61.17MB / 450.33MB (13.6%)\rDownloading... 61.25MB / 450.33MB (13.6%)\rDownloading... 61.33MB / 450.33MB (13.6%)\rDownloading... 61.41MB / 450.33MB (13.6%)\r"
                ]
              },
              {
                "output_type": "stream",
                "name": "stdout",
                "text": [
                  "Downloading... 61.48MB / 450.33MB (13.7%)\rDownloading... 61.56MB / 450.33MB (13.7%)\rDownloading... 61.64MB / 450.33MB (13.7%)\rDownloading... 61.72MB / 450.33MB (13.7%)\rDownloading... 61.80MB / 450.33MB (13.7%)\rDownloading... 61.88MB / 450.33MB (13.7%)\rDownloading... 61.95MB / 450.33MB (13.8%)\rDownloading... 62.03MB / 450.33MB (13.8%)\rDownloading... 62.11MB / 450.33MB (13.8%)\rDownloading... 62.19MB / 450.33MB (13.8%)\rDownloading... 62.27MB / 450.33MB (13.8%)\rDownloading... 62.34MB / 450.33MB (13.8%)\rDownloading... 62.42MB / 450.33MB (13.9%)\rDownloading... 62.50MB / 450.33MB (13.9%)\rDownloading... 62.58MB / 450.33MB (13.9%)\rDownloading... 62.66MB / 450.33MB (13.9%)\rDownloading... 62.73MB / 450.33MB (13.9%)\rDownloading... 62.81MB / 450.33MB (13.9%)\rDownloading... 62.89MB / 450.33MB (14.0%)\rDownloading... 62.97MB / 450.33MB (14.0%)\rDownloading... 63.05MB / 450.33MB (14.0%)\rDownloading... 63.12MB / 450.33MB (14.0%)\rDownloading... 63.20MB / 450.33MB (14.0%)\rDownloading... 63.28MB / 450.33MB (14.1%)\rDownloading... 63.36MB / 450.33MB (14.1%)\rDownloading... 63.44MB / 450.33MB (14.1%)\rDownloading... 63.52MB / 450.33MB (14.1%)\rDownloading... 63.59MB / 450.33MB (14.1%)\rDownloading... 63.67MB / 450.33MB (14.1%)\r"
                ]
              },
              {
                "output_type": "stream",
                "name": "stdout",
                "text": [
                  "Downloading... 63.75MB / 450.33MB (14.2%)\rDownloading... 63.83MB / 450.33MB (14.2%)\rDownloading... 63.91MB / 450.33MB (14.2%)\rDownloading... 63.98MB / 450.33MB (14.2%)\rDownloading... 64.06MB / 450.33MB (14.2%)\rDownloading... 64.14MB / 450.33MB (14.2%)\rDownloading... 64.22MB / 450.33MB (14.3%)\rDownloading... 64.30MB / 450.33MB (14.3%)\rDownloading... 64.38MB / 450.33MB (14.3%)\rDownloading... 64.45MB / 450.33MB (14.3%)\rDownloading... 64.53MB / 450.33MB (14.3%)\rDownloading... 64.61MB / 450.33MB (14.3%)\rDownloading... 64.69MB / 450.33MB (14.4%)\rDownloading... 64.77MB / 450.33MB (14.4%)\rDownloading... 64.84MB / 450.33MB (14.4%)\rDownloading... 64.92MB / 450.33MB (14.4%)\rDownloading... 65.00MB / 450.33MB (14.4%)\rDownloading... 65.08MB / 450.33MB (14.5%)\rDownloading... 65.16MB / 450.33MB (14.5%)\rDownloading... 65.23MB / 450.33MB (14.5%)\rDownloading... 65.31MB / 450.33MB (14.5%)\rDownloading... 65.39MB / 450.33MB (14.5%)\rDownloading... 65.47MB / 450.33MB (14.5%)\rDownloading... 65.55MB / 450.33MB (14.6%)\rDownloading... 65.62MB / 450.33MB (14.6%)\rDownloading... 65.70MB / 450.33MB (14.6%)\rDownloading... 65.78MB / 450.33MB (14.6%)\rDownloading... 65.86MB / 450.33MB (14.6%)\r"
                ]
              },
              {
                "output_type": "stream",
                "name": "stdout",
                "text": [
                  "Downloading... 65.94MB / 450.33MB (14.6%)\rDownloading... 66.02MB / 450.33MB (14.7%)\rDownloading... 66.09MB / 450.33MB (14.7%)\rDownloading... 66.17MB / 450.33MB (14.7%)\rDownloading... 66.25MB / 450.33MB (14.7%)\rDownloading... 66.33MB / 450.33MB (14.7%)\rDownloading... 66.41MB / 450.33MB (14.7%)\rDownloading... 66.48MB / 450.33MB (14.8%)\rDownloading... 66.56MB / 450.33MB (14.8%)\rDownloading... 66.64MB / 450.33MB (14.8%)\rDownloading... 66.72MB / 450.33MB (14.8%)\rDownloading... 66.80MB / 450.33MB (14.8%)\rDownloading... 66.88MB / 450.33MB (14.9%)\rDownloading... 66.95MB / 450.33MB (14.9%)\rDownloading... 67.03MB / 450.33MB (14.9%)\rDownloading... 67.11MB / 450.33MB (14.9%)\rDownloading... 67.19MB / 450.33MB (14.9%)\rDownloading... 67.27MB / 450.33MB (14.9%)\rDownloading... 67.34MB / 450.33MB (15.0%)\rDownloading... 67.42MB / 450.33MB (15.0%)\rDownloading... 67.50MB / 450.33MB (15.0%)\rDownloading... 67.58MB / 450.33MB (15.0%)\rDownloading... 67.66MB / 450.33MB (15.0%)\rDownloading... 67.73MB / 450.33MB (15.0%)\rDownloading... 67.81MB / 450.33MB (15.1%)\rDownloading... 67.89MB / 450.33MB (15.1%)\rDownloading... 67.97MB / 450.33MB (15.1%)\rDownloading... 68.05MB / 450.33MB (15.1%)\rDownloading... 68.12MB / 450.33MB (15.1%)\rDownloading... 68.20MB / 450.33MB (15.1%)\r"
                ]
              },
              {
                "output_type": "stream",
                "name": "stdout",
                "text": [
                  "Downloading... 68.28MB / 450.33MB (15.2%)\rDownloading... 68.36MB / 450.33MB (15.2%)\rDownloading... 68.44MB / 450.33MB (15.2%)\rDownloading... 68.52MB / 450.33MB (15.2%)\rDownloading... 68.59MB / 450.33MB (15.2%)\rDownloading... 68.67MB / 450.33MB (15.2%)\rDownloading... 68.75MB / 450.33MB (15.3%)\rDownloading... 68.83MB / 450.33MB (15.3%)\rDownloading... 68.91MB / 450.33MB (15.3%)\rDownloading... 68.98MB / 450.33MB (15.3%)\rDownloading... 69.06MB / 450.33MB (15.3%)\rDownloading... 69.14MB / 450.33MB (15.4%)\rDownloading... 69.22MB / 450.33MB (15.4%)\rDownloading... 69.30MB / 450.33MB (15.4%)\rDownloading... 69.38MB / 450.33MB (15.4%)\rDownloading... 69.45MB / 450.33MB (15.4%)\rDownloading... 69.53MB / 450.33MB (15.4%)\rDownloading... 69.61MB / 450.33MB (15.5%)\rDownloading... 69.69MB / 450.33MB (15.5%)\rDownloading... 69.77MB / 450.33MB (15.5%)\rDownloading... 69.84MB / 450.33MB (15.5%)\rDownloading... 69.92MB / 450.33MB (15.5%)\rDownloading... 70.00MB / 450.33MB (15.5%)\rDownloading... 70.08MB / 450.33MB (15.6%)\rDownloading... 70.16MB / 450.33MB (15.6%)\rDownloading... 70.23MB / 450.33MB (15.6%)\rDownloading... 70.31MB / 450.33MB (15.6%)\rDownloading... 70.39MB / 450.33MB (15.6%)\rDownloading... 70.47MB / 450.33MB (15.6%)\r"
                ]
              },
              {
                "output_type": "stream",
                "name": "stdout",
                "text": [
                  "Downloading... 70.55MB / 450.33MB (15.7%)\rDownloading... 70.62MB / 450.33MB (15.7%)\rDownloading... 70.70MB / 450.33MB (15.7%)\rDownloading... 70.78MB / 450.33MB (15.7%)\rDownloading... 70.86MB / 450.33MB (15.7%)\rDownloading... 70.94MB / 450.33MB (15.8%)\rDownloading... 71.02MB / 450.33MB (15.8%)\rDownloading... 71.09MB / 450.33MB (15.8%)\rDownloading... 71.17MB / 450.33MB (15.8%)\rDownloading... 71.25MB / 450.33MB (15.8%)\rDownloading... 71.33MB / 450.33MB (15.8%)\rDownloading... 71.41MB / 450.33MB (15.9%)\rDownloading... 71.48MB / 450.33MB (15.9%)\rDownloading... 71.56MB / 450.33MB (15.9%)\rDownloading... 71.64MB / 450.33MB (15.9%)\rDownloading... 71.72MB / 450.33MB (15.9%)\rDownloading... 71.80MB / 450.33MB (15.9%)\rDownloading... 71.88MB / 450.33MB (16.0%)\rDownloading... 71.95MB / 450.33MB (16.0%)\rDownloading... 72.03MB / 450.33MB (16.0%)\rDownloading... 72.11MB / 450.33MB (16.0%)\rDownloading... 72.19MB / 450.33MB (16.0%)\rDownloading... 72.27MB / 450.33MB (16.0%)\rDownloading... 72.34MB / 450.33MB (16.1%)\rDownloading... 72.42MB / 450.33MB (16.1%)\rDownloading... 72.50MB / 450.33MB (16.1%)\rDownloading... 72.58MB / 450.33MB (16.1%)\rDownloading... 72.66MB / 450.33MB (16.1%)\rDownloading... 72.73MB / 450.33MB (16.2%)\rDownloading... 72.81MB / 450.33MB (16.2%)\r"
                ]
              },
              {
                "output_type": "stream",
                "name": "stdout",
                "text": [
                  "Downloading... 72.89MB / 450.33MB (16.2%)\rDownloading... 72.97MB / 450.33MB (16.2%)\rDownloading... 73.05MB / 450.33MB (16.2%)\rDownloading... 73.12MB / 450.33MB (16.2%)\rDownloading... 73.20MB / 450.33MB (16.3%)\rDownloading... 73.28MB / 450.33MB (16.3%)\rDownloading... 73.36MB / 450.33MB (16.3%)\rDownloading... 73.44MB / 450.33MB (16.3%)\rDownloading... 73.52MB / 450.33MB (16.3%)\rDownloading... 73.59MB / 450.33MB (16.3%)\rDownloading... 73.67MB / 450.33MB (16.4%)\rDownloading... 73.75MB / 450.33MB (16.4%)\rDownloading... 73.83MB / 450.33MB (16.4%)\rDownloading... 73.91MB / 450.33MB (16.4%)\rDownloading... 73.98MB / 450.33MB (16.4%)\rDownloading... 74.06MB / 450.33MB (16.4%)\rDownloading... 74.14MB / 450.33MB (16.5%)\rDownloading... 74.22MB / 450.33MB (16.5%)\rDownloading... 74.30MB / 450.33MB (16.5%)\rDownloading... 74.38MB / 450.33MB (16.5%)\rDownloading... 74.45MB / 450.33MB (16.5%)\rDownloading... 74.53MB / 450.33MB (16.6%)\rDownloading... 74.61MB / 450.33MB (16.6%)\rDownloading... 74.69MB / 450.33MB (16.6%)\rDownloading... 74.77MB / 450.33MB (16.6%)\rDownloading... 74.84MB / 450.33MB (16.6%)\rDownloading... 74.92MB / 450.33MB (16.6%)\rDownloading... 75.00MB / 450.33MB (16.7%)\rDownloading... 75.08MB / 450.33MB (16.7%)\rDownloading... 75.16MB / 450.33MB (16.7%)\r"
                ]
              },
              {
                "output_type": "stream",
                "name": "stdout",
                "text": [
                  "Downloading... 75.23MB / 450.33MB (16.7%)\rDownloading... 75.31MB / 450.33MB (16.7%)\rDownloading... 75.39MB / 450.33MB (16.7%)\rDownloading... 75.47MB / 450.33MB (16.8%)\rDownloading... 75.55MB / 450.33MB (16.8%)\rDownloading... 75.62MB / 450.33MB (16.8%)\rDownloading... 75.70MB / 450.33MB (16.8%)\rDownloading... 75.78MB / 450.33MB (16.8%)\rDownloading... 75.86MB / 450.33MB (16.8%)\rDownloading... 75.94MB / 450.33MB (16.9%)\rDownloading... 76.02MB / 450.33MB (16.9%)\rDownloading... 76.09MB / 450.33MB (16.9%)\rDownloading... 76.17MB / 450.33MB (16.9%)\rDownloading... 76.25MB / 450.33MB (16.9%)\rDownloading... 76.33MB / 450.33MB (16.9%)\rDownloading... 76.41MB / 450.33MB (17.0%)\rDownloading... 76.48MB / 450.33MB (17.0%)\rDownloading... 76.56MB / 450.33MB (17.0%)\rDownloading... 76.64MB / 450.33MB (17.0%)\rDownloading... 76.72MB / 450.33MB (17.0%)\rDownloading... 76.80MB / 450.33MB (17.1%)\rDownloading... 76.88MB / 450.33MB (17.1%)\rDownloading... 76.95MB / 450.33MB (17.1%)\rDownloading... 77.03MB / 450.33MB (17.1%)\rDownloading... 77.11MB / 450.33MB (17.1%)\rDownloading... 77.19MB / 450.33MB (17.1%)\rDownloading... 77.27MB / 450.33MB (17.2%)\rDownloading... 77.34MB / 450.33MB (17.2%)\rDownloading... 77.42MB / 450.33MB (17.2%)\rDownloading... 77.50MB / 450.33MB (17.2%)\rDownloading... 77.58MB / 450.33MB (17.2%)\r"
                ]
              },
              {
                "output_type": "stream",
                "name": "stdout",
                "text": [
                  "Downloading... 77.66MB / 450.33MB (17.2%)\rDownloading... 77.73MB / 450.33MB (17.3%)\rDownloading... 77.81MB / 450.33MB (17.3%)\rDownloading... 77.89MB / 450.33MB (17.3%)\rDownloading... 77.97MB / 450.33MB (17.3%)\rDownloading... 78.05MB / 450.33MB (17.3%)\rDownloading... 78.12MB / 450.33MB (17.3%)\rDownloading... 78.20MB / 450.33MB (17.4%)\rDownloading... 78.28MB / 450.33MB (17.4%)\rDownloading... 78.36MB / 450.33MB (17.4%)\rDownloading... 78.44MB / 450.33MB (17.4%)\rDownloading... 78.52MB / 450.33MB (17.4%)\rDownloading... 78.59MB / 450.33MB (17.5%)\rDownloading... 78.67MB / 450.33MB (17.5%)\rDownloading... 78.75MB / 450.33MB (17.5%)\rDownloading... 78.83MB / 450.33MB (17.5%)\rDownloading... 78.91MB / 450.33MB (17.5%)\rDownloading... 78.98MB / 450.33MB (17.5%)\rDownloading... 79.06MB / 450.33MB (17.6%)\rDownloading... 79.14MB / 450.33MB (17.6%)\rDownloading... 79.22MB / 450.33MB (17.6%)\rDownloading... 79.30MB / 450.33MB (17.6%)\rDownloading... 79.38MB / 450.33MB (17.6%)\rDownloading... 79.45MB / 450.33MB (17.6%)\rDownloading... 79.53MB / 450.33MB (17.7%)\rDownloading... 79.61MB / 450.33MB (17.7%)\rDownloading... 79.69MB / 450.33MB (17.7%)\rDownloading... 79.77MB / 450.33MB (17.7%)\rDownloading... 79.84MB / 450.33MB (17.7%)\rDownloading... 79.92MB / 450.33MB (17.7%)\rDownloading... 80.00MB / 450.33MB (17.8%)\r"
                ]
              },
              {
                "output_type": "stream",
                "name": "stdout",
                "text": [
                  "Downloading... 80.08MB / 450.33MB (17.8%)\rDownloading... 80.16MB / 450.33MB (17.8%)\rDownloading... 80.23MB / 450.33MB (17.8%)\rDownloading... 80.31MB / 450.33MB (17.8%)\rDownloading... 80.39MB / 450.33MB (17.9%)\rDownloading... 80.47MB / 450.33MB (17.9%)\rDownloading... 80.55MB / 450.33MB (17.9%)\rDownloading... 80.62MB / 450.33MB (17.9%)\rDownloading... 80.70MB / 450.33MB (17.9%)\rDownloading... 80.78MB / 450.33MB (17.9%)\rDownloading... 80.86MB / 450.33MB (18.0%)\rDownloading... 80.94MB / 450.33MB (18.0%)\rDownloading... 81.02MB / 450.33MB (18.0%)\rDownloading... 81.09MB / 450.33MB (18.0%)\rDownloading... 81.17MB / 450.33MB (18.0%)\rDownloading... 81.25MB / 450.33MB (18.0%)\rDownloading... 81.33MB / 450.33MB (18.1%)\rDownloading... 81.41MB / 450.33MB (18.1%)\rDownloading... 81.48MB / 450.33MB (18.1%)\rDownloading... 81.56MB / 450.33MB (18.1%)\rDownloading... 81.64MB / 450.33MB (18.1%)\rDownloading... 81.72MB / 450.33MB (18.1%)\rDownloading... 81.80MB / 450.33MB (18.2%)\rDownloading... 81.88MB / 450.33MB (18.2%)\rDownloading... 81.95MB / 450.33MB (18.2%)\rDownloading... 82.03MB / 450.33MB (18.2%)\rDownloading... 82.11MB / 450.33MB (18.2%)\rDownloading... 82.19MB / 450.33MB (18.3%)\rDownloading... 82.27MB / 450.33MB (18.3%)\rDownloading... 82.34MB / 450.33MB (18.3%)\rDownloading... 82.42MB / 450.33MB (18.3%)\r"
                ]
              },
              {
                "output_type": "stream",
                "name": "stdout",
                "text": [
                  "Downloading... 82.50MB / 450.33MB (18.3%)\rDownloading... 82.58MB / 450.33MB (18.3%)\rDownloading... 82.66MB / 450.33MB (18.4%)\rDownloading... 82.73MB / 450.33MB (18.4%)\rDownloading... 82.81MB / 450.33MB (18.4%)\rDownloading... 82.89MB / 450.33MB (18.4%)\rDownloading... 82.97MB / 450.33MB (18.4%)\rDownloading... 83.05MB / 450.33MB (18.4%)\rDownloading... 83.12MB / 450.33MB (18.5%)\rDownloading... 83.20MB / 450.33MB (18.5%)\rDownloading... 83.28MB / 450.33MB (18.5%)\rDownloading... 83.36MB / 450.33MB (18.5%)\rDownloading... 83.44MB / 450.33MB (18.5%)\rDownloading... 83.52MB / 450.33MB (18.5%)\rDownloading... 83.59MB / 450.33MB (18.6%)\rDownloading... 83.67MB / 450.33MB (18.6%)\rDownloading... 83.75MB / 450.33MB (18.6%)\rDownloading... 83.83MB / 450.33MB (18.6%)\rDownloading... 83.91MB / 450.33MB (18.6%)\rDownloading... 83.98MB / 450.33MB (18.6%)\rDownloading... 84.06MB / 450.33MB (18.7%)\rDownloading... 84.14MB / 450.33MB (18.7%)\rDownloading... 84.22MB / 450.33MB (18.7%)\rDownloading... 84.30MB / 450.33MB (18.7%)\rDownloading... 84.38MB / 450.33MB (18.7%)\rDownloading... 84.45MB / 450.33MB (18.8%)\rDownloading... 84.53MB / 450.33MB (18.8%)\rDownloading... 84.61MB / 450.33MB (18.8%)\rDownloading... 84.69MB / 450.33MB (18.8%)\rDownloading... 84.77MB / 450.33MB (18.8%)\rDownloading... 84.84MB / 450.33MB (18.8%)\rDownloading... 84.92MB / 450.33MB (18.9%)\r"
                ]
              },
              {
                "output_type": "stream",
                "name": "stdout",
                "text": [
                  "Downloading... 85.00MB / 450.33MB (18.9%)\rDownloading... 85.08MB / 450.33MB (18.9%)\rDownloading... 85.16MB / 450.33MB (18.9%)\rDownloading... 85.23MB / 450.33MB (18.9%)\rDownloading... 85.31MB / 450.33MB (18.9%)\rDownloading... 85.39MB / 450.33MB (19.0%)\rDownloading... 85.47MB / 450.33MB (19.0%)\rDownloading... 85.55MB / 450.33MB (19.0%)\rDownloading... 85.62MB / 450.33MB (19.0%)\rDownloading... 85.70MB / 450.33MB (19.0%)\rDownloading... 85.78MB / 450.33MB (19.0%)\rDownloading... 85.86MB / 450.33MB (19.1%)\rDownloading... 85.94MB / 450.33MB (19.1%)\rDownloading... 86.02MB / 450.33MB (19.1%)\rDownloading... 86.09MB / 450.33MB (19.1%)\rDownloading... 86.17MB / 450.33MB (19.1%)\rDownloading... 86.25MB / 450.33MB (19.2%)\rDownloading... 86.33MB / 450.33MB (19.2%)\rDownloading... 86.41MB / 450.33MB (19.2%)\rDownloading... 86.48MB / 450.33MB (19.2%)\rDownloading... 86.56MB / 450.33MB (19.2%)\rDownloading... 86.64MB / 450.33MB (19.2%)\rDownloading... 86.72MB / 450.33MB (19.3%)\rDownloading... 86.80MB / 450.33MB (19.3%)\rDownloading... 86.88MB / 450.33MB (19.3%)\rDownloading... 86.95MB / 450.33MB (19.3%)\rDownloading... 87.03MB / 450.33MB (19.3%)\rDownloading... 87.11MB / 450.33MB (19.3%)\rDownloading... 87.19MB / 450.33MB (19.4%)\rDownloading... 87.27MB / 450.33MB (19.4%)\rDownloading... 87.34MB / 450.33MB (19.4%)\rDownloading... 87.42MB / 450.33MB (19.4%)\r"
                ]
              },
              {
                "output_type": "stream",
                "name": "stdout",
                "text": [
                  "Downloading... 87.50MB / 450.33MB (19.4%)\rDownloading... 87.58MB / 450.33MB (19.4%)\rDownloading... 87.66MB / 450.33MB (19.5%)\rDownloading... 87.73MB / 450.33MB (19.5%)\rDownloading... 87.81MB / 450.33MB (19.5%)\rDownloading... 87.89MB / 450.33MB (19.5%)\rDownloading... 87.97MB / 450.33MB (19.5%)\rDownloading... 88.05MB / 450.33MB (19.6%)\rDownloading... 88.12MB / 450.33MB (19.6%)\rDownloading... 88.20MB / 450.33MB (19.6%)\rDownloading... 88.28MB / 450.33MB (19.6%)\rDownloading... 88.36MB / 450.33MB (19.6%)\rDownloading... 88.44MB / 450.33MB (19.6%)\rDownloading... 88.52MB / 450.33MB (19.7%)\rDownloading... 88.59MB / 450.33MB (19.7%)\rDownloading... 88.67MB / 450.33MB (19.7%)\rDownloading... 88.75MB / 450.33MB (19.7%)\rDownloading... 88.83MB / 450.33MB (19.7%)\rDownloading... 88.91MB / 450.33MB (19.7%)\rDownloading... 88.98MB / 450.33MB (19.8%)\rDownloading... 89.06MB / 450.33MB (19.8%)\rDownloading... 89.14MB / 450.33MB (19.8%)\rDownloading... 89.22MB / 450.33MB (19.8%)\rDownloading... 89.30MB / 450.33MB (19.8%)\rDownloading... 89.38MB / 450.33MB (19.8%)\rDownloading... 89.45MB / 450.33MB (19.9%)\rDownloading... 89.53MB / 450.33MB (19.9%)\rDownloading... 89.61MB / 450.33MB (19.9%)\rDownloading... 89.69MB / 450.33MB (19.9%)\rDownloading... 89.77MB / 450.33MB (19.9%)\rDownloading... 89.84MB / 450.33MB (20.0%)\rDownloading... 89.92MB / 450.33MB (20.0%)\rDownloading... 90.00MB / 450.33MB (20.0%)\r"
                ]
              },
              {
                "output_type": "stream",
                "name": "stdout",
                "text": [
                  "Downloading... 90.08MB / 450.33MB (20.0%)\rDownloading... 90.16MB / 450.33MB (20.0%)\rDownloading... 90.23MB / 450.33MB (20.0%)\rDownloading... 90.31MB / 450.33MB (20.1%)\rDownloading... 90.39MB / 450.33MB (20.1%)\rDownloading... 90.47MB / 450.33MB (20.1%)\rDownloading... 90.55MB / 450.33MB (20.1%)\rDownloading... 90.62MB / 450.33MB (20.1%)\rDownloading... 90.70MB / 450.33MB (20.1%)\rDownloading... 90.78MB / 450.33MB (20.2%)\rDownloading... 90.86MB / 450.33MB (20.2%)\rDownloading... 90.94MB / 450.33MB (20.2%)\rDownloading... 91.02MB / 450.33MB (20.2%)\rDownloading... 91.09MB / 450.33MB (20.2%)\rDownloading... 91.17MB / 450.33MB (20.2%)\rDownloading... 91.25MB / 450.33MB (20.3%)\rDownloading... 91.33MB / 450.33MB (20.3%)\rDownloading... 91.41MB / 450.33MB (20.3%)\rDownloading... 91.48MB / 450.33MB (20.3%)\rDownloading... 91.56MB / 450.33MB (20.3%)\rDownloading... 91.64MB / 450.33MB (20.3%)\rDownloading... 91.72MB / 450.33MB (20.4%)\rDownloading... 91.80MB / 450.33MB (20.4%)\rDownloading... 91.88MB / 450.33MB (20.4%)\rDownloading... 91.95MB / 450.33MB (20.4%)\rDownloading... 92.03MB / 450.33MB (20.4%)\rDownloading... 92.11MB / 450.33MB (20.5%)\rDownloading... 92.19MB / 450.33MB (20.5%)\rDownloading... 92.27MB / 450.33MB (20.5%)\rDownloading... 92.34MB / 450.33MB (20.5%)\rDownloading... 92.42MB / 450.33MB (20.5%)\rDownloading... 92.50MB / 450.33MB (20.5%)\r"
                ]
              },
              {
                "output_type": "stream",
                "name": "stdout",
                "text": [
                  "Downloading... 92.58MB / 450.33MB (20.6%)\rDownloading... 92.66MB / 450.33MB (20.6%)\rDownloading... 92.73MB / 450.33MB (20.6%)\rDownloading... 92.81MB / 450.33MB (20.6%)\rDownloading... 92.89MB / 450.33MB (20.6%)\rDownloading... 92.97MB / 450.33MB (20.6%)\rDownloading... 93.05MB / 450.33MB (20.7%)\rDownloading... 93.12MB / 450.33MB (20.7%)\rDownloading... 93.20MB / 450.33MB (20.7%)\rDownloading... 93.28MB / 450.33MB (20.7%)\rDownloading... 93.36MB / 450.33MB (20.7%)\rDownloading... 93.44MB / 450.33MB (20.7%)\rDownloading... 93.52MB / 450.33MB (20.8%)\rDownloading... 93.59MB / 450.33MB (20.8%)\rDownloading... 93.67MB / 450.33MB (20.8%)\rDownloading... 93.75MB / 450.33MB (20.8%)\rDownloading... 93.83MB / 450.33MB (20.8%)\rDownloading... 93.91MB / 450.33MB (20.9%)\rDownloading... 93.98MB / 450.33MB (20.9%)\rDownloading... 94.06MB / 450.33MB (20.9%)\rDownloading... 94.14MB / 450.33MB (20.9%)\rDownloading... 94.22MB / 450.33MB (20.9%)\rDownloading... 94.30MB / 450.33MB (20.9%)\rDownloading... 94.38MB / 450.33MB (21.0%)\rDownloading... 94.45MB / 450.33MB (21.0%)\rDownloading... 94.53MB / 450.33MB (21.0%)\rDownloading... 94.61MB / 450.33MB (21.0%)\rDownloading... 94.69MB / 450.33MB (21.0%)\rDownloading... 94.77MB / 450.33MB (21.0%)\rDownloading... 94.84MB / 450.33MB (21.1%)\rDownloading... 94.92MB / 450.33MB (21.1%)\rDownloading... 95.00MB / 450.33MB (21.1%)\rDownloading... 95.08MB / 450.33MB (21.1%)\r"
                ]
              },
              {
                "output_type": "stream",
                "name": "stdout",
                "text": [
                  "Downloading... 95.16MB / 450.33MB (21.1%)\rDownloading... 95.23MB / 450.33MB (21.1%)\rDownloading... 95.31MB / 450.33MB (21.2%)\rDownloading... 95.39MB / 450.33MB (21.2%)\rDownloading... 95.47MB / 450.33MB (21.2%)\rDownloading... 95.55MB / 450.33MB (21.2%)\rDownloading... 95.62MB / 450.33MB (21.2%)\rDownloading... 95.70MB / 450.33MB (21.3%)\rDownloading... 95.78MB / 450.33MB (21.3%)\rDownloading... 95.86MB / 450.33MB (21.3%)\rDownloading... 95.94MB / 450.33MB (21.3%)\rDownloading... 96.02MB / 450.33MB (21.3%)\rDownloading... 96.09MB / 450.33MB (21.3%)\rDownloading... 96.17MB / 450.33MB (21.4%)\rDownloading... 96.25MB / 450.33MB (21.4%)\rDownloading... 96.33MB / 450.33MB (21.4%)\rDownloading... 96.41MB / 450.33MB (21.4%)\rDownloading... 96.48MB / 450.33MB (21.4%)\rDownloading... 96.56MB / 450.33MB (21.4%)\rDownloading... 96.64MB / 450.33MB (21.5%)\rDownloading... 96.72MB / 450.33MB (21.5%)\rDownloading... 96.80MB / 450.33MB (21.5%)\rDownloading... 96.88MB / 450.33MB (21.5%)\rDownloading... 96.95MB / 450.33MB (21.5%)\rDownloading... 97.03MB / 450.33MB (21.5%)\rDownloading... 97.11MB / 450.33MB (21.6%)\rDownloading... 97.19MB / 450.33MB (21.6%)\rDownloading... 97.27MB / 450.33MB (21.6%)\rDownloading... 97.34MB / 450.33MB (21.6%)\rDownloading... 97.42MB / 450.33MB (21.6%)\rDownloading... 97.50MB / 450.33MB (21.7%)\rDownloading... 97.58MB / 450.33MB (21.7%)\rDownloading... 97.66MB / 450.33MB (21.7%)\r"
                ]
              },
              {
                "output_type": "stream",
                "name": "stdout",
                "text": [
                  "Downloading... 97.73MB / 450.33MB (21.7%)\rDownloading... 97.81MB / 450.33MB (21.7%)\rDownloading... 97.89MB / 450.33MB (21.7%)\rDownloading... 97.97MB / 450.33MB (21.8%)\rDownloading... 98.05MB / 450.33MB (21.8%)\rDownloading... 98.12MB / 450.33MB (21.8%)\rDownloading... 98.20MB / 450.33MB (21.8%)\rDownloading... 98.28MB / 450.33MB (21.8%)\rDownloading... 98.36MB / 450.33MB (21.8%)\rDownloading... 98.44MB / 450.33MB (21.9%)\rDownloading... 98.52MB / 450.33MB (21.9%)\rDownloading... 98.59MB / 450.33MB (21.9%)\rDownloading... 98.67MB / 450.33MB (21.9%)\rDownloading... 98.75MB / 450.33MB (21.9%)\rDownloading... 98.83MB / 450.33MB (21.9%)\rDownloading... 98.91MB / 450.33MB (22.0%)\rDownloading... 98.98MB / 450.33MB (22.0%)\rDownloading... 99.06MB / 450.33MB (22.0%)\rDownloading... 99.14MB / 450.33MB (22.0%)\rDownloading... 99.22MB / 450.33MB (22.0%)\rDownloading... 99.30MB / 450.33MB (22.0%)\rDownloading... 99.38MB / 450.33MB (22.1%)\rDownloading... 99.45MB / 450.33MB (22.1%)\rDownloading... 99.53MB / 450.33MB (22.1%)\rDownloading... 99.61MB / 450.33MB (22.1%)\rDownloading... 99.69MB / 450.33MB (22.1%)\rDownloading... 99.77MB / 450.33MB (22.2%)\rDownloading... 99.84MB / 450.33MB (22.2%)\rDownloading... 99.92MB / 450.33MB (22.2%)\rDownloading... 100.00MB / 450.33MB (22.2%)\rDownloading... 100.08MB / 450.33MB (22.2%)\rDownloading... 100.16MB / 450.33MB (22.2%)\rDownloading... 100.23MB / 450.33MB (22.3%)\rDownloading... 100.31MB / 450.33MB (22.3%)\r"
                ]
              },
              {
                "output_type": "stream",
                "name": "stdout",
                "text": [
                  "Downloading... 100.39MB / 450.33MB (22.3%)\rDownloading... 100.47MB / 450.33MB (22.3%)\rDownloading... 100.55MB / 450.33MB (22.3%)\rDownloading... 100.62MB / 450.33MB (22.3%)\rDownloading... 100.70MB / 450.33MB (22.4%)\rDownloading... 100.78MB / 450.33MB (22.4%)\rDownloading... 100.86MB / 450.33MB (22.4%)\rDownloading... 100.94MB / 450.33MB (22.4%)\rDownloading... 101.02MB / 450.33MB (22.4%)\rDownloading... 101.09MB / 450.33MB (22.4%)\rDownloading... 101.17MB / 450.33MB (22.5%)\rDownloading... 101.25MB / 450.33MB (22.5%)\rDownloading... 101.33MB / 450.33MB (22.5%)\rDownloading... 101.41MB / 450.33MB (22.5%)\rDownloading... 101.48MB / 450.33MB (22.5%)\rDownloading... 101.56MB / 450.33MB (22.6%)\rDownloading... 101.64MB / 450.33MB (22.6%)\rDownloading... 101.72MB / 450.33MB (22.6%)\rDownloading... 101.80MB / 450.33MB (22.6%)\rDownloading... 101.88MB / 450.33MB (22.6%)\rDownloading... 101.95MB / 450.33MB (22.6%)\rDownloading... 102.03MB / 450.33MB (22.7%)\rDownloading... 102.11MB / 450.33MB (22.7%)\rDownloading... 102.19MB / 450.33MB (22.7%)\rDownloading... 102.27MB / 450.33MB (22.7%)\rDownloading... 102.34MB / 450.33MB (22.7%)\rDownloading... 102.42MB / 450.33MB (22.7%)\rDownloading... 102.50MB / 450.33MB (22.8%)\rDownloading... 102.58MB / 450.33MB (22.8%)\rDownloading... 102.66MB / 450.33MB (22.8%)\rDownloading... 102.73MB / 450.33MB (22.8%)\rDownloading... 102.81MB / 450.33MB (22.8%)\rDownloading... 102.89MB / 450.33MB (22.8%)\rDownloading... 102.97MB / 450.33MB (22.9%)\r"
                ]
              },
              {
                "output_type": "stream",
                "name": "stdout",
                "text": [
                  "Downloading... 103.05MB / 450.33MB (22.9%)\rDownloading... 103.12MB / 450.33MB (22.9%)\rDownloading... 103.20MB / 450.33MB (22.9%)\rDownloading... 103.28MB / 450.33MB (22.9%)\rDownloading... 103.36MB / 450.33MB (23.0%)\rDownloading... 103.44MB / 450.33MB (23.0%)\rDownloading... 103.52MB / 450.33MB (23.0%)\rDownloading... 103.59MB / 450.33MB (23.0%)\rDownloading... 103.67MB / 450.33MB (23.0%)\rDownloading... 103.75MB / 450.33MB (23.0%)\rDownloading... 103.83MB / 450.33MB (23.1%)\rDownloading... 103.91MB / 450.33MB (23.1%)\rDownloading... 103.98MB / 450.33MB (23.1%)\rDownloading... 104.06MB / 450.33MB (23.1%)\rDownloading... 104.14MB / 450.33MB (23.1%)\rDownloading... 104.22MB / 450.33MB (23.1%)\rDownloading... 104.30MB / 450.33MB (23.2%)\rDownloading... 104.38MB / 450.33MB (23.2%)\rDownloading... 104.45MB / 450.33MB (23.2%)\rDownloading... 104.53MB / 450.33MB (23.2%)\rDownloading... 104.61MB / 450.33MB (23.2%)\rDownloading... 104.69MB / 450.33MB (23.2%)\rDownloading... 104.77MB / 450.33MB (23.3%)\rDownloading... 104.84MB / 450.33MB (23.3%)\rDownloading... 104.92MB / 450.33MB (23.3%)\rDownloading... 105.00MB / 450.33MB (23.3%)\rDownloading... 105.08MB / 450.33MB (23.3%)\rDownloading... 105.16MB / 450.33MB (23.4%)\rDownloading... 105.23MB / 450.33MB (23.4%)\rDownloading... 105.31MB / 450.33MB (23.4%)\rDownloading... 105.39MB / 450.33MB (23.4%)\rDownloading... 105.47MB / 450.33MB (23.4%)\rDownloading... 105.55MB / 450.33MB (23.4%)\rDownloading... 105.62MB / 450.33MB (23.5%)\r"
                ]
              },
              {
                "output_type": "stream",
                "name": "stdout",
                "text": [
                  "Downloading... 105.70MB / 450.33MB (23.5%)\rDownloading... 105.78MB / 450.33MB (23.5%)\rDownloading... 105.86MB / 450.33MB (23.5%)\rDownloading... 105.94MB / 450.33MB (23.5%)\rDownloading... 106.02MB / 450.33MB (23.5%)\rDownloading... 106.09MB / 450.33MB (23.6%)\rDownloading... 106.17MB / 450.33MB (23.6%)\rDownloading... 106.25MB / 450.33MB (23.6%)\rDownloading... 106.33MB / 450.33MB (23.6%)\rDownloading... 106.41MB / 450.33MB (23.6%)\rDownloading... 106.48MB / 450.33MB (23.6%)\rDownloading... 106.56MB / 450.33MB (23.7%)\rDownloading... 106.64MB / 450.33MB (23.7%)\rDownloading... 106.72MB / 450.33MB (23.7%)\rDownloading... 106.80MB / 450.33MB (23.7%)\rDownloading... 106.88MB / 450.33MB (23.7%)\rDownloading... 106.95MB / 450.33MB (23.7%)\rDownloading... 107.03MB / 450.33MB (23.8%)\rDownloading... 107.11MB / 450.33MB (23.8%)\rDownloading... 107.19MB / 450.33MB (23.8%)\rDownloading... 107.27MB / 450.33MB (23.8%)\rDownloading... 107.34MB / 450.33MB (23.8%)\rDownloading... 107.42MB / 450.33MB (23.9%)\rDownloading... 107.50MB / 450.33MB (23.9%)\rDownloading... 107.58MB / 450.33MB (23.9%)\rDownloading... 107.66MB / 450.33MB (23.9%)\rDownloading... 107.73MB / 450.33MB (23.9%)\rDownloading... 107.81MB / 450.33MB (23.9%)\rDownloading... 107.89MB / 450.33MB (24.0%)\rDownloading... 107.97MB / 450.33MB (24.0%)\rDownloading... 108.05MB / 450.33MB (24.0%)\rDownloading... 108.12MB / 450.33MB (24.0%)\rDownloading... 108.20MB / 450.33MB (24.0%)\rDownloading... 108.28MB / 450.33MB (24.0%)\r"
                ]
              },
              {
                "output_type": "stream",
                "name": "stdout",
                "text": [
                  "Downloading... 108.36MB / 450.33MB (24.1%)\rDownloading... 108.44MB / 450.33MB (24.1%)\rDownloading... 108.52MB / 450.33MB (24.1%)\rDownloading... 108.59MB / 450.33MB (24.1%)\rDownloading... 108.67MB / 450.33MB (24.1%)\rDownloading... 108.75MB / 450.33MB (24.1%)\rDownloading... 108.83MB / 450.33MB (24.2%)\rDownloading... 108.91MB / 450.33MB (24.2%)\rDownloading... 108.98MB / 450.33MB (24.2%)\rDownloading... 109.06MB / 450.33MB (24.2%)\rDownloading... 109.14MB / 450.33MB (24.2%)\rDownloading... 109.22MB / 450.33MB (24.3%)\rDownloading... 109.30MB / 450.33MB (24.3%)\rDownloading... 109.38MB / 450.33MB (24.3%)\rDownloading... 109.45MB / 450.33MB (24.3%)\rDownloading... 109.53MB / 450.33MB (24.3%)\rDownloading... 109.61MB / 450.33MB (24.3%)\rDownloading... 109.69MB / 450.33MB (24.4%)\rDownloading... 109.77MB / 450.33MB (24.4%)\rDownloading... 109.84MB / 450.33MB (24.4%)\rDownloading... 109.92MB / 450.33MB (24.4%)\rDownloading... 110.00MB / 450.33MB (24.4%)\rDownloading... 110.08MB / 450.33MB (24.4%)\rDownloading... 110.16MB / 450.33MB (24.5%)\rDownloading... 110.23MB / 450.33MB (24.5%)\rDownloading... 110.31MB / 450.33MB (24.5%)\rDownloading... 110.39MB / 450.33MB (24.5%)\rDownloading... 110.47MB / 450.33MB (24.5%)\rDownloading... 110.55MB / 450.33MB (24.5%)\rDownloading... 110.62MB / 450.33MB (24.6%)\rDownloading... 110.70MB / 450.33MB (24.6%)\rDownloading... 110.78MB / 450.33MB (24.6%)\rDownloading... 110.86MB / 450.33MB (24.6%)\rDownloading... 110.94MB / 450.33MB (24.6%)\r"
                ]
              },
              {
                "output_type": "stream",
                "name": "stdout",
                "text": [
                  "Downloading... 111.02MB / 450.33MB (24.7%)\rDownloading... 111.09MB / 450.33MB (24.7%)\rDownloading... 111.17MB / 450.33MB (24.7%)\rDownloading... 111.25MB / 450.33MB (24.7%)\rDownloading... 111.33MB / 450.33MB (24.7%)\rDownloading... 111.41MB / 450.33MB (24.7%)\rDownloading... 111.48MB / 450.33MB (24.8%)\rDownloading... 111.56MB / 450.33MB (24.8%)\rDownloading... 111.64MB / 450.33MB (24.8%)\rDownloading... 111.72MB / 450.33MB (24.8%)\rDownloading... 111.80MB / 450.33MB (24.8%)\rDownloading... 111.88MB / 450.33MB (24.8%)\rDownloading... 111.95MB / 450.33MB (24.9%)\rDownloading... 112.03MB / 450.33MB (24.9%)\rDownloading... 112.11MB / 450.33MB (24.9%)\rDownloading... 112.19MB / 450.33MB (24.9%)\rDownloading... 112.27MB / 450.33MB (24.9%)\rDownloading... 112.34MB / 450.33MB (24.9%)\rDownloading... 112.42MB / 450.33MB (25.0%)\rDownloading... 112.50MB / 450.33MB (25.0%)\rDownloading... 112.58MB / 450.33MB (25.0%)\rDownloading... 112.66MB / 450.33MB (25.0%)\rDownloading... 112.73MB / 450.33MB (25.0%)\rDownloading... 112.81MB / 450.33MB (25.1%)\rDownloading... 112.89MB / 450.33MB (25.1%)\rDownloading... 112.97MB / 450.33MB (25.1%)\rDownloading... 113.05MB / 450.33MB (25.1%)\rDownloading... 113.12MB / 450.33MB (25.1%)\rDownloading... 113.20MB / 450.33MB (25.1%)\rDownloading... 113.28MB / 450.33MB (25.2%)\rDownloading... 113.36MB / 450.33MB (25.2%)\rDownloading... 113.44MB / 450.33MB (25.2%)\rDownloading... 113.52MB / 450.33MB (25.2%)\rDownloading... 113.59MB / 450.33MB (25.2%)\rDownloading... 113.67MB / 450.33MB (25.2%)\r"
                ]
              },
              {
                "output_type": "stream",
                "name": "stdout",
                "text": [
                  "Downloading... 113.75MB / 450.33MB (25.3%)\rDownloading... 113.83MB / 450.33MB (25.3%)\rDownloading... 113.91MB / 450.33MB (25.3%)\rDownloading... 113.98MB / 450.33MB (25.3%)\rDownloading... 114.06MB / 450.33MB (25.3%)\rDownloading... 114.14MB / 450.33MB (25.3%)\rDownloading... 114.22MB / 450.33MB (25.4%)\rDownloading... 114.30MB / 450.33MB (25.4%)\rDownloading... 114.38MB / 450.33MB (25.4%)\rDownloading... 114.45MB / 450.33MB (25.4%)\rDownloading... 114.53MB / 450.33MB (25.4%)\rDownloading... 114.61MB / 450.33MB (25.5%)\rDownloading... 114.69MB / 450.33MB (25.5%)\rDownloading... 114.77MB / 450.33MB (25.5%)\rDownloading... 114.84MB / 450.33MB (25.5%)\rDownloading... 114.92MB / 450.33MB (25.5%)\rDownloading... 115.00MB / 450.33MB (25.5%)\rDownloading... 115.08MB / 450.33MB (25.6%)\rDownloading... 115.16MB / 450.33MB (25.6%)\rDownloading... 115.23MB / 450.33MB (25.6%)\rDownloading... 115.31MB / 450.33MB (25.6%)\rDownloading... 115.39MB / 450.33MB (25.6%)\rDownloading... 115.47MB / 450.33MB (25.6%)\rDownloading... 115.55MB / 450.33MB (25.7%)\rDownloading... 115.62MB / 450.33MB (25.7%)\rDownloading... 115.70MB / 450.33MB (25.7%)\rDownloading... 115.78MB / 450.33MB (25.7%)\rDownloading... 115.86MB / 450.33MB (25.7%)\rDownloading... 115.94MB / 450.33MB (25.7%)\rDownloading... 116.02MB / 450.33MB (25.8%)\rDownloading... 116.09MB / 450.33MB (25.8%)\rDownloading... 116.17MB / 450.33MB (25.8%)\rDownloading... 116.25MB / 450.33MB (25.8%)\rDownloading... 116.33MB / 450.33MB (25.8%)\rDownloading... 116.41MB / 450.33MB (25.8%)\r"
                ]
              },
              {
                "output_type": "stream",
                "name": "stdout",
                "text": [
                  "Downloading... 116.48MB / 450.33MB (25.9%)\rDownloading... 116.56MB / 450.33MB (25.9%)\rDownloading... 116.64MB / 450.33MB (25.9%)\rDownloading... 116.72MB / 450.33MB (25.9%)\rDownloading... 116.80MB / 450.33MB (25.9%)\rDownloading... 116.88MB / 450.33MB (26.0%)\rDownloading... 116.95MB / 450.33MB (26.0%)\rDownloading... 117.03MB / 450.33MB (26.0%)\rDownloading... 117.11MB / 450.33MB (26.0%)\rDownloading... 117.19MB / 450.33MB (26.0%)\rDownloading... 117.27MB / 450.33MB (26.0%)\rDownloading... 117.34MB / 450.33MB (26.1%)\rDownloading... 117.42MB / 450.33MB (26.1%)\rDownloading... 117.50MB / 450.33MB (26.1%)\rDownloading... 117.58MB / 450.33MB (26.1%)\rDownloading... 117.66MB / 450.33MB (26.1%)\rDownloading... 117.73MB / 450.33MB (26.1%)\rDownloading... 117.81MB / 450.33MB (26.2%)\rDownloading... 117.89MB / 450.33MB (26.2%)\rDownloading... 117.97MB / 450.33MB (26.2%)\rDownloading... 118.05MB / 450.33MB (26.2%)\rDownloading... 118.12MB / 450.33MB (26.2%)\rDownloading... 118.20MB / 450.33MB (26.2%)\rDownloading... 118.28MB / 450.33MB (26.3%)\rDownloading... 118.36MB / 450.33MB (26.3%)\rDownloading... 118.44MB / 450.33MB (26.3%)\rDownloading... 118.52MB / 450.33MB (26.3%)\rDownloading... 118.59MB / 450.33MB (26.3%)\rDownloading... 118.67MB / 450.33MB (26.4%)\rDownloading... 118.75MB / 450.33MB (26.4%)\rDownloading... 118.83MB / 450.33MB (26.4%)\rDownloading... 118.91MB / 450.33MB (26.4%)\rDownloading... 118.98MB / 450.33MB (26.4%)\rDownloading... 119.06MB / 450.33MB (26.4%)\rDownloading... 119.14MB / 450.33MB (26.5%)\r"
                ]
              },
              {
                "output_type": "stream",
                "name": "stdout",
                "text": [
                  "Downloading... 119.22MB / 450.33MB (26.5%)\rDownloading... 119.30MB / 450.33MB (26.5%)\rDownloading... 119.38MB / 450.33MB (26.5%)\rDownloading... 119.45MB / 450.33MB (26.5%)\rDownloading... 119.53MB / 450.33MB (26.5%)\rDownloading... 119.61MB / 450.33MB (26.6%)\rDownloading... 119.69MB / 450.33MB (26.6%)\rDownloading... 119.77MB / 450.33MB (26.6%)\rDownloading... 119.84MB / 450.33MB (26.6%)\rDownloading... 119.92MB / 450.33MB (26.6%)\rDownloading... 120.00MB / 450.33MB (26.6%)\rDownloading... 120.08MB / 450.33MB (26.7%)\rDownloading... 120.16MB / 450.33MB (26.7%)\rDownloading... 120.23MB / 450.33MB (26.7%)\rDownloading... 120.31MB / 450.33MB (26.7%)\rDownloading... 120.39MB / 450.33MB (26.7%)\rDownloading... 120.47MB / 450.33MB (26.8%)\rDownloading... 120.55MB / 450.33MB (26.8%)\rDownloading... 120.62MB / 450.33MB (26.8%)\rDownloading... 120.70MB / 450.33MB (26.8%)\rDownloading... 120.78MB / 450.33MB (26.8%)\rDownloading... 120.86MB / 450.33MB (26.8%)\rDownloading... 120.94MB / 450.33MB (26.9%)\rDownloading... 121.02MB / 450.33MB (26.9%)\rDownloading... 121.09MB / 450.33MB (26.9%)\rDownloading... 121.17MB / 450.33MB (26.9%)\rDownloading... 121.25MB / 450.33MB (26.9%)\rDownloading... 121.33MB / 450.33MB (26.9%)\rDownloading... 121.41MB / 450.33MB (27.0%)\rDownloading... 121.48MB / 450.33MB (27.0%)\rDownloading... 121.56MB / 450.33MB (27.0%)\rDownloading... 121.64MB / 450.33MB (27.0%)\rDownloading... 121.72MB / 450.33MB (27.0%)\rDownloading... 121.80MB / 450.33MB (27.0%)\rDownloading... 121.88MB / 450.33MB (27.1%)\r"
                ]
              },
              {
                "output_type": "stream",
                "name": "stdout",
                "text": [
                  "Downloading... 121.95MB / 450.33MB (27.1%)\rDownloading... 122.03MB / 450.33MB (27.1%)\rDownloading... 122.11MB / 450.33MB (27.1%)\rDownloading... 122.19MB / 450.33MB (27.1%)\rDownloading... 122.27MB / 450.33MB (27.2%)\rDownloading... 122.34MB / 450.33MB (27.2%)\rDownloading... 122.42MB / 450.33MB (27.2%)\rDownloading... 122.50MB / 450.33MB (27.2%)\rDownloading... 122.58MB / 450.33MB (27.2%)\rDownloading... 122.66MB / 450.33MB (27.2%)\rDownloading... 122.73MB / 450.33MB (27.3%)\rDownloading... 122.81MB / 450.33MB (27.3%)\rDownloading... 122.89MB / 450.33MB (27.3%)\rDownloading... 122.97MB / 450.33MB (27.3%)\rDownloading... 123.05MB / 450.33MB (27.3%)\rDownloading... 123.12MB / 450.33MB (27.3%)\rDownloading... 123.20MB / 450.33MB (27.4%)\rDownloading... 123.28MB / 450.33MB (27.4%)\rDownloading... 123.36MB / 450.33MB (27.4%)\rDownloading... 123.44MB / 450.33MB (27.4%)\rDownloading... 123.52MB / 450.33MB (27.4%)\rDownloading... 123.59MB / 450.33MB (27.4%)\rDownloading... 123.67MB / 450.33MB (27.5%)\rDownloading... 123.75MB / 450.33MB (27.5%)\rDownloading... 123.83MB / 450.33MB (27.5%)\rDownloading... 123.91MB / 450.33MB (27.5%)\rDownloading... 123.98MB / 450.33MB (27.5%)\rDownloading... 124.06MB / 450.33MB (27.5%)\rDownloading... 124.14MB / 450.33MB (27.6%)\rDownloading... 124.22MB / 450.33MB (27.6%)\rDownloading... 124.30MB / 450.33MB (27.6%)\rDownloading... 124.38MB / 450.33MB (27.6%)\rDownloading... 124.45MB / 450.33MB (27.6%)\rDownloading... 124.53MB / 450.33MB (27.7%)\rDownloading... 124.61MB / 450.33MB (27.7%)\r"
                ]
              },
              {
                "output_type": "stream",
                "name": "stdout",
                "text": [
                  "Downloading... 124.69MB / 450.33MB (27.7%)\rDownloading... 124.77MB / 450.33MB (27.7%)\rDownloading... 124.84MB / 450.33MB (27.7%)\rDownloading... 124.92MB / 450.33MB (27.7%)\rDownloading... 125.00MB / 450.33MB (27.8%)\rDownloading... 125.08MB / 450.33MB (27.8%)\rDownloading... 125.16MB / 450.33MB (27.8%)\rDownloading... 125.23MB / 450.33MB (27.8%)\rDownloading... 125.31MB / 450.33MB (27.8%)\rDownloading... 125.39MB / 450.33MB (27.8%)\rDownloading... 125.47MB / 450.33MB (27.9%)\rDownloading... 125.55MB / 450.33MB (27.9%)\rDownloading... 125.62MB / 450.33MB (27.9%)\rDownloading... 125.70MB / 450.33MB (27.9%)\rDownloading... 125.78MB / 450.33MB (27.9%)\rDownloading... 125.86MB / 450.33MB (27.9%)\rDownloading... 125.94MB / 450.33MB (28.0%)\rDownloading... 126.02MB / 450.33MB (28.0%)\rDownloading... 126.09MB / 450.33MB (28.0%)\rDownloading... 126.17MB / 450.33MB (28.0%)\rDownloading... 126.25MB / 450.33MB (28.0%)\rDownloading... 126.33MB / 450.33MB (28.1%)\rDownloading... 126.41MB / 450.33MB (28.1%)\rDownloading... 126.48MB / 450.33MB (28.1%)\rDownloading... 126.56MB / 450.33MB (28.1%)\rDownloading... 126.64MB / 450.33MB (28.1%)\rDownloading... 126.72MB / 450.33MB (28.1%)\rDownloading... 126.80MB / 450.33MB (28.2%)\rDownloading... 126.88MB / 450.33MB (28.2%)\rDownloading... 126.95MB / 450.33MB (28.2%)\rDownloading... 127.03MB / 450.33MB (28.2%)\rDownloading... 127.11MB / 450.33MB (28.2%)\rDownloading... 127.19MB / 450.33MB (28.2%)\rDownloading... 127.27MB / 450.33MB (28.3%)\r"
                ]
              },
              {
                "output_type": "stream",
                "name": "stdout",
                "text": [
                  "Downloading... 127.34MB / 450.33MB (28.3%)\rDownloading... 127.42MB / 450.33MB (28.3%)\rDownloading... 127.50MB / 450.33MB (28.3%)\rDownloading... 127.58MB / 450.33MB (28.3%)\rDownloading... 127.66MB / 450.33MB (28.3%)\rDownloading... 127.73MB / 450.33MB (28.4%)\rDownloading... 127.81MB / 450.33MB (28.4%)\rDownloading... 127.89MB / 450.33MB (28.4%)\rDownloading... 127.97MB / 450.33MB (28.4%)\rDownloading... 128.05MB / 450.33MB (28.4%)\rDownloading... 128.12MB / 450.33MB (28.5%)\rDownloading... 128.20MB / 450.33MB (28.5%)\rDownloading... 128.28MB / 450.33MB (28.5%)\rDownloading... 128.36MB / 450.33MB (28.5%)\rDownloading... 128.44MB / 450.33MB (28.5%)\rDownloading... 128.52MB / 450.33MB (28.5%)\rDownloading... 128.59MB / 450.33MB (28.6%)\rDownloading... 128.67MB / 450.33MB (28.6%)\rDownloading... 128.75MB / 450.33MB (28.6%)\rDownloading... 128.83MB / 450.33MB (28.6%)\rDownloading... 128.91MB / 450.33MB (28.6%)\rDownloading... 128.98MB / 450.33MB (28.6%)\rDownloading... 129.06MB / 450.33MB (28.7%)\rDownloading... 129.14MB / 450.33MB (28.7%)\rDownloading... 129.22MB / 450.33MB (28.7%)\rDownloading... 129.30MB / 450.33MB (28.7%)\rDownloading... 129.38MB / 450.33MB (28.7%)\rDownloading... 129.45MB / 450.33MB (28.7%)\rDownloading... 129.53MB / 450.33MB (28.8%)\rDownloading... 129.61MB / 450.33MB (28.8%)\rDownloading... 129.69MB / 450.33MB (28.8%)\rDownloading... 129.77MB / 450.33MB (28.8%)\rDownloading... 129.84MB / 450.33MB (28.8%)\rDownloading... 129.92MB / 450.33MB (28.9%)\rDownloading... 130.00MB / 450.33MB (28.9%)\rDownloading... 130.08MB / 450.33MB (28.9%)\r"
                ]
              },
              {
                "output_type": "stream",
                "name": "stdout",
                "text": [
                  "Downloading... 130.16MB / 450.33MB (28.9%)\rDownloading... 130.23MB / 450.33MB (28.9%)\rDownloading... 130.31MB / 450.33MB (28.9%)\rDownloading... 130.39MB / 450.33MB (29.0%)\rDownloading... 130.47MB / 450.33MB (29.0%)\rDownloading... 130.55MB / 450.33MB (29.0%)\rDownloading... 130.62MB / 450.33MB (29.0%)\rDownloading... 130.70MB / 450.33MB (29.0%)\rDownloading... 130.78MB / 450.33MB (29.0%)\rDownloading... 130.86MB / 450.33MB (29.1%)\rDownloading... 130.94MB / 450.33MB (29.1%)\rDownloading... 131.02MB / 450.33MB (29.1%)\rDownloading... 131.09MB / 450.33MB (29.1%)\rDownloading... 131.17MB / 450.33MB (29.1%)\rDownloading... 131.25MB / 450.33MB (29.1%)\rDownloading... 131.33MB / 450.33MB (29.2%)\rDownloading... 131.41MB / 450.33MB (29.2%)\rDownloading... 131.48MB / 450.33MB (29.2%)\rDownloading... 131.56MB / 450.33MB (29.2%)\rDownloading... 131.64MB / 450.33MB (29.2%)\rDownloading... 131.72MB / 450.33MB (29.2%)\rDownloading... 131.80MB / 450.33MB (29.3%)\rDownloading... 131.88MB / 450.33MB (29.3%)\rDownloading... 131.95MB / 450.33MB (29.3%)\rDownloading... 132.03MB / 450.33MB (29.3%)\rDownloading... 132.11MB / 450.33MB (29.3%)\rDownloading... 132.19MB / 450.33MB (29.4%)\rDownloading... 132.27MB / 450.33MB (29.4%)\rDownloading... 132.34MB / 450.33MB (29.4%)\rDownloading... 132.42MB / 450.33MB (29.4%)\rDownloading... 132.50MB / 450.33MB (29.4%)\rDownloading... 132.58MB / 450.33MB (29.4%)\rDownloading... 132.66MB / 450.33MB (29.5%)\rDownloading... 132.73MB / 450.33MB (29.5%)\rDownloading... 132.81MB / 450.33MB (29.5%)\r"
                ]
              },
              {
                "output_type": "stream",
                "name": "stdout",
                "text": [
                  "Downloading... 132.89MB / 450.33MB (29.5%)\rDownloading... 132.97MB / 450.33MB (29.5%)\rDownloading... 133.05MB / 450.33MB (29.5%)\rDownloading... 133.12MB / 450.33MB (29.6%)\rDownloading... 133.20MB / 450.33MB (29.6%)\rDownloading... 133.28MB / 450.33MB (29.6%)\rDownloading... 133.36MB / 450.33MB (29.6%)\rDownloading... 133.44MB / 450.33MB (29.6%)\rDownloading... 133.52MB / 450.33MB (29.6%)\rDownloading... 133.59MB / 450.33MB (29.7%)\rDownloading... 133.67MB / 450.33MB (29.7%)\rDownloading... 133.75MB / 450.33MB (29.7%)\rDownloading... 133.83MB / 450.33MB (29.7%)\rDownloading... 133.91MB / 450.33MB (29.7%)\rDownloading... 133.98MB / 450.33MB (29.8%)\rDownloading... 134.06MB / 450.33MB (29.8%)\rDownloading... 134.14MB / 450.33MB (29.8%)\rDownloading... 134.22MB / 450.33MB (29.8%)\rDownloading... 134.30MB / 450.33MB (29.8%)\rDownloading... 134.38MB / 450.33MB (29.8%)\rDownloading... 134.45MB / 450.33MB (29.9%)\rDownloading... 134.53MB / 450.33MB (29.9%)\rDownloading... 134.61MB / 450.33MB (29.9%)\rDownloading... 134.69MB / 450.33MB (29.9%)\rDownloading... 134.77MB / 450.33MB (29.9%)\rDownloading... 134.84MB / 450.33MB (29.9%)\rDownloading... 134.92MB / 450.33MB (30.0%)\rDownloading... 135.00MB / 450.33MB (30.0%)\rDownloading... 135.08MB / 450.33MB (30.0%)\rDownloading... 135.16MB / 450.33MB (30.0%)\rDownloading... 135.23MB / 450.33MB (30.0%)\rDownloading... 135.31MB / 450.33MB (30.0%)\rDownloading... 135.39MB / 450.33MB (30.1%)\rDownloading... 135.47MB / 450.33MB (30.1%)\rDownloading... 135.55MB / 450.33MB (30.1%)\rDownloading... 135.62MB / 450.33MB (30.1%)\r"
                ]
              },
              {
                "output_type": "stream",
                "name": "stdout",
                "text": [
                  "Downloading... 135.70MB / 450.33MB (30.1%)\rDownloading... 135.78MB / 450.33MB (30.2%)\rDownloading... 135.86MB / 450.33MB (30.2%)\rDownloading... 135.94MB / 450.33MB (30.2%)\rDownloading... 136.02MB / 450.33MB (30.2%)\rDownloading... 136.09MB / 450.33MB (30.2%)\rDownloading... 136.17MB / 450.33MB (30.2%)\rDownloading... 136.25MB / 450.33MB (30.3%)\rDownloading... 136.33MB / 450.33MB (30.3%)\rDownloading... 136.41MB / 450.33MB (30.3%)\rDownloading... 136.48MB / 450.33MB (30.3%)\rDownloading... 136.56MB / 450.33MB (30.3%)\rDownloading... 136.64MB / 450.33MB (30.3%)\rDownloading... 136.72MB / 450.33MB (30.4%)\rDownloading... 136.80MB / 450.33MB (30.4%)\rDownloading... 136.88MB / 450.33MB (30.4%)\rDownloading... 136.95MB / 450.33MB (30.4%)\rDownloading... 137.03MB / 450.33MB (30.4%)\rDownloading... 137.11MB / 450.33MB (30.4%)\rDownloading... 137.19MB / 450.33MB (30.5%)\rDownloading... 137.27MB / 450.33MB (30.5%)\rDownloading... 137.34MB / 450.33MB (30.5%)\rDownloading... 137.42MB / 450.33MB (30.5%)\rDownloading... 137.50MB / 450.33MB (30.5%)\rDownloading... 137.58MB / 450.33MB (30.6%)\rDownloading... 137.66MB / 450.33MB (30.6%)\rDownloading... 137.73MB / 450.33MB (30.6%)\rDownloading... 137.81MB / 450.33MB (30.6%)\rDownloading... 137.89MB / 450.33MB (30.6%)\rDownloading... 137.97MB / 450.33MB (30.6%)\rDownloading... 138.05MB / 450.33MB (30.7%)\rDownloading... 138.12MB / 450.33MB (30.7%)\rDownloading... 138.20MB / 450.33MB (30.7%)\rDownloading... 138.28MB / 450.33MB (30.7%)\rDownloading... 138.36MB / 450.33MB (30.7%)\rDownloading... 138.44MB / 450.33MB (30.7%)\r"
                ]
              },
              {
                "output_type": "stream",
                "name": "stdout",
                "text": [
                  "Downloading... 138.52MB / 450.33MB (30.8%)\rDownloading... 138.59MB / 450.33MB (30.8%)\rDownloading... 138.67MB / 450.33MB (30.8%)\rDownloading... 138.75MB / 450.33MB (30.8%)\rDownloading... 138.83MB / 450.33MB (30.8%)\rDownloading... 138.91MB / 450.33MB (30.8%)\rDownloading... 138.98MB / 450.33MB (30.9%)\rDownloading... 139.06MB / 450.33MB (30.9%)\rDownloading... 139.14MB / 450.33MB (30.9%)\rDownloading... 139.22MB / 450.33MB (30.9%)\rDownloading... 139.30MB / 450.33MB (30.9%)\rDownloading... 139.38MB / 450.33MB (30.9%)\rDownloading... 139.45MB / 450.33MB (31.0%)\rDownloading... 139.53MB / 450.33MB (31.0%)\rDownloading... 139.61MB / 450.33MB (31.0%)\rDownloading... 139.69MB / 450.33MB (31.0%)\rDownloading... 139.77MB / 450.33MB (31.0%)\rDownloading... 139.84MB / 450.33MB (31.1%)\rDownloading... 139.92MB / 450.33MB (31.1%)\rDownloading... 140.00MB / 450.33MB (31.1%)\rDownloading... 140.08MB / 450.33MB (31.1%)\rDownloading... 140.16MB / 450.33MB (31.1%)\rDownloading... 140.23MB / 450.33MB (31.1%)\rDownloading... 140.31MB / 450.33MB (31.2%)\rDownloading... 140.39MB / 450.33MB (31.2%)\rDownloading... 140.47MB / 450.33MB (31.2%)\rDownloading... 140.55MB / 450.33MB (31.2%)\rDownloading... 140.62MB / 450.33MB (31.2%)\rDownloading... 140.70MB / 450.33MB (31.2%)\rDownloading... 140.78MB / 450.33MB (31.3%)\rDownloading... 140.86MB / 450.33MB (31.3%)\rDownloading... 140.94MB / 450.33MB (31.3%)\rDownloading... 141.02MB / 450.33MB (31.3%)\rDownloading... 141.09MB / 450.33MB (31.3%)\rDownloading... 141.17MB / 450.33MB (31.3%)\rDownloading... 141.25MB / 450.33MB (31.4%)\r"
                ]
              },
              {
                "output_type": "stream",
                "name": "stdout",
                "text": [
                  "Downloading... 141.33MB / 450.33MB (31.4%)\rDownloading... 141.41MB / 450.33MB (31.4%)\rDownloading... 141.48MB / 450.33MB (31.4%)\rDownloading... 141.56MB / 450.33MB (31.4%)\rDownloading... 141.64MB / 450.33MB (31.5%)\rDownloading... 141.72MB / 450.33MB (31.5%)\rDownloading... 141.80MB / 450.33MB (31.5%)\rDownloading... 141.88MB / 450.33MB (31.5%)\rDownloading... 141.95MB / 450.33MB (31.5%)\rDownloading... 142.03MB / 450.33MB (31.5%)\rDownloading... 142.11MB / 450.33MB (31.6%)\rDownloading... 142.19MB / 450.33MB (31.6%)\rDownloading... 142.27MB / 450.33MB (31.6%)\rDownloading... 142.34MB / 450.33MB (31.6%)\rDownloading... 142.42MB / 450.33MB (31.6%)\rDownloading... 142.50MB / 450.33MB (31.6%)\rDownloading... 142.58MB / 450.33MB (31.7%)\rDownloading... 142.66MB / 450.33MB (31.7%)\rDownloading... 142.73MB / 450.33MB (31.7%)\rDownloading... 142.81MB / 450.33MB (31.7%)\rDownloading... 142.89MB / 450.33MB (31.7%)\rDownloading... 142.97MB / 450.33MB (31.7%)\rDownloading... 143.05MB / 450.33MB (31.8%)\rDownloading... 143.12MB / 450.33MB (31.8%)\rDownloading... 143.20MB / 450.33MB (31.8%)\rDownloading... 143.28MB / 450.33MB (31.8%)\rDownloading... 143.36MB / 450.33MB (31.8%)\rDownloading... 143.44MB / 450.33MB (31.9%)\rDownloading... 143.52MB / 450.33MB (31.9%)\rDownloading... 143.59MB / 450.33MB (31.9%)\rDownloading... 143.67MB / 450.33MB (31.9%)\rDownloading... 143.75MB / 450.33MB (31.9%)\rDownloading... 143.83MB / 450.33MB (31.9%)\rDownloading... 143.91MB / 450.33MB (32.0%)\rDownloading... 143.98MB / 450.33MB (32.0%)\rDownloading... 144.06MB / 450.33MB (32.0%)\rDownloading... 144.14MB / 450.33MB (32.0%)\r"
                ]
              },
              {
                "output_type": "stream",
                "name": "stdout",
                "text": [
                  "Downloading... 144.22MB / 450.33MB (32.0%)\rDownloading... 144.30MB / 450.33MB (32.0%)\rDownloading... 144.38MB / 450.33MB (32.1%)\rDownloading... 144.45MB / 450.33MB (32.1%)\rDownloading... 144.53MB / 450.33MB (32.1%)\rDownloading... 144.61MB / 450.33MB (32.1%)\rDownloading... 144.69MB / 450.33MB (32.1%)\rDownloading... 144.77MB / 450.33MB (32.1%)\rDownloading... 144.84MB / 450.33MB (32.2%)\rDownloading... 144.92MB / 450.33MB (32.2%)\rDownloading... 145.00MB / 450.33MB (32.2%)\rDownloading... 145.08MB / 450.33MB (32.2%)\rDownloading... 145.16MB / 450.33MB (32.2%)\rDownloading... 145.23MB / 450.33MB (32.3%)\rDownloading... 145.31MB / 450.33MB (32.3%)\rDownloading... 145.39MB / 450.33MB (32.3%)\rDownloading... 145.47MB / 450.33MB (32.3%)\rDownloading... 145.55MB / 450.33MB (32.3%)\rDownloading... 145.62MB / 450.33MB (32.3%)\rDownloading... 145.70MB / 450.33MB (32.4%)\rDownloading... 145.78MB / 450.33MB (32.4%)\rDownloading... 145.86MB / 450.33MB (32.4%)\rDownloading... 145.94MB / 450.33MB (32.4%)\rDownloading... 146.02MB / 450.33MB (32.4%)\rDownloading... 146.09MB / 450.33MB (32.4%)\rDownloading... 146.17MB / 450.33MB (32.5%)\rDownloading... 146.25MB / 450.33MB (32.5%)\rDownloading... 146.33MB / 450.33MB (32.5%)\rDownloading... 146.41MB / 450.33MB (32.5%)\rDownloading... 146.48MB / 450.33MB (32.5%)\rDownloading... 146.56MB / 450.33MB (32.5%)\rDownloading... 146.64MB / 450.33MB (32.6%)\rDownloading... 146.72MB / 450.33MB (32.6%)\rDownloading... 146.80MB / 450.33MB (32.6%)\rDownloading... 146.88MB / 450.33MB (32.6%)\rDownloading... 146.95MB / 450.33MB (32.6%)\r"
                ]
              },
              {
                "output_type": "stream",
                "name": "stdout",
                "text": [
                  "Downloading... 147.03MB / 450.33MB (32.6%)\rDownloading... 147.11MB / 450.33MB (32.7%)\rDownloading... 147.19MB / 450.33MB (32.7%)\rDownloading... 147.27MB / 450.33MB (32.7%)\rDownloading... 147.34MB / 450.33MB (32.7%)\rDownloading... 147.42MB / 450.33MB (32.7%)\rDownloading... 147.50MB / 450.33MB (32.8%)\rDownloading... 147.58MB / 450.33MB (32.8%)\rDownloading... 147.66MB / 450.33MB (32.8%)\rDownloading... 147.73MB / 450.33MB (32.8%)\rDownloading... 147.81MB / 450.33MB (32.8%)\rDownloading... 147.89MB / 450.33MB (32.8%)\rDownloading... 147.97MB / 450.33MB (32.9%)\rDownloading... 148.05MB / 450.33MB (32.9%)\rDownloading... 148.12MB / 450.33MB (32.9%)\rDownloading... 148.20MB / 450.33MB (32.9%)\rDownloading... 148.28MB / 450.33MB (32.9%)\rDownloading... 148.36MB / 450.33MB (32.9%)\rDownloading... 148.44MB / 450.33MB (33.0%)\rDownloading... 148.52MB / 450.33MB (33.0%)\rDownloading... 148.59MB / 450.33MB (33.0%)\rDownloading... 148.67MB / 450.33MB (33.0%)\rDownloading... 148.75MB / 450.33MB (33.0%)\rDownloading... 148.83MB / 450.33MB (33.0%)\rDownloading... 148.91MB / 450.33MB (33.1%)\rDownloading... 148.98MB / 450.33MB (33.1%)\rDownloading... 149.06MB / 450.33MB (33.1%)\rDownloading... 149.14MB / 450.33MB (33.1%)\rDownloading... 149.22MB / 450.33MB (33.1%)\rDownloading... 149.30MB / 450.33MB (33.2%)\rDownloading... 149.38MB / 450.33MB (33.2%)\rDownloading... 149.45MB / 450.33MB (33.2%)\rDownloading... 149.53MB / 450.33MB (33.2%)\rDownloading... 149.61MB / 450.33MB (33.2%)\rDownloading... 149.69MB / 450.33MB (33.2%)\rDownloading... 149.77MB / 450.33MB (33.3%)\rDownloading... 149.84MB / 450.33MB (33.3%)\r"
                ]
              },
              {
                "output_type": "stream",
                "name": "stdout",
                "text": [
                  "Downloading... 149.92MB / 450.33MB (33.3%)\rDownloading... 150.00MB / 450.33MB (33.3%)\rDownloading... 150.08MB / 450.33MB (33.3%)\rDownloading... 150.16MB / 450.33MB (33.3%)\rDownloading... 150.23MB / 450.33MB (33.4%)\rDownloading... 150.31MB / 450.33MB (33.4%)\rDownloading... 150.39MB / 450.33MB (33.4%)\rDownloading... 150.47MB / 450.33MB (33.4%)\rDownloading... 150.55MB / 450.33MB (33.4%)\rDownloading... 150.62MB / 450.33MB (33.4%)\rDownloading... 150.70MB / 450.33MB (33.5%)\rDownloading... 150.78MB / 450.33MB (33.5%)\rDownloading... 150.86MB / 450.33MB (33.5%)\rDownloading... 150.94MB / 450.33MB (33.5%)\rDownloading... 151.02MB / 450.33MB (33.5%)\rDownloading... 151.09MB / 450.33MB (33.6%)\rDownloading... 151.17MB / 450.33MB (33.6%)\rDownloading... 151.25MB / 450.33MB (33.6%)\rDownloading... 151.33MB / 450.33MB (33.6%)\rDownloading... 151.41MB / 450.33MB (33.6%)\rDownloading... 151.48MB / 450.33MB (33.6%)\rDownloading... 151.56MB / 450.33MB (33.7%)\rDownloading... 151.64MB / 450.33MB (33.7%)\rDownloading... 151.72MB / 450.33MB (33.7%)\rDownloading... 151.80MB / 450.33MB (33.7%)\rDownloading... 151.88MB / 450.33MB (33.7%)\rDownloading... 151.95MB / 450.33MB (33.7%)\rDownloading... 152.03MB / 450.33MB (33.8%)\rDownloading... 152.11MB / 450.33MB (33.8%)\rDownloading... 152.19MB / 450.33MB (33.8%)\rDownloading... 152.27MB / 450.33MB (33.8%)\rDownloading... 152.34MB / 450.33MB (33.8%)\rDownloading... 152.42MB / 450.33MB (33.8%)\rDownloading... 152.50MB / 450.33MB (33.9%)\rDownloading... 152.58MB / 450.33MB (33.9%)\rDownloading... 152.66MB / 450.33MB (33.9%)\r"
                ]
              },
              {
                "output_type": "stream",
                "name": "stdout",
                "text": [
                  "Downloading... 152.73MB / 450.33MB (33.9%)\rDownloading... 152.81MB / 450.33MB (33.9%)\rDownloading... 152.89MB / 450.33MB (34.0%)\rDownloading... 152.97MB / 450.33MB (34.0%)\rDownloading... 153.05MB / 450.33MB (34.0%)\rDownloading... 153.12MB / 450.33MB (34.0%)\rDownloading... 153.20MB / 450.33MB (34.0%)\rDownloading... 153.28MB / 450.33MB (34.0%)\rDownloading... 153.36MB / 450.33MB (34.1%)\rDownloading... 153.44MB / 450.33MB (34.1%)\rDownloading... 153.52MB / 450.33MB (34.1%)\rDownloading... 153.59MB / 450.33MB (34.1%)\rDownloading... 153.67MB / 450.33MB (34.1%)\rDownloading... 153.75MB / 450.33MB (34.1%)\rDownloading... 153.83MB / 450.33MB (34.2%)\rDownloading... 153.91MB / 450.33MB (34.2%)\rDownloading... 153.98MB / 450.33MB (34.2%)\rDownloading... 154.06MB / 450.33MB (34.2%)\rDownloading... 154.14MB / 450.33MB (34.2%)\rDownloading... 154.22MB / 450.33MB (34.2%)\rDownloading... 154.30MB / 450.33MB (34.3%)\rDownloading... 154.38MB / 450.33MB (34.3%)\rDownloading... 154.45MB / 450.33MB (34.3%)\rDownloading... 154.53MB / 450.33MB (34.3%)\rDownloading... 154.61MB / 450.33MB (34.3%)\rDownloading... 154.69MB / 450.33MB (34.3%)\rDownloading... 154.77MB / 450.33MB (34.4%)\rDownloading... 154.84MB / 450.33MB (34.4%)\rDownloading... 154.92MB / 450.33MB (34.4%)\rDownloading... 155.00MB / 450.33MB (34.4%)\rDownloading... 155.08MB / 450.33MB (34.4%)\rDownloading... 155.16MB / 450.33MB (34.5%)\rDownloading... 155.23MB / 450.33MB (34.5%)\rDownloading... 155.31MB / 450.33MB (34.5%)\rDownloading... 155.39MB / 450.33MB (34.5%)\rDownloading... 155.47MB / 450.33MB (34.5%)\rDownloading... 155.55MB / 450.33MB (34.5%)\r"
                ]
              },
              {
                "output_type": "stream",
                "name": "stdout",
                "text": [
                  "Downloading... 155.62MB / 450.33MB (34.6%)\rDownloading... 155.70MB / 450.33MB (34.6%)\rDownloading... 155.78MB / 450.33MB (34.6%)\rDownloading... 155.86MB / 450.33MB (34.6%)\rDownloading... 155.94MB / 450.33MB (34.6%)\rDownloading... 156.02MB / 450.33MB (34.6%)\rDownloading... 156.09MB / 450.33MB (34.7%)\rDownloading... 156.17MB / 450.33MB (34.7%)\rDownloading... 156.25MB / 450.33MB (34.7%)\rDownloading... 156.33MB / 450.33MB (34.7%)\rDownloading... 156.41MB / 450.33MB (34.7%)\rDownloading... 156.48MB / 450.33MB (34.7%)\rDownloading... 156.56MB / 450.33MB (34.8%)\rDownloading... 156.64MB / 450.33MB (34.8%)\rDownloading... 156.72MB / 450.33MB (34.8%)\rDownloading... 156.80MB / 450.33MB (34.8%)\rDownloading... 156.88MB / 450.33MB (34.8%)\rDownloading... 156.95MB / 450.33MB (34.9%)\rDownloading... 157.03MB / 450.33MB (34.9%)\rDownloading... 157.11MB / 450.33MB (34.9%)\rDownloading... 157.19MB / 450.33MB (34.9%)\rDownloading... 157.27MB / 450.33MB (34.9%)\rDownloading... 157.34MB / 450.33MB (34.9%)\rDownloading... 157.42MB / 450.33MB (35.0%)\rDownloading... 157.50MB / 450.33MB (35.0%)\rDownloading... 157.58MB / 450.33MB (35.0%)\rDownloading... 157.66MB / 450.33MB (35.0%)\rDownloading... 157.73MB / 450.33MB (35.0%)\rDownloading... 157.81MB / 450.33MB (35.0%)\rDownloading... 157.89MB / 450.33MB (35.1%)\rDownloading... 157.97MB / 450.33MB (35.1%)\rDownloading... 158.05MB / 450.33MB (35.1%)\rDownloading... 158.12MB / 450.33MB (35.1%)\rDownloading... 158.20MB / 450.33MB (35.1%)\rDownloading... 158.28MB / 450.33MB (35.1%)\rDownloading... 158.36MB / 450.33MB (35.2%)\rDownloading... 158.44MB / 450.33MB (35.2%)\r"
                ]
              },
              {
                "output_type": "stream",
                "name": "stdout",
                "text": [
                  "Downloading... 158.52MB / 450.33MB (35.2%)\rDownloading... 158.59MB / 450.33MB (35.2%)\rDownloading... 158.67MB / 450.33MB (35.2%)\rDownloading... 158.75MB / 450.33MB (35.3%)\rDownloading... 158.83MB / 450.33MB (35.3%)\rDownloading... 158.91MB / 450.33MB (35.3%)\rDownloading... 158.98MB / 450.33MB (35.3%)\rDownloading... 159.06MB / 450.33MB (35.3%)\rDownloading... 159.14MB / 450.33MB (35.3%)\rDownloading... 159.22MB / 450.33MB (35.4%)\rDownloading... 159.30MB / 450.33MB (35.4%)\rDownloading... 159.38MB / 450.33MB (35.4%)\rDownloading... 159.45MB / 450.33MB (35.4%)\rDownloading... 159.53MB / 450.33MB (35.4%)\rDownloading... 159.61MB / 450.33MB (35.4%)\rDownloading... 159.69MB / 450.33MB (35.5%)\rDownloading... 159.77MB / 450.33MB (35.5%)\rDownloading... 159.84MB / 450.33MB (35.5%)\rDownloading... 159.92MB / 450.33MB (35.5%)\rDownloading... 160.00MB / 450.33MB (35.5%)\rDownloading... 160.08MB / 450.33MB (35.5%)\rDownloading... 160.16MB / 450.33MB (35.6%)\rDownloading... 160.23MB / 450.33MB (35.6%)\rDownloading... 160.31MB / 450.33MB (35.6%)\rDownloading... 160.39MB / 450.33MB (35.6%)\rDownloading... 160.47MB / 450.33MB (35.6%)\rDownloading... 160.55MB / 450.33MB (35.7%)\rDownloading... 160.62MB / 450.33MB (35.7%)\rDownloading... 160.70MB / 450.33MB (35.7%)\rDownloading... 160.78MB / 450.33MB (35.7%)\rDownloading... 160.86MB / 450.33MB (35.7%)\rDownloading... 160.94MB / 450.33MB (35.7%)\rDownloading... 161.02MB / 450.33MB (35.8%)\rDownloading... 161.09MB / 450.33MB (35.8%)\rDownloading... 161.17MB / 450.33MB (35.8%)\rDownloading... 161.25MB / 450.33MB (35.8%)\rDownloading... 161.33MB / 450.33MB (35.8%)\r"
                ]
              },
              {
                "output_type": "stream",
                "name": "stdout",
                "text": [
                  "Downloading... 161.41MB / 450.33MB (35.8%)\rDownloading... 161.48MB / 450.33MB (35.9%)\rDownloading... 161.56MB / 450.33MB (35.9%)\rDownloading... 161.64MB / 450.33MB (35.9%)\rDownloading... 161.72MB / 450.33MB (35.9%)\rDownloading... 161.80MB / 450.33MB (35.9%)\rDownloading... 161.88MB / 450.33MB (35.9%)\rDownloading... 161.95MB / 450.33MB (36.0%)\rDownloading... 162.03MB / 450.33MB (36.0%)\rDownloading... 162.11MB / 450.33MB (36.0%)\rDownloading... 162.19MB / 450.33MB (36.0%)\rDownloading... 162.27MB / 450.33MB (36.0%)\rDownloading... 162.34MB / 450.33MB (36.0%)\rDownloading... 162.42MB / 450.33MB (36.1%)\rDownloading... 162.50MB / 450.33MB (36.1%)\rDownloading... 162.58MB / 450.33MB (36.1%)\rDownloading... 162.66MB / 450.33MB (36.1%)\rDownloading... 162.73MB / 450.33MB (36.1%)\rDownloading... 162.81MB / 450.33MB (36.2%)\rDownloading... 162.89MB / 450.33MB (36.2%)\rDownloading... 162.97MB / 450.33MB (36.2%)\rDownloading... 163.05MB / 450.33MB (36.2%)\rDownloading... 163.12MB / 450.33MB (36.2%)\rDownloading... 163.20MB / 450.33MB (36.2%)\rDownloading... 163.28MB / 450.33MB (36.3%)\rDownloading... 163.36MB / 450.33MB (36.3%)\rDownloading... 163.44MB / 450.33MB (36.3%)\rDownloading... 163.52MB / 450.33MB (36.3%)\rDownloading... 163.59MB / 450.33MB (36.3%)\rDownloading... 163.67MB / 450.33MB (36.3%)\rDownloading... 163.75MB / 450.33MB (36.4%)\rDownloading... 163.83MB / 450.33MB (36.4%)\rDownloading... 163.91MB / 450.33MB (36.4%)\r"
                ]
              },
              {
                "output_type": "stream",
                "name": "stdout",
                "text": [
                  "Downloading... 163.98MB / 450.33MB (36.4%)\rDownloading... 164.06MB / 450.33MB (36.4%)\rDownloading... 164.14MB / 450.33MB (36.4%)\rDownloading... 164.22MB / 450.33MB (36.5%)\rDownloading... 164.30MB / 450.33MB (36.5%)\rDownloading... 164.38MB / 450.33MB (36.5%)\rDownloading... 164.45MB / 450.33MB (36.5%)\rDownloading... 164.53MB / 450.33MB (36.5%)\rDownloading... 164.61MB / 450.33MB (36.6%)\rDownloading... 164.69MB / 450.33MB (36.6%)\rDownloading... 164.77MB / 450.33MB (36.6%)\rDownloading... 164.84MB / 450.33MB (36.6%)\rDownloading... 164.92MB / 450.33MB (36.6%)\rDownloading... 165.00MB / 450.33MB (36.6%)\rDownloading... 165.08MB / 450.33MB (36.7%)\rDownloading... 165.16MB / 450.33MB (36.7%)\rDownloading... 165.23MB / 450.33MB (36.7%)\rDownloading... 165.31MB / 450.33MB (36.7%)\rDownloading... 165.39MB / 450.33MB (36.7%)\rDownloading... 165.47MB / 450.33MB (36.7%)\rDownloading... 165.55MB / 450.33MB (36.8%)\rDownloading... 165.62MB / 450.33MB (36.8%)\rDownloading... 165.70MB / 450.33MB (36.8%)\rDownloading... 165.78MB / 450.33MB (36.8%)\rDownloading... 165.86MB / 450.33MB (36.8%)\rDownloading... 165.94MB / 450.33MB (36.8%)\rDownloading... 166.02MB / 450.33MB (36.9%)\rDownloading... 166.09MB / 450.33MB (36.9%)\rDownloading... 166.17MB / 450.33MB (36.9%)\rDownloading... 166.25MB / 450.33MB (36.9%)\rDownloading... 166.33MB / 450.33MB (36.9%)\rDownloading... 166.41MB / 450.33MB (37.0%)\rDownloading... 166.48MB / 450.33MB (37.0%)\rDownloading... 166.56MB / 450.33MB (37.0%)\rDownloading... 166.64MB / 450.33MB (37.0%)\rDownloading... 166.72MB / 450.33MB (37.0%)\rDownloading... 166.80MB / 450.33MB (37.0%)\rDownloading... 166.88MB / 450.33MB (37.1%)\r"
                ]
              },
              {
                "output_type": "stream",
                "name": "stdout",
                "text": [
                  "Downloading... 166.95MB / 450.33MB (37.1%)\rDownloading... 167.03MB / 450.33MB (37.1%)\rDownloading... 167.11MB / 450.33MB (37.1%)\rDownloading... 167.19MB / 450.33MB (37.1%)\rDownloading... 167.27MB / 450.33MB (37.1%)\rDownloading... 167.34MB / 450.33MB (37.2%)\rDownloading... 167.42MB / 450.33MB (37.2%)\rDownloading... 167.50MB / 450.33MB (37.2%)\rDownloading... 167.58MB / 450.33MB (37.2%)\rDownloading... 167.66MB / 450.33MB (37.2%)\rDownloading... 167.73MB / 450.33MB (37.2%)\rDownloading... 167.81MB / 450.33MB (37.3%)\rDownloading... 167.89MB / 450.33MB (37.3%)\rDownloading... 167.97MB / 450.33MB (37.3%)\rDownloading... 168.05MB / 450.33MB (37.3%)\rDownloading... 168.12MB / 450.33MB (37.3%)\rDownloading... 168.20MB / 450.33MB (37.4%)\rDownloading... 168.28MB / 450.33MB (37.4%)\rDownloading... 168.36MB / 450.33MB (37.4%)\rDownloading... 168.44MB / 450.33MB (37.4%)\rDownloading... 168.52MB / 450.33MB (37.4%)\rDownloading... 168.59MB / 450.33MB (37.4%)\rDownloading... 168.67MB / 450.33MB (37.5%)\rDownloading... 168.75MB / 450.33MB (37.5%)\rDownloading... 168.83MB / 450.33MB (37.5%)\rDownloading... 168.91MB / 450.33MB (37.5%)\rDownloading... 168.98MB / 450.33MB (37.5%)\rDownloading... 169.06MB / 450.33MB (37.5%)\rDownloading... 169.14MB / 450.33MB (37.6%)\rDownloading... 169.22MB / 450.33MB (37.6%)\rDownloading... 169.30MB / 450.33MB (37.6%)\rDownloading... 169.38MB / 450.33MB (37.6%)\rDownloading... 169.45MB / 450.33MB (37.6%)\rDownloading... 169.53MB / 450.33MB (37.6%)\rDownloading... 169.61MB / 450.33MB (37.7%)\r"
                ]
              },
              {
                "output_type": "stream",
                "name": "stdout",
                "text": [
                  "Downloading... 169.69MB / 450.33MB (37.7%)\rDownloading... 169.77MB / 450.33MB (37.7%)\rDownloading... 169.84MB / 450.33MB (37.7%)\rDownloading... 169.92MB / 450.33MB (37.7%)\rDownloading... 170.00MB / 450.33MB (37.8%)\rDownloading... 170.08MB / 450.33MB (37.8%)\rDownloading... 170.16MB / 450.33MB (37.8%)\rDownloading... 170.23MB / 450.33MB (37.8%)\rDownloading... 170.31MB / 450.33MB (37.8%)\rDownloading... 170.39MB / 450.33MB (37.8%)\rDownloading... 170.47MB / 450.33MB (37.9%)\rDownloading... 170.55MB / 450.33MB (37.9%)\rDownloading... 170.62MB / 450.33MB (37.9%)\rDownloading... 170.70MB / 450.33MB (37.9%)\rDownloading... 170.78MB / 450.33MB (37.9%)\rDownloading... 170.86MB / 450.33MB (37.9%)\rDownloading... 170.94MB / 450.33MB (38.0%)\rDownloading... 171.02MB / 450.33MB (38.0%)\rDownloading... 171.09MB / 450.33MB (38.0%)\rDownloading... 171.17MB / 450.33MB (38.0%)\rDownloading... 171.25MB / 450.33MB (38.0%)\rDownloading... 171.33MB / 450.33MB (38.0%)\rDownloading... 171.41MB / 450.33MB (38.1%)\rDownloading... 171.48MB / 450.33MB (38.1%)\rDownloading... 171.56MB / 450.33MB (38.1%)\rDownloading... 171.64MB / 450.33MB (38.1%)\rDownloading... 171.72MB / 450.33MB (38.1%)\rDownloading... 171.80MB / 450.33MB (38.1%)\rDownloading... 171.88MB / 450.33MB (38.2%)\rDownloading... 171.95MB / 450.33MB (38.2%)\rDownloading... 172.03MB / 450.33MB (38.2%)\rDownloading... 172.11MB / 450.33MB (38.2%)\rDownloading... 172.19MB / 450.33MB (38.2%)\rDownloading... 172.27MB / 450.33MB (38.3%)\rDownloading... 172.34MB / 450.33MB (38.3%)\rDownloading... 172.42MB / 450.33MB (38.3%)\rDownloading... 172.50MB / 450.33MB (38.3%)\r"
                ]
              },
              {
                "output_type": "stream",
                "name": "stdout",
                "text": [
                  "Downloading... 172.58MB / 450.33MB (38.3%)\rDownloading... 172.66MB / 450.33MB (38.3%)\rDownloading... 172.73MB / 450.33MB (38.4%)\rDownloading... 172.81MB / 450.33MB (38.4%)\rDownloading... 172.89MB / 450.33MB (38.4%)\rDownloading... 172.97MB / 450.33MB (38.4%)\rDownloading... 173.05MB / 450.33MB (38.4%)\rDownloading... 173.12MB / 450.33MB (38.4%)\rDownloading... 173.20MB / 450.33MB (38.5%)\rDownloading... 173.28MB / 450.33MB (38.5%)\rDownloading... 173.36MB / 450.33MB (38.5%)\rDownloading... 173.44MB / 450.33MB (38.5%)\rDownloading... 173.52MB / 450.33MB (38.5%)\rDownloading... 173.59MB / 450.33MB (38.5%)\rDownloading... 173.67MB / 450.33MB (38.6%)\rDownloading... 173.75MB / 450.33MB (38.6%)\rDownloading... 173.83MB / 450.33MB (38.6%)\rDownloading... 173.91MB / 450.33MB (38.6%)\rDownloading... 173.98MB / 450.33MB (38.6%)\rDownloading... 174.06MB / 450.33MB (38.7%)\rDownloading... 174.14MB / 450.33MB (38.7%)\rDownloading... 174.22MB / 450.33MB (38.7%)\rDownloading... 174.30MB / 450.33MB (38.7%)\rDownloading... 174.38MB / 450.33MB (38.7%)\rDownloading... 174.45MB / 450.33MB (38.7%)\rDownloading... 174.53MB / 450.33MB (38.8%)\rDownloading... 174.61MB / 450.33MB (38.8%)\rDownloading... 174.69MB / 450.33MB (38.8%)\rDownloading... 174.77MB / 450.33MB (38.8%)\rDownloading... 174.84MB / 450.33MB (38.8%)\rDownloading... 174.92MB / 450.33MB (38.8%)\rDownloading... 175.00MB / 450.33MB (38.9%)\rDownloading... 175.08MB / 450.33MB (38.9%)\rDownloading... 175.16MB / 450.33MB (38.9%)\r"
                ]
              },
              {
                "output_type": "stream",
                "name": "stdout",
                "text": [
                  "Downloading... 175.23MB / 450.33MB (38.9%)\rDownloading... 175.31MB / 450.33MB (38.9%)\rDownloading... 175.39MB / 450.33MB (38.9%)\rDownloading... 175.47MB / 450.33MB (39.0%)\rDownloading... 175.55MB / 450.33MB (39.0%)\rDownloading... 175.62MB / 450.33MB (39.0%)\rDownloading... 175.70MB / 450.33MB (39.0%)\rDownloading... 175.78MB / 450.33MB (39.0%)\rDownloading... 175.86MB / 450.33MB (39.1%)\rDownloading... 175.94MB / 450.33MB (39.1%)\rDownloading... 176.02MB / 450.33MB (39.1%)\rDownloading... 176.09MB / 450.33MB (39.1%)\rDownloading... 176.17MB / 450.33MB (39.1%)\rDownloading... 176.25MB / 450.33MB (39.1%)\rDownloading... 176.33MB / 450.33MB (39.2%)\rDownloading... 176.41MB / 450.33MB (39.2%)\rDownloading... 176.48MB / 450.33MB (39.2%)\rDownloading... 176.56MB / 450.33MB (39.2%)\rDownloading... 176.64MB / 450.33MB (39.2%)\rDownloading... 176.72MB / 450.33MB (39.2%)\rDownloading... 176.80MB / 450.33MB (39.3%)\rDownloading... 176.88MB / 450.33MB (39.3%)\rDownloading... 176.95MB / 450.33MB (39.3%)\rDownloading... 177.03MB / 450.33MB (39.3%)\rDownloading... 177.11MB / 450.33MB (39.3%)\rDownloading... 177.19MB / 450.33MB (39.3%)\rDownloading... 177.27MB / 450.33MB (39.4%)\rDownloading... 177.34MB / 450.33MB (39.4%)\rDownloading... 177.42MB / 450.33MB (39.4%)\rDownloading... 177.50MB / 450.33MB (39.4%)\rDownloading... 177.58MB / 450.33MB (39.4%)\rDownloading... 177.66MB / 450.33MB (39.5%)\rDownloading... 177.73MB / 450.33MB (39.5%)\rDownloading... 177.81MB / 450.33MB (39.5%)\rDownloading... 177.89MB / 450.33MB (39.5%)\rDownloading... 177.97MB / 450.33MB (39.5%)\r"
                ]
              },
              {
                "output_type": "stream",
                "name": "stdout",
                "text": [
                  "Downloading... 178.05MB / 450.33MB (39.5%)\rDownloading... 178.12MB / 450.33MB (39.6%)\rDownloading... 178.20MB / 450.33MB (39.6%)\rDownloading... 178.28MB / 450.33MB (39.6%)\rDownloading... 178.36MB / 450.33MB (39.6%)\rDownloading... 178.44MB / 450.33MB (39.6%)\rDownloading... 178.52MB / 450.33MB (39.6%)\rDownloading... 178.59MB / 450.33MB (39.7%)\rDownloading... 178.67MB / 450.33MB (39.7%)\rDownloading... 178.75MB / 450.33MB (39.7%)\rDownloading... 178.83MB / 450.33MB (39.7%)\rDownloading... 178.91MB / 450.33MB (39.7%)\rDownloading... 178.98MB / 450.33MB (39.7%)\rDownloading... 179.06MB / 450.33MB (39.8%)\rDownloading... 179.14MB / 450.33MB (39.8%)\rDownloading... 179.22MB / 450.33MB (39.8%)\rDownloading... 179.30MB / 450.33MB (39.8%)\rDownloading... 179.38MB / 450.33MB (39.8%)\rDownloading... 179.45MB / 450.33MB (39.8%)\rDownloading... 179.53MB / 450.33MB (39.9%)\rDownloading... 179.61MB / 450.33MB (39.9%)\rDownloading... 179.69MB / 450.33MB (39.9%)\rDownloading... 179.77MB / 450.33MB (39.9%)\rDownloading... 179.84MB / 450.33MB (39.9%)\rDownloading... 179.92MB / 450.33MB (40.0%)\rDownloading... 180.00MB / 450.33MB (40.0%)\rDownloading... 180.08MB / 450.33MB (40.0%)\rDownloading... 180.16MB / 450.33MB (40.0%)\rDownloading... 180.23MB / 450.33MB (40.0%)\rDownloading... 180.31MB / 450.33MB (40.0%)\rDownloading... 180.39MB / 450.33MB (40.1%)\rDownloading... 180.47MB / 450.33MB (40.1%)\rDownloading... 180.55MB / 450.33MB (40.1%)\rDownloading... 180.62MB / 450.33MB (40.1%)\rDownloading... 180.70MB / 450.33MB (40.1%)\rDownloading... 180.78MB / 450.33MB (40.1%)\rDownloading... 180.86MB / 450.33MB (40.2%)\r"
                ]
              },
              {
                "output_type": "stream",
                "name": "stdout",
                "text": [
                  "Downloading... 180.94MB / 450.33MB (40.2%)\rDownloading... 181.02MB / 450.33MB (40.2%)\rDownloading... 181.09MB / 450.33MB (40.2%)\rDownloading... 181.17MB / 450.33MB (40.2%)\rDownloading... 181.25MB / 450.33MB (40.2%)\rDownloading... 181.33MB / 450.33MB (40.3%)\rDownloading... 181.41MB / 450.33MB (40.3%)\rDownloading... 181.48MB / 450.33MB (40.3%)\rDownloading... 181.56MB / 450.33MB (40.3%)\rDownloading... 181.64MB / 450.33MB (40.3%)\rDownloading... 181.72MB / 450.33MB (40.4%)\rDownloading... 181.80MB / 450.33MB (40.4%)\rDownloading... 181.88MB / 450.33MB (40.4%)\rDownloading... 181.95MB / 450.33MB (40.4%)\rDownloading... 182.03MB / 450.33MB (40.4%)\rDownloading... 182.11MB / 450.33MB (40.4%)\rDownloading... 182.19MB / 450.33MB (40.5%)\rDownloading... 182.27MB / 450.33MB (40.5%)\rDownloading... 182.34MB / 450.33MB (40.5%)\rDownloading... 182.42MB / 450.33MB (40.5%)\rDownloading... 182.50MB / 450.33MB (40.5%)\rDownloading... 182.58MB / 450.33MB (40.5%)\rDownloading... 182.66MB / 450.33MB (40.6%)\rDownloading... 182.73MB / 450.33MB (40.6%)\rDownloading... 182.81MB / 450.33MB (40.6%)\rDownloading... 182.89MB / 450.33MB (40.6%)\rDownloading... 182.97MB / 450.33MB (40.6%)\rDownloading... 183.05MB / 450.33MB (40.6%)\rDownloading... 183.12MB / 450.33MB (40.7%)\rDownloading... 183.20MB / 450.33MB (40.7%)\rDownloading... 183.28MB / 450.33MB (40.7%)\rDownloading... 183.36MB / 450.33MB (40.7%)\rDownloading... 183.44MB / 450.33MB (40.7%)\rDownloading... 183.52MB / 450.33MB (40.8%)\rDownloading... 183.59MB / 450.33MB (40.8%)\rDownloading... 183.67MB / 450.33MB (40.8%)\rDownloading... 183.75MB / 450.33MB (40.8%)\rDownloading... 183.83MB / 450.33MB (40.8%)\r"
                ]
              },
              {
                "output_type": "stream",
                "name": "stdout",
                "text": [
                  "Downloading... 183.91MB / 450.33MB (40.8%)\rDownloading... 183.98MB / 450.33MB (40.9%)\rDownloading... 184.06MB / 450.33MB (40.9%)\rDownloading... 184.14MB / 450.33MB (40.9%)\rDownloading... 184.22MB / 450.33MB (40.9%)\rDownloading... 184.30MB / 450.33MB (40.9%)\rDownloading... 184.38MB / 450.33MB (40.9%)\rDownloading... 184.45MB / 450.33MB (41.0%)\rDownloading... 184.53MB / 450.33MB (41.0%)\rDownloading... 184.61MB / 450.33MB (41.0%)\rDownloading... 184.69MB / 450.33MB (41.0%)\rDownloading... 184.77MB / 450.33MB (41.0%)\rDownloading... 184.84MB / 450.33MB (41.0%)\rDownloading... 184.92MB / 450.33MB (41.1%)\rDownloading... 185.00MB / 450.33MB (41.1%)\rDownloading... 185.08MB / 450.33MB (41.1%)\rDownloading... 185.16MB / 450.33MB (41.1%)\rDownloading... 185.23MB / 450.33MB (41.1%)\rDownloading... 185.31MB / 450.33MB (41.2%)\rDownloading... 185.39MB / 450.33MB (41.2%)\rDownloading... 185.47MB / 450.33MB (41.2%)\rDownloading... 185.55MB / 450.33MB (41.2%)\rDownloading... 185.62MB / 450.33MB (41.2%)\rDownloading... 185.70MB / 450.33MB (41.2%)\rDownloading... 185.78MB / 450.33MB (41.3%)\rDownloading... 185.86MB / 450.33MB (41.3%)\rDownloading... 185.94MB / 450.33MB (41.3%)\rDownloading... 186.02MB / 450.33MB (41.3%)\rDownloading... 186.09MB / 450.33MB (41.3%)\rDownloading... 186.17MB / 450.33MB (41.3%)\rDownloading... 186.25MB / 450.33MB (41.4%)\rDownloading... 186.33MB / 450.33MB (41.4%)\rDownloading... 186.41MB / 450.33MB (41.4%)\rDownloading... 186.48MB / 450.33MB (41.4%)\rDownloading... 186.56MB / 450.33MB (41.4%)\rDownloading... 186.64MB / 450.33MB (41.4%)\rDownloading... 186.72MB / 450.33MB (41.5%)\rDownloading... 186.80MB / 450.33MB (41.5%)\r"
                ]
              },
              {
                "output_type": "stream",
                "name": "stdout",
                "text": [
                  "Downloading... 186.88MB / 450.33MB (41.5%)\rDownloading... 186.95MB / 450.33MB (41.5%)\rDownloading... 187.03MB / 450.33MB (41.5%)\rDownloading... 187.11MB / 450.33MB (41.5%)\rDownloading... 187.19MB / 450.33MB (41.6%)\rDownloading... 187.27MB / 450.33MB (41.6%)\rDownloading... 187.34MB / 450.33MB (41.6%)\rDownloading... 187.42MB / 450.33MB (41.6%)\rDownloading... 187.50MB / 450.33MB (41.6%)\rDownloading... 187.58MB / 450.33MB (41.7%)\rDownloading... 187.66MB / 450.33MB (41.7%)\rDownloading... 187.73MB / 450.33MB (41.7%)\rDownloading... 187.81MB / 450.33MB (41.7%)\rDownloading... 187.89MB / 450.33MB (41.7%)\rDownloading... 187.97MB / 450.33MB (41.7%)\rDownloading... 188.05MB / 450.33MB (41.8%)\rDownloading... 188.12MB / 450.33MB (41.8%)\rDownloading... 188.20MB / 450.33MB (41.8%)\rDownloading... 188.28MB / 450.33MB (41.8%)\rDownloading... 188.36MB / 450.33MB (41.8%)\rDownloading... 188.44MB / 450.33MB (41.8%)\rDownloading... 188.52MB / 450.33MB (41.9%)\rDownloading... 188.59MB / 450.33MB (41.9%)\rDownloading... 188.67MB / 450.33MB (41.9%)\rDownloading... 188.75MB / 450.33MB (41.9%)\rDownloading... 188.83MB / 450.33MB (41.9%)\rDownloading... 188.91MB / 450.33MB (41.9%)\rDownloading... 188.98MB / 450.33MB (42.0%)\rDownloading... 189.06MB / 450.33MB (42.0%)\rDownloading... 189.14MB / 450.33MB (42.0%)\rDownloading... 189.22MB / 450.33MB (42.0%)\rDownloading... 189.30MB / 450.33MB (42.0%)\rDownloading... 189.38MB / 450.33MB (42.1%)\rDownloading... 189.45MB / 450.33MB (42.1%)\rDownloading... 189.53MB / 450.33MB (42.1%)\rDownloading... 189.61MB / 450.33MB (42.1%)\rDownloading... 189.69MB / 450.33MB (42.1%)\rDownloading... 189.77MB / 450.33MB (42.1%)\r"
                ]
              },
              {
                "output_type": "stream",
                "name": "stdout",
                "text": [
                  "Downloading... 189.84MB / 450.33MB (42.2%)\rDownloading... 189.92MB / 450.33MB (42.2%)\rDownloading... 190.00MB / 450.33MB (42.2%)\rDownloading... 190.08MB / 450.33MB (42.2%)\rDownloading... 190.16MB / 450.33MB (42.2%)\rDownloading... 190.23MB / 450.33MB (42.2%)\rDownloading... 190.31MB / 450.33MB (42.3%)\rDownloading... 190.39MB / 450.33MB (42.3%)\rDownloading... 190.47MB / 450.33MB (42.3%)\rDownloading... 190.55MB / 450.33MB (42.3%)\rDownloading... 190.62MB / 450.33MB (42.3%)\rDownloading... 190.70MB / 450.33MB (42.3%)\rDownloading... 190.78MB / 450.33MB (42.4%)\rDownloading... 190.86MB / 450.33MB (42.4%)\rDownloading... 190.94MB / 450.33MB (42.4%)\rDownloading... 191.02MB / 450.33MB (42.4%)\rDownloading... 191.09MB / 450.33MB (42.4%)\rDownloading... 191.17MB / 450.33MB (42.5%)\rDownloading... 191.25MB / 450.33MB (42.5%)\rDownloading... 191.33MB / 450.33MB (42.5%)\rDownloading... 191.41MB / 450.33MB (42.5%)\rDownloading... 191.48MB / 450.33MB (42.5%)\rDownloading... 191.56MB / 450.33MB (42.5%)\rDownloading... 191.64MB / 450.33MB (42.6%)\rDownloading... 191.72MB / 450.33MB (42.6%)\rDownloading... 191.80MB / 450.33MB (42.6%)\rDownloading... 191.88MB / 450.33MB (42.6%)\rDownloading... 191.95MB / 450.33MB (42.6%)\rDownloading... 192.03MB / 450.33MB (42.6%)\rDownloading... 192.11MB / 450.33MB (42.7%)\rDownloading... 192.19MB / 450.33MB (42.7%)\rDownloading... 192.27MB / 450.33MB (42.7%)\rDownloading... 192.34MB / 450.33MB (42.7%)\rDownloading... 192.42MB / 450.33MB (42.7%)\rDownloading... 192.50MB / 450.33MB (42.7%)\rDownloading... 192.58MB / 450.33MB (42.8%)\rDownloading... 192.66MB / 450.33MB (42.8%)\rDownloading... 192.73MB / 450.33MB (42.8%)\r"
                ]
              },
              {
                "output_type": "stream",
                "name": "stdout",
                "text": [
                  "Downloading... 192.81MB / 450.33MB (42.8%)\rDownloading... 192.89MB / 450.33MB (42.8%)\rDownloading... 192.97MB / 450.33MB (42.9%)\rDownloading... 193.05MB / 450.33MB (42.9%)\rDownloading... 193.12MB / 450.33MB (42.9%)\rDownloading... 193.20MB / 450.33MB (42.9%)\rDownloading... 193.28MB / 450.33MB (42.9%)\rDownloading... 193.36MB / 450.33MB (42.9%)\rDownloading... 193.44MB / 450.33MB (43.0%)\rDownloading... 193.52MB / 450.33MB (43.0%)\rDownloading... 193.59MB / 450.33MB (43.0%)\rDownloading... 193.67MB / 450.33MB (43.0%)\rDownloading... 193.75MB / 450.33MB (43.0%)\rDownloading... 193.83MB / 450.33MB (43.0%)\rDownloading... 193.91MB / 450.33MB (43.1%)\rDownloading... 193.98MB / 450.33MB (43.1%)\rDownloading... 194.06MB / 450.33MB (43.1%)\rDownloading... 194.14MB / 450.33MB (43.1%)\rDownloading... 194.22MB / 450.33MB (43.1%)\rDownloading... 194.30MB / 450.33MB (43.1%)\rDownloading... 194.38MB / 450.33MB (43.2%)\rDownloading... 194.45MB / 450.33MB (43.2%)\rDownloading... 194.53MB / 450.33MB (43.2%)\rDownloading... 194.61MB / 450.33MB (43.2%)\rDownloading... 194.69MB / 450.33MB (43.2%)\rDownloading... 194.77MB / 450.33MB (43.2%)\rDownloading... 194.84MB / 450.33MB (43.3%)\rDownloading... 194.92MB / 450.33MB (43.3%)\rDownloading... 195.00MB / 450.33MB (43.3%)\rDownloading... 195.08MB / 450.33MB (43.3%)\rDownloading... 195.16MB / 450.33MB (43.3%)\rDownloading... 195.23MB / 450.33MB (43.4%)\rDownloading... 195.31MB / 450.33MB (43.4%)\r"
                ]
              },
              {
                "output_type": "stream",
                "name": "stdout",
                "text": [
                  "Downloading... 195.39MB / 450.33MB (43.4%)\rDownloading... 195.47MB / 450.33MB (43.4%)\rDownloading... 195.55MB / 450.33MB (43.4%)\rDownloading... 195.62MB / 450.33MB (43.4%)\rDownloading... 195.70MB / 450.33MB (43.5%)\rDownloading... 195.78MB / 450.33MB (43.5%)\rDownloading... 195.86MB / 450.33MB (43.5%)\rDownloading... 195.94MB / 450.33MB (43.5%)\rDownloading... 196.02MB / 450.33MB (43.5%)\rDownloading... 196.09MB / 450.33MB (43.5%)\rDownloading... 196.17MB / 450.33MB (43.6%)\rDownloading... 196.25MB / 450.33MB (43.6%)\rDownloading... 196.33MB / 450.33MB (43.6%)\rDownloading... 196.41MB / 450.33MB (43.6%)\rDownloading... 196.48MB / 450.33MB (43.6%)\rDownloading... 196.56MB / 450.33MB (43.6%)\rDownloading... 196.64MB / 450.33MB (43.7%)\rDownloading... 196.72MB / 450.33MB (43.7%)\rDownloading... 196.80MB / 450.33MB (43.7%)\rDownloading... 196.88MB / 450.33MB (43.7%)\rDownloading... 196.95MB / 450.33MB (43.7%)\rDownloading... 197.03MB / 450.33MB (43.8%)\rDownloading... 197.11MB / 450.33MB (43.8%)\rDownloading... 197.19MB / 450.33MB (43.8%)\rDownloading... 197.27MB / 450.33MB (43.8%)\rDownloading... 197.34MB / 450.33MB (43.8%)\rDownloading... 197.42MB / 450.33MB (43.8%)\rDownloading... 197.50MB / 450.33MB (43.9%)\rDownloading... 197.58MB / 450.33MB (43.9%)\rDownloading... 197.66MB / 450.33MB (43.9%)\rDownloading... 197.73MB / 450.33MB (43.9%)\rDownloading... 197.81MB / 450.33MB (43.9%)\rDownloading... 197.89MB / 450.33MB (43.9%)\rDownloading... 197.97MB / 450.33MB (44.0%)\rDownloading... 198.05MB / 450.33MB (44.0%)\rDownloading... 198.12MB / 450.33MB (44.0%)\rDownloading... 198.20MB / 450.33MB (44.0%)\rDownloading... 198.28MB / 450.33MB (44.0%)\r"
                ]
              },
              {
                "output_type": "stream",
                "name": "stdout",
                "text": [
                  "Downloading... 198.36MB / 450.33MB (44.0%)\rDownloading... 198.44MB / 450.33MB (44.1%)\rDownloading... 198.52MB / 450.33MB (44.1%)\rDownloading... 198.59MB / 450.33MB (44.1%)\rDownloading... 198.67MB / 450.33MB (44.1%)\rDownloading... 198.75MB / 450.33MB (44.1%)\rDownloading... 198.83MB / 450.33MB (44.2%)\rDownloading... 198.91MB / 450.33MB (44.2%)\rDownloading... 198.98MB / 450.33MB (44.2%)\rDownloading... 199.06MB / 450.33MB (44.2%)\rDownloading... 199.14MB / 450.33MB (44.2%)\rDownloading... 199.22MB / 450.33MB (44.2%)\rDownloading... 199.30MB / 450.33MB (44.3%)\rDownloading... 199.38MB / 450.33MB (44.3%)\rDownloading... 199.45MB / 450.33MB (44.3%)\rDownloading... 199.53MB / 450.33MB (44.3%)\rDownloading... 199.61MB / 450.33MB (44.3%)\rDownloading... 199.69MB / 450.33MB (44.3%)\rDownloading... 199.77MB / 450.33MB (44.4%)\rDownloading... 199.84MB / 450.33MB (44.4%)\rDownloading... 199.92MB / 450.33MB (44.4%)\rDownloading... 200.00MB / 450.33MB (44.4%)\rDownloading... 200.08MB / 450.33MB (44.4%)\rDownloading... 200.16MB / 450.33MB (44.4%)\rDownloading... 200.23MB / 450.33MB (44.5%)\rDownloading... 200.31MB / 450.33MB (44.5%)\rDownloading... 200.39MB / 450.33MB (44.5%)\rDownloading... 200.47MB / 450.33MB (44.5%)\rDownloading... 200.55MB / 450.33MB (44.5%)\rDownloading... 200.62MB / 450.33MB (44.6%)\rDownloading... 200.70MB / 450.33MB (44.6%)\rDownloading... 200.78MB / 450.33MB (44.6%)\rDownloading... 200.86MB / 450.33MB (44.6%)\rDownloading... 200.94MB / 450.33MB (44.6%)\rDownloading... 201.02MB / 450.33MB (44.6%)\rDownloading... 201.09MB / 450.33MB (44.7%)\rDownloading... 201.17MB / 450.33MB (44.7%)\r"
                ]
              },
              {
                "output_type": "stream",
                "name": "stdout",
                "text": [
                  "Downloading... 201.25MB / 450.33MB (44.7%)\rDownloading... 201.33MB / 450.33MB (44.7%)\rDownloading... 201.41MB / 450.33MB (44.7%)\rDownloading... 201.48MB / 450.33MB (44.7%)\rDownloading... 201.56MB / 450.33MB (44.8%)\rDownloading... 201.64MB / 450.33MB (44.8%)\rDownloading... 201.72MB / 450.33MB (44.8%)\rDownloading... 201.80MB / 450.33MB (44.8%)\rDownloading... 201.88MB / 450.33MB (44.8%)\rDownloading... 201.95MB / 450.33MB (44.8%)\rDownloading... 202.03MB / 450.33MB (44.9%)\rDownloading... 202.11MB / 450.33MB (44.9%)\rDownloading... 202.19MB / 450.33MB (44.9%)\rDownloading... 202.27MB / 450.33MB (44.9%)\rDownloading... 202.34MB / 450.33MB (44.9%)\rDownloading... 202.42MB / 450.33MB (44.9%)\rDownloading... 202.50MB / 450.33MB (45.0%)\rDownloading... 202.58MB / 450.33MB (45.0%)\rDownloading... 202.66MB / 450.33MB (45.0%)\rDownloading... 202.73MB / 450.33MB (45.0%)\rDownloading... 202.81MB / 450.33MB (45.0%)\rDownloading... 202.89MB / 450.33MB (45.1%)\rDownloading... 202.97MB / 450.33MB (45.1%)\rDownloading... 203.05MB / 450.33MB (45.1%)\rDownloading... 203.12MB / 450.33MB (45.1%)\rDownloading... 203.20MB / 450.33MB (45.1%)\rDownloading... 203.28MB / 450.33MB (45.1%)\rDownloading... 203.36MB / 450.33MB (45.2%)\rDownloading... 203.44MB / 450.33MB (45.2%)\rDownloading... 203.52MB / 450.33MB (45.2%)\rDownloading... 203.59MB / 450.33MB (45.2%)\rDownloading... 203.67MB / 450.33MB (45.2%)\rDownloading... 203.75MB / 450.33MB (45.2%)\rDownloading... 203.83MB / 450.33MB (45.3%)\rDownloading... 203.91MB / 450.33MB (45.3%)\rDownloading... 203.98MB / 450.33MB (45.3%)\rDownloading... 204.06MB / 450.33MB (45.3%)\rDownloading... 204.14MB / 450.33MB (45.3%)\rDownloading... 204.22MB / 450.33MB (45.3%)\r"
                ]
              },
              {
                "output_type": "stream",
                "name": "stdout",
                "text": [
                  "Downloading... 204.30MB / 450.33MB (45.4%)\rDownloading... 204.38MB / 450.33MB (45.4%)\rDownloading... 204.45MB / 450.33MB (45.4%)\rDownloading... 204.53MB / 450.33MB (45.4%)\rDownloading... 204.61MB / 450.33MB (45.4%)\rDownloading... 204.69MB / 450.33MB (45.5%)\rDownloading... 204.77MB / 450.33MB (45.5%)\rDownloading... 204.84MB / 450.33MB (45.5%)\rDownloading... 204.92MB / 450.33MB (45.5%)\rDownloading... 205.00MB / 450.33MB (45.5%)\rDownloading... 205.08MB / 450.33MB (45.5%)\rDownloading... 205.16MB / 450.33MB (45.6%)\rDownloading... 205.23MB / 450.33MB (45.6%)\rDownloading... 205.31MB / 450.33MB (45.6%)\rDownloading... 205.39MB / 450.33MB (45.6%)\rDownloading... 205.47MB / 450.33MB (45.6%)\rDownloading... 205.55MB / 450.33MB (45.6%)\rDownloading... 205.62MB / 450.33MB (45.7%)\rDownloading... 205.70MB / 450.33MB (45.7%)\rDownloading... 205.78MB / 450.33MB (45.7%)\rDownloading... 205.86MB / 450.33MB (45.7%)\rDownloading... 205.94MB / 450.33MB (45.7%)\rDownloading... 206.02MB / 450.33MB (45.7%)\rDownloading... 206.09MB / 450.33MB (45.8%)\rDownloading... 206.17MB / 450.33MB (45.8%)\rDownloading... 206.25MB / 450.33MB (45.8%)\rDownloading... 206.33MB / 450.33MB (45.8%)\rDownloading... 206.41MB / 450.33MB (45.8%)\rDownloading... 206.48MB / 450.33MB (45.9%)\rDownloading... 206.56MB / 450.33MB (45.9%)\rDownloading... 206.64MB / 450.33MB (45.9%)\rDownloading... 206.72MB / 450.33MB (45.9%)\rDownloading... 206.80MB / 450.33MB (45.9%)\rDownloading... 206.88MB / 450.33MB (45.9%)\rDownloading... 206.95MB / 450.33MB (46.0%)\rDownloading... 207.03MB / 450.33MB (46.0%)\r"
                ]
              },
              {
                "output_type": "stream",
                "name": "stdout",
                "text": [
                  "Downloading... 207.11MB / 450.33MB (46.0%)\rDownloading... 207.19MB / 450.33MB (46.0%)\rDownloading... 207.27MB / 450.33MB (46.0%)\rDownloading... 207.34MB / 450.33MB (46.0%)\rDownloading... 207.42MB / 450.33MB (46.1%)\rDownloading... 207.50MB / 450.33MB (46.1%)\rDownloading... 207.58MB / 450.33MB (46.1%)\rDownloading... 207.66MB / 450.33MB (46.1%)\rDownloading... 207.73MB / 450.33MB (46.1%)\rDownloading... 207.81MB / 450.33MB (46.1%)\rDownloading... 207.89MB / 450.33MB (46.2%)\rDownloading... 207.97MB / 450.33MB (46.2%)\rDownloading... 208.05MB / 450.33MB (46.2%)\rDownloading... 208.12MB / 450.33MB (46.2%)\rDownloading... 208.20MB / 450.33MB (46.2%)\rDownloading... 208.28MB / 450.33MB (46.3%)\rDownloading... 208.36MB / 450.33MB (46.3%)\rDownloading... 208.44MB / 450.33MB (46.3%)\rDownloading... 208.52MB / 450.33MB (46.3%)\rDownloading... 208.59MB / 450.33MB (46.3%)\rDownloading... 208.67MB / 450.33MB (46.3%)\rDownloading... 208.75MB / 450.33MB (46.4%)\rDownloading... 208.83MB / 450.33MB (46.4%)\rDownloading... 208.91MB / 450.33MB (46.4%)\rDownloading... 208.98MB / 450.33MB (46.4%)\rDownloading... 209.06MB / 450.33MB (46.4%)\rDownloading... 209.14MB / 450.33MB (46.4%)\rDownloading... 209.22MB / 450.33MB (46.5%)\rDownloading... 209.30MB / 450.33MB (46.5%)\rDownloading... 209.38MB / 450.33MB (46.5%)\rDownloading... 209.45MB / 450.33MB (46.5%)\rDownloading... 209.53MB / 450.33MB (46.5%)\rDownloading... 209.61MB / 450.33MB (46.5%)\rDownloading... 209.69MB / 450.33MB (46.6%)\rDownloading... 209.77MB / 450.33MB (46.6%)\rDownloading... 209.84MB / 450.33MB (46.6%)\rDownloading... 209.92MB / 450.33MB (46.6%)\r"
                ]
              },
              {
                "output_type": "stream",
                "name": "stdout",
                "text": [
                  "Downloading... 210.00MB / 450.33MB (46.6%)\rDownloading... 210.08MB / 450.33MB (46.6%)\rDownloading... 210.16MB / 450.33MB (46.7%)\rDownloading... 210.23MB / 450.33MB (46.7%)\rDownloading... 210.31MB / 450.33MB (46.7%)\rDownloading... 210.39MB / 450.33MB (46.7%)\rDownloading... 210.47MB / 450.33MB (46.7%)\rDownloading... 210.55MB / 450.33MB (46.8%)\rDownloading... 210.62MB / 450.33MB (46.8%)\rDownloading... 210.70MB / 450.33MB (46.8%)\rDownloading... 210.78MB / 450.33MB (46.8%)\rDownloading... 210.86MB / 450.33MB (46.8%)\rDownloading... 210.94MB / 450.33MB (46.8%)\rDownloading... 211.02MB / 450.33MB (46.9%)\rDownloading... 211.09MB / 450.33MB (46.9%)\rDownloading... 211.17MB / 450.33MB (46.9%)\rDownloading... 211.25MB / 450.33MB (46.9%)\rDownloading... 211.33MB / 450.33MB (46.9%)\rDownloading... 211.41MB / 450.33MB (46.9%)\rDownloading... 211.48MB / 450.33MB (47.0%)\rDownloading... 211.56MB / 450.33MB (47.0%)\rDownloading... 211.64MB / 450.33MB (47.0%)\rDownloading... 211.72MB / 450.33MB (47.0%)\rDownloading... 211.80MB / 450.33MB (47.0%)\rDownloading... 211.88MB / 450.33MB (47.0%)\rDownloading... 211.95MB / 450.33MB (47.1%)\rDownloading... 212.03MB / 450.33MB (47.1%)\rDownloading... 212.11MB / 450.33MB (47.1%)\rDownloading... 212.19MB / 450.33MB (47.1%)\rDownloading... 212.27MB / 450.33MB (47.1%)\rDownloading... 212.34MB / 450.33MB (47.2%)\rDownloading... 212.42MB / 450.33MB (47.2%)\rDownloading... 212.50MB / 450.33MB (47.2%)\rDownloading... 212.58MB / 450.33MB (47.2%)\rDownloading... 212.66MB / 450.33MB (47.2%)\rDownloading... 212.73MB / 450.33MB (47.2%)\r"
                ]
              },
              {
                "output_type": "stream",
                "name": "stdout",
                "text": [
                  "Downloading... 212.81MB / 450.33MB (47.3%)\rDownloading... 212.89MB / 450.33MB (47.3%)\rDownloading... 212.97MB / 450.33MB (47.3%)\rDownloading... 213.05MB / 450.33MB (47.3%)\rDownloading... 213.12MB / 450.33MB (47.3%)\rDownloading... 213.20MB / 450.33MB (47.3%)\rDownloading... 213.28MB / 450.33MB (47.4%)\rDownloading... 213.36MB / 450.33MB (47.4%)\rDownloading... 213.44MB / 450.33MB (47.4%)\rDownloading... 213.52MB / 450.33MB (47.4%)\rDownloading... 213.59MB / 450.33MB (47.4%)\rDownloading... 213.67MB / 450.33MB (47.4%)\rDownloading... 213.75MB / 450.33MB (47.5%)\rDownloading... 213.83MB / 450.33MB (47.5%)\rDownloading... 213.91MB / 450.33MB (47.5%)\rDownloading... 213.98MB / 450.33MB (47.5%)\rDownloading... 214.06MB / 450.33MB (47.5%)\rDownloading... 214.14MB / 450.33MB (47.6%)\rDownloading... 214.22MB / 450.33MB (47.6%)\rDownloading... 214.30MB / 450.33MB (47.6%)\rDownloading... 214.38MB / 450.33MB (47.6%)\rDownloading... 214.45MB / 450.33MB (47.6%)\rDownloading... 214.53MB / 450.33MB (47.6%)\rDownloading... 214.61MB / 450.33MB (47.7%)\rDownloading... 214.69MB / 450.33MB (47.7%)\rDownloading... 214.77MB / 450.33MB (47.7%)\rDownloading... 214.84MB / 450.33MB (47.7%)\rDownloading... 214.92MB / 450.33MB (47.7%)\rDownloading... 215.00MB / 450.33MB (47.7%)\rDownloading... 215.08MB / 450.33MB (47.8%)\rDownloading... 215.16MB / 450.33MB (47.8%)\rDownloading... 215.23MB / 450.33MB (47.8%)\rDownloading... 215.31MB / 450.33MB (47.8%)\rDownloading... 215.39MB / 450.33MB (47.8%)\rDownloading... 215.47MB / 450.33MB (47.8%)\rDownloading... 215.55MB / 450.33MB (47.9%)\r"
                ]
              },
              {
                "output_type": "stream",
                "name": "stdout",
                "text": [
                  "Downloading... 215.62MB / 450.33MB (47.9%)\rDownloading... 215.70MB / 450.33MB (47.9%)\rDownloading... 215.78MB / 450.33MB (47.9%)\rDownloading... 215.86MB / 450.33MB (47.9%)\rDownloading... 215.94MB / 450.33MB (48.0%)\rDownloading... 216.02MB / 450.33MB (48.0%)\rDownloading... 216.09MB / 450.33MB (48.0%)\rDownloading... 216.17MB / 450.33MB (48.0%)\rDownloading... 216.25MB / 450.33MB (48.0%)\rDownloading... 216.33MB / 450.33MB (48.0%)\rDownloading... 216.41MB / 450.33MB (48.1%)\rDownloading... 216.48MB / 450.33MB (48.1%)\rDownloading... 216.56MB / 450.33MB (48.1%)\rDownloading... 216.64MB / 450.33MB (48.1%)\rDownloading... 216.72MB / 450.33MB (48.1%)\rDownloading... 216.80MB / 450.33MB (48.1%)\rDownloading... 216.88MB / 450.33MB (48.2%)\rDownloading... 216.95MB / 450.33MB (48.2%)\rDownloading... 217.03MB / 450.33MB (48.2%)\rDownloading... 217.11MB / 450.33MB (48.2%)\rDownloading... 217.19MB / 450.33MB (48.2%)\rDownloading... 217.27MB / 450.33MB (48.2%)\rDownloading... 217.34MB / 450.33MB (48.3%)\rDownloading... 217.42MB / 450.33MB (48.3%)\rDownloading... 217.50MB / 450.33MB (48.3%)\rDownloading... 217.58MB / 450.33MB (48.3%)\rDownloading... 217.66MB / 450.33MB (48.3%)\rDownloading... 217.73MB / 450.33MB (48.3%)\rDownloading... 217.81MB / 450.33MB (48.4%)\rDownloading... 217.89MB / 450.33MB (48.4%)\rDownloading... 217.97MB / 450.33MB (48.4%)\rDownloading... 218.05MB / 450.33MB (48.4%)\rDownloading... 218.12MB / 450.33MB (48.4%)\rDownloading... 218.20MB / 450.33MB (48.5%)\rDownloading... 218.28MB / 450.33MB (48.5%)\rDownloading... 218.36MB / 450.33MB (48.5%)\rDownloading... 218.44MB / 450.33MB (48.5%)\r"
                ]
              },
              {
                "output_type": "stream",
                "name": "stdout",
                "text": [
                  "Downloading... 218.52MB / 450.33MB (48.5%)\rDownloading... 218.59MB / 450.33MB (48.5%)\rDownloading... 218.67MB / 450.33MB (48.6%)\rDownloading... 218.75MB / 450.33MB (48.6%)\rDownloading... 218.83MB / 450.33MB (48.6%)\rDownloading... 218.91MB / 450.33MB (48.6%)\rDownloading... 218.98MB / 450.33MB (48.6%)\rDownloading... 219.06MB / 450.33MB (48.6%)\rDownloading... 219.14MB / 450.33MB (48.7%)\rDownloading... 219.22MB / 450.33MB (48.7%)\rDownloading... 219.30MB / 450.33MB (48.7%)\rDownloading... 219.38MB / 450.33MB (48.7%)\rDownloading... 219.45MB / 450.33MB (48.7%)\rDownloading... 219.53MB / 450.33MB (48.7%)\rDownloading... 219.61MB / 450.33MB (48.8%)\rDownloading... 219.69MB / 450.33MB (48.8%)\rDownloading... 219.77MB / 450.33MB (48.8%)\rDownloading... 219.84MB / 450.33MB (48.8%)\rDownloading... 219.92MB / 450.33MB (48.8%)\rDownloading... 220.00MB / 450.33MB (48.9%)\rDownloading... 220.08MB / 450.33MB (48.9%)\rDownloading... 220.16MB / 450.33MB (48.9%)\rDownloading... 220.23MB / 450.33MB (48.9%)\rDownloading... 220.31MB / 450.33MB (48.9%)\rDownloading... 220.39MB / 450.33MB (48.9%)\rDownloading... 220.47MB / 450.33MB (49.0%)\rDownloading... 220.55MB / 450.33MB (49.0%)\rDownloading... 220.62MB / 450.33MB (49.0%)\rDownloading... 220.70MB / 450.33MB (49.0%)\rDownloading... 220.78MB / 450.33MB (49.0%)\rDownloading... 220.86MB / 450.33MB (49.0%)\rDownloading... 220.94MB / 450.33MB (49.1%)\rDownloading... 221.02MB / 450.33MB (49.1%)\rDownloading... 221.09MB / 450.33MB (49.1%)\rDownloading... 221.17MB / 450.33MB (49.1%)\rDownloading... 221.25MB / 450.33MB (49.1%)\rDownloading... 221.33MB / 450.33MB (49.1%)\r"
                ]
              },
              {
                "output_type": "stream",
                "name": "stdout",
                "text": [
                  "Downloading... 221.41MB / 450.33MB (49.2%)\rDownloading... 221.48MB / 450.33MB (49.2%)\rDownloading... 221.56MB / 450.33MB (49.2%)\rDownloading... 221.64MB / 450.33MB (49.2%)\rDownloading... 221.72MB / 450.33MB (49.2%)\rDownloading... 221.80MB / 450.33MB (49.3%)\rDownloading... 221.88MB / 450.33MB (49.3%)\rDownloading... 221.95MB / 450.33MB (49.3%)\rDownloading... 222.03MB / 450.33MB (49.3%)\rDownloading... 222.11MB / 450.33MB (49.3%)\rDownloading... 222.19MB / 450.33MB (49.3%)\rDownloading... 222.27MB / 450.33MB (49.4%)\rDownloading... 222.34MB / 450.33MB (49.4%)\rDownloading... 222.42MB / 450.33MB (49.4%)\rDownloading... 222.50MB / 450.33MB (49.4%)\rDownloading... 222.58MB / 450.33MB (49.4%)\rDownloading... 222.66MB / 450.33MB (49.4%)\rDownloading... 222.73MB / 450.33MB (49.5%)\rDownloading... 222.81MB / 450.33MB (49.5%)\rDownloading... 222.89MB / 450.33MB (49.5%)\rDownloading... 222.97MB / 450.33MB (49.5%)\rDownloading... 223.05MB / 450.33MB (49.5%)\rDownloading... 223.12MB / 450.33MB (49.5%)\rDownloading... 223.20MB / 450.33MB (49.6%)\rDownloading... 223.28MB / 450.33MB (49.6%)\rDownloading... 223.36MB / 450.33MB (49.6%)\rDownloading... 223.44MB / 450.33MB (49.6%)\rDownloading... 223.52MB / 450.33MB (49.6%)\rDownloading... 223.59MB / 450.33MB (49.7%)\rDownloading... 223.67MB / 450.33MB (49.7%)\rDownloading... 223.75MB / 450.33MB (49.7%)\rDownloading... 223.83MB / 450.33MB (49.7%)\rDownloading... 223.91MB / 450.33MB (49.7%)\rDownloading... 223.98MB / 450.33MB (49.7%)\rDownloading... 224.06MB / 450.33MB (49.8%)\r"
                ]
              },
              {
                "output_type": "stream",
                "name": "stdout",
                "text": [
                  "Downloading... 224.14MB / 450.33MB (49.8%)\rDownloading... 224.22MB / 450.33MB (49.8%)\rDownloading... 224.30MB / 450.33MB (49.8%)\rDownloading... 224.38MB / 450.33MB (49.8%)\rDownloading... 224.45MB / 450.33MB (49.8%)\rDownloading... 224.53MB / 450.33MB (49.9%)\rDownloading... 224.61MB / 450.33MB (49.9%)\rDownloading... 224.69MB / 450.33MB (49.9%)\rDownloading... 224.77MB / 450.33MB (49.9%)\rDownloading... 224.84MB / 450.33MB (49.9%)\rDownloading... 224.92MB / 450.33MB (49.9%)\rDownloading... 225.00MB / 450.33MB (50.0%)\rDownloading... 225.08MB / 450.33MB (50.0%)\rDownloading... 225.16MB / 450.33MB (50.0%)\rDownloading... 225.23MB / 450.33MB (50.0%)\rDownloading... 225.31MB / 450.33MB (50.0%)\rDownloading... 225.39MB / 450.33MB (50.1%)\rDownloading... 225.47MB / 450.33MB (50.1%)\rDownloading... 225.55MB / 450.33MB (50.1%)\rDownloading... 225.62MB / 450.33MB (50.1%)\rDownloading... 225.70MB / 450.33MB (50.1%)\rDownloading... 225.78MB / 450.33MB (50.1%)\rDownloading... 225.86MB / 450.33MB (50.2%)\rDownloading... 225.94MB / 450.33MB (50.2%)\rDownloading... 226.02MB / 450.33MB (50.2%)\rDownloading... 226.09MB / 450.33MB (50.2%)\rDownloading... 226.17MB / 450.33MB (50.2%)\rDownloading... 226.25MB / 450.33MB (50.2%)\rDownloading... 226.33MB / 450.33MB (50.3%)\rDownloading... 226.41MB / 450.33MB (50.3%)\rDownloading... 226.48MB / 450.33MB (50.3%)\rDownloading... 226.56MB / 450.33MB (50.3%)\rDownloading... 226.64MB / 450.33MB (50.3%)\rDownloading... 226.72MB / 450.33MB (50.3%)\rDownloading... 226.80MB / 450.33MB (50.4%)\rDownloading... 226.88MB / 450.33MB (50.4%)\rDownloading... 226.95MB / 450.33MB (50.4%)\rDownloading... 227.03MB / 450.33MB (50.4%)\rDownloading... 227.11MB / 450.33MB (50.4%)\r"
                ]
              },
              {
                "output_type": "stream",
                "name": "stdout",
                "text": [
                  "Downloading... 227.19MB / 450.33MB (50.4%)\rDownloading... 227.27MB / 450.33MB (50.5%)\rDownloading... 227.34MB / 450.33MB (50.5%)\rDownloading... 227.42MB / 450.33MB (50.5%)\rDownloading... 227.50MB / 450.33MB (50.5%)\rDownloading... 227.58MB / 450.33MB (50.5%)\rDownloading... 227.66MB / 450.33MB (50.6%)\rDownloading... 227.73MB / 450.33MB (50.6%)\rDownloading... 227.81MB / 450.33MB (50.6%)\rDownloading... 227.89MB / 450.33MB (50.6%)\rDownloading... 227.97MB / 450.33MB (50.6%)\rDownloading... 228.05MB / 450.33MB (50.6%)\rDownloading... 228.12MB / 450.33MB (50.7%)\rDownloading... 228.20MB / 450.33MB (50.7%)\rDownloading... 228.28MB / 450.33MB (50.7%)\rDownloading... 228.36MB / 450.33MB (50.7%)\rDownloading... 228.44MB / 450.33MB (50.7%)\rDownloading... 228.52MB / 450.33MB (50.7%)\rDownloading... 228.59MB / 450.33MB (50.8%)\rDownloading... 228.67MB / 450.33MB (50.8%)\rDownloading... 228.75MB / 450.33MB (50.8%)\rDownloading... 228.83MB / 450.33MB (50.8%)\rDownloading... 228.91MB / 450.33MB (50.8%)\rDownloading... 228.98MB / 450.33MB (50.8%)\rDownloading... 229.06MB / 450.33MB (50.9%)\rDownloading... 229.14MB / 450.33MB (50.9%)\rDownloading... 229.22MB / 450.33MB (50.9%)\rDownloading... 229.30MB / 450.33MB (50.9%)\rDownloading... 229.38MB / 450.33MB (50.9%)\rDownloading... 229.45MB / 450.33MB (51.0%)\rDownloading... 229.53MB / 450.33MB (51.0%)\rDownloading... 229.61MB / 450.33MB (51.0%)\rDownloading... 229.69MB / 450.33MB (51.0%)\rDownloading... 229.77MB / 450.33MB (51.0%)\rDownloading... 229.84MB / 450.33MB (51.0%)\rDownloading... 229.92MB / 450.33MB (51.1%)\r"
                ]
              },
              {
                "output_type": "stream",
                "name": "stdout",
                "text": [
                  "Downloading... 230.00MB / 450.33MB (51.1%)\rDownloading... 230.08MB / 450.33MB (51.1%)\rDownloading... 230.16MB / 450.33MB (51.1%)\rDownloading... 230.23MB / 450.33MB (51.1%)\rDownloading... 230.31MB / 450.33MB (51.1%)\rDownloading... 230.39MB / 450.33MB (51.2%)\rDownloading... 230.47MB / 450.33MB (51.2%)\rDownloading... 230.55MB / 450.33MB (51.2%)\rDownloading... 230.62MB / 450.33MB (51.2%)\rDownloading... 230.70MB / 450.33MB (51.2%)\rDownloading... 230.78MB / 450.33MB (51.2%)\rDownloading... 230.86MB / 450.33MB (51.3%)\rDownloading... 230.94MB / 450.33MB (51.3%)\rDownloading... 231.02MB / 450.33MB (51.3%)\rDownloading... 231.09MB / 450.33MB (51.3%)\rDownloading... 231.17MB / 450.33MB (51.3%)\rDownloading... 231.25MB / 450.33MB (51.4%)\rDownloading... 231.33MB / 450.33MB (51.4%)\rDownloading... 231.41MB / 450.33MB (51.4%)\rDownloading... 231.48MB / 450.33MB (51.4%)\rDownloading... 231.56MB / 450.33MB (51.4%)\rDownloading... 231.64MB / 450.33MB (51.4%)\rDownloading... 231.72MB / 450.33MB (51.5%)\rDownloading... 231.80MB / 450.33MB (51.5%)\rDownloading... 231.88MB / 450.33MB (51.5%)\rDownloading... 231.95MB / 450.33MB (51.5%)\rDownloading... 232.03MB / 450.33MB (51.5%)\rDownloading... 232.11MB / 450.33MB (51.5%)\rDownloading... 232.19MB / 450.33MB (51.6%)\rDownloading... 232.27MB / 450.33MB (51.6%)\rDownloading... 232.34MB / 450.33MB (51.6%)\rDownloading... 232.42MB / 450.33MB (51.6%)\rDownloading... 232.50MB / 450.33MB (51.6%)\rDownloading... 232.58MB / 450.33MB (51.6%)\rDownloading... 232.66MB / 450.33MB (51.7%)\r"
                ]
              },
              {
                "output_type": "stream",
                "name": "stdout",
                "text": [
                  "Downloading... 232.73MB / 450.33MB (51.7%)\rDownloading... 232.81MB / 450.33MB (51.7%)\rDownloading... 232.89MB / 450.33MB (51.7%)\rDownloading... 232.97MB / 450.33MB (51.7%)\rDownloading... 233.05MB / 450.33MB (51.8%)\rDownloading... 233.12MB / 450.33MB (51.8%)\rDownloading... 233.20MB / 450.33MB (51.8%)\rDownloading... 233.28MB / 450.33MB (51.8%)\rDownloading... 233.36MB / 450.33MB (51.8%)\rDownloading... 233.44MB / 450.33MB (51.8%)\rDownloading... 233.52MB / 450.33MB (51.9%)\rDownloading... 233.59MB / 450.33MB (51.9%)\rDownloading... 233.67MB / 450.33MB (51.9%)\rDownloading... 233.75MB / 450.33MB (51.9%)\rDownloading... 233.83MB / 450.33MB (51.9%)\rDownloading... 233.91MB / 450.33MB (51.9%)\rDownloading... 233.98MB / 450.33MB (52.0%)\rDownloading... 234.06MB / 450.33MB (52.0%)\rDownloading... 234.14MB / 450.33MB (52.0%)\rDownloading... 234.22MB / 450.33MB (52.0%)\rDownloading... 234.30MB / 450.33MB (52.0%)\rDownloading... 234.38MB / 450.33MB (52.0%)\rDownloading... 234.45MB / 450.33MB (52.1%)\rDownloading... 234.53MB / 450.33MB (52.1%)\rDownloading... 234.61MB / 450.33MB (52.1%)\rDownloading... 234.69MB / 450.33MB (52.1%)\rDownloading... 234.77MB / 450.33MB (52.1%)\rDownloading... 234.84MB / 450.33MB (52.1%)\rDownloading... 234.92MB / 450.33MB (52.2%)\rDownloading... 235.00MB / 450.33MB (52.2%)\rDownloading... 235.08MB / 450.33MB (52.2%)\rDownloading... 235.16MB / 450.33MB (52.2%)\rDownloading... 235.23MB / 450.33MB (52.2%)\rDownloading... 235.31MB / 450.33MB (52.3%)\rDownloading... 235.39MB / 450.33MB (52.3%)\rDownloading... 235.47MB / 450.33MB (52.3%)\rDownloading... 235.55MB / 450.33MB (52.3%)\rDownloading... 235.62MB / 450.33MB (52.3%)\r"
                ]
              },
              {
                "output_type": "stream",
                "name": "stdout",
                "text": [
                  "Downloading... 235.70MB / 450.33MB (52.3%)\rDownloading... 235.78MB / 450.33MB (52.4%)\rDownloading... 235.86MB / 450.33MB (52.4%)\rDownloading... 235.94MB / 450.33MB (52.4%)\rDownloading... 236.02MB / 450.33MB (52.4%)\rDownloading... 236.09MB / 450.33MB (52.4%)\rDownloading... 236.17MB / 450.33MB (52.4%)\rDownloading... 236.25MB / 450.33MB (52.5%)\rDownloading... 236.33MB / 450.33MB (52.5%)\rDownloading... 236.41MB / 450.33MB (52.5%)\rDownloading... 236.48MB / 450.33MB (52.5%)\rDownloading... 236.56MB / 450.33MB (52.5%)\rDownloading... 236.64MB / 450.33MB (52.5%)\rDownloading... 236.72MB / 450.33MB (52.6%)\rDownloading... 236.80MB / 450.33MB (52.6%)\rDownloading... 236.88MB / 450.33MB (52.6%)\rDownloading... 236.95MB / 450.33MB (52.6%)\rDownloading... 237.03MB / 450.33MB (52.6%)\rDownloading... 237.11MB / 450.33MB (52.7%)\rDownloading... 237.19MB / 450.33MB (52.7%)\rDownloading... 237.27MB / 450.33MB (52.7%)\rDownloading... 237.34MB / 450.33MB (52.7%)\rDownloading... 237.42MB / 450.33MB (52.7%)\rDownloading... 237.50MB / 450.33MB (52.7%)\rDownloading... 237.58MB / 450.33MB (52.8%)\rDownloading... 237.66MB / 450.33MB (52.8%)\rDownloading... 237.73MB / 450.33MB (52.8%)\rDownloading... 237.81MB / 450.33MB (52.8%)\rDownloading... 237.89MB / 450.33MB (52.8%)\rDownloading... 237.97MB / 450.33MB (52.8%)\rDownloading... 238.05MB / 450.33MB (52.9%)\rDownloading... 238.12MB / 450.33MB (52.9%)\rDownloading... 238.20MB / 450.33MB (52.9%)\rDownloading... 238.28MB / 450.33MB (52.9%)\rDownloading... 238.36MB / 450.33MB (52.9%)\rDownloading... 238.44MB / 450.33MB (52.9%)\r"
                ]
              },
              {
                "output_type": "stream",
                "name": "stdout",
                "text": [
                  "Downloading... 238.52MB / 450.33MB (53.0%)\rDownloading... 238.59MB / 450.33MB (53.0%)\rDownloading... 238.67MB / 450.33MB (53.0%)\rDownloading... 238.75MB / 450.33MB (53.0%)\rDownloading... 238.83MB / 450.33MB (53.0%)\rDownloading... 238.91MB / 450.33MB (53.1%)\rDownloading... 238.98MB / 450.33MB (53.1%)\rDownloading... 239.06MB / 450.33MB (53.1%)\rDownloading... 239.14MB / 450.33MB (53.1%)\rDownloading... 239.22MB / 450.33MB (53.1%)\rDownloading... 239.30MB / 450.33MB (53.1%)\rDownloading... 239.38MB / 450.33MB (53.2%)\rDownloading... 239.45MB / 450.33MB (53.2%)\rDownloading... 239.53MB / 450.33MB (53.2%)\rDownloading... 239.61MB / 450.33MB (53.2%)\rDownloading... 239.69MB / 450.33MB (53.2%)\rDownloading... 239.77MB / 450.33MB (53.2%)\rDownloading... 239.84MB / 450.33MB (53.3%)\rDownloading... 239.92MB / 450.33MB (53.3%)\rDownloading... 240.00MB / 450.33MB (53.3%)\rDownloading... 240.08MB / 450.33MB (53.3%)\rDownloading... 240.16MB / 450.33MB (53.3%)\rDownloading... 240.23MB / 450.33MB (53.3%)\rDownloading... 240.31MB / 450.33MB (53.4%)\rDownloading... 240.39MB / 450.33MB (53.4%)\rDownloading... 240.47MB / 450.33MB (53.4%)\rDownloading... 240.55MB / 450.33MB (53.4%)\rDownloading... 240.62MB / 450.33MB (53.4%)\rDownloading... 240.70MB / 450.33MB (53.5%)\rDownloading... 240.78MB / 450.33MB (53.5%)\rDownloading... 240.86MB / 450.33MB (53.5%)\rDownloading... 240.94MB / 450.33MB (53.5%)\rDownloading... 241.02MB / 450.33MB (53.5%)\rDownloading... 241.09MB / 450.33MB (53.5%)\rDownloading... 241.17MB / 450.33MB (53.6%)\rDownloading... 241.25MB / 450.33MB (53.6%)\r"
                ]
              },
              {
                "output_type": "stream",
                "name": "stdout",
                "text": [
                  "Downloading... 241.33MB / 450.33MB (53.6%)\rDownloading... 241.41MB / 450.33MB (53.6%)\rDownloading... 241.48MB / 450.33MB (53.6%)\rDownloading... 241.56MB / 450.33MB (53.6%)\rDownloading... 241.64MB / 450.33MB (53.7%)\rDownloading... 241.72MB / 450.33MB (53.7%)\rDownloading... 241.80MB / 450.33MB (53.7%)\rDownloading... 241.88MB / 450.33MB (53.7%)\rDownloading... 241.95MB / 450.33MB (53.7%)\rDownloading... 242.03MB / 450.33MB (53.7%)\rDownloading... 242.11MB / 450.33MB (53.8%)\rDownloading... 242.19MB / 450.33MB (53.8%)\rDownloading... 242.27MB / 450.33MB (53.8%)\rDownloading... 242.34MB / 450.33MB (53.8%)\rDownloading... 242.42MB / 450.33MB (53.8%)\rDownloading... 242.50MB / 450.33MB (53.8%)\rDownloading... 242.58MB / 450.33MB (53.9%)\rDownloading... 242.66MB / 450.33MB (53.9%)\rDownloading... 242.73MB / 450.33MB (53.9%)\rDownloading... 242.81MB / 450.33MB (53.9%)\rDownloading... 242.89MB / 450.33MB (53.9%)\rDownloading... 242.97MB / 450.33MB (54.0%)\rDownloading... 243.05MB / 450.33MB (54.0%)\rDownloading... 243.12MB / 450.33MB (54.0%)\rDownloading... 243.20MB / 450.33MB (54.0%)\rDownloading... 243.28MB / 450.33MB (54.0%)\rDownloading... 243.36MB / 450.33MB (54.0%)\rDownloading... 243.44MB / 450.33MB (54.1%)\rDownloading... 243.52MB / 450.33MB (54.1%)\rDownloading... 243.59MB / 450.33MB (54.1%)\rDownloading... 243.67MB / 450.33MB (54.1%)\rDownloading... 243.75MB / 450.33MB (54.1%)\rDownloading... 243.83MB / 450.33MB (54.1%)\rDownloading... 243.91MB / 450.33MB (54.2%)\rDownloading... 243.98MB / 450.33MB (54.2%)\rDownloading... 244.06MB / 450.33MB (54.2%)\rDownloading... 244.14MB / 450.33MB (54.2%)\r"
                ]
              },
              {
                "output_type": "stream",
                "name": "stdout",
                "text": [
                  "Downloading... 244.22MB / 450.33MB (54.2%)\rDownloading... 244.30MB / 450.33MB (54.2%)\rDownloading... 244.38MB / 450.33MB (54.3%)\rDownloading... 244.45MB / 450.33MB (54.3%)\rDownloading... 244.53MB / 450.33MB (54.3%)\rDownloading... 244.61MB / 450.33MB (54.3%)\rDownloading... 244.69MB / 450.33MB (54.3%)\rDownloading... 244.77MB / 450.33MB (54.4%)\rDownloading... 244.84MB / 450.33MB (54.4%)\rDownloading... 244.92MB / 450.33MB (54.4%)\rDownloading... 245.00MB / 450.33MB (54.4%)\rDownloading... 245.08MB / 450.33MB (54.4%)\rDownloading... 245.16MB / 450.33MB (54.4%)\rDownloading... 245.23MB / 450.33MB (54.5%)\rDownloading... 245.31MB / 450.33MB (54.5%)\rDownloading... 245.39MB / 450.33MB (54.5%)\rDownloading... 245.47MB / 450.33MB (54.5%)\rDownloading... 245.55MB / 450.33MB (54.5%)\rDownloading... 245.62MB / 450.33MB (54.5%)\rDownloading... 245.70MB / 450.33MB (54.6%)\rDownloading... 245.78MB / 450.33MB (54.6%)\rDownloading... 245.86MB / 450.33MB (54.6%)\rDownloading... 245.94MB / 450.33MB (54.6%)\rDownloading... 246.02MB / 450.33MB (54.6%)\rDownloading... 246.09MB / 450.33MB (54.6%)\rDownloading... 246.17MB / 450.33MB (54.7%)\rDownloading... 246.25MB / 450.33MB (54.7%)\rDownloading... 246.33MB / 450.33MB (54.7%)\rDownloading... 246.41MB / 450.33MB (54.7%)\rDownloading... 246.48MB / 450.33MB (54.7%)\rDownloading... 246.56MB / 450.33MB (54.8%)\rDownloading... 246.64MB / 450.33MB (54.8%)\rDownloading... 246.72MB / 450.33MB (54.8%)\rDownloading... 246.80MB / 450.33MB (54.8%)\rDownloading... 246.88MB / 450.33MB (54.8%)\rDownloading... 246.95MB / 450.33MB (54.8%)\r"
                ]
              },
              {
                "output_type": "stream",
                "name": "stdout",
                "text": [
                  "Downloading... 247.03MB / 450.33MB (54.9%)\rDownloading... 247.11MB / 450.33MB (54.9%)\rDownloading... 247.19MB / 450.33MB (54.9%)\rDownloading... 247.27MB / 450.33MB (54.9%)\rDownloading... 247.34MB / 450.33MB (54.9%)\rDownloading... 247.42MB / 450.33MB (54.9%)\rDownloading... 247.50MB / 450.33MB (55.0%)\rDownloading... 247.58MB / 450.33MB (55.0%)\rDownloading... 247.66MB / 450.33MB (55.0%)\rDownloading... 247.73MB / 450.33MB (55.0%)\rDownloading... 247.81MB / 450.33MB (55.0%)\rDownloading... 247.89MB / 450.33MB (55.0%)\rDownloading... 247.97MB / 450.33MB (55.1%)\rDownloading... 248.05MB / 450.33MB (55.1%)\rDownloading... 248.12MB / 450.33MB (55.1%)\rDownloading... 248.20MB / 450.33MB (55.1%)\rDownloading... 248.28MB / 450.33MB (55.1%)\rDownloading... 248.36MB / 450.33MB (55.2%)\rDownloading... 248.44MB / 450.33MB (55.2%)\rDownloading... 248.52MB / 450.33MB (55.2%)\rDownloading... 248.59MB / 450.33MB (55.2%)\rDownloading... 248.67MB / 450.33MB (55.2%)\rDownloading... 248.75MB / 450.33MB (55.2%)\rDownloading... 248.83MB / 450.33MB (55.3%)\rDownloading... 248.91MB / 450.33MB (55.3%)\rDownloading... 248.98MB / 450.33MB (55.3%)\rDownloading... 249.06MB / 450.33MB (55.3%)\rDownloading... 249.14MB / 450.33MB (55.3%)\rDownloading... 249.22MB / 450.33MB (55.3%)\rDownloading... 249.30MB / 450.33MB (55.4%)\rDownloading... 249.38MB / 450.33MB (55.4%)\rDownloading... 249.45MB / 450.33MB (55.4%)\rDownloading... 249.53MB / 450.33MB (55.4%)\rDownloading... 249.61MB / 450.33MB (55.4%)\rDownloading... 249.69MB / 450.33MB (55.4%)\rDownloading... 249.77MB / 450.33MB (55.5%)\r"
                ]
              },
              {
                "output_type": "stream",
                "name": "stdout",
                "text": [
                  "Downloading... 249.84MB / 450.33MB (55.5%)\rDownloading... 249.92MB / 450.33MB (55.5%)\rDownloading... 250.00MB / 450.33MB (55.5%)\rDownloading... 250.08MB / 450.33MB (55.5%)\rDownloading... 250.16MB / 450.33MB (55.5%)\rDownloading... 250.23MB / 450.33MB (55.6%)\rDownloading... 250.31MB / 450.33MB (55.6%)\rDownloading... 250.39MB / 450.33MB (55.6%)\rDownloading... 250.47MB / 450.33MB (55.6%)\rDownloading... 250.55MB / 450.33MB (55.6%)\rDownloading... 250.62MB / 450.33MB (55.7%)\rDownloading... 250.70MB / 450.33MB (55.7%)\rDownloading... 250.78MB / 450.33MB (55.7%)\rDownloading... 250.86MB / 450.33MB (55.7%)\rDownloading... 250.94MB / 450.33MB (55.7%)\rDownloading... 251.02MB / 450.33MB (55.7%)\rDownloading... 251.09MB / 450.33MB (55.8%)\rDownloading... 251.17MB / 450.33MB (55.8%)\rDownloading... 251.25MB / 450.33MB (55.8%)\rDownloading... 251.33MB / 450.33MB (55.8%)\rDownloading... 251.41MB / 450.33MB (55.8%)\rDownloading... 251.48MB / 450.33MB (55.8%)\rDownloading... 251.56MB / 450.33MB (55.9%)\rDownloading... 251.64MB / 450.33MB (55.9%)\rDownloading... 251.72MB / 450.33MB (55.9%)\rDownloading... 251.80MB / 450.33MB (55.9%)\rDownloading... 251.88MB / 450.33MB (55.9%)\rDownloading... 251.95MB / 450.33MB (55.9%)\rDownloading... 252.03MB / 450.33MB (56.0%)\rDownloading... 252.11MB / 450.33MB (56.0%)\rDownloading... 252.19MB / 450.33MB (56.0%)\rDownloading... 252.27MB / 450.33MB (56.0%)\rDownloading... 252.34MB / 450.33MB (56.0%)\rDownloading... 252.42MB / 450.33MB (56.1%)\rDownloading... 252.50MB / 450.33MB (56.1%)\rDownloading... 252.58MB / 450.33MB (56.1%)\rDownloading... 252.66MB / 450.33MB (56.1%)\r"
                ]
              },
              {
                "output_type": "stream",
                "name": "stdout",
                "text": [
                  "Downloading... 252.73MB / 450.33MB (56.1%)\rDownloading... 252.81MB / 450.33MB (56.1%)\rDownloading... 252.89MB / 450.33MB (56.2%)\rDownloading... 252.97MB / 450.33MB (56.2%)\rDownloading... 253.05MB / 450.33MB (56.2%)\rDownloading... 253.12MB / 450.33MB (56.2%)\rDownloading... 253.20MB / 450.33MB (56.2%)\rDownloading... 253.28MB / 450.33MB (56.2%)\rDownloading... 253.36MB / 450.33MB (56.3%)\rDownloading... 253.44MB / 450.33MB (56.3%)\rDownloading... 253.52MB / 450.33MB (56.3%)\rDownloading... 253.59MB / 450.33MB (56.3%)\rDownloading... 253.67MB / 450.33MB (56.3%)\rDownloading... 253.75MB / 450.33MB (56.3%)\rDownloading... 253.83MB / 450.33MB (56.4%)\rDownloading... 253.91MB / 450.33MB (56.4%)\rDownloading... 253.98MB / 450.33MB (56.4%)\rDownloading... 254.06MB / 450.33MB (56.4%)\rDownloading... 254.14MB / 450.33MB (56.4%)\rDownloading... 254.22MB / 450.33MB (56.5%)\rDownloading... 254.30MB / 450.33MB (56.5%)\rDownloading... 254.38MB / 450.33MB (56.5%)\rDownloading... 254.45MB / 450.33MB (56.5%)\rDownloading... 254.53MB / 450.33MB (56.5%)\rDownloading... 254.61MB / 450.33MB (56.5%)\rDownloading... 254.69MB / 450.33MB (56.6%)\rDownloading... 254.77MB / 450.33MB (56.6%)\rDownloading... 254.84MB / 450.33MB (56.6%)\rDownloading... 254.92MB / 450.33MB (56.6%)\rDownloading... 255.00MB / 450.33MB (56.6%)\rDownloading... 255.08MB / 450.33MB (56.6%)\rDownloading... 255.16MB / 450.33MB (56.7%)\rDownloading... 255.23MB / 450.33MB (56.7%)\rDownloading... 255.31MB / 450.33MB (56.7%)\rDownloading... 255.39MB / 450.33MB (56.7%)\rDownloading... 255.47MB / 450.33MB (56.7%)\r"
                ]
              },
              {
                "output_type": "stream",
                "name": "stdout",
                "text": [
                  "Downloading... 255.55MB / 450.33MB (56.7%)\rDownloading... 255.62MB / 450.33MB (56.8%)\rDownloading... 255.70MB / 450.33MB (56.8%)\rDownloading... 255.78MB / 450.33MB (56.8%)\rDownloading... 255.86MB / 450.33MB (56.8%)\rDownloading... 255.94MB / 450.33MB (56.8%)\rDownloading... 256.02MB / 450.33MB (56.9%)\rDownloading... 256.09MB / 450.33MB (56.9%)\rDownloading... 256.17MB / 450.33MB (56.9%)\rDownloading... 256.25MB / 450.33MB (56.9%)\rDownloading... 256.33MB / 450.33MB (56.9%)\rDownloading... 256.41MB / 450.33MB (56.9%)\rDownloading... 256.48MB / 450.33MB (57.0%)\rDownloading... 256.56MB / 450.33MB (57.0%)\rDownloading... 256.64MB / 450.33MB (57.0%)\rDownloading... 256.72MB / 450.33MB (57.0%)\rDownloading... 256.80MB / 450.33MB (57.0%)\rDownloading... 256.88MB / 450.33MB (57.0%)\rDownloading... 256.95MB / 450.33MB (57.1%)\rDownloading... 257.03MB / 450.33MB (57.1%)\rDownloading... 257.11MB / 450.33MB (57.1%)\rDownloading... 257.19MB / 450.33MB (57.1%)\rDownloading... 257.27MB / 450.33MB (57.1%)\rDownloading... 257.34MB / 450.33MB (57.1%)\rDownloading... 257.42MB / 450.33MB (57.2%)\rDownloading... 257.50MB / 450.33MB (57.2%)\rDownloading... 257.58MB / 450.33MB (57.2%)\rDownloading... 257.66MB / 450.33MB (57.2%)\rDownloading... 257.73MB / 450.33MB (57.2%)\rDownloading... 257.81MB / 450.33MB (57.2%)\rDownloading... 257.89MB / 450.33MB (57.3%)\rDownloading... 257.97MB / 450.33MB (57.3%)\rDownloading... 258.05MB / 450.33MB (57.3%)\rDownloading... 258.12MB / 450.33MB (57.3%)\rDownloading... 258.20MB / 450.33MB (57.3%)\rDownloading... 258.28MB / 450.33MB (57.4%)\rDownloading... 258.36MB / 450.33MB (57.4%)\rDownloading... 258.44MB / 450.33MB (57.4%)\r"
                ]
              },
              {
                "output_type": "stream",
                "name": "stdout",
                "text": [
                  "Downloading... 258.52MB / 450.33MB (57.4%)\rDownloading... 258.59MB / 450.33MB (57.4%)\rDownloading... 258.67MB / 450.33MB (57.4%)\rDownloading... 258.75MB / 450.33MB (57.5%)\rDownloading... 258.83MB / 450.33MB (57.5%)\rDownloading... 258.91MB / 450.33MB (57.5%)\rDownloading... 258.98MB / 450.33MB (57.5%)\rDownloading... 259.06MB / 450.33MB (57.5%)\rDownloading... 259.14MB / 450.33MB (57.5%)\rDownloading... 259.22MB / 450.33MB (57.6%)\rDownloading... 259.30MB / 450.33MB (57.6%)\rDownloading... 259.38MB / 450.33MB (57.6%)\rDownloading... 259.45MB / 450.33MB (57.6%)\rDownloading... 259.53MB / 450.33MB (57.6%)\rDownloading... 259.61MB / 450.33MB (57.6%)\rDownloading... 259.69MB / 450.33MB (57.7%)\rDownloading... 259.77MB / 450.33MB (57.7%)\rDownloading... 259.84MB / 450.33MB (57.7%)\rDownloading... 259.92MB / 450.33MB (57.7%)\rDownloading... 260.00MB / 450.33MB (57.7%)\rDownloading... 260.08MB / 450.33MB (57.8%)\rDownloading... 260.16MB / 450.33MB (57.8%)\rDownloading... 260.23MB / 450.33MB (57.8%)\rDownloading... 260.31MB / 450.33MB (57.8%)\rDownloading... 260.39MB / 450.33MB (57.8%)\rDownloading... 260.47MB / 450.33MB (57.8%)\rDownloading... 260.55MB / 450.33MB (57.9%)\rDownloading... 260.62MB / 450.33MB (57.9%)\rDownloading... 260.70MB / 450.33MB (57.9%)\rDownloading... 260.78MB / 450.33MB (57.9%)\rDownloading... 260.86MB / 450.33MB (57.9%)\rDownloading... 260.94MB / 450.33MB (57.9%)\rDownloading... 261.02MB / 450.33MB (58.0%)\rDownloading... 261.09MB / 450.33MB (58.0%)\rDownloading... 261.17MB / 450.33MB (58.0%)\rDownloading... 261.25MB / 450.33MB (58.0%)\rDownloading... 261.33MB / 450.33MB (58.0%)\rDownloading... 261.41MB / 450.33MB (58.0%)\r"
                ]
              },
              {
                "output_type": "stream",
                "name": "stdout",
                "text": [
                  "Downloading... 261.48MB / 450.33MB (58.1%)\rDownloading... 261.56MB / 450.33MB (58.1%)\rDownloading... 261.64MB / 450.33MB (58.1%)\rDownloading... 261.72MB / 450.33MB (58.1%)\rDownloading... 261.80MB / 450.33MB (58.1%)\rDownloading... 261.88MB / 450.33MB (58.2%)\rDownloading... 261.95MB / 450.33MB (58.2%)\rDownloading... 262.03MB / 450.33MB (58.2%)\rDownloading... 262.11MB / 450.33MB (58.2%)\rDownloading... 262.19MB / 450.33MB (58.2%)\rDownloading... 262.27MB / 450.33MB (58.2%)\rDownloading... 262.34MB / 450.33MB (58.3%)\rDownloading... 262.42MB / 450.33MB (58.3%)\rDownloading... 262.50MB / 450.33MB (58.3%)\rDownloading... 262.58MB / 450.33MB (58.3%)\rDownloading... 262.66MB / 450.33MB (58.3%)\rDownloading... 262.73MB / 450.33MB (58.3%)\rDownloading... 262.81MB / 450.33MB (58.4%)\rDownloading... 262.89MB / 450.33MB (58.4%)\rDownloading... 262.97MB / 450.33MB (58.4%)\rDownloading... 263.05MB / 450.33MB (58.4%)\rDownloading... 263.12MB / 450.33MB (58.4%)\rDownloading... 263.20MB / 450.33MB (58.4%)\rDownloading... 263.28MB / 450.33MB (58.5%)\rDownloading... 263.36MB / 450.33MB (58.5%)\rDownloading... 263.44MB / 450.33MB (58.5%)\rDownloading... 263.52MB / 450.33MB (58.5%)\rDownloading... 263.59MB / 450.33MB (58.5%)\rDownloading... 263.67MB / 450.33MB (58.6%)\rDownloading... 263.75MB / 450.33MB (58.6%)\rDownloading... 263.83MB / 450.33MB (58.6%)\rDownloading... 263.91MB / 450.33MB (58.6%)\rDownloading... 263.98MB / 450.33MB (58.6%)\rDownloading... 264.06MB / 450.33MB (58.6%)\rDownloading... 264.14MB / 450.33MB (58.7%)\rDownloading... 264.22MB / 450.33MB (58.7%)\rDownloading... 264.30MB / 450.33MB (58.7%)\rDownloading... 264.38MB / 450.33MB (58.7%)\rDownloading... 264.45MB / 450.33MB (58.7%)\rDownloading... 264.53MB / 450.33MB (58.7%)\r"
                ]
              },
              {
                "output_type": "stream",
                "name": "stdout",
                "text": [
                  "Downloading... 264.61MB / 450.33MB (58.8%)\rDownloading... 264.69MB / 450.33MB (58.8%)\rDownloading... 264.77MB / 450.33MB (58.8%)\rDownloading... 264.84MB / 450.33MB (58.8%)\rDownloading... 264.92MB / 450.33MB (58.8%)\rDownloading... 265.00MB / 450.33MB (58.8%)\rDownloading... 265.08MB / 450.33MB (58.9%)\rDownloading... 265.16MB / 450.33MB (58.9%)\rDownloading... 265.23MB / 450.33MB (58.9%)\rDownloading... 265.31MB / 450.33MB (58.9%)\rDownloading... 265.39MB / 450.33MB (58.9%)\rDownloading... 265.47MB / 450.33MB (58.9%)\rDownloading... 265.55MB / 450.33MB (59.0%)\rDownloading... 265.62MB / 450.33MB (59.0%)\rDownloading... 265.70MB / 450.33MB (59.0%)\rDownloading... 265.78MB / 450.33MB (59.0%)\rDownloading... 265.86MB / 450.33MB (59.0%)\rDownloading... 265.94MB / 450.33MB (59.1%)\rDownloading... 266.02MB / 450.33MB (59.1%)\rDownloading... 266.09MB / 450.33MB (59.1%)\rDownloading... 266.17MB / 450.33MB (59.1%)\rDownloading... 266.25MB / 450.33MB (59.1%)\rDownloading... 266.33MB / 450.33MB (59.1%)\rDownloading... 266.41MB / 450.33MB (59.2%)\rDownloading... 266.48MB / 450.33MB (59.2%)\rDownloading... 266.56MB / 450.33MB (59.2%)\rDownloading... 266.64MB / 450.33MB (59.2%)\rDownloading... 266.72MB / 450.33MB (59.2%)\rDownloading... 266.80MB / 450.33MB (59.2%)\rDownloading... 266.88MB / 450.33MB (59.3%)\rDownloading... 266.95MB / 450.33MB (59.3%)\rDownloading... 267.03MB / 450.33MB (59.3%)\rDownloading... 267.11MB / 450.33MB (59.3%)\rDownloading... 267.19MB / 450.33MB (59.3%)\rDownloading... 267.27MB / 450.33MB (59.3%)\rDownloading... 267.34MB / 450.33MB (59.4%)\rDownloading... 267.42MB / 450.33MB (59.4%)\rDownloading... 267.50MB / 450.33MB (59.4%)\r"
                ]
              },
              {
                "output_type": "stream",
                "name": "stdout",
                "text": [
                  "Downloading... 267.58MB / 450.33MB (59.4%)\rDownloading... 267.66MB / 450.33MB (59.4%)\rDownloading... 267.73MB / 450.33MB (59.5%)\rDownloading... 267.81MB / 450.33MB (59.5%)\rDownloading... 267.89MB / 450.33MB (59.5%)\rDownloading... 267.97MB / 450.33MB (59.5%)\rDownloading... 268.05MB / 450.33MB (59.5%)\rDownloading... 268.12MB / 450.33MB (59.5%)\rDownloading... 268.20MB / 450.33MB (59.6%)\rDownloading... 268.28MB / 450.33MB (59.6%)\rDownloading... 268.36MB / 450.33MB (59.6%)\rDownloading... 268.44MB / 450.33MB (59.6%)\rDownloading... 268.52MB / 450.33MB (59.6%)\rDownloading... 268.59MB / 450.33MB (59.6%)\rDownloading... 268.67MB / 450.33MB (59.7%)\rDownloading... 268.75MB / 450.33MB (59.7%)\rDownloading... 268.83MB / 450.33MB (59.7%)\rDownloading... 268.91MB / 450.33MB (59.7%)\rDownloading... 268.98MB / 450.33MB (59.7%)\rDownloading... 269.06MB / 450.33MB (59.7%)\rDownloading... 269.14MB / 450.33MB (59.8%)\rDownloading... 269.22MB / 450.33MB (59.8%)\rDownloading... 269.30MB / 450.33MB (59.8%)\rDownloading... 269.38MB / 450.33MB (59.8%)\rDownloading... 269.45MB / 450.33MB (59.8%)\rDownloading... 269.53MB / 450.33MB (59.9%)\rDownloading... 269.61MB / 450.33MB (59.9%)\rDownloading... 269.69MB / 450.33MB (59.9%)\rDownloading... 269.77MB / 450.33MB (59.9%)\rDownloading... 269.84MB / 450.33MB (59.9%)\rDownloading... 269.92MB / 450.33MB (59.9%)\rDownloading... 270.00MB / 450.33MB (60.0%)\rDownloading... 270.08MB / 450.33MB (60.0%)\rDownloading... 270.16MB / 450.33MB (60.0%)\rDownloading... 270.23MB / 450.33MB (60.0%)\rDownloading... 270.31MB / 450.33MB (60.0%)\rDownloading... 270.39MB / 450.33MB (60.0%)\r"
                ]
              },
              {
                "output_type": "stream",
                "name": "stdout",
                "text": [
                  "Downloading... 270.47MB / 450.33MB (60.1%)\rDownloading... 270.55MB / 450.33MB (60.1%)\rDownloading... 270.62MB / 450.33MB (60.1%)\rDownloading... 270.70MB / 450.33MB (60.1%)\rDownloading... 270.78MB / 450.33MB (60.1%)\rDownloading... 270.86MB / 450.33MB (60.1%)\rDownloading... 270.94MB / 450.33MB (60.2%)\rDownloading... 271.02MB / 450.33MB (60.2%)\rDownloading... 271.09MB / 450.33MB (60.2%)\rDownloading... 271.17MB / 450.33MB (60.2%)\rDownloading... 271.25MB / 450.33MB (60.2%)\rDownloading... 271.33MB / 450.33MB (60.3%)\rDownloading... 271.41MB / 450.33MB (60.3%)\rDownloading... 271.48MB / 450.33MB (60.3%)\rDownloading... 271.56MB / 450.33MB (60.3%)\rDownloading... 271.64MB / 450.33MB (60.3%)\rDownloading... 271.72MB / 450.33MB (60.3%)\rDownloading... 271.80MB / 450.33MB (60.4%)\rDownloading... 271.88MB / 450.33MB (60.4%)\rDownloading... 271.95MB / 450.33MB (60.4%)\rDownloading... 272.03MB / 450.33MB (60.4%)\rDownloading... 272.11MB / 450.33MB (60.4%)\rDownloading... 272.19MB / 450.33MB (60.4%)\rDownloading... 272.27MB / 450.33MB (60.5%)\rDownloading... 272.34MB / 450.33MB (60.5%)\rDownloading... 272.42MB / 450.33MB (60.5%)\rDownloading... 272.50MB / 450.33MB (60.5%)\rDownloading... 272.58MB / 450.33MB (60.5%)\rDownloading... 272.66MB / 450.33MB (60.5%)\rDownloading... 272.73MB / 450.33MB (60.6%)\rDownloading... 272.81MB / 450.33MB (60.6%)\rDownloading... 272.89MB / 450.33MB (60.6%)\rDownloading... 272.97MB / 450.33MB (60.6%)\rDownloading... 273.05MB / 450.33MB (60.6%)\rDownloading... 273.12MB / 450.33MB (60.6%)\rDownloading... 273.20MB / 450.33MB (60.7%)\rDownloading... 273.28MB / 450.33MB (60.7%)\r"
                ]
              },
              {
                "output_type": "stream",
                "name": "stdout",
                "text": [
                  "Downloading... 273.36MB / 450.33MB (60.7%)\rDownloading... 273.44MB / 450.33MB (60.7%)\rDownloading... 273.52MB / 450.33MB (60.7%)\rDownloading... 273.59MB / 450.33MB (60.8%)\rDownloading... 273.67MB / 450.33MB (60.8%)\rDownloading... 273.75MB / 450.33MB (60.8%)\rDownloading... 273.83MB / 450.33MB (60.8%)\rDownloading... 273.91MB / 450.33MB (60.8%)\rDownloading... 273.98MB / 450.33MB (60.8%)\rDownloading... 274.06MB / 450.33MB (60.9%)\rDownloading... 274.14MB / 450.33MB (60.9%)\rDownloading... 274.22MB / 450.33MB (60.9%)\rDownloading... 274.30MB / 450.33MB (60.9%)\rDownloading... 274.38MB / 450.33MB (60.9%)\rDownloading... 274.45MB / 450.33MB (60.9%)\rDownloading... 274.53MB / 450.33MB (61.0%)\rDownloading... 274.61MB / 450.33MB (61.0%)\rDownloading... 274.69MB / 450.33MB (61.0%)\rDownloading... 274.77MB / 450.33MB (61.0%)\rDownloading... 274.84MB / 450.33MB (61.0%)\rDownloading... 274.92MB / 450.33MB (61.0%)\rDownloading... 275.00MB / 450.33MB (61.1%)\rDownloading... 275.08MB / 450.33MB (61.1%)\rDownloading... 275.16MB / 450.33MB (61.1%)\rDownloading... 275.23MB / 450.33MB (61.1%)\rDownloading... 275.31MB / 450.33MB (61.1%)\rDownloading... 275.39MB / 450.33MB (61.2%)\rDownloading... 275.47MB / 450.33MB (61.2%)\rDownloading... 275.55MB / 450.33MB (61.2%)\rDownloading... 275.62MB / 450.33MB (61.2%)\rDownloading... 275.70MB / 450.33MB (61.2%)\rDownloading... 275.78MB / 450.33MB (61.2%)\rDownloading... 275.86MB / 450.33MB (61.3%)\rDownloading... 275.94MB / 450.33MB (61.3%)\rDownloading... 276.02MB / 450.33MB (61.3%)\rDownloading... 276.09MB / 450.33MB (61.3%)\rDownloading... 276.17MB / 450.33MB (61.3%)\rDownloading... 276.25MB / 450.33MB (61.3%)\r"
                ]
              },
              {
                "output_type": "stream",
                "name": "stdout",
                "text": [
                  "Downloading... 276.33MB / 450.33MB (61.4%)\rDownloading... 276.41MB / 450.33MB (61.4%)\rDownloading... 276.48MB / 450.33MB (61.4%)\rDownloading... 276.56MB / 450.33MB (61.4%)\rDownloading... 276.64MB / 450.33MB (61.4%)\rDownloading... 276.72MB / 450.33MB (61.4%)\rDownloading... 276.80MB / 450.33MB (61.5%)\rDownloading... 276.88MB / 450.33MB (61.5%)\rDownloading... 276.95MB / 450.33MB (61.5%)\rDownloading... 277.03MB / 450.33MB (61.5%)\rDownloading... 277.11MB / 450.33MB (61.5%)\rDownloading... 277.19MB / 450.33MB (61.6%)\rDownloading... 277.27MB / 450.33MB (61.6%)\rDownloading... 277.34MB / 450.33MB (61.6%)\rDownloading... 277.42MB / 450.33MB (61.6%)\rDownloading... 277.50MB / 450.33MB (61.6%)\rDownloading... 277.58MB / 450.33MB (61.6%)\rDownloading... 277.66MB / 450.33MB (61.7%)\rDownloading... 277.73MB / 450.33MB (61.7%)\rDownloading... 277.81MB / 450.33MB (61.7%)\rDownloading... 277.89MB / 450.33MB (61.7%)\rDownloading... 277.97MB / 450.33MB (61.7%)\rDownloading... 278.05MB / 450.33MB (61.7%)\rDownloading... 278.12MB / 450.33MB (61.8%)\rDownloading... 278.20MB / 450.33MB (61.8%)\rDownloading... 278.28MB / 450.33MB (61.8%)\rDownloading... 278.36MB / 450.33MB (61.8%)\rDownloading... 278.44MB / 450.33MB (61.8%)\rDownloading... 278.52MB / 450.33MB (61.8%)\rDownloading... 278.59MB / 450.33MB (61.9%)\rDownloading... 278.67MB / 450.33MB (61.9%)\rDownloading... 278.75MB / 450.33MB (61.9%)\rDownloading... 278.83MB / 450.33MB (61.9%)\rDownloading... 278.91MB / 450.33MB (61.9%)\rDownloading... 278.98MB / 450.33MB (62.0%)\rDownloading... 279.06MB / 450.33MB (62.0%)\rDownloading... 279.14MB / 450.33MB (62.0%)\r"
                ]
              },
              {
                "output_type": "stream",
                "name": "stdout",
                "text": [
                  "Downloading... 279.22MB / 450.33MB (62.0%)\rDownloading... 279.30MB / 450.33MB (62.0%)\rDownloading... 279.38MB / 450.33MB (62.0%)\rDownloading... 279.45MB / 450.33MB (62.1%)\rDownloading... 279.53MB / 450.33MB (62.1%)\rDownloading... 279.61MB / 450.33MB (62.1%)\rDownloading... 279.69MB / 450.33MB (62.1%)\rDownloading... 279.77MB / 450.33MB (62.1%)\rDownloading... 279.84MB / 450.33MB (62.1%)\rDownloading... 279.92MB / 450.33MB (62.2%)\rDownloading... 280.00MB / 450.33MB (62.2%)\rDownloading... 280.08MB / 450.33MB (62.2%)\rDownloading... 280.16MB / 450.33MB (62.2%)\rDownloading... 280.23MB / 450.33MB (62.2%)\rDownloading... 280.31MB / 450.33MB (62.2%)\rDownloading... 280.39MB / 450.33MB (62.3%)\rDownloading... 280.47MB / 450.33MB (62.3%)\rDownloading... 280.55MB / 450.33MB (62.3%)\rDownloading... 280.62MB / 450.33MB (62.3%)\rDownloading... 280.70MB / 450.33MB (62.3%)\rDownloading... 280.78MB / 450.33MB (62.4%)\rDownloading... 280.86MB / 450.33MB (62.4%)\rDownloading... 280.94MB / 450.33MB (62.4%)\rDownloading... 281.02MB / 450.33MB (62.4%)\rDownloading... 281.09MB / 450.33MB (62.4%)\rDownloading... 281.17MB / 450.33MB (62.4%)\rDownloading... 281.25MB / 450.33MB (62.5%)\rDownloading... 281.33MB / 450.33MB (62.5%)\rDownloading... 281.41MB / 450.33MB (62.5%)\rDownloading... 281.48MB / 450.33MB (62.5%)\rDownloading... 281.56MB / 450.33MB (62.5%)\rDownloading... 281.64MB / 450.33MB (62.5%)\rDownloading... 281.72MB / 450.33MB (62.6%)\rDownloading... 281.80MB / 450.33MB (62.6%)\rDownloading... 281.88MB / 450.33MB (62.6%)\rDownloading... 281.95MB / 450.33MB (62.6%)\r"
                ]
              },
              {
                "output_type": "stream",
                "name": "stdout",
                "text": [
                  "Downloading... 282.03MB / 450.33MB (62.6%)\rDownloading... 282.11MB / 450.33MB (62.6%)\rDownloading... 282.19MB / 450.33MB (62.7%)\rDownloading... 282.27MB / 450.33MB (62.7%)\rDownloading... 282.34MB / 450.33MB (62.7%)\rDownloading... 282.42MB / 450.33MB (62.7%)\rDownloading... 282.50MB / 450.33MB (62.7%)\rDownloading... 282.58MB / 450.33MB (62.7%)\rDownloading... 282.66MB / 450.33MB (62.8%)\rDownloading... 282.73MB / 450.33MB (62.8%)\rDownloading... 282.81MB / 450.33MB (62.8%)\rDownloading... 282.89MB / 450.33MB (62.8%)\rDownloading... 282.97MB / 450.33MB (62.8%)\rDownloading... 283.05MB / 450.33MB (62.9%)\rDownloading... 283.12MB / 450.33MB (62.9%)\rDownloading... 283.20MB / 450.33MB (62.9%)\rDownloading... 283.28MB / 450.33MB (62.9%)\rDownloading... 283.36MB / 450.33MB (62.9%)\rDownloading... 283.44MB / 450.33MB (62.9%)\rDownloading... 283.52MB / 450.33MB (63.0%)\rDownloading... 283.59MB / 450.33MB (63.0%)\rDownloading... 283.67MB / 450.33MB (63.0%)\rDownloading... 283.75MB / 450.33MB (63.0%)\rDownloading... 283.83MB / 450.33MB (63.0%)\rDownloading... 283.91MB / 450.33MB (63.0%)\rDownloading... 283.98MB / 450.33MB (63.1%)\rDownloading... 284.06MB / 450.33MB (63.1%)\rDownloading... 284.14MB / 450.33MB (63.1%)\rDownloading... 284.22MB / 450.33MB (63.1%)\rDownloading... 284.30MB / 450.33MB (63.1%)\rDownloading... 284.38MB / 450.33MB (63.1%)\rDownloading... 284.45MB / 450.33MB (63.2%)\rDownloading... 284.53MB / 450.33MB (63.2%)\rDownloading... 284.61MB / 450.33MB (63.2%)\rDownloading... 284.69MB / 450.33MB (63.2%)\rDownloading... 284.77MB / 450.33MB (63.2%)\rDownloading... 284.84MB / 450.33MB (63.3%)\r"
                ]
              },
              {
                "output_type": "stream",
                "name": "stdout",
                "text": [
                  "Downloading... 284.92MB / 450.33MB (63.3%)\rDownloading... 285.00MB / 450.33MB (63.3%)\rDownloading... 285.08MB / 450.33MB (63.3%)\rDownloading... 285.16MB / 450.33MB (63.3%)\rDownloading... 285.23MB / 450.33MB (63.3%)\rDownloading... 285.31MB / 450.33MB (63.4%)\rDownloading... 285.39MB / 450.33MB (63.4%)\rDownloading... 285.47MB / 450.33MB (63.4%)\rDownloading... 285.55MB / 450.33MB (63.4%)\rDownloading... 285.62MB / 450.33MB (63.4%)\rDownloading... 285.70MB / 450.33MB (63.4%)\rDownloading... 285.78MB / 450.33MB (63.5%)\rDownloading... 285.86MB / 450.33MB (63.5%)\rDownloading... 285.94MB / 450.33MB (63.5%)\rDownloading... 286.02MB / 450.33MB (63.5%)\rDownloading... 286.09MB / 450.33MB (63.5%)\rDownloading... 286.17MB / 450.33MB (63.5%)\rDownloading... 286.25MB / 450.33MB (63.6%)\rDownloading... 286.33MB / 450.33MB (63.6%)\rDownloading... 286.41MB / 450.33MB (63.6%)\rDownloading... 286.48MB / 450.33MB (63.6%)\rDownloading... 286.56MB / 450.33MB (63.6%)\rDownloading... 286.64MB / 450.33MB (63.7%)\rDownloading... 286.72MB / 450.33MB (63.7%)\rDownloading... 286.80MB / 450.33MB (63.7%)\rDownloading... 286.88MB / 450.33MB (63.7%)\rDownloading... 286.95MB / 450.33MB (63.7%)\rDownloading... 287.03MB / 450.33MB (63.7%)\rDownloading... 287.11MB / 450.33MB (63.8%)\rDownloading... 287.19MB / 450.33MB (63.8%)\rDownloading... 287.27MB / 450.33MB (63.8%)\rDownloading... 287.34MB / 450.33MB (63.8%)\rDownloading... 287.42MB / 450.33MB (63.8%)\rDownloading... 287.50MB / 450.33MB (63.8%)\rDownloading... 287.58MB / 450.33MB (63.9%)\rDownloading... 287.66MB / 450.33MB (63.9%)\rDownloading... 287.73MB / 450.33MB (63.9%)\r"
                ]
              },
              {
                "output_type": "stream",
                "name": "stdout",
                "text": [
                  "Downloading... 287.81MB / 450.33MB (63.9%)\rDownloading... 287.89MB / 450.33MB (63.9%)\rDownloading... 287.97MB / 450.33MB (63.9%)\rDownloading... 288.05MB / 450.33MB (64.0%)\rDownloading... 288.12MB / 450.33MB (64.0%)\rDownloading... 288.20MB / 450.33MB (64.0%)\rDownloading... 288.28MB / 450.33MB (64.0%)\rDownloading... 288.36MB / 450.33MB (64.0%)\rDownloading... 288.44MB / 450.33MB (64.1%)\rDownloading... 288.52MB / 450.33MB (64.1%)\rDownloading... 288.59MB / 450.33MB (64.1%)\rDownloading... 288.67MB / 450.33MB (64.1%)\rDownloading... 288.75MB / 450.33MB (64.1%)\rDownloading... 288.83MB / 450.33MB (64.1%)\rDownloading... 288.91MB / 450.33MB (64.2%)\rDownloading... 288.98MB / 450.33MB (64.2%)\rDownloading... 289.06MB / 450.33MB (64.2%)\rDownloading... 289.14MB / 450.33MB (64.2%)\rDownloading... 289.22MB / 450.33MB (64.2%)\rDownloading... 289.30MB / 450.33MB (64.2%)\rDownloading... 289.38MB / 450.33MB (64.3%)\rDownloading... 289.45MB / 450.33MB (64.3%)\rDownloading... 289.53MB / 450.33MB (64.3%)\rDownloading... 289.61MB / 450.33MB (64.3%)\rDownloading... 289.69MB / 450.33MB (64.3%)\rDownloading... 289.77MB / 450.33MB (64.3%)\rDownloading... 289.84MB / 450.33MB (64.4%)\rDownloading... 289.92MB / 450.33MB (64.4%)\rDownloading... 290.00MB / 450.33MB (64.4%)\rDownloading... 290.08MB / 450.33MB (64.4%)\rDownloading... 290.16MB / 450.33MB (64.4%)\rDownloading... 290.23MB / 450.33MB (64.4%)\rDownloading... 290.31MB / 450.33MB (64.5%)\rDownloading... 290.39MB / 450.33MB (64.5%)\rDownloading... 290.47MB / 450.33MB (64.5%)\rDownloading... 290.55MB / 450.33MB (64.5%)\rDownloading... 290.62MB / 450.33MB (64.5%)\r"
                ]
              },
              {
                "output_type": "stream",
                "name": "stdout",
                "text": [
                  "Downloading... 290.70MB / 450.33MB (64.6%)\rDownloading... 290.78MB / 450.33MB (64.6%)\rDownloading... 290.86MB / 450.33MB (64.6%)\rDownloading... 290.94MB / 450.33MB (64.6%)\rDownloading... 291.02MB / 450.33MB (64.6%)\rDownloading... 291.09MB / 450.33MB (64.6%)\rDownloading... 291.17MB / 450.33MB (64.7%)\rDownloading... 291.25MB / 450.33MB (64.7%)\rDownloading... 291.33MB / 450.33MB (64.7%)\rDownloading... 291.41MB / 450.33MB (64.7%)\rDownloading... 291.48MB / 450.33MB (64.7%)\rDownloading... 291.56MB / 450.33MB (64.7%)\rDownloading... 291.64MB / 450.33MB (64.8%)\rDownloading... 291.72MB / 450.33MB (64.8%)\rDownloading... 291.80MB / 450.33MB (64.8%)\rDownloading... 291.88MB / 450.33MB (64.8%)\rDownloading... 291.95MB / 450.33MB (64.8%)\rDownloading... 292.03MB / 450.33MB (64.8%)\rDownloading... 292.11MB / 450.33MB (64.9%)\rDownloading... 292.19MB / 450.33MB (64.9%)\rDownloading... 292.27MB / 450.33MB (64.9%)\rDownloading... 292.34MB / 450.33MB (64.9%)\rDownloading... 292.42MB / 450.33MB (64.9%)\rDownloading... 292.50MB / 450.33MB (65.0%)\rDownloading... 292.58MB / 450.33MB (65.0%)\rDownloading... 292.66MB / 450.33MB (65.0%)\rDownloading... 292.73MB / 450.33MB (65.0%)\rDownloading... 292.81MB / 450.33MB (65.0%)\rDownloading... 292.89MB / 450.33MB (65.0%)\rDownloading... 292.97MB / 450.33MB (65.1%)\rDownloading... 293.05MB / 450.33MB (65.1%)\rDownloading... 293.12MB / 450.33MB (65.1%)\rDownloading... 293.20MB / 450.33MB (65.1%)\rDownloading... 293.28MB / 450.33MB (65.1%)\rDownloading... 293.36MB / 450.33MB (65.1%)\rDownloading... 293.44MB / 450.33MB (65.2%)\rDownloading... 293.52MB / 450.33MB (65.2%)\r"
                ]
              },
              {
                "output_type": "stream",
                "name": "stdout",
                "text": [
                  "Downloading... 293.59MB / 450.33MB (65.2%)\rDownloading... 293.67MB / 450.33MB (65.2%)\rDownloading... 293.75MB / 450.33MB (65.2%)\rDownloading... 293.83MB / 450.33MB (65.2%)\rDownloading... 293.91MB / 450.33MB (65.3%)\rDownloading... 293.98MB / 450.33MB (65.3%)\rDownloading... 294.06MB / 450.33MB (65.3%)\rDownloading... 294.14MB / 450.33MB (65.3%)\rDownloading... 294.22MB / 450.33MB (65.3%)\rDownloading... 294.30MB / 450.33MB (65.4%)\rDownloading... 294.38MB / 450.33MB (65.4%)\rDownloading... 294.45MB / 450.33MB (65.4%)\rDownloading... 294.53MB / 450.33MB (65.4%)\rDownloading... 294.61MB / 450.33MB (65.4%)\rDownloading... 294.69MB / 450.33MB (65.4%)\rDownloading... 294.77MB / 450.33MB (65.5%)\rDownloading... 294.84MB / 450.33MB (65.5%)\rDownloading... 294.92MB / 450.33MB (65.5%)\rDownloading... 295.00MB / 450.33MB (65.5%)\rDownloading... 295.08MB / 450.33MB (65.5%)\rDownloading... 295.16MB / 450.33MB (65.5%)\rDownloading... 295.23MB / 450.33MB (65.6%)\rDownloading... 295.31MB / 450.33MB (65.6%)\rDownloading... 295.39MB / 450.33MB (65.6%)\rDownloading... 295.47MB / 450.33MB (65.6%)\rDownloading... 295.55MB / 450.33MB (65.6%)\rDownloading... 295.62MB / 450.33MB (65.6%)\rDownloading... 295.70MB / 450.33MB (65.7%)\rDownloading... 295.78MB / 450.33MB (65.7%)\rDownloading... 295.86MB / 450.33MB (65.7%)\rDownloading... 295.94MB / 450.33MB (65.7%)\rDownloading... 296.02MB / 450.33MB (65.7%)\rDownloading... 296.09MB / 450.33MB (65.8%)\rDownloading... 296.17MB / 450.33MB (65.8%)\rDownloading... 296.25MB / 450.33MB (65.8%)\rDownloading... 296.33MB / 450.33MB (65.8%)\rDownloading... 296.41MB / 450.33MB (65.8%)\rDownloading... 296.48MB / 450.33MB (65.8%)\r"
                ]
              },
              {
                "output_type": "stream",
                "name": "stdout",
                "text": [
                  "Downloading... 296.56MB / 450.33MB (65.9%)\rDownloading... 296.64MB / 450.33MB (65.9%)\rDownloading... 296.72MB / 450.33MB (65.9%)\rDownloading... 296.80MB / 450.33MB (65.9%)\rDownloading... 296.88MB / 450.33MB (65.9%)\rDownloading... 296.95MB / 450.33MB (65.9%)\rDownloading... 297.03MB / 450.33MB (66.0%)\rDownloading... 297.11MB / 450.33MB (66.0%)\rDownloading... 297.19MB / 450.33MB (66.0%)\rDownloading... 297.27MB / 450.33MB (66.0%)\rDownloading... 297.34MB / 450.33MB (66.0%)\rDownloading... 297.42MB / 450.33MB (66.0%)\rDownloading... 297.50MB / 450.33MB (66.1%)\rDownloading... 297.58MB / 450.33MB (66.1%)\rDownloading... 297.66MB / 450.33MB (66.1%)\rDownloading... 297.73MB / 450.33MB (66.1%)\rDownloading... 297.81MB / 450.33MB (66.1%)\rDownloading... 297.89MB / 450.33MB (66.1%)\rDownloading... 297.97MB / 450.33MB (66.2%)\rDownloading... 298.05MB / 450.33MB (66.2%)\rDownloading... 298.12MB / 450.33MB (66.2%)\rDownloading... 298.20MB / 450.33MB (66.2%)\rDownloading... 298.28MB / 450.33MB (66.2%)\rDownloading... 298.36MB / 450.33MB (66.3%)\rDownloading... 298.44MB / 450.33MB (66.3%)\rDownloading... 298.52MB / 450.33MB (66.3%)\rDownloading... 298.59MB / 450.33MB (66.3%)\rDownloading... 298.67MB / 450.33MB (66.3%)\rDownloading... 298.75MB / 450.33MB (66.3%)\rDownloading... 298.83MB / 450.33MB (66.4%)\rDownloading... 298.91MB / 450.33MB (66.4%)\rDownloading... 298.98MB / 450.33MB (66.4%)\rDownloading... 299.06MB / 450.33MB (66.4%)\rDownloading... 299.14MB / 450.33MB (66.4%)\rDownloading... 299.22MB / 450.33MB (66.4%)\rDownloading... 299.30MB / 450.33MB (66.5%)\rDownloading... 299.38MB / 450.33MB (66.5%)\rDownloading... 299.45MB / 450.33MB (66.5%)\r"
                ]
              },
              {
                "output_type": "stream",
                "name": "stdout",
                "text": [
                  "Downloading... 299.53MB / 450.33MB (66.5%)\rDownloading... 299.61MB / 450.33MB (66.5%)\rDownloading... 299.69MB / 450.33MB (66.5%)\rDownloading... 299.77MB / 450.33MB (66.6%)\rDownloading... 299.84MB / 450.33MB (66.6%)\rDownloading... 299.92MB / 450.33MB (66.6%)\rDownloading... 300.00MB / 450.33MB (66.6%)\rDownloading... 300.08MB / 450.33MB (66.6%)\rDownloading... 300.16MB / 450.33MB (66.7%)\rDownloading... 300.23MB / 450.33MB (66.7%)\rDownloading... 300.31MB / 450.33MB (66.7%)\rDownloading... 300.39MB / 450.33MB (66.7%)\rDownloading... 300.47MB / 450.33MB (66.7%)\rDownloading... 300.55MB / 450.33MB (66.7%)\rDownloading... 300.62MB / 450.33MB (66.8%)\rDownloading... 300.70MB / 450.33MB (66.8%)\rDownloading... 300.78MB / 450.33MB (66.8%)\rDownloading... 300.86MB / 450.33MB (66.8%)\rDownloading... 300.94MB / 450.33MB (66.8%)\rDownloading... 301.02MB / 450.33MB (66.8%)\rDownloading... 301.09MB / 450.33MB (66.9%)\rDownloading... 301.17MB / 450.33MB (66.9%)\rDownloading... 301.25MB / 450.33MB (66.9%)\rDownloading... 301.33MB / 450.33MB (66.9%)\rDownloading... 301.41MB / 450.33MB (66.9%)\rDownloading... 301.48MB / 450.33MB (66.9%)\rDownloading... 301.56MB / 450.33MB (67.0%)\rDownloading... 301.64MB / 450.33MB (67.0%)\rDownloading... 301.72MB / 450.33MB (67.0%)\rDownloading... 301.80MB / 450.33MB (67.0%)\rDownloading... 301.88MB / 450.33MB (67.0%)\rDownloading... 301.95MB / 450.33MB (67.1%)\r"
                ]
              },
              {
                "output_type": "stream",
                "name": "stdout",
                "text": [
                  "Downloading... 302.03MB / 450.33MB (67.1%)\rDownloading... 302.11MB / 450.33MB (67.1%)\rDownloading... 302.19MB / 450.33MB (67.1%)\rDownloading... 302.27MB / 450.33MB (67.1%)\rDownloading... 302.34MB / 450.33MB (67.1%)\rDownloading... 302.42MB / 450.33MB (67.2%)\rDownloading... 302.50MB / 450.33MB (67.2%)\rDownloading... 302.58MB / 450.33MB (67.2%)\rDownloading... 302.66MB / 450.33MB (67.2%)\rDownloading... 302.73MB / 450.33MB (67.2%)\rDownloading... 302.81MB / 450.33MB (67.2%)\rDownloading... 302.89MB / 450.33MB (67.3%)\rDownloading... 302.97MB / 450.33MB (67.3%)\rDownloading... 303.05MB / 450.33MB (67.3%)\rDownloading... 303.12MB / 450.33MB (67.3%)\rDownloading... 303.20MB / 450.33MB (67.3%)\rDownloading... 303.28MB / 450.33MB (67.3%)\rDownloading... 303.36MB / 450.33MB (67.4%)\rDownloading... 303.44MB / 450.33MB (67.4%)\rDownloading... 303.52MB / 450.33MB (67.4%)\rDownloading... 303.59MB / 450.33MB (67.4%)\rDownloading... 303.67MB / 450.33MB (67.4%)\rDownloading... 303.75MB / 450.33MB (67.5%)\rDownloading... 303.83MB / 450.33MB (67.5%)\rDownloading... 303.91MB / 450.33MB (67.5%)\rDownloading... 303.98MB / 450.33MB (67.5%)\rDownloading... 304.06MB / 450.33MB (67.5%)\rDownloading... 304.14MB / 450.33MB (67.5%)\rDownloading... 304.22MB / 450.33MB (67.6%)\rDownloading... 304.30MB / 450.33MB (67.6%)\rDownloading... 304.38MB / 450.33MB (67.6%)\rDownloading... 304.45MB / 450.33MB (67.6%)\rDownloading... 304.53MB / 450.33MB (67.6%)\rDownloading... 304.61MB / 450.33MB (67.6%)\rDownloading... 304.69MB / 450.33MB (67.7%)\rDownloading... 304.77MB / 450.33MB (67.7%)\rDownloading... 304.84MB / 450.33MB (67.7%)\rDownloading... 304.92MB / 450.33MB (67.7%)\r"
                ]
              },
              {
                "output_type": "stream",
                "name": "stdout",
                "text": [
                  "Downloading... 305.00MB / 450.33MB (67.7%)\rDownloading... 305.08MB / 450.33MB (67.7%)\rDownloading... 305.16MB / 450.33MB (67.8%)\rDownloading... 305.23MB / 450.33MB (67.8%)\rDownloading... 305.31MB / 450.33MB (67.8%)\rDownloading... 305.39MB / 450.33MB (67.8%)\rDownloading... 305.47MB / 450.33MB (67.8%)\rDownloading... 305.55MB / 450.33MB (67.8%)\rDownloading... 305.62MB / 450.33MB (67.9%)\rDownloading... 305.70MB / 450.33MB (67.9%)\rDownloading... 305.78MB / 450.33MB (67.9%)\rDownloading... 305.86MB / 450.33MB (67.9%)\rDownloading... 305.94MB / 450.33MB (67.9%)\rDownloading... 306.02MB / 450.33MB (68.0%)\rDownloading... 306.09MB / 450.33MB (68.0%)\rDownloading... 306.17MB / 450.33MB (68.0%)\rDownloading... 306.25MB / 450.33MB (68.0%)\rDownloading... 306.33MB / 450.33MB (68.0%)\rDownloading... 306.41MB / 450.33MB (68.0%)\rDownloading... 306.48MB / 450.33MB (68.1%)\rDownloading... 306.56MB / 450.33MB (68.1%)\rDownloading... 306.64MB / 450.33MB (68.1%)\rDownloading... 306.72MB / 450.33MB (68.1%)\rDownloading... 306.80MB / 450.33MB (68.1%)\rDownloading... 306.88MB / 450.33MB (68.1%)\rDownloading... 306.95MB / 450.33MB (68.2%)\rDownloading... 307.03MB / 450.33MB (68.2%)\rDownloading... 307.11MB / 450.33MB (68.2%)\rDownloading... 307.19MB / 450.33MB (68.2%)\rDownloading... 307.27MB / 450.33MB (68.2%)\rDownloading... 307.34MB / 450.33MB (68.2%)\rDownloading... 307.42MB / 450.33MB (68.3%)\rDownloading... 307.50MB / 450.33MB (68.3%)\rDownloading... 307.58MB / 450.33MB (68.3%)\rDownloading... 307.66MB / 450.33MB (68.3%)\rDownloading... 307.73MB / 450.33MB (68.3%)\rDownloading... 307.81MB / 450.33MB (68.4%)\rDownloading... 307.89MB / 450.33MB (68.4%)\r"
                ]
              },
              {
                "output_type": "stream",
                "name": "stdout",
                "text": [
                  "Downloading... 307.97MB / 450.33MB (68.4%)\rDownloading... 308.05MB / 450.33MB (68.4%)\rDownloading... 308.12MB / 450.33MB (68.4%)\rDownloading... 308.20MB / 450.33MB (68.4%)\rDownloading... 308.28MB / 450.33MB (68.5%)\rDownloading... 308.36MB / 450.33MB (68.5%)\rDownloading... 308.44MB / 450.33MB (68.5%)\rDownloading... 308.52MB / 450.33MB (68.5%)\rDownloading... 308.59MB / 450.33MB (68.5%)\rDownloading... 308.67MB / 450.33MB (68.5%)\rDownloading... 308.75MB / 450.33MB (68.6%)\rDownloading... 308.83MB / 450.33MB (68.6%)\rDownloading... 308.91MB / 450.33MB (68.6%)\rDownloading... 308.98MB / 450.33MB (68.6%)\rDownloading... 309.06MB / 450.33MB (68.6%)\rDownloading... 309.14MB / 450.33MB (68.6%)\rDownloading... 309.22MB / 450.33MB (68.7%)\rDownloading... 309.30MB / 450.33MB (68.7%)\rDownloading... 309.38MB / 450.33MB (68.7%)\rDownloading... 309.45MB / 450.33MB (68.7%)\rDownloading... 309.53MB / 450.33MB (68.7%)\rDownloading... 309.61MB / 450.33MB (68.8%)\rDownloading... 309.69MB / 450.33MB (68.8%)\rDownloading... 309.77MB / 450.33MB (68.8%)\rDownloading... 309.84MB / 450.33MB (68.8%)\rDownloading... 309.92MB / 450.33MB (68.8%)\rDownloading... 310.00MB / 450.33MB (68.8%)\rDownloading... 310.08MB / 450.33MB (68.9%)\rDownloading... 310.16MB / 450.33MB (68.9%)\rDownloading... 310.23MB / 450.33MB (68.9%)\rDownloading... 310.31MB / 450.33MB (68.9%)\rDownloading... 310.39MB / 450.33MB (68.9%)\rDownloading... 310.47MB / 450.33MB (68.9%)\rDownloading... 310.55MB / 450.33MB (69.0%)\rDownloading... 310.62MB / 450.33MB (69.0%)\r"
                ]
              },
              {
                "output_type": "stream",
                "name": "stdout",
                "text": [
                  "Downloading... 310.70MB / 450.33MB (69.0%)\rDownloading... 310.78MB / 450.33MB (69.0%)\rDownloading... 310.86MB / 450.33MB (69.0%)\rDownloading... 310.94MB / 450.33MB (69.0%)\rDownloading... 311.02MB / 450.33MB (69.1%)\rDownloading... 311.09MB / 450.33MB (69.1%)\rDownloading... 311.17MB / 450.33MB (69.1%)\rDownloading... 311.25MB / 450.33MB (69.1%)\rDownloading... 311.33MB / 450.33MB (69.1%)\rDownloading... 311.41MB / 450.33MB (69.2%)\rDownloading... 311.48MB / 450.33MB (69.2%)\rDownloading... 311.56MB / 450.33MB (69.2%)\rDownloading... 311.64MB / 450.33MB (69.2%)\rDownloading... 311.72MB / 450.33MB (69.2%)\rDownloading... 311.80MB / 450.33MB (69.2%)\rDownloading... 311.88MB / 450.33MB (69.3%)\rDownloading... 311.95MB / 450.33MB (69.3%)\rDownloading... 312.03MB / 450.33MB (69.3%)\rDownloading... 312.11MB / 450.33MB (69.3%)\rDownloading... 312.19MB / 450.33MB (69.3%)\rDownloading... 312.27MB / 450.33MB (69.3%)\rDownloading... 312.34MB / 450.33MB (69.4%)\rDownloading... 312.42MB / 450.33MB (69.4%)\rDownloading... 312.50MB / 450.33MB (69.4%)\rDownloading... 312.58MB / 450.33MB (69.4%)\rDownloading... 312.66MB / 450.33MB (69.4%)\rDownloading... 312.73MB / 450.33MB (69.4%)\rDownloading... 312.81MB / 450.33MB (69.5%)\rDownloading... 312.89MB / 450.33MB (69.5%)\rDownloading... 312.97MB / 450.33MB (69.5%)\rDownloading... 313.05MB / 450.33MB (69.5%)\rDownloading... 313.12MB / 450.33MB (69.5%)\rDownloading... 313.20MB / 450.33MB (69.5%)\rDownloading... 313.28MB / 450.33MB (69.6%)\rDownloading... 313.36MB / 450.33MB (69.6%)\r"
                ]
              },
              {
                "output_type": "stream",
                "name": "stdout",
                "text": [
                  "Downloading... 313.44MB / 450.33MB (69.6%)\rDownloading... 313.52MB / 450.33MB (69.6%)\rDownloading... 313.59MB / 450.33MB (69.6%)\rDownloading... 313.67MB / 450.33MB (69.7%)\rDownloading... 313.75MB / 450.33MB (69.7%)\rDownloading... 313.83MB / 450.33MB (69.7%)\rDownloading... 313.91MB / 450.33MB (69.7%)\rDownloading... 313.98MB / 450.33MB (69.7%)\rDownloading... 314.06MB / 450.33MB (69.7%)\rDownloading... 314.14MB / 450.33MB (69.8%)\rDownloading... 314.22MB / 450.33MB (69.8%)\rDownloading... 314.30MB / 450.33MB (69.8%)\rDownloading... 314.38MB / 450.33MB (69.8%)\rDownloading... 314.45MB / 450.33MB (69.8%)\rDownloading... 314.53MB / 450.33MB (69.8%)\rDownloading... 314.61MB / 450.33MB (69.9%)\rDownloading... 314.69MB / 450.33MB (69.9%)\rDownloading... 314.77MB / 450.33MB (69.9%)\rDownloading... 314.84MB / 450.33MB (69.9%)\rDownloading... 314.92MB / 450.33MB (69.9%)\rDownloading... 315.00MB / 450.33MB (69.9%)\rDownloading... 315.08MB / 450.33MB (70.0%)\rDownloading... 315.16MB / 450.33MB (70.0%)\rDownloading... 315.23MB / 450.33MB (70.0%)\rDownloading... 315.31MB / 450.33MB (70.0%)\rDownloading... 315.39MB / 450.33MB (70.0%)\rDownloading... 315.47MB / 450.33MB (70.1%)\rDownloading... 315.55MB / 450.33MB (70.1%)\rDownloading... 315.62MB / 450.33MB (70.1%)\rDownloading... 315.70MB / 450.33MB (70.1%)\rDownloading... 315.78MB / 450.33MB (70.1%)\rDownloading... 315.86MB / 450.33MB (70.1%)\rDownloading... 315.94MB / 450.33MB (70.2%)\rDownloading... 316.02MB / 450.33MB (70.2%)\rDownloading... 316.09MB / 450.33MB (70.2%)\r"
                ]
              },
              {
                "output_type": "stream",
                "name": "stdout",
                "text": [
                  "Downloading... 316.17MB / 450.33MB (70.2%)\rDownloading... 316.25MB / 450.33MB (70.2%)\rDownloading... 316.33MB / 450.33MB (70.2%)\rDownloading... 316.41MB / 450.33MB (70.3%)\rDownloading... 316.48MB / 450.33MB (70.3%)\rDownloading... 316.56MB / 450.33MB (70.3%)\rDownloading... 316.64MB / 450.33MB (70.3%)\rDownloading... 316.72MB / 450.33MB (70.3%)\rDownloading... 316.80MB / 450.33MB (70.3%)\rDownloading... 316.88MB / 450.33MB (70.4%)\rDownloading... 316.95MB / 450.33MB (70.4%)\rDownloading... 317.03MB / 450.33MB (70.4%)\rDownloading... 317.11MB / 450.33MB (70.4%)\rDownloading... 317.19MB / 450.33MB (70.4%)\rDownloading... 317.27MB / 450.33MB (70.5%)\rDownloading... 317.34MB / 450.33MB (70.5%)\rDownloading... 317.42MB / 450.33MB (70.5%)\rDownloading... 317.50MB / 450.33MB (70.5%)\rDownloading... 317.58MB / 450.33MB (70.5%)\rDownloading... 317.66MB / 450.33MB (70.5%)\rDownloading... 317.73MB / 450.33MB (70.6%)\rDownloading... 317.81MB / 450.33MB (70.6%)\rDownloading... 317.89MB / 450.33MB (70.6%)\rDownloading... 317.97MB / 450.33MB (70.6%)\rDownloading... 318.05MB / 450.33MB (70.6%)\rDownloading... 318.12MB / 450.33MB (70.6%)\rDownloading... 318.20MB / 450.33MB (70.7%)\rDownloading... 318.28MB / 450.33MB (70.7%)\rDownloading... 318.36MB / 450.33MB (70.7%)\rDownloading... 318.44MB / 450.33MB (70.7%)\rDownloading... 318.52MB / 450.33MB (70.7%)\rDownloading... 318.59MB / 450.33MB (70.7%)\rDownloading... 318.67MB / 450.33MB (70.8%)\rDownloading... 318.75MB / 450.33MB (70.8%)\rDownloading... 318.83MB / 450.33MB (70.8%)\rDownloading... 318.91MB / 450.33MB (70.8%)\r"
                ]
              },
              {
                "output_type": "stream",
                "name": "stdout",
                "text": [
                  "Downloading... 318.98MB / 450.33MB (70.8%)\rDownloading... 319.06MB / 450.33MB (70.9%)\rDownloading... 319.14MB / 450.33MB (70.9%)\rDownloading... 319.22MB / 450.33MB (70.9%)\rDownloading... 319.30MB / 450.33MB (70.9%)\rDownloading... 319.38MB / 450.33MB (70.9%)\rDownloading... 319.45MB / 450.33MB (70.9%)\rDownloading... 319.53MB / 450.33MB (71.0%)\rDownloading... 319.61MB / 450.33MB (71.0%)\rDownloading... 319.69MB / 450.33MB (71.0%)\rDownloading... 319.77MB / 450.33MB (71.0%)\rDownloading... 319.84MB / 450.33MB (71.0%)\rDownloading... 319.92MB / 450.33MB (71.0%)\rDownloading... 320.00MB / 450.33MB (71.1%)\rDownloading... 320.08MB / 450.33MB (71.1%)\rDownloading... 320.16MB / 450.33MB (71.1%)\rDownloading... 320.23MB / 450.33MB (71.1%)\rDownloading... 320.31MB / 450.33MB (71.1%)\rDownloading... 320.39MB / 450.33MB (71.1%)\rDownloading... 320.47MB / 450.33MB (71.2%)\rDownloading... 320.55MB / 450.33MB (71.2%)\rDownloading... 320.62MB / 450.33MB (71.2%)\rDownloading... 320.70MB / 450.33MB (71.2%)\rDownloading... 320.78MB / 450.33MB (71.2%)\rDownloading... 320.86MB / 450.33MB (71.2%)\rDownloading... 320.94MB / 450.33MB (71.3%)\rDownloading... 321.02MB / 450.33MB (71.3%)\rDownloading... 321.09MB / 450.33MB (71.3%)\rDownloading... 321.17MB / 450.33MB (71.3%)\rDownloading... 321.25MB / 450.33MB (71.3%)\rDownloading... 321.33MB / 450.33MB (71.4%)\rDownloading... 321.41MB / 450.33MB (71.4%)\rDownloading... 321.48MB / 450.33MB (71.4%)\rDownloading... 321.56MB / 450.33MB (71.4%)\rDownloading... 321.64MB / 450.33MB (71.4%)\rDownloading... 321.72MB / 450.33MB (71.4%)\r"
                ]
              },
              {
                "output_type": "stream",
                "name": "stdout",
                "text": [
                  "Downloading... 321.80MB / 450.33MB (71.5%)\rDownloading... 321.88MB / 450.33MB (71.5%)\rDownloading... 321.95MB / 450.33MB (71.5%)\rDownloading... 322.03MB / 450.33MB (71.5%)\rDownloading... 322.11MB / 450.33MB (71.5%)\rDownloading... 322.19MB / 450.33MB (71.5%)\rDownloading... 322.27MB / 450.33MB (71.6%)\rDownloading... 322.34MB / 450.33MB (71.6%)\rDownloading... 322.42MB / 450.33MB (71.6%)\rDownloading... 322.50MB / 450.33MB (71.6%)\rDownloading... 322.58MB / 450.33MB (71.6%)\rDownloading... 322.66MB / 450.33MB (71.6%)\rDownloading... 322.73MB / 450.33MB (71.7%)\rDownloading... 322.81MB / 450.33MB (71.7%)\rDownloading... 322.89MB / 450.33MB (71.7%)\rDownloading... 322.97MB / 450.33MB (71.7%)\rDownloading... 323.05MB / 450.33MB (71.7%)\rDownloading... 323.12MB / 450.33MB (71.8%)\rDownloading... 323.20MB / 450.33MB (71.8%)\rDownloading... 323.28MB / 450.33MB (71.8%)\rDownloading... 323.36MB / 450.33MB (71.8%)\rDownloading... 323.44MB / 450.33MB (71.8%)\rDownloading... 323.52MB / 450.33MB (71.8%)\rDownloading... 323.59MB / 450.33MB (71.9%)\rDownloading... 323.67MB / 450.33MB (71.9%)\rDownloading... 323.75MB / 450.33MB (71.9%)\rDownloading... 323.83MB / 450.33MB (71.9%)\rDownloading... 323.91MB / 450.33MB (71.9%)\rDownloading... 323.98MB / 450.33MB (71.9%)\rDownloading... 324.06MB / 450.33MB (72.0%)\rDownloading... 324.14MB / 450.33MB (72.0%)\rDownloading... 324.22MB / 450.33MB (72.0%)\rDownloading... 324.30MB / 450.33MB (72.0%)\rDownloading... 324.38MB / 450.33MB (72.0%)\rDownloading... 324.45MB / 450.33MB (72.0%)\rDownloading... 324.53MB / 450.33MB (72.1%)\rDownloading... 324.61MB / 450.33MB (72.1%)\r"
                ]
              },
              {
                "output_type": "stream",
                "name": "stdout",
                "text": [
                  "Downloading... 324.69MB / 450.33MB (72.1%)\rDownloading... 324.77MB / 450.33MB (72.1%)\rDownloading... 324.84MB / 450.33MB (72.1%)\rDownloading... 324.92MB / 450.33MB (72.2%)\rDownloading... 325.00MB / 450.33MB (72.2%)\rDownloading... 325.08MB / 450.33MB (72.2%)\rDownloading... 325.16MB / 450.33MB (72.2%)\rDownloading... 325.23MB / 450.33MB (72.2%)\rDownloading... 325.31MB / 450.33MB (72.2%)\rDownloading... 325.39MB / 450.33MB (72.3%)\rDownloading... 325.47MB / 450.33MB (72.3%)\rDownloading... 325.55MB / 450.33MB (72.3%)\rDownloading... 325.62MB / 450.33MB (72.3%)\rDownloading... 325.70MB / 450.33MB (72.3%)\rDownloading... 325.78MB / 450.33MB (72.3%)\rDownloading... 325.86MB / 450.33MB (72.4%)\rDownloading... 325.94MB / 450.33MB (72.4%)\rDownloading... 326.02MB / 450.33MB (72.4%)\rDownloading... 326.09MB / 450.33MB (72.4%)\rDownloading... 326.17MB / 450.33MB (72.4%)\rDownloading... 326.25MB / 450.33MB (72.4%)\rDownloading... 326.33MB / 450.33MB (72.5%)\rDownloading... 326.41MB / 450.33MB (72.5%)\rDownloading... 326.48MB / 450.33MB (72.5%)\rDownloading... 326.56MB / 450.33MB (72.5%)\rDownloading... 326.64MB / 450.33MB (72.5%)\rDownloading... 326.72MB / 450.33MB (72.6%)\rDownloading... 326.80MB / 450.33MB (72.6%)\rDownloading... 326.88MB / 450.33MB (72.6%)\rDownloading... 326.95MB / 450.33MB (72.6%)\rDownloading... 327.03MB / 450.33MB (72.6%)\r"
                ]
              },
              {
                "output_type": "stream",
                "name": "stdout",
                "text": [
                  "Downloading... 327.11MB / 450.33MB (72.6%)\rDownloading... 327.19MB / 450.33MB (72.7%)\rDownloading... 327.27MB / 450.33MB (72.7%)\rDownloading... 327.34MB / 450.33MB (72.7%)\rDownloading... 327.42MB / 450.33MB (72.7%)\rDownloading... 327.50MB / 450.33MB (72.7%)\rDownloading... 327.58MB / 450.33MB (72.7%)\rDownloading... 327.66MB / 450.33MB (72.8%)\rDownloading... 327.73MB / 450.33MB (72.8%)\rDownloading... 327.81MB / 450.33MB (72.8%)\rDownloading... 327.89MB / 450.33MB (72.8%)\rDownloading... 327.97MB / 450.33MB (72.8%)\rDownloading... 328.05MB / 450.33MB (72.8%)\rDownloading... 328.12MB / 450.33MB (72.9%)\rDownloading... 328.20MB / 450.33MB (72.9%)\rDownloading... 328.28MB / 450.33MB (72.9%)\rDownloading... 328.36MB / 450.33MB (72.9%)\rDownloading... 328.44MB / 450.33MB (72.9%)\rDownloading... 328.52MB / 450.33MB (73.0%)\rDownloading... 328.59MB / 450.33MB (73.0%)\rDownloading... 328.67MB / 450.33MB (73.0%)\rDownloading... 328.75MB / 450.33MB (73.0%)\rDownloading... 328.83MB / 450.33MB (73.0%)\rDownloading... 328.91MB / 450.33MB (73.0%)\rDownloading... 328.98MB / 450.33MB (73.1%)\rDownloading... 329.06MB / 450.33MB (73.1%)\rDownloading... 329.14MB / 450.33MB (73.1%)\rDownloading... 329.22MB / 450.33MB (73.1%)\rDownloading... 329.30MB / 450.33MB (73.1%)\rDownloading... 329.38MB / 450.33MB (73.1%)\rDownloading... 329.45MB / 450.33MB (73.2%)\rDownloading... 329.53MB / 450.33MB (73.2%)\rDownloading... 329.61MB / 450.33MB (73.2%)\rDownloading... 329.69MB / 450.33MB (73.2%)\rDownloading... 329.77MB / 450.33MB (73.2%)\rDownloading... 329.84MB / 450.33MB (73.2%)\rDownloading... 329.92MB / 450.33MB (73.3%)\rDownloading... 330.00MB / 450.33MB (73.3%)\rDownloading... 330.08MB / 450.33MB (73.3%)\rDownloading... 330.16MB / 450.33MB (73.3%)\r"
                ]
              },
              {
                "output_type": "stream",
                "name": "stdout",
                "text": [
                  "Downloading... 330.23MB / 450.33MB (73.3%)\rDownloading... 330.31MB / 450.33MB (73.3%)\rDownloading... 330.39MB / 450.33MB (73.4%)\rDownloading... 330.47MB / 450.33MB (73.4%)\rDownloading... 330.55MB / 450.33MB (73.4%)\rDownloading... 330.62MB / 450.33MB (73.4%)\rDownloading... 330.70MB / 450.33MB (73.4%)\rDownloading... 330.78MB / 450.33MB (73.5%)\rDownloading... 330.86MB / 450.33MB (73.5%)\rDownloading... 330.94MB / 450.33MB (73.5%)\rDownloading... 331.02MB / 450.33MB (73.5%)\rDownloading... 331.09MB / 450.33MB (73.5%)\rDownloading... 331.17MB / 450.33MB (73.5%)\rDownloading... 331.25MB / 450.33MB (73.6%)\rDownloading... 331.33MB / 450.33MB (73.6%)\rDownloading... 331.41MB / 450.33MB (73.6%)\rDownloading... 331.48MB / 450.33MB (73.6%)\rDownloading... 331.56MB / 450.33MB (73.6%)\rDownloading... 331.64MB / 450.33MB (73.6%)\rDownloading... 331.72MB / 450.33MB (73.7%)\rDownloading... 331.80MB / 450.33MB (73.7%)\rDownloading... 331.88MB / 450.33MB (73.7%)\rDownloading... 331.95MB / 450.33MB (73.7%)\rDownloading... 332.03MB / 450.33MB (73.7%)\rDownloading... 332.11MB / 450.33MB (73.7%)\rDownloading... 332.19MB / 450.33MB (73.8%)\rDownloading... 332.27MB / 450.33MB (73.8%)\rDownloading... 332.34MB / 450.33MB (73.8%)\rDownloading... 332.42MB / 450.33MB (73.8%)\rDownloading... 332.50MB / 450.33MB (73.8%)\rDownloading... 332.58MB / 450.33MB (73.9%)\rDownloading... 332.66MB / 450.33MB (73.9%)\rDownloading... 332.73MB / 450.33MB (73.9%)\rDownloading... 332.81MB / 450.33MB (73.9%)\rDownloading... 332.89MB / 450.33MB (73.9%)\rDownloading... 332.97MB / 450.33MB (73.9%)\rDownloading... 333.05MB / 450.33MB (74.0%)\rDownloading... 333.12MB / 450.33MB (74.0%)\r"
                ]
              },
              {
                "output_type": "stream",
                "name": "stdout",
                "text": [
                  "Downloading... 333.20MB / 450.33MB (74.0%)\rDownloading... 333.28MB / 450.33MB (74.0%)\rDownloading... 333.36MB / 450.33MB (74.0%)\rDownloading... 333.44MB / 450.33MB (74.0%)\rDownloading... 333.52MB / 450.33MB (74.1%)\rDownloading... 333.59MB / 450.33MB (74.1%)\rDownloading... 333.67MB / 450.33MB (74.1%)\rDownloading... 333.75MB / 450.33MB (74.1%)\rDownloading... 333.83MB / 450.33MB (74.1%)\rDownloading... 333.91MB / 450.33MB (74.1%)\rDownloading... 333.98MB / 450.33MB (74.2%)\rDownloading... 334.06MB / 450.33MB (74.2%)\rDownloading... 334.14MB / 450.33MB (74.2%)\rDownloading... 334.22MB / 450.33MB (74.2%)\rDownloading... 334.30MB / 450.33MB (74.2%)\rDownloading... 334.38MB / 450.33MB (74.3%)\rDownloading... 334.45MB / 450.33MB (74.3%)\rDownloading... 334.53MB / 450.33MB (74.3%)\rDownloading... 334.61MB / 450.33MB (74.3%)\rDownloading... 334.69MB / 450.33MB (74.3%)\rDownloading... 334.77MB / 450.33MB (74.3%)\rDownloading... 334.84MB / 450.33MB (74.4%)\rDownloading... 334.92MB / 450.33MB (74.4%)\rDownloading... 335.00MB / 450.33MB (74.4%)\rDownloading... 335.08MB / 450.33MB (74.4%)\rDownloading... 335.16MB / 450.33MB (74.4%)\rDownloading... 335.23MB / 450.33MB (74.4%)\rDownloading... 335.31MB / 450.33MB (74.5%)\rDownloading... 335.39MB / 450.33MB (74.5%)\rDownloading... 335.47MB / 450.33MB (74.5%)\rDownloading... 335.55MB / 450.33MB (74.5%)\rDownloading... 335.62MB / 450.33MB (74.5%)\rDownloading... 335.70MB / 450.33MB (74.5%)\rDownloading... 335.78MB / 450.33MB (74.6%)\r"
                ]
              },
              {
                "output_type": "stream",
                "name": "stdout",
                "text": [
                  "Downloading... 335.86MB / 450.33MB (74.6%)\rDownloading... 335.94MB / 450.33MB (74.6%)\rDownloading... 336.02MB / 450.33MB (74.6%)\rDownloading... 336.09MB / 450.33MB (74.6%)\rDownloading... 336.17MB / 450.33MB (74.7%)\rDownloading... 336.25MB / 450.33MB (74.7%)\rDownloading... 336.33MB / 450.33MB (74.7%)\rDownloading... 336.41MB / 450.33MB (74.7%)\rDownloading... 336.48MB / 450.33MB (74.7%)\rDownloading... 336.56MB / 450.33MB (74.7%)\rDownloading... 336.64MB / 450.33MB (74.8%)\rDownloading... 336.72MB / 450.33MB (74.8%)\rDownloading... 336.80MB / 450.33MB (74.8%)\rDownloading... 336.88MB / 450.33MB (74.8%)\rDownloading... 336.95MB / 450.33MB (74.8%)\rDownloading... 337.03MB / 450.33MB (74.8%)\rDownloading... 337.11MB / 450.33MB (74.9%)\rDownloading... 337.19MB / 450.33MB (74.9%)\rDownloading... 337.27MB / 450.33MB (74.9%)\rDownloading... 337.34MB / 450.33MB (74.9%)\rDownloading... 337.42MB / 450.33MB (74.9%)\rDownloading... 337.50MB / 450.33MB (74.9%)\rDownloading... 337.58MB / 450.33MB (75.0%)\rDownloading... 337.66MB / 450.33MB (75.0%)\rDownloading... 337.73MB / 450.33MB (75.0%)\rDownloading... 337.81MB / 450.33MB (75.0%)\rDownloading... 337.89MB / 450.33MB (75.0%)\rDownloading... 337.97MB / 450.33MB (75.0%)\rDownloading... 338.05MB / 450.33MB (75.1%)\rDownloading... 338.12MB / 450.33MB (75.1%)\rDownloading... 338.20MB / 450.33MB (75.1%)\rDownloading... 338.28MB / 450.33MB (75.1%)\rDownloading... 338.36MB / 450.33MB (75.1%)\rDownloading... 338.44MB / 450.33MB (75.2%)\r"
                ]
              },
              {
                "output_type": "stream",
                "name": "stdout",
                "text": [
                  "Downloading... 338.52MB / 450.33MB (75.2%)\rDownloading... 338.59MB / 450.33MB (75.2%)\rDownloading... 338.67MB / 450.33MB (75.2%)\rDownloading... 338.75MB / 450.33MB (75.2%)\rDownloading... 338.83MB / 450.33MB (75.2%)\rDownloading... 338.91MB / 450.33MB (75.3%)\rDownloading... 338.98MB / 450.33MB (75.3%)\rDownloading... 339.06MB / 450.33MB (75.3%)\rDownloading... 339.14MB / 450.33MB (75.3%)\rDownloading... 339.22MB / 450.33MB (75.3%)\rDownloading... 339.30MB / 450.33MB (75.3%)\rDownloading... 339.38MB / 450.33MB (75.4%)\rDownloading... 339.45MB / 450.33MB (75.4%)\rDownloading... 339.53MB / 450.33MB (75.4%)\rDownloading... 339.61MB / 450.33MB (75.4%)\rDownloading... 339.69MB / 450.33MB (75.4%)\rDownloading... 339.77MB / 450.33MB (75.4%)\rDownloading... 339.84MB / 450.33MB (75.5%)\rDownloading... 339.92MB / 450.33MB (75.5%)\rDownloading... 340.00MB / 450.33MB (75.5%)\rDownloading... 340.08MB / 450.33MB (75.5%)\rDownloading... 340.16MB / 450.33MB (75.5%)\rDownloading... 340.23MB / 450.33MB (75.6%)\rDownloading... 340.31MB / 450.33MB (75.6%)\rDownloading... 340.39MB / 450.33MB (75.6%)\rDownloading... 340.47MB / 450.33MB (75.6%)\rDownloading... 340.55MB / 450.33MB (75.6%)\rDownloading... 340.62MB / 450.33MB (75.6%)\rDownloading... 340.70MB / 450.33MB (75.7%)\rDownloading... 340.78MB / 450.33MB (75.7%)\rDownloading... 340.86MB / 450.33MB (75.7%)\rDownloading... 340.94MB / 450.33MB (75.7%)\rDownloading... 341.02MB / 450.33MB (75.7%)\rDownloading... 341.09MB / 450.33MB (75.7%)\rDownloading... 341.17MB / 450.33MB (75.8%)\rDownloading... 341.25MB / 450.33MB (75.8%)\r"
                ]
              },
              {
                "output_type": "stream",
                "name": "stdout",
                "text": [
                  "Downloading... 341.33MB / 450.33MB (75.8%)\rDownloading... 341.41MB / 450.33MB (75.8%)\rDownloading... 341.48MB / 450.33MB (75.8%)\rDownloading... 341.56MB / 450.33MB (75.8%)\rDownloading... 341.64MB / 450.33MB (75.9%)\rDownloading... 341.72MB / 450.33MB (75.9%)\rDownloading... 341.80MB / 450.33MB (75.9%)\rDownloading... 341.88MB / 450.33MB (75.9%)\rDownloading... 341.95MB / 450.33MB (75.9%)\rDownloading... 342.03MB / 450.33MB (76.0%)\rDownloading... 342.11MB / 450.33MB (76.0%)\rDownloading... 342.19MB / 450.33MB (76.0%)\rDownloading... 342.27MB / 450.33MB (76.0%)\rDownloading... 342.34MB / 450.33MB (76.0%)\rDownloading... 342.42MB / 450.33MB (76.0%)\rDownloading... 342.50MB / 450.33MB (76.1%)\rDownloading... 342.58MB / 450.33MB (76.1%)\rDownloading... 342.66MB / 450.33MB (76.1%)\rDownloading... 342.73MB / 450.33MB (76.1%)\rDownloading... 342.81MB / 450.33MB (76.1%)\rDownloading... 342.89MB / 450.33MB (76.1%)\rDownloading... 342.97MB / 450.33MB (76.2%)\rDownloading... 343.05MB / 450.33MB (76.2%)\rDownloading... 343.12MB / 450.33MB (76.2%)\rDownloading... 343.20MB / 450.33MB (76.2%)\rDownloading... 343.28MB / 450.33MB (76.2%)\rDownloading... 343.36MB / 450.33MB (76.2%)\rDownloading... 343.44MB / 450.33MB (76.3%)\rDownloading... 343.52MB / 450.33MB (76.3%)\rDownloading... 343.59MB / 450.33MB (76.3%)\rDownloading... 343.67MB / 450.33MB (76.3%)\rDownloading... 343.75MB / 450.33MB (76.3%)\rDownloading... 343.83MB / 450.33MB (76.4%)\rDownloading... 343.91MB / 450.33MB (76.4%)\rDownloading... 343.98MB / 450.33MB (76.4%)\r"
                ]
              },
              {
                "output_type": "stream",
                "name": "stdout",
                "text": [
                  "Downloading... 344.06MB / 450.33MB (76.4%)\rDownloading... 344.14MB / 450.33MB (76.4%)\rDownloading... 344.22MB / 450.33MB (76.4%)\rDownloading... 344.30MB / 450.33MB (76.5%)\rDownloading... 344.38MB / 450.33MB (76.5%)\rDownloading... 344.45MB / 450.33MB (76.5%)\rDownloading... 344.53MB / 450.33MB (76.5%)\rDownloading... 344.61MB / 450.33MB (76.5%)\rDownloading... 344.69MB / 450.33MB (76.5%)\rDownloading... 344.77MB / 450.33MB (76.6%)\rDownloading... 344.84MB / 450.33MB (76.6%)\rDownloading... 344.92MB / 450.33MB (76.6%)\rDownloading... 345.00MB / 450.33MB (76.6%)\rDownloading... 345.08MB / 450.33MB (76.6%)\rDownloading... 345.16MB / 450.33MB (76.6%)\rDownloading... 345.23MB / 450.33MB (76.7%)\rDownloading... 345.31MB / 450.33MB (76.7%)\rDownloading... 345.39MB / 450.33MB (76.7%)\rDownloading... 345.47MB / 450.33MB (76.7%)\rDownloading... 345.55MB / 450.33MB (76.7%)\rDownloading... 345.62MB / 450.33MB (76.7%)\rDownloading... 345.70MB / 450.33MB (76.8%)\rDownloading... 345.78MB / 450.33MB (76.8%)\rDownloading... 345.86MB / 450.33MB (76.8%)\rDownloading... 345.94MB / 450.33MB (76.8%)\rDownloading... 346.02MB / 450.33MB (76.8%)\rDownloading... 346.09MB / 450.33MB (76.9%)\rDownloading... 346.17MB / 450.33MB (76.9%)\rDownloading... 346.25MB / 450.33MB (76.9%)\rDownloading... 346.33MB / 450.33MB (76.9%)\rDownloading... 346.41MB / 450.33MB (76.9%)\rDownloading... 346.48MB / 450.33MB (76.9%)\rDownloading... 346.56MB / 450.33MB (77.0%)\rDownloading... 346.64MB / 450.33MB (77.0%)\rDownloading... 346.72MB / 450.33MB (77.0%)\rDownloading... 346.80MB / 450.33MB (77.0%)\rDownloading... 346.88MB / 450.33MB (77.0%)\r"
                ]
              },
              {
                "output_type": "stream",
                "name": "stdout",
                "text": [
                  "Downloading... 346.95MB / 450.33MB (77.0%)\rDownloading... 347.03MB / 450.33MB (77.1%)\rDownloading... 347.11MB / 450.33MB (77.1%)\rDownloading... 347.19MB / 450.33MB (77.1%)\rDownloading... 347.27MB / 450.33MB (77.1%)\rDownloading... 347.34MB / 450.33MB (77.1%)\rDownloading... 347.42MB / 450.33MB (77.1%)\rDownloading... 347.50MB / 450.33MB (77.2%)\rDownloading... 347.58MB / 450.33MB (77.2%)\rDownloading... 347.66MB / 450.33MB (77.2%)\rDownloading... 347.73MB / 450.33MB (77.2%)\rDownloading... 347.81MB / 450.33MB (77.2%)\rDownloading... 347.89MB / 450.33MB (77.3%)\rDownloading... 347.97MB / 450.33MB (77.3%)\rDownloading... 348.05MB / 450.33MB (77.3%)\rDownloading... 348.12MB / 450.33MB (77.3%)\rDownloading... 348.20MB / 450.33MB (77.3%)\rDownloading... 348.28MB / 450.33MB (77.3%)\rDownloading... 348.36MB / 450.33MB (77.4%)\rDownloading... 348.44MB / 450.33MB (77.4%)\rDownloading... 348.52MB / 450.33MB (77.4%)\rDownloading... 348.59MB / 450.33MB (77.4%)\rDownloading... 348.67MB / 450.33MB (77.4%)\rDownloading... 348.75MB / 450.33MB (77.4%)\rDownloading... 348.83MB / 450.33MB (77.5%)\rDownloading... 348.91MB / 450.33MB (77.5%)\rDownloading... 348.98MB / 450.33MB (77.5%)\rDownloading... 349.06MB / 450.33MB (77.5%)\rDownloading... 349.14MB / 450.33MB (77.5%)\rDownloading... 349.22MB / 450.33MB (77.5%)\rDownloading... 349.30MB / 450.33MB (77.6%)\rDownloading... 349.38MB / 450.33MB (77.6%)\rDownloading... 349.45MB / 450.33MB (77.6%)\rDownloading... 349.53MB / 450.33MB (77.6%)\rDownloading... 349.61MB / 450.33MB (77.6%)\r"
                ]
              },
              {
                "output_type": "stream",
                "name": "stdout",
                "text": [
                  "Downloading... 349.69MB / 450.33MB (77.7%)\rDownloading... 349.77MB / 450.33MB (77.7%)\rDownloading... 349.84MB / 450.33MB (77.7%)\rDownloading... 349.92MB / 450.33MB (77.7%)\rDownloading... 350.00MB / 450.33MB (77.7%)\rDownloading... 350.08MB / 450.33MB (77.7%)\rDownloading... 350.16MB / 450.33MB (77.8%)\rDownloading... 350.23MB / 450.33MB (77.8%)\rDownloading... 350.31MB / 450.33MB (77.8%)\rDownloading... 350.39MB / 450.33MB (77.8%)\rDownloading... 350.47MB / 450.33MB (77.8%)\rDownloading... 350.55MB / 450.33MB (77.8%)\rDownloading... 350.62MB / 450.33MB (77.9%)\rDownloading... 350.70MB / 450.33MB (77.9%)\rDownloading... 350.78MB / 450.33MB (77.9%)\rDownloading... 350.86MB / 450.33MB (77.9%)\rDownloading... 350.94MB / 450.33MB (77.9%)\rDownloading... 351.02MB / 450.33MB (77.9%)\rDownloading... 351.09MB / 450.33MB (78.0%)\rDownloading... 351.17MB / 450.33MB (78.0%)\rDownloading... 351.25MB / 450.33MB (78.0%)\rDownloading... 351.33MB / 450.33MB (78.0%)\rDownloading... 351.41MB / 450.33MB (78.0%)\rDownloading... 351.48MB / 450.33MB (78.1%)\rDownloading... 351.56MB / 450.33MB (78.1%)\rDownloading... 351.64MB / 450.33MB (78.1%)\rDownloading... 351.72MB / 450.33MB (78.1%)\rDownloading... 351.80MB / 450.33MB (78.1%)\rDownloading... 351.88MB / 450.33MB (78.1%)\rDownloading... 351.95MB / 450.33MB (78.2%)\rDownloading... 352.03MB / 450.33MB (78.2%)\rDownloading... 352.11MB / 450.33MB (78.2%)\rDownloading... 352.19MB / 450.33MB (78.2%)\rDownloading... 352.27MB / 450.33MB (78.2%)\r"
                ]
              },
              {
                "output_type": "stream",
                "name": "stdout",
                "text": [
                  "Downloading... 352.34MB / 450.33MB (78.2%)\rDownloading... 352.42MB / 450.33MB (78.3%)\rDownloading... 352.50MB / 450.33MB (78.3%)\rDownloading... 352.58MB / 450.33MB (78.3%)\rDownloading... 352.66MB / 450.33MB (78.3%)\rDownloading... 352.73MB / 450.33MB (78.3%)\rDownloading... 352.81MB / 450.33MB (78.3%)\rDownloading... 352.89MB / 450.33MB (78.4%)\rDownloading... 352.97MB / 450.33MB (78.4%)\rDownloading... 353.05MB / 450.33MB (78.4%)\rDownloading... 353.12MB / 450.33MB (78.4%)\rDownloading... 353.20MB / 450.33MB (78.4%)\rDownloading... 353.28MB / 450.33MB (78.4%)\rDownloading... 353.36MB / 450.33MB (78.5%)\rDownloading... 353.44MB / 450.33MB (78.5%)\rDownloading... 353.52MB / 450.33MB (78.5%)\rDownloading... 353.59MB / 450.33MB (78.5%)\rDownloading... 353.67MB / 450.33MB (78.5%)\rDownloading... 353.75MB / 450.33MB (78.6%)\rDownloading... 353.83MB / 450.33MB (78.6%)\rDownloading... 353.91MB / 450.33MB (78.6%)\rDownloading... 353.98MB / 450.33MB (78.6%)\rDownloading... 354.06MB / 450.33MB (78.6%)\rDownloading... 354.14MB / 450.33MB (78.6%)\rDownloading... 354.22MB / 450.33MB (78.7%)\rDownloading... 354.30MB / 450.33MB (78.7%)\rDownloading... 354.38MB / 450.33MB (78.7%)\rDownloading... 354.45MB / 450.33MB (78.7%)\rDownloading... 354.53MB / 450.33MB (78.7%)\rDownloading... 354.61MB / 450.33MB (78.7%)\rDownloading... 354.69MB / 450.33MB (78.8%)\rDownloading... 354.77MB / 450.33MB (78.8%)\rDownloading... 354.84MB / 450.33MB (78.8%)\rDownloading... 354.92MB / 450.33MB (78.8%)\rDownloading... 355.00MB / 450.33MB (78.8%)\rDownloading... 355.08MB / 450.33MB (78.8%)\rDownloading... 355.16MB / 450.33MB (78.9%)\rDownloading... 355.23MB / 450.33MB (78.9%)\r"
                ]
              },
              {
                "output_type": "stream",
                "name": "stdout",
                "text": [
                  "Downloading... 355.31MB / 450.33MB (78.9%)\rDownloading... 355.39MB / 450.33MB (78.9%)\rDownloading... 355.47MB / 450.33MB (78.9%)\rDownloading... 355.55MB / 450.33MB (79.0%)\rDownloading... 355.62MB / 450.33MB (79.0%)\rDownloading... 355.70MB / 450.33MB (79.0%)\rDownloading... 355.78MB / 450.33MB (79.0%)\rDownloading... 355.86MB / 450.33MB (79.0%)\rDownloading... 355.94MB / 450.33MB (79.0%)\rDownloading... 356.02MB / 450.33MB (79.1%)\rDownloading... 356.09MB / 450.33MB (79.1%)\rDownloading... 356.17MB / 450.33MB (79.1%)\rDownloading... 356.25MB / 450.33MB (79.1%)\rDownloading... 356.33MB / 450.33MB (79.1%)\rDownloading... 356.41MB / 450.33MB (79.1%)\rDownloading... 356.48MB / 450.33MB (79.2%)\rDownloading... 356.56MB / 450.33MB (79.2%)\rDownloading... 356.64MB / 450.33MB (79.2%)\rDownloading... 356.72MB / 450.33MB (79.2%)\rDownloading... 356.80MB / 450.33MB (79.2%)\rDownloading... 356.88MB / 450.33MB (79.2%)\rDownloading... 356.95MB / 450.33MB (79.3%)\rDownloading... 357.03MB / 450.33MB (79.3%)\rDownloading... 357.11MB / 450.33MB (79.3%)\rDownloading... 357.19MB / 450.33MB (79.3%)\rDownloading... 357.27MB / 450.33MB (79.3%)\rDownloading... 357.34MB / 450.33MB (79.4%)\rDownloading... 357.42MB / 450.33MB (79.4%)\rDownloading... 357.50MB / 450.33MB (79.4%)\rDownloading... 357.58MB / 450.33MB (79.4%)\rDownloading... 357.66MB / 450.33MB (79.4%)\rDownloading... 357.73MB / 450.33MB (79.4%)\rDownloading... 357.81MB / 450.33MB (79.5%)\rDownloading... 357.89MB / 450.33MB (79.5%)\r"
                ]
              },
              {
                "output_type": "stream",
                "name": "stdout",
                "text": [
                  "Downloading... 357.97MB / 450.33MB (79.5%)\rDownloading... 358.05MB / 450.33MB (79.5%)\rDownloading... 358.12MB / 450.33MB (79.5%)\rDownloading... 358.20MB / 450.33MB (79.5%)\rDownloading... 358.28MB / 450.33MB (79.6%)\rDownloading... 358.36MB / 450.33MB (79.6%)\rDownloading... 358.44MB / 450.33MB (79.6%)\rDownloading... 358.52MB / 450.33MB (79.6%)\rDownloading... 358.59MB / 450.33MB (79.6%)\rDownloading... 358.67MB / 450.33MB (79.6%)\rDownloading... 358.75MB / 450.33MB (79.7%)\rDownloading... 358.83MB / 450.33MB (79.7%)\rDownloading... 358.91MB / 450.33MB (79.7%)\rDownloading... 358.98MB / 450.33MB (79.7%)\rDownloading... 359.06MB / 450.33MB (79.7%)\rDownloading... 359.14MB / 450.33MB (79.8%)\rDownloading... 359.22MB / 450.33MB (79.8%)\rDownloading... 359.30MB / 450.33MB (79.8%)\rDownloading... 359.38MB / 450.33MB (79.8%)\rDownloading... 359.45MB / 450.33MB (79.8%)\rDownloading... 359.53MB / 450.33MB (79.8%)\rDownloading... 359.61MB / 450.33MB (79.9%)\rDownloading... 359.69MB / 450.33MB (79.9%)\rDownloading... 359.77MB / 450.33MB (79.9%)\rDownloading... 359.84MB / 450.33MB (79.9%)\rDownloading... 359.92MB / 450.33MB (79.9%)\rDownloading... 360.00MB / 450.33MB (79.9%)\rDownloading... 360.08MB / 450.33MB (80.0%)\rDownloading... 360.16MB / 450.33MB (80.0%)\rDownloading... 360.23MB / 450.33MB (80.0%)\rDownloading... 360.31MB / 450.33MB (80.0%)\rDownloading... 360.39MB / 450.33MB (80.0%)\rDownloading... 360.47MB / 450.33MB (80.0%)\rDownloading... 360.55MB / 450.33MB (80.1%)\r"
                ]
              },
              {
                "output_type": "stream",
                "name": "stdout",
                "text": [
                  "Downloading... 360.62MB / 450.33MB (80.1%)\rDownloading... 360.70MB / 450.33MB (80.1%)\rDownloading... 360.78MB / 450.33MB (80.1%)\rDownloading... 360.86MB / 450.33MB (80.1%)\rDownloading... 360.94MB / 450.33MB (80.1%)\rDownloading... 361.02MB / 450.33MB (80.2%)\rDownloading... 361.09MB / 450.33MB (80.2%)\rDownloading... 361.17MB / 450.33MB (80.2%)\rDownloading... 361.25MB / 450.33MB (80.2%)\rDownloading... 361.33MB / 450.33MB (80.2%)\rDownloading... 361.41MB / 450.33MB (80.3%)\rDownloading... 361.48MB / 450.33MB (80.3%)\rDownloading... 361.56MB / 450.33MB (80.3%)\rDownloading... 361.64MB / 450.33MB (80.3%)\rDownloading... 361.72MB / 450.33MB (80.3%)\rDownloading... 361.80MB / 450.33MB (80.3%)\rDownloading... 361.88MB / 450.33MB (80.4%)\rDownloading... 361.95MB / 450.33MB (80.4%)\rDownloading... 362.03MB / 450.33MB (80.4%)\rDownloading... 362.11MB / 450.33MB (80.4%)\rDownloading... 362.19MB / 450.33MB (80.4%)\rDownloading... 362.27MB / 450.33MB (80.4%)\rDownloading... 362.34MB / 450.33MB (80.5%)\rDownloading... 362.42MB / 450.33MB (80.5%)\rDownloading... 362.50MB / 450.33MB (80.5%)\rDownloading... 362.58MB / 450.33MB (80.5%)\rDownloading... 362.66MB / 450.33MB (80.5%)\rDownloading... 362.73MB / 450.33MB (80.5%)\rDownloading... 362.81MB / 450.33MB (80.6%)\rDownloading... 362.89MB / 450.33MB (80.6%)\rDownloading... 362.97MB / 450.33MB (80.6%)\rDownloading... 363.05MB / 450.33MB (80.6%)\rDownloading... 363.12MB / 450.33MB (80.6%)\rDownloading... 363.20MB / 450.33MB (80.7%)\rDownloading... 363.28MB / 450.33MB (80.7%)\r"
                ]
              },
              {
                "output_type": "stream",
                "name": "stdout",
                "text": [
                  "Downloading... 363.36MB / 450.33MB (80.7%)\rDownloading... 363.44MB / 450.33MB (80.7%)\rDownloading... 363.52MB / 450.33MB (80.7%)\rDownloading... 363.59MB / 450.33MB (80.7%)\rDownloading... 363.67MB / 450.33MB (80.8%)\rDownloading... 363.75MB / 450.33MB (80.8%)\rDownloading... 363.83MB / 450.33MB (80.8%)\rDownloading... 363.91MB / 450.33MB (80.8%)\rDownloading... 363.98MB / 450.33MB (80.8%)\rDownloading... 364.06MB / 450.33MB (80.8%)\rDownloading... 364.14MB / 450.33MB (80.9%)\rDownloading... 364.22MB / 450.33MB (80.9%)\rDownloading... 364.30MB / 450.33MB (80.9%)\rDownloading... 364.38MB / 450.33MB (80.9%)\rDownloading... 364.45MB / 450.33MB (80.9%)\rDownloading... 364.53MB / 450.33MB (80.9%)\rDownloading... 364.61MB / 450.33MB (81.0%)\rDownloading... 364.69MB / 450.33MB (81.0%)\rDownloading... 364.77MB / 450.33MB (81.0%)\rDownloading... 364.84MB / 450.33MB (81.0%)\rDownloading... 364.92MB / 450.33MB (81.0%)\rDownloading... 365.00MB / 450.33MB (81.1%)\rDownloading... 365.08MB / 450.33MB (81.1%)\rDownloading... 365.16MB / 450.33MB (81.1%)\rDownloading... 365.23MB / 450.33MB (81.1%)\rDownloading... 365.31MB / 450.33MB (81.1%)\rDownloading... 365.39MB / 450.33MB (81.1%)\rDownloading... 365.47MB / 450.33MB (81.2%)\rDownloading... 365.55MB / 450.33MB (81.2%)\rDownloading... 365.62MB / 450.33MB (81.2%)\rDownloading... 365.70MB / 450.33MB (81.2%)\rDownloading... 365.78MB / 450.33MB (81.2%)\rDownloading... 365.86MB / 450.33MB (81.2%)\rDownloading... 365.94MB / 450.33MB (81.3%)\rDownloading... 366.02MB / 450.33MB (81.3%)\r"
                ]
              },
              {
                "output_type": "stream",
                "name": "stdout",
                "text": [
                  "Downloading... 366.09MB / 450.33MB (81.3%)\rDownloading... 366.17MB / 450.33MB (81.3%)\rDownloading... 366.25MB / 450.33MB (81.3%)\rDownloading... 366.33MB / 450.33MB (81.3%)\rDownloading... 366.41MB / 450.33MB (81.4%)\rDownloading... 366.48MB / 450.33MB (81.4%)\rDownloading... 366.56MB / 450.33MB (81.4%)\rDownloading... 366.64MB / 450.33MB (81.4%)\rDownloading... 366.72MB / 450.33MB (81.4%)\rDownloading... 366.80MB / 450.33MB (81.5%)\rDownloading... 366.88MB / 450.33MB (81.5%)\rDownloading... 366.95MB / 450.33MB (81.5%)\rDownloading... 367.03MB / 450.33MB (81.5%)\rDownloading... 367.11MB / 450.33MB (81.5%)\rDownloading... 367.19MB / 450.33MB (81.5%)\rDownloading... 367.27MB / 450.33MB (81.6%)\rDownloading... 367.34MB / 450.33MB (81.6%)\rDownloading... 367.42MB / 450.33MB (81.6%)\rDownloading... 367.50MB / 450.33MB (81.6%)\rDownloading... 367.58MB / 450.33MB (81.6%)\rDownloading... 367.66MB / 450.33MB (81.6%)\rDownloading... 367.73MB / 450.33MB (81.7%)\rDownloading... 367.81MB / 450.33MB (81.7%)\rDownloading... 367.89MB / 450.33MB (81.7%)\rDownloading... 367.97MB / 450.33MB (81.7%)\rDownloading... 368.05MB / 450.33MB (81.7%)\rDownloading... 368.12MB / 450.33MB (81.7%)\rDownloading... 368.20MB / 450.33MB (81.8%)\rDownloading... 368.28MB / 450.33MB (81.8%)\rDownloading... 368.36MB / 450.33MB (81.8%)\rDownloading... 368.44MB / 450.33MB (81.8%)\rDownloading... 368.52MB / 450.33MB (81.8%)\rDownloading... 368.59MB / 450.33MB (81.8%)\rDownloading... 368.67MB / 450.33MB (81.9%)\r"
                ]
              },
              {
                "output_type": "stream",
                "name": "stdout",
                "text": [
                  "Downloading... 368.75MB / 450.33MB (81.9%)\rDownloading... 368.83MB / 450.33MB (81.9%)\rDownloading... 368.91MB / 450.33MB (81.9%)\rDownloading... 368.98MB / 450.33MB (81.9%)\rDownloading... 369.06MB / 450.33MB (82.0%)\rDownloading... 369.14MB / 450.33MB (82.0%)\rDownloading... 369.22MB / 450.33MB (82.0%)\rDownloading... 369.30MB / 450.33MB (82.0%)\rDownloading... 369.38MB / 450.33MB (82.0%)\rDownloading... 369.45MB / 450.33MB (82.0%)\rDownloading... 369.53MB / 450.33MB (82.1%)\rDownloading... 369.61MB / 450.33MB (82.1%)\rDownloading... 369.69MB / 450.33MB (82.1%)\rDownloading... 369.77MB / 450.33MB (82.1%)\rDownloading... 369.84MB / 450.33MB (82.1%)\rDownloading... 369.92MB / 450.33MB (82.1%)\rDownloading... 370.00MB / 450.33MB (82.2%)\rDownloading... 370.08MB / 450.33MB (82.2%)\rDownloading... 370.16MB / 450.33MB (82.2%)\rDownloading... 370.23MB / 450.33MB (82.2%)\rDownloading... 370.31MB / 450.33MB (82.2%)\rDownloading... 370.39MB / 450.33MB (82.2%)\rDownloading... 370.47MB / 450.33MB (82.3%)\rDownloading... 370.55MB / 450.33MB (82.3%)\rDownloading... 370.62MB / 450.33MB (82.3%)\rDownloading... 370.70MB / 450.33MB (82.3%)\rDownloading... 370.78MB / 450.33MB (82.3%)\rDownloading... 370.86MB / 450.33MB (82.4%)\rDownloading... 370.94MB / 450.33MB (82.4%)\rDownloading... 371.02MB / 450.33MB (82.4%)\rDownloading... 371.09MB / 450.33MB (82.4%)\rDownloading... 371.17MB / 450.33MB (82.4%)\rDownloading... 371.25MB / 450.33MB (82.4%)\r"
                ]
              },
              {
                "output_type": "stream",
                "name": "stdout",
                "text": [
                  "Downloading... 371.33MB / 450.33MB (82.5%)\rDownloading... 371.41MB / 450.33MB (82.5%)\rDownloading... 371.48MB / 450.33MB (82.5%)\rDownloading... 371.56MB / 450.33MB (82.5%)\rDownloading... 371.64MB / 450.33MB (82.5%)\rDownloading... 371.72MB / 450.33MB (82.5%)\rDownloading... 371.80MB / 450.33MB (82.6%)\rDownloading... 371.88MB / 450.33MB (82.6%)\rDownloading... 371.95MB / 450.33MB (82.6%)\rDownloading... 372.03MB / 450.33MB (82.6%)\rDownloading... 372.11MB / 450.33MB (82.6%)\rDownloading... 372.19MB / 450.33MB (82.6%)\rDownloading... 372.27MB / 450.33MB (82.7%)\rDownloading... 372.34MB / 450.33MB (82.7%)\rDownloading... 372.42MB / 450.33MB (82.7%)\rDownloading... 372.50MB / 450.33MB (82.7%)\rDownloading... 372.58MB / 450.33MB (82.7%)\rDownloading... 372.66MB / 450.33MB (82.8%)\rDownloading... 372.73MB / 450.33MB (82.8%)\rDownloading... 372.81MB / 450.33MB (82.8%)\rDownloading... 372.89MB / 450.33MB (82.8%)\rDownloading... 372.97MB / 450.33MB (82.8%)\rDownloading... 373.05MB / 450.33MB (82.8%)\rDownloading... 373.12MB / 450.33MB (82.9%)\rDownloading... 373.20MB / 450.33MB (82.9%)\rDownloading... 373.28MB / 450.33MB (82.9%)\rDownloading... 373.36MB / 450.33MB (82.9%)\rDownloading... 373.44MB / 450.33MB (82.9%)\rDownloading... 373.52MB / 450.33MB (82.9%)\rDownloading... 373.59MB / 450.33MB (83.0%)\rDownloading... 373.67MB / 450.33MB (83.0%)\rDownloading... 373.75MB / 450.33MB (83.0%)\rDownloading... 373.83MB / 450.33MB (83.0%)\rDownloading... 373.91MB / 450.33MB (83.0%)\rDownloading... 373.98MB / 450.33MB (83.0%)\r"
                ]
              },
              {
                "output_type": "stream",
                "name": "stdout",
                "text": [
                  "Downloading... 374.06MB / 450.33MB (83.1%)\rDownloading... 374.14MB / 450.33MB (83.1%)\rDownloading... 374.22MB / 450.33MB (83.1%)\rDownloading... 374.30MB / 450.33MB (83.1%)\rDownloading... 374.38MB / 450.33MB (83.1%)\rDownloading... 374.45MB / 450.33MB (83.2%)\rDownloading... 374.53MB / 450.33MB (83.2%)\rDownloading... 374.61MB / 450.33MB (83.2%)\rDownloading... 374.69MB / 450.33MB (83.2%)\rDownloading... 374.77MB / 450.33MB (83.2%)\rDownloading... 374.84MB / 450.33MB (83.2%)\rDownloading... 374.92MB / 450.33MB (83.3%)\rDownloading... 375.00MB / 450.33MB (83.3%)\rDownloading... 375.08MB / 450.33MB (83.3%)\rDownloading... 375.16MB / 450.33MB (83.3%)\rDownloading... 375.23MB / 450.33MB (83.3%)\rDownloading... 375.31MB / 450.33MB (83.3%)\rDownloading... 375.39MB / 450.33MB (83.4%)\rDownloading... 375.47MB / 450.33MB (83.4%)\rDownloading... 375.55MB / 450.33MB (83.4%)\rDownloading... 375.62MB / 450.33MB (83.4%)\rDownloading... 375.70MB / 450.33MB (83.4%)\rDownloading... 375.78MB / 450.33MB (83.4%)\rDownloading... 375.86MB / 450.33MB (83.5%)\rDownloading... 375.94MB / 450.33MB (83.5%)\rDownloading... 376.02MB / 450.33MB (83.5%)\rDownloading... 376.09MB / 450.33MB (83.5%)\rDownloading... 376.17MB / 450.33MB (83.5%)\rDownloading... 376.25MB / 450.33MB (83.5%)\rDownloading... 376.33MB / 450.33MB (83.6%)\rDownloading... 376.41MB / 450.33MB (83.6%)\rDownloading... 376.48MB / 450.33MB (83.6%)\rDownloading... 376.56MB / 450.33MB (83.6%)\rDownloading... 376.64MB / 450.33MB (83.6%)\r"
                ]
              },
              {
                "output_type": "stream",
                "name": "stdout",
                "text": [
                  "Downloading... 376.72MB / 450.33MB (83.7%)\rDownloading... 376.80MB / 450.33MB (83.7%)\rDownloading... 376.88MB / 450.33MB (83.7%)\rDownloading... 376.95MB / 450.33MB (83.7%)\rDownloading... 377.03MB / 450.33MB (83.7%)\rDownloading... 377.11MB / 450.33MB (83.7%)\rDownloading... 377.19MB / 450.33MB (83.8%)\rDownloading... 377.27MB / 450.33MB (83.8%)\rDownloading... 377.34MB / 450.33MB (83.8%)\rDownloading... 377.42MB / 450.33MB (83.8%)\rDownloading... 377.50MB / 450.33MB (83.8%)\rDownloading... 377.58MB / 450.33MB (83.8%)\rDownloading... 377.66MB / 450.33MB (83.9%)\rDownloading... 377.73MB / 450.33MB (83.9%)\rDownloading... 377.81MB / 450.33MB (83.9%)\rDownloading... 377.89MB / 450.33MB (83.9%)\rDownloading... 377.97MB / 450.33MB (83.9%)\rDownloading... 378.05MB / 450.33MB (83.9%)\rDownloading... 378.12MB / 450.33MB (84.0%)\rDownloading... 378.20MB / 450.33MB (84.0%)\rDownloading... 378.28MB / 450.33MB (84.0%)\rDownloading... 378.36MB / 450.33MB (84.0%)\rDownloading... 378.44MB / 450.33MB (84.0%)\rDownloading... 378.52MB / 450.33MB (84.1%)\rDownloading... 378.59MB / 450.33MB (84.1%)\rDownloading... 378.67MB / 450.33MB (84.1%)\rDownloading... 378.75MB / 450.33MB (84.1%)\rDownloading... 378.83MB / 450.33MB (84.1%)\rDownloading... 378.91MB / 450.33MB (84.1%)\rDownloading... 378.98MB / 450.33MB (84.2%)\rDownloading... 379.06MB / 450.33MB (84.2%)\rDownloading... 379.14MB / 450.33MB (84.2%)\rDownloading... 379.22MB / 450.33MB (84.2%)\rDownloading... 379.30MB / 450.33MB (84.2%)\rDownloading... 379.38MB / 450.33MB (84.2%)\rDownloading... 379.45MB / 450.33MB (84.3%)\r"
                ]
              },
              {
                "output_type": "stream",
                "name": "stdout",
                "text": [
                  "Downloading... 379.53MB / 450.33MB (84.3%)\rDownloading... 379.61MB / 450.33MB (84.3%)\rDownloading... 379.69MB / 450.33MB (84.3%)\rDownloading... 379.77MB / 450.33MB (84.3%)\rDownloading... 379.84MB / 450.33MB (84.3%)\rDownloading... 379.92MB / 450.33MB (84.4%)\rDownloading... 380.00MB / 450.33MB (84.4%)\rDownloading... 380.08MB / 450.33MB (84.4%)\rDownloading... 380.16MB / 450.33MB (84.4%)\rDownloading... 380.23MB / 450.33MB (84.4%)\rDownloading... 380.31MB / 450.33MB (84.5%)\rDownloading... 380.39MB / 450.33MB (84.5%)\rDownloading... 380.47MB / 450.33MB (84.5%)\rDownloading... 380.55MB / 450.33MB (84.5%)\rDownloading... 380.62MB / 450.33MB (84.5%)\rDownloading... 380.70MB / 450.33MB (84.5%)\rDownloading... 380.78MB / 450.33MB (84.6%)\rDownloading... 380.86MB / 450.33MB (84.6%)\rDownloading... 380.94MB / 450.33MB (84.6%)\rDownloading... 381.02MB / 450.33MB (84.6%)\rDownloading... 381.09MB / 450.33MB (84.6%)\rDownloading... 381.17MB / 450.33MB (84.6%)\rDownloading... 381.25MB / 450.33MB (84.7%)\rDownloading... 381.33MB / 450.33MB (84.7%)\rDownloading... 381.41MB / 450.33MB (84.7%)\rDownloading... 381.48MB / 450.33MB (84.7%)\rDownloading... 381.56MB / 450.33MB (84.7%)\rDownloading... 381.64MB / 450.33MB (84.7%)\rDownloading... 381.72MB / 450.33MB (84.8%)\rDownloading... 381.80MB / 450.33MB (84.8%)\rDownloading... 381.88MB / 450.33MB (84.8%)\rDownloading... 381.95MB / 450.33MB (84.8%)\rDownloading... 382.03MB / 450.33MB (84.8%)\r"
                ]
              },
              {
                "output_type": "stream",
                "name": "stdout",
                "text": [
                  "Downloading... 382.11MB / 450.33MB (84.9%)\rDownloading... 382.19MB / 450.33MB (84.9%)\rDownloading... 382.27MB / 450.33MB (84.9%)\rDownloading... 382.34MB / 450.33MB (84.9%)\rDownloading... 382.42MB / 450.33MB (84.9%)\rDownloading... 382.50MB / 450.33MB (84.9%)\rDownloading... 382.58MB / 450.33MB (85.0%)\rDownloading... 382.66MB / 450.33MB (85.0%)\rDownloading... 382.73MB / 450.33MB (85.0%)\rDownloading... 382.81MB / 450.33MB (85.0%)\rDownloading... 382.89MB / 450.33MB (85.0%)\rDownloading... 382.97MB / 450.33MB (85.0%)\rDownloading... 383.05MB / 450.33MB (85.1%)\rDownloading... 383.12MB / 450.33MB (85.1%)\rDownloading... 383.20MB / 450.33MB (85.1%)\rDownloading... 383.28MB / 450.33MB (85.1%)\rDownloading... 383.36MB / 450.33MB (85.1%)\rDownloading... 383.44MB / 450.33MB (85.1%)\rDownloading... 383.52MB / 450.33MB (85.2%)\rDownloading... 383.59MB / 450.33MB (85.2%)\rDownloading... 383.67MB / 450.33MB (85.2%)\rDownloading... 383.75MB / 450.33MB (85.2%)\rDownloading... 383.83MB / 450.33MB (85.2%)\rDownloading... 383.91MB / 450.33MB (85.3%)\rDownloading... 383.98MB / 450.33MB (85.3%)\rDownloading... 384.06MB / 450.33MB (85.3%)\rDownloading... 384.14MB / 450.33MB (85.3%)\rDownloading... 384.22MB / 450.33MB (85.3%)\rDownloading... 384.30MB / 450.33MB (85.3%)\rDownloading... 384.38MB / 450.33MB (85.4%)\rDownloading... 384.45MB / 450.33MB (85.4%)\rDownloading... 384.53MB / 450.33MB (85.4%)\rDownloading... 384.61MB / 450.33MB (85.4%)\rDownloading... 384.69MB / 450.33MB (85.4%)\rDownloading... 384.77MB / 450.33MB (85.4%)\r"
                ]
              },
              {
                "output_type": "stream",
                "name": "stdout",
                "text": [
                  "Downloading... 384.84MB / 450.33MB (85.5%)\rDownloading... 384.92MB / 450.33MB (85.5%)\rDownloading... 385.00MB / 450.33MB (85.5%)\rDownloading... 385.08MB / 450.33MB (85.5%)\rDownloading... 385.16MB / 450.33MB (85.5%)\rDownloading... 385.23MB / 450.33MB (85.5%)\rDownloading... 385.31MB / 450.33MB (85.6%)\rDownloading... 385.39MB / 450.33MB (85.6%)\rDownloading... 385.47MB / 450.33MB (85.6%)\rDownloading... 385.55MB / 450.33MB (85.6%)\rDownloading... 385.62MB / 450.33MB (85.6%)\rDownloading... 385.70MB / 450.33MB (85.6%)\rDownloading... 385.78MB / 450.33MB (85.7%)\rDownloading... 385.86MB / 450.33MB (85.7%)\rDownloading... 385.94MB / 450.33MB (85.7%)\rDownloading... 386.02MB / 450.33MB (85.7%)\rDownloading... 386.09MB / 450.33MB (85.7%)\rDownloading... 386.17MB / 450.33MB (85.8%)\rDownloading... 386.25MB / 450.33MB (85.8%)\rDownloading... 386.33MB / 450.33MB (85.8%)\rDownloading... 386.41MB / 450.33MB (85.8%)\rDownloading... 386.48MB / 450.33MB (85.8%)\rDownloading... 386.56MB / 450.33MB (85.8%)\rDownloading... 386.64MB / 450.33MB (85.9%)\rDownloading... 386.72MB / 450.33MB (85.9%)\rDownloading... 386.80MB / 450.33MB (85.9%)\rDownloading... 386.88MB / 450.33MB (85.9%)\rDownloading... 386.95MB / 450.33MB (85.9%)\rDownloading... 387.03MB / 450.33MB (85.9%)\rDownloading... 387.11MB / 450.33MB (86.0%)\rDownloading... 387.19MB / 450.33MB (86.0%)\rDownloading... 387.27MB / 450.33MB (86.0%)\rDownloading... 387.34MB / 450.33MB (86.0%)\rDownloading... 387.42MB / 450.33MB (86.0%)\rDownloading... 387.50MB / 450.33MB (86.0%)\rDownloading... 387.58MB / 450.33MB (86.1%)\r"
                ]
              },
              {
                "output_type": "stream",
                "name": "stdout",
                "text": [
                  "Downloading... 387.66MB / 450.33MB (86.1%)\rDownloading... 387.73MB / 450.33MB (86.1%)\rDownloading... 387.81MB / 450.33MB (86.1%)\rDownloading... 387.89MB / 450.33MB (86.1%)\rDownloading... 387.97MB / 450.33MB (86.2%)\rDownloading... 388.05MB / 450.33MB (86.2%)\rDownloading... 388.12MB / 450.33MB (86.2%)\rDownloading... 388.20MB / 450.33MB (86.2%)\rDownloading... 388.28MB / 450.33MB (86.2%)\rDownloading... 388.36MB / 450.33MB (86.2%)\rDownloading... 388.44MB / 450.33MB (86.3%)\rDownloading... 388.52MB / 450.33MB (86.3%)\rDownloading... 388.59MB / 450.33MB (86.3%)\rDownloading... 388.67MB / 450.33MB (86.3%)\rDownloading... 388.75MB / 450.33MB (86.3%)\rDownloading... 388.83MB / 450.33MB (86.3%)\rDownloading... 388.91MB / 450.33MB (86.4%)\rDownloading... 388.98MB / 450.33MB (86.4%)\rDownloading... 389.06MB / 450.33MB (86.4%)\rDownloading... 389.14MB / 450.33MB (86.4%)\rDownloading... 389.22MB / 450.33MB (86.4%)\rDownloading... 389.30MB / 450.33MB (86.4%)\rDownloading... 389.38MB / 450.33MB (86.5%)\rDownloading... 389.45MB / 450.33MB (86.5%)\rDownloading... 389.53MB / 450.33MB (86.5%)\rDownloading... 389.61MB / 450.33MB (86.5%)\rDownloading... 389.69MB / 450.33MB (86.5%)\rDownloading... 389.77MB / 450.33MB (86.6%)\rDownloading... 389.84MB / 450.33MB (86.6%)\rDownloading... 389.92MB / 450.33MB (86.6%)\rDownloading... 390.00MB / 450.33MB (86.6%)\rDownloading... 390.08MB / 450.33MB (86.6%)\rDownloading... 390.16MB / 450.33MB (86.6%)\rDownloading... 390.23MB / 450.33MB (86.7%)\rDownloading... 390.31MB / 450.33MB (86.7%)\r"
                ]
              },
              {
                "output_type": "stream",
                "name": "stdout",
                "text": [
                  "Downloading... 390.39MB / 450.33MB (86.7%)\rDownloading... 390.47MB / 450.33MB (86.7%)\rDownloading... 390.55MB / 450.33MB (86.7%)\rDownloading... 390.62MB / 450.33MB (86.7%)\rDownloading... 390.70MB / 450.33MB (86.8%)\rDownloading... 390.78MB / 450.33MB (86.8%)\rDownloading... 390.86MB / 450.33MB (86.8%)\rDownloading... 390.94MB / 450.33MB (86.8%)\rDownloading... 391.02MB / 450.33MB (86.8%)\rDownloading... 391.09MB / 450.33MB (86.8%)\rDownloading... 391.17MB / 450.33MB (86.9%)\rDownloading... 391.25MB / 450.33MB (86.9%)\rDownloading... 391.33MB / 450.33MB (86.9%)\rDownloading... 391.41MB / 450.33MB (86.9%)\rDownloading... 391.48MB / 450.33MB (86.9%)\rDownloading... 391.56MB / 450.33MB (87.0%)\rDownloading... 391.64MB / 450.33MB (87.0%)\rDownloading... 391.72MB / 450.33MB (87.0%)\rDownloading... 391.80MB / 450.33MB (87.0%)\rDownloading... 391.88MB / 450.33MB (87.0%)\rDownloading... 391.95MB / 450.33MB (87.0%)\rDownloading... 392.03MB / 450.33MB (87.1%)\rDownloading... 392.11MB / 450.33MB (87.1%)\rDownloading... 392.19MB / 450.33MB (87.1%)\rDownloading... 392.27MB / 450.33MB (87.1%)\rDownloading... 392.34MB / 450.33MB (87.1%)\rDownloading... 392.42MB / 450.33MB (87.1%)\rDownloading... 392.50MB / 450.33MB (87.2%)\rDownloading... 392.58MB / 450.33MB (87.2%)\rDownloading... 392.66MB / 450.33MB (87.2%)\rDownloading... 392.73MB / 450.33MB (87.2%)\rDownloading... 392.81MB / 450.33MB (87.2%)\rDownloading... 392.89MB / 450.33MB (87.2%)\rDownloading... 392.97MB / 450.33MB (87.3%)\rDownloading... 393.05MB / 450.33MB (87.3%)\r"
                ]
              },
              {
                "output_type": "stream",
                "name": "stdout",
                "text": [
                  "Downloading... 393.12MB / 450.33MB (87.3%)\rDownloading... 393.20MB / 450.33MB (87.3%)\rDownloading... 393.28MB / 450.33MB (87.3%)\rDownloading... 393.36MB / 450.33MB (87.3%)\rDownloading... 393.44MB / 450.33MB (87.4%)\rDownloading... 393.52MB / 450.33MB (87.4%)\rDownloading... 393.59MB / 450.33MB (87.4%)\rDownloading... 393.67MB / 450.33MB (87.4%)\rDownloading... 393.75MB / 450.33MB (87.4%)\rDownloading... 393.83MB / 450.33MB (87.5%)\rDownloading... 393.91MB / 450.33MB (87.5%)\rDownloading... 393.98MB / 450.33MB (87.5%)\rDownloading... 394.06MB / 450.33MB (87.5%)\rDownloading... 394.14MB / 450.33MB (87.5%)\rDownloading... 394.22MB / 450.33MB (87.5%)\rDownloading... 394.30MB / 450.33MB (87.6%)\rDownloading... 394.38MB / 450.33MB (87.6%)\rDownloading... 394.45MB / 450.33MB (87.6%)\rDownloading... 394.53MB / 450.33MB (87.6%)\rDownloading... 394.61MB / 450.33MB (87.6%)\rDownloading... 394.69MB / 450.33MB (87.6%)\rDownloading... 394.77MB / 450.33MB (87.7%)\rDownloading... 394.84MB / 450.33MB (87.7%)\rDownloading... 394.92MB / 450.33MB (87.7%)\rDownloading... 395.00MB / 450.33MB (87.7%)\rDownloading... 395.08MB / 450.33MB (87.7%)\rDownloading... 395.16MB / 450.33MB (87.7%)\rDownloading... 395.23MB / 450.33MB (87.8%)\rDownloading... 395.31MB / 450.33MB (87.8%)\rDownloading... 395.39MB / 450.33MB (87.8%)\rDownloading... 395.47MB / 450.33MB (87.8%)\rDownloading... 395.55MB / 450.33MB (87.8%)\rDownloading... 395.62MB / 450.33MB (87.9%)\r"
                ]
              },
              {
                "output_type": "stream",
                "name": "stdout",
                "text": [
                  "Downloading... 395.70MB / 450.33MB (87.9%)\rDownloading... 395.78MB / 450.33MB (87.9%)\rDownloading... 395.86MB / 450.33MB (87.9%)\rDownloading... 395.94MB / 450.33MB (87.9%)\rDownloading... 396.02MB / 450.33MB (87.9%)\rDownloading... 396.09MB / 450.33MB (88.0%)\rDownloading... 396.17MB / 450.33MB (88.0%)\rDownloading... 396.25MB / 450.33MB (88.0%)\rDownloading... 396.33MB / 450.33MB (88.0%)\rDownloading... 396.41MB / 450.33MB (88.0%)\rDownloading... 396.48MB / 450.33MB (88.0%)\rDownloading... 396.56MB / 450.33MB (88.1%)\rDownloading... 396.64MB / 450.33MB (88.1%)\rDownloading... 396.72MB / 450.33MB (88.1%)\rDownloading... 396.80MB / 450.33MB (88.1%)\rDownloading... 396.88MB / 450.33MB (88.1%)\rDownloading... 396.95MB / 450.33MB (88.1%)\rDownloading... 397.03MB / 450.33MB (88.2%)\rDownloading... 397.11MB / 450.33MB (88.2%)\rDownloading... 397.19MB / 450.33MB (88.2%)\rDownloading... 397.27MB / 450.33MB (88.2%)\rDownloading... 397.34MB / 450.33MB (88.2%)\rDownloading... 397.42MB / 450.33MB (88.3%)\rDownloading... 397.50MB / 450.33MB (88.3%)\rDownloading... 397.58MB / 450.33MB (88.3%)\rDownloading... 397.66MB / 450.33MB (88.3%)\rDownloading... 397.73MB / 450.33MB (88.3%)\rDownloading... 397.81MB / 450.33MB (88.3%)\rDownloading... 397.89MB / 450.33MB (88.4%)\rDownloading... 397.97MB / 450.33MB (88.4%)\rDownloading... 398.05MB / 450.33MB (88.4%)\rDownloading... 398.12MB / 450.33MB (88.4%)\r"
                ]
              },
              {
                "output_type": "stream",
                "name": "stdout",
                "text": [
                  "Downloading... 398.20MB / 450.33MB (88.4%)\rDownloading... 398.28MB / 450.33MB (88.4%)\rDownloading... 398.36MB / 450.33MB (88.5%)\rDownloading... 398.44MB / 450.33MB (88.5%)\rDownloading... 398.52MB / 450.33MB (88.5%)\rDownloading... 398.59MB / 450.33MB (88.5%)\rDownloading... 398.67MB / 450.33MB (88.5%)\rDownloading... 398.75MB / 450.33MB (88.5%)\rDownloading... 398.83MB / 450.33MB (88.6%)\rDownloading... 398.91MB / 450.33MB (88.6%)\rDownloading... 398.98MB / 450.33MB (88.6%)\rDownloading... 399.06MB / 450.33MB (88.6%)\rDownloading... 399.14MB / 450.33MB (88.6%)\rDownloading... 399.22MB / 450.33MB (88.7%)\rDownloading... 399.30MB / 450.33MB (88.7%)\rDownloading... 399.38MB / 450.33MB (88.7%)\rDownloading... 399.45MB / 450.33MB (88.7%)\rDownloading... 399.53MB / 450.33MB (88.7%)\rDownloading... 399.61MB / 450.33MB (88.7%)\rDownloading... 399.69MB / 450.33MB (88.8%)\rDownloading... 399.77MB / 450.33MB (88.8%)\rDownloading... 399.84MB / 450.33MB (88.8%)\rDownloading... 399.92MB / 450.33MB (88.8%)\rDownloading... 400.00MB / 450.33MB (88.8%)\rDownloading... 400.08MB / 450.33MB (88.8%)\rDownloading... 400.16MB / 450.33MB (88.9%)\rDownloading... 400.23MB / 450.33MB (88.9%)\rDownloading... 400.31MB / 450.33MB (88.9%)\rDownloading... 400.39MB / 450.33MB (88.9%)\rDownloading... 400.47MB / 450.33MB (88.9%)\rDownloading... 400.55MB / 450.33MB (88.9%)\rDownloading... 400.62MB / 450.33MB (89.0%)\rDownloading... 400.70MB / 450.33MB (89.0%)\rDownloading... 400.78MB / 450.33MB (89.0%)\rDownloading... 400.86MB / 450.33MB (89.0%)\rDownloading... 400.94MB / 450.33MB (89.0%)\r"
                ]
              },
              {
                "output_type": "stream",
                "name": "stdout",
                "text": [
                  "Downloading... 401.02MB / 450.33MB (89.0%)\rDownloading... 401.09MB / 450.33MB (89.1%)\rDownloading... 401.17MB / 450.33MB (89.1%)\rDownloading... 401.25MB / 450.33MB (89.1%)\rDownloading... 401.33MB / 450.33MB (89.1%)\rDownloading... 401.41MB / 450.33MB (89.1%)\rDownloading... 401.48MB / 450.33MB (89.2%)\rDownloading... 401.56MB / 450.33MB (89.2%)\rDownloading... 401.64MB / 450.33MB (89.2%)\rDownloading... 401.72MB / 450.33MB (89.2%)\rDownloading... 401.80MB / 450.33MB (89.2%)\rDownloading... 401.88MB / 450.33MB (89.2%)\rDownloading... 401.95MB / 450.33MB (89.3%)\rDownloading... 402.03MB / 450.33MB (89.3%)\rDownloading... 402.11MB / 450.33MB (89.3%)\rDownloading... 402.19MB / 450.33MB (89.3%)\rDownloading... 402.27MB / 450.33MB (89.3%)\rDownloading... 402.34MB / 450.33MB (89.3%)\rDownloading... 402.42MB / 450.33MB (89.4%)\rDownloading... 402.50MB / 450.33MB (89.4%)\rDownloading... 402.58MB / 450.33MB (89.4%)\rDownloading... 402.66MB / 450.33MB (89.4%)\rDownloading... 402.73MB / 450.33MB (89.4%)\rDownloading... 402.81MB / 450.33MB (89.4%)\rDownloading... 402.89MB / 450.33MB (89.5%)\rDownloading... 402.97MB / 450.33MB (89.5%)\rDownloading... 403.05MB / 450.33MB (89.5%)\rDownloading... 403.12MB / 450.33MB (89.5%)\rDownloading... 403.20MB / 450.33MB (89.5%)\rDownloading... 403.28MB / 450.33MB (89.6%)\rDownloading... 403.36MB / 450.33MB (89.6%)\rDownloading... 403.44MB / 450.33MB (89.6%)\rDownloading... 403.52MB / 450.33MB (89.6%)\r"
                ]
              },
              {
                "output_type": "stream",
                "name": "stdout",
                "text": [
                  "Downloading... 403.59MB / 450.33MB (89.6%)\rDownloading... 403.67MB / 450.33MB (89.6%)\rDownloading... 403.75MB / 450.33MB (89.7%)\rDownloading... 403.83MB / 450.33MB (89.7%)\rDownloading... 403.91MB / 450.33MB (89.7%)\rDownloading... 403.98MB / 450.33MB (89.7%)\rDownloading... 404.06MB / 450.33MB (89.7%)\rDownloading... 404.14MB / 450.33MB (89.7%)\rDownloading... 404.22MB / 450.33MB (89.8%)\rDownloading... 404.30MB / 450.33MB (89.8%)\rDownloading... 404.38MB / 450.33MB (89.8%)\rDownloading... 404.45MB / 450.33MB (89.8%)\rDownloading... 404.53MB / 450.33MB (89.8%)\rDownloading... 404.61MB / 450.33MB (89.8%)\rDownloading... 404.69MB / 450.33MB (89.9%)\rDownloading... 404.77MB / 450.33MB (89.9%)\rDownloading... 404.84MB / 450.33MB (89.9%)\rDownloading... 404.92MB / 450.33MB (89.9%)\rDownloading... 405.00MB / 450.33MB (89.9%)\rDownloading... 405.08MB / 450.33MB (90.0%)\rDownloading... 405.16MB / 450.33MB (90.0%)\rDownloading... 405.23MB / 450.33MB (90.0%)\rDownloading... 405.31MB / 450.33MB (90.0%)\rDownloading... 405.39MB / 450.33MB (90.0%)\rDownloading... 405.47MB / 450.33MB (90.0%)\rDownloading... 405.55MB / 450.33MB (90.1%)\rDownloading... 405.62MB / 450.33MB (90.1%)\rDownloading... 405.70MB / 450.33MB (90.1%)\rDownloading... 405.78MB / 450.33MB (90.1%)\rDownloading... 405.86MB / 450.33MB (90.1%)\rDownloading... 405.94MB / 450.33MB (90.1%)\rDownloading... 406.02MB / 450.33MB (90.2%)\rDownloading... 406.09MB / 450.33MB (90.2%)\rDownloading... 406.17MB / 450.33MB (90.2%)\rDownloading... 406.25MB / 450.33MB (90.2%)\rDownloading... 406.33MB / 450.33MB (90.2%)\rDownloading... 406.41MB / 450.33MB (90.2%)\rDownloading... 406.48MB / 450.33MB (90.3%)\rDownloading... 406.56MB / 450.33MB (90.3%)\rDownloading... 406.64MB / 450.33MB (90.3%)\r"
                ]
              },
              {
                "output_type": "stream",
                "name": "stdout",
                "text": [
                  "Downloading... 406.72MB / 450.33MB (90.3%)\rDownloading... 406.80MB / 450.33MB (90.3%)\rDownloading... 406.88MB / 450.33MB (90.4%)\rDownloading... 406.95MB / 450.33MB (90.4%)\rDownloading... 407.03MB / 450.33MB (90.4%)\rDownloading... 407.11MB / 450.33MB (90.4%)\rDownloading... 407.19MB / 450.33MB (90.4%)\rDownloading... 407.27MB / 450.33MB (90.4%)\rDownloading... 407.34MB / 450.33MB (90.5%)\rDownloading... 407.42MB / 450.33MB (90.5%)\rDownloading... 407.50MB / 450.33MB (90.5%)\rDownloading... 407.58MB / 450.33MB (90.5%)\rDownloading... 407.66MB / 450.33MB (90.5%)\rDownloading... 407.73MB / 450.33MB (90.5%)\rDownloading... 407.81MB / 450.33MB (90.6%)\rDownloading... 407.89MB / 450.33MB (90.6%)\rDownloading... 407.97MB / 450.33MB (90.6%)\rDownloading... 408.05MB / 450.33MB (90.6%)\rDownloading... 408.12MB / 450.33MB (90.6%)\rDownloading... 408.20MB / 450.33MB (90.6%)\rDownloading... 408.28MB / 450.33MB (90.7%)\rDownloading... 408.36MB / 450.33MB (90.7%)\rDownloading... 408.44MB / 450.33MB (90.7%)\rDownloading... 408.52MB / 450.33MB (90.7%)\rDownloading... 408.59MB / 450.33MB (90.7%)\rDownloading... 408.67MB / 450.33MB (90.7%)\rDownloading... 408.75MB / 450.33MB (90.8%)\rDownloading... 408.83MB / 450.33MB (90.8%)\rDownloading... 408.91MB / 450.33MB (90.8%)\rDownloading... 408.98MB / 450.33MB (90.8%)\rDownloading... 409.06MB / 450.33MB (90.8%)\rDownloading... 409.14MB / 450.33MB (90.9%)\rDownloading... 409.22MB / 450.33MB (90.9%)\rDownloading... 409.30MB / 450.33MB (90.9%)\rDownloading... 409.38MB / 450.33MB (90.9%)\rDownloading... 409.45MB / 450.33MB (90.9%)\rDownloading... 409.53MB / 450.33MB (90.9%)\r"
                ]
              },
              {
                "output_type": "stream",
                "name": "stdout",
                "text": [
                  "Downloading... 409.61MB / 450.33MB (91.0%)\rDownloading... 409.69MB / 450.33MB (91.0%)\rDownloading... 409.77MB / 450.33MB (91.0%)\rDownloading... 409.84MB / 450.33MB (91.0%)\rDownloading... 409.92MB / 450.33MB (91.0%)\rDownloading... 410.00MB / 450.33MB (91.0%)\rDownloading... 410.08MB / 450.33MB (91.1%)\rDownloading... 410.16MB / 450.33MB (91.1%)\rDownloading... 410.23MB / 450.33MB (91.1%)\rDownloading... 410.31MB / 450.33MB (91.1%)\rDownloading... 410.39MB / 450.33MB (91.1%)\rDownloading... 410.47MB / 450.33MB (91.1%)\rDownloading... 410.55MB / 450.33MB (91.2%)\rDownloading... 410.62MB / 450.33MB (91.2%)\rDownloading... 410.70MB / 450.33MB (91.2%)\rDownloading... 410.78MB / 450.33MB (91.2%)\rDownloading... 410.86MB / 450.33MB (91.2%)\rDownloading... 410.94MB / 450.33MB (91.3%)\rDownloading... 411.02MB / 450.33MB (91.3%)\rDownloading... 411.09MB / 450.33MB (91.3%)\rDownloading... 411.17MB / 450.33MB (91.3%)\rDownloading... 411.25MB / 450.33MB (91.3%)\rDownloading... 411.33MB / 450.33MB (91.3%)\rDownloading... 411.41MB / 450.33MB (91.4%)\rDownloading... 411.48MB / 450.33MB (91.4%)\rDownloading... 411.56MB / 450.33MB (91.4%)\rDownloading... 411.64MB / 450.33MB (91.4%)\rDownloading... 411.72MB / 450.33MB (91.4%)\rDownloading... 411.80MB / 450.33MB (91.4%)\rDownloading... 411.88MB / 450.33MB (91.5%)\rDownloading... 411.95MB / 450.33MB (91.5%)\rDownloading... 412.03MB / 450.33MB (91.5%)\rDownloading... 412.11MB / 450.33MB (91.5%)\r"
                ]
              },
              {
                "output_type": "stream",
                "name": "stdout",
                "text": [
                  "Downloading... 412.19MB / 450.33MB (91.5%)\rDownloading... 412.27MB / 450.33MB (91.5%)\rDownloading... 412.34MB / 450.33MB (91.6%)\rDownloading... 412.42MB / 450.33MB (91.6%)\rDownloading... 412.50MB / 450.33MB (91.6%)\rDownloading... 412.58MB / 450.33MB (91.6%)\rDownloading... 412.66MB / 450.33MB (91.6%)\rDownloading... 412.73MB / 450.33MB (91.7%)\rDownloading... 412.81MB / 450.33MB (91.7%)\rDownloading... 412.89MB / 450.33MB (91.7%)\rDownloading... 412.97MB / 450.33MB (91.7%)\rDownloading... 413.05MB / 450.33MB (91.7%)\rDownloading... 413.12MB / 450.33MB (91.7%)\rDownloading... 413.20MB / 450.33MB (91.8%)\rDownloading... 413.28MB / 450.33MB (91.8%)\rDownloading... 413.36MB / 450.33MB (91.8%)\rDownloading... 413.44MB / 450.33MB (91.8%)\rDownloading... 413.52MB / 450.33MB (91.8%)\rDownloading... 413.59MB / 450.33MB (91.8%)\rDownloading... 413.67MB / 450.33MB (91.9%)\rDownloading... 413.75MB / 450.33MB (91.9%)\rDownloading... 413.83MB / 450.33MB (91.9%)\rDownloading... 413.91MB / 450.33MB (91.9%)\rDownloading... 413.98MB / 450.33MB (91.9%)\rDownloading... 414.06MB / 450.33MB (91.9%)\rDownloading... 414.14MB / 450.33MB (92.0%)\rDownloading... 414.22MB / 450.33MB (92.0%)\rDownloading... 414.30MB / 450.33MB (92.0%)\rDownloading... 414.38MB / 450.33MB (92.0%)\rDownloading... 414.45MB / 450.33MB (92.0%)\rDownloading... 414.53MB / 450.33MB (92.1%)\rDownloading... 414.61MB / 450.33MB (92.1%)\rDownloading... 414.69MB / 450.33MB (92.1%)\r"
                ]
              },
              {
                "output_type": "stream",
                "name": "stdout",
                "text": [
                  "Downloading... 414.77MB / 450.33MB (92.1%)\rDownloading... 414.84MB / 450.33MB (92.1%)\rDownloading... 414.92MB / 450.33MB (92.1%)\rDownloading... 415.00MB / 450.33MB (92.2%)\rDownloading... 415.08MB / 450.33MB (92.2%)\rDownloading... 415.16MB / 450.33MB (92.2%)\rDownloading... 415.23MB / 450.33MB (92.2%)\rDownloading... 415.31MB / 450.33MB (92.2%)\rDownloading... 415.39MB / 450.33MB (92.2%)\rDownloading... 415.47MB / 450.33MB (92.3%)\rDownloading... 415.55MB / 450.33MB (92.3%)\rDownloading... 415.62MB / 450.33MB (92.3%)\rDownloading... 415.70MB / 450.33MB (92.3%)\rDownloading... 415.78MB / 450.33MB (92.3%)\rDownloading... 415.86MB / 450.33MB (92.3%)\rDownloading... 415.94MB / 450.33MB (92.4%)\rDownloading... 416.02MB / 450.33MB (92.4%)\rDownloading... 416.09MB / 450.33MB (92.4%)\rDownloading... 416.17MB / 450.33MB (92.4%)\rDownloading... 416.25MB / 450.33MB (92.4%)\rDownloading... 416.33MB / 450.33MB (92.4%)\rDownloading... 416.41MB / 450.33MB (92.5%)\rDownloading... 416.48MB / 450.33MB (92.5%)\rDownloading... 416.56MB / 450.33MB (92.5%)\rDownloading... 416.64MB / 450.33MB (92.5%)\rDownloading... 416.72MB / 450.33MB (92.5%)\rDownloading... 416.80MB / 450.33MB (92.6%)\rDownloading... 416.88MB / 450.33MB (92.6%)\rDownloading... 416.95MB / 450.33MB (92.6%)\rDownloading... 417.03MB / 450.33MB (92.6%)\rDownloading... 417.11MB / 450.33MB (92.6%)\rDownloading... 417.19MB / 450.33MB (92.6%)\rDownloading... 417.27MB / 450.33MB (92.7%)\rDownloading... 417.34MB / 450.33MB (92.7%)\rDownloading... 417.42MB / 450.33MB (92.7%)\rDownloading... 417.50MB / 450.33MB (92.7%)\rDownloading... 417.58MB / 450.33MB (92.7%)\rDownloading... 417.66MB / 450.33MB (92.7%)\r"
                ]
              },
              {
                "output_type": "stream",
                "name": "stdout",
                "text": [
                  "Downloading... 417.73MB / 450.33MB (92.8%)\rDownloading... 417.81MB / 450.33MB (92.8%)\rDownloading... 417.89MB / 450.33MB (92.8%)\rDownloading... 417.97MB / 450.33MB (92.8%)\rDownloading... 418.05MB / 450.33MB (92.8%)\rDownloading... 418.12MB / 450.33MB (92.8%)\rDownloading... 418.20MB / 450.33MB (92.9%)\rDownloading... 418.28MB / 450.33MB (92.9%)\rDownloading... 418.36MB / 450.33MB (92.9%)\rDownloading... 418.44MB / 450.33MB (92.9%)\rDownloading... 418.52MB / 450.33MB (92.9%)\rDownloading... 418.59MB / 450.33MB (93.0%)\rDownloading... 418.67MB / 450.33MB (93.0%)\rDownloading... 418.75MB / 450.33MB (93.0%)\rDownloading... 418.83MB / 450.33MB (93.0%)\rDownloading... 418.91MB / 450.33MB (93.0%)\rDownloading... 418.98MB / 450.33MB (93.0%)\rDownloading... 419.06MB / 450.33MB (93.1%)\rDownloading... 419.14MB / 450.33MB (93.1%)\rDownloading... 419.22MB / 450.33MB (93.1%)\rDownloading... 419.30MB / 450.33MB (93.1%)\rDownloading... 419.38MB / 450.33MB (93.1%)\rDownloading... 419.45MB / 450.33MB (93.1%)\rDownloading... 419.53MB / 450.33MB (93.2%)\rDownloading... 419.61MB / 450.33MB (93.2%)\rDownloading... 419.69MB / 450.33MB (93.2%)\rDownloading... 419.77MB / 450.33MB (93.2%)\rDownloading... 419.84MB / 450.33MB (93.2%)\rDownloading... 419.92MB / 450.33MB (93.2%)\rDownloading... 420.00MB / 450.33MB (93.3%)\rDownloading... 420.08MB / 450.33MB (93.3%)\rDownloading... 420.16MB / 450.33MB (93.3%)\rDownloading... 420.23MB / 450.33MB (93.3%)\rDownloading... 420.31MB / 450.33MB (93.3%)\rDownloading... 420.39MB / 450.33MB (93.4%)\rDownloading... 420.47MB / 450.33MB (93.4%)\rDownloading... 420.55MB / 450.33MB (93.4%)\r"
                ]
              },
              {
                "output_type": "stream",
                "name": "stdout",
                "text": [
                  "Downloading... 420.62MB / 450.33MB (93.4%)\rDownloading... 420.70MB / 450.33MB (93.4%)\rDownloading... 420.78MB / 450.33MB (93.4%)\rDownloading... 420.86MB / 450.33MB (93.5%)\rDownloading... 420.94MB / 450.33MB (93.5%)\rDownloading... 421.02MB / 450.33MB (93.5%)\rDownloading... 421.09MB / 450.33MB (93.5%)\rDownloading... 421.17MB / 450.33MB (93.5%)\rDownloading... 421.25MB / 450.33MB (93.5%)\rDownloading... 421.33MB / 450.33MB (93.6%)\rDownloading... 421.41MB / 450.33MB (93.6%)\rDownloading... 421.48MB / 450.33MB (93.6%)\rDownloading... 421.56MB / 450.33MB (93.6%)\rDownloading... 421.64MB / 450.33MB (93.6%)\rDownloading... 421.72MB / 450.33MB (93.6%)\rDownloading... 421.80MB / 450.33MB (93.7%)\rDownloading... 421.88MB / 450.33MB (93.7%)\rDownloading... 421.95MB / 450.33MB (93.7%)\rDownloading... 422.03MB / 450.33MB (93.7%)\rDownloading... 422.11MB / 450.33MB (93.7%)\rDownloading... 422.19MB / 450.33MB (93.8%)\rDownloading... 422.27MB / 450.33MB (93.8%)\rDownloading... 422.34MB / 450.33MB (93.8%)\rDownloading... 422.42MB / 450.33MB (93.8%)\rDownloading... 422.50MB / 450.33MB (93.8%)\rDownloading... 422.58MB / 450.33MB (93.8%)\rDownloading... 422.66MB / 450.33MB (93.9%)\rDownloading... 422.73MB / 450.33MB (93.9%)\rDownloading... 422.81MB / 450.33MB (93.9%)\rDownloading... 422.89MB / 450.33MB (93.9%)\rDownloading... 422.97MB / 450.33MB (93.9%)\rDownloading... 423.05MB / 450.33MB (93.9%)\rDownloading... 423.12MB / 450.33MB (94.0%)\rDownloading... 423.20MB / 450.33MB (94.0%)\rDownloading... 423.28MB / 450.33MB (94.0%)\rDownloading... 423.36MB / 450.33MB (94.0%)\r"
                ]
              },
              {
                "output_type": "stream",
                "name": "stdout",
                "text": [
                  "Downloading... 423.44MB / 450.33MB (94.0%)\rDownloading... 423.52MB / 450.33MB (94.0%)\rDownloading... 423.59MB / 450.33MB (94.1%)\rDownloading... 423.67MB / 450.33MB (94.1%)\rDownloading... 423.75MB / 450.33MB (94.1%)\rDownloading... 423.83MB / 450.33MB (94.1%)\rDownloading... 423.91MB / 450.33MB (94.1%)\rDownloading... 423.98MB / 450.33MB (94.1%)\rDownloading... 424.06MB / 450.33MB (94.2%)\rDownloading... 424.14MB / 450.33MB (94.2%)\rDownloading... 424.22MB / 450.33MB (94.2%)\rDownloading... 424.30MB / 450.33MB (94.2%)\rDownloading... 424.38MB / 450.33MB (94.2%)\rDownloading... 424.45MB / 450.33MB (94.3%)\rDownloading... 424.53MB / 450.33MB (94.3%)\rDownloading... 424.61MB / 450.33MB (94.3%)\rDownloading... 424.69MB / 450.33MB (94.3%)\rDownloading... 424.77MB / 450.33MB (94.3%)\rDownloading... 424.84MB / 450.33MB (94.3%)\rDownloading... 424.92MB / 450.33MB (94.4%)\rDownloading... 425.00MB / 450.33MB (94.4%)\rDownloading... 425.08MB / 450.33MB (94.4%)\rDownloading... 425.16MB / 450.33MB (94.4%)\rDownloading... 425.23MB / 450.33MB (94.4%)\rDownloading... 425.31MB / 450.33MB (94.4%)\rDownloading... 425.39MB / 450.33MB (94.5%)\rDownloading... 425.47MB / 450.33MB (94.5%)\rDownloading... 425.55MB / 450.33MB (94.5%)\rDownloading... 425.62MB / 450.33MB (94.5%)\rDownloading... 425.70MB / 450.33MB (94.5%)\rDownloading... 425.78MB / 450.33MB (94.5%)\rDownloading... 425.86MB / 450.33MB (94.6%)\rDownloading... 425.94MB / 450.33MB (94.6%)\rDownloading... 426.02MB / 450.33MB (94.6%)\r"
                ]
              },
              {
                "output_type": "stream",
                "name": "stdout",
                "text": [
                  "Downloading... 426.09MB / 450.33MB (94.6%)\rDownloading... 426.17MB / 450.33MB (94.6%)\rDownloading... 426.25MB / 450.33MB (94.7%)\rDownloading... 426.33MB / 450.33MB (94.7%)\rDownloading... 426.41MB / 450.33MB (94.7%)\rDownloading... 426.48MB / 450.33MB (94.7%)\rDownloading... 426.56MB / 450.33MB (94.7%)\rDownloading... 426.64MB / 450.33MB (94.7%)\rDownloading... 426.72MB / 450.33MB (94.8%)\rDownloading... 426.80MB / 450.33MB (94.8%)\rDownloading... 426.88MB / 450.33MB (94.8%)\rDownloading... 426.95MB / 450.33MB (94.8%)\rDownloading... 427.03MB / 450.33MB (94.8%)\rDownloading... 427.11MB / 450.33MB (94.8%)\rDownloading... 427.19MB / 450.33MB (94.9%)\rDownloading... 427.27MB / 450.33MB (94.9%)\rDownloading... 427.34MB / 450.33MB (94.9%)\rDownloading... 427.42MB / 450.33MB (94.9%)\rDownloading... 427.50MB / 450.33MB (94.9%)\rDownloading... 427.58MB / 450.33MB (94.9%)\rDownloading... 427.66MB / 450.33MB (95.0%)\rDownloading... 427.73MB / 450.33MB (95.0%)\rDownloading... 427.81MB / 450.33MB (95.0%)\rDownloading... 427.89MB / 450.33MB (95.0%)\rDownloading... 427.97MB / 450.33MB (95.0%)\rDownloading... 428.05MB / 450.33MB (95.1%)\rDownloading... 428.12MB / 450.33MB (95.1%)\rDownloading... 428.20MB / 450.33MB (95.1%)\rDownloading... 428.28MB / 450.33MB (95.1%)\rDownloading... 428.36MB / 450.33MB (95.1%)\rDownloading... 428.44MB / 450.33MB (95.1%)\rDownloading... 428.52MB / 450.33MB (95.2%)\rDownloading... 428.59MB / 450.33MB (95.2%)\rDownloading... 428.67MB / 450.33MB (95.2%)\rDownloading... 428.75MB / 450.33MB (95.2%)\rDownloading... 428.83MB / 450.33MB (95.2%)\rDownloading... 428.91MB / 450.33MB (95.2%)\r"
                ]
              },
              {
                "output_type": "stream",
                "name": "stdout",
                "text": [
                  "Downloading... 428.98MB / 450.33MB (95.3%)\rDownloading... 429.06MB / 450.33MB (95.3%)\rDownloading... 429.14MB / 450.33MB (95.3%)\rDownloading... 429.22MB / 450.33MB (95.3%)\rDownloading... 429.30MB / 450.33MB (95.3%)\rDownloading... 429.38MB / 450.33MB (95.3%)\rDownloading... 429.45MB / 450.33MB (95.4%)\rDownloading... 429.53MB / 450.33MB (95.4%)\rDownloading... 429.61MB / 450.33MB (95.4%)\rDownloading... 429.69MB / 450.33MB (95.4%)\rDownloading... 429.77MB / 450.33MB (95.4%)\rDownloading... 429.84MB / 450.33MB (95.5%)\rDownloading... 429.92MB / 450.33MB (95.5%)\rDownloading... 430.00MB / 450.33MB (95.5%)\rDownloading... 430.08MB / 450.33MB (95.5%)\rDownloading... 430.16MB / 450.33MB (95.5%)\rDownloading... 430.23MB / 450.33MB (95.5%)\rDownloading... 430.31MB / 450.33MB (95.6%)\rDownloading... 430.39MB / 450.33MB (95.6%)\rDownloading... 430.47MB / 450.33MB (95.6%)\rDownloading... 430.55MB / 450.33MB (95.6%)\rDownloading... 430.62MB / 450.33MB (95.6%)\rDownloading... 430.70MB / 450.33MB (95.6%)\rDownloading... 430.78MB / 450.33MB (95.7%)\rDownloading... 430.86MB / 450.33MB (95.7%)\rDownloading... 430.94MB / 450.33MB (95.7%)\rDownloading... 431.02MB / 450.33MB (95.7%)\rDownloading... 431.09MB / 450.33MB (95.7%)\rDownloading... 431.17MB / 450.33MB (95.7%)\rDownloading... 431.25MB / 450.33MB (95.8%)\rDownloading... 431.33MB / 450.33MB (95.8%)\rDownloading... 431.41MB / 450.33MB (95.8%)\rDownloading... 431.48MB / 450.33MB (95.8%)\rDownloading... 431.56MB / 450.33MB (95.8%)\rDownloading... 431.64MB / 450.33MB (95.8%)\r"
                ]
              },
              {
                "output_type": "stream",
                "name": "stdout",
                "text": [
                  "Downloading... 431.72MB / 450.33MB (95.9%)\rDownloading... 431.80MB / 450.33MB (95.9%)\rDownloading... 431.88MB / 450.33MB (95.9%)\rDownloading... 431.95MB / 450.33MB (95.9%)\rDownloading... 432.03MB / 450.33MB (95.9%)\rDownloading... 432.11MB / 450.33MB (96.0%)\rDownloading... 432.19MB / 450.33MB (96.0%)\rDownloading... 432.27MB / 450.33MB (96.0%)\rDownloading... 432.34MB / 450.33MB (96.0%)\rDownloading... 432.42MB / 450.33MB (96.0%)\rDownloading... 432.50MB / 450.33MB (96.0%)\rDownloading... 432.58MB / 450.33MB (96.1%)\rDownloading... 432.66MB / 450.33MB (96.1%)\rDownloading... 432.73MB / 450.33MB (96.1%)\rDownloading... 432.81MB / 450.33MB (96.1%)\rDownloading... 432.89MB / 450.33MB (96.1%)\rDownloading... 432.97MB / 450.33MB (96.1%)\rDownloading... 433.05MB / 450.33MB (96.2%)\rDownloading... 433.12MB / 450.33MB (96.2%)\rDownloading... 433.20MB / 450.33MB (96.2%)\rDownloading... 433.28MB / 450.33MB (96.2%)\rDownloading... 433.36MB / 450.33MB (96.2%)\rDownloading... 433.44MB / 450.33MB (96.2%)\rDownloading... 433.52MB / 450.33MB (96.3%)\rDownloading... 433.59MB / 450.33MB (96.3%)\rDownloading... 433.67MB / 450.33MB (96.3%)\rDownloading... 433.75MB / 450.33MB (96.3%)\rDownloading... 433.83MB / 450.33MB (96.3%)\rDownloading... 433.91MB / 450.33MB (96.4%)\rDownloading... 433.98MB / 450.33MB (96.4%)\rDownloading... 434.06MB / 450.33MB (96.4%)\rDownloading... 434.14MB / 450.33MB (96.4%)\rDownloading... 434.22MB / 450.33MB (96.4%)\rDownloading... 434.30MB / 450.33MB (96.4%)\rDownloading... 434.38MB / 450.33MB (96.5%)\rDownloading... 434.45MB / 450.33MB (96.5%)\r"
                ]
              },
              {
                "output_type": "stream",
                "name": "stdout",
                "text": [
                  "Downloading... 434.53MB / 450.33MB (96.5%)\rDownloading... 434.61MB / 450.33MB (96.5%)\rDownloading... 434.69MB / 450.33MB (96.5%)\rDownloading... 434.77MB / 450.33MB (96.5%)\rDownloading... 434.84MB / 450.33MB (96.6%)\rDownloading... 434.92MB / 450.33MB (96.6%)\rDownloading... 435.00MB / 450.33MB (96.6%)\rDownloading... 435.08MB / 450.33MB (96.6%)\rDownloading... 435.16MB / 450.33MB (96.6%)\rDownloading... 435.23MB / 450.33MB (96.6%)\rDownloading... 435.31MB / 450.33MB (96.7%)\rDownloading... 435.39MB / 450.33MB (96.7%)\rDownloading... 435.47MB / 450.33MB (96.7%)\rDownloading... 435.55MB / 450.33MB (96.7%)\rDownloading... 435.62MB / 450.33MB (96.7%)\rDownloading... 435.70MB / 450.33MB (96.8%)\rDownloading... 435.78MB / 450.33MB (96.8%)\rDownloading... 435.86MB / 450.33MB (96.8%)\rDownloading... 435.94MB / 450.33MB (96.8%)\rDownloading... 436.02MB / 450.33MB (96.8%)\rDownloading... 436.09MB / 450.33MB (96.8%)\rDownloading... 436.17MB / 450.33MB (96.9%)\rDownloading... 436.25MB / 450.33MB (96.9%)\rDownloading... 436.33MB / 450.33MB (96.9%)\rDownloading... 436.41MB / 450.33MB (96.9%)\rDownloading... 436.48MB / 450.33MB (96.9%)\rDownloading... 436.56MB / 450.33MB (96.9%)\rDownloading... 436.64MB / 450.33MB (97.0%)\rDownloading... 436.72MB / 450.33MB (97.0%)\rDownloading... 436.80MB / 450.33MB (97.0%)\rDownloading... 436.88MB / 450.33MB (97.0%)\rDownloading... 436.95MB / 450.33MB (97.0%)\rDownloading... 437.03MB / 450.33MB (97.0%)\rDownloading... 437.11MB / 450.33MB (97.1%)\r"
                ]
              },
              {
                "output_type": "stream",
                "name": "stdout",
                "text": [
                  "Downloading... 437.19MB / 450.33MB (97.1%)\rDownloading... 437.27MB / 450.33MB (97.1%)\rDownloading... 437.34MB / 450.33MB (97.1%)\rDownloading... 437.42MB / 450.33MB (97.1%)\rDownloading... 437.50MB / 450.33MB (97.2%)\rDownloading... 437.58MB / 450.33MB (97.2%)\rDownloading... 437.66MB / 450.33MB (97.2%)\rDownloading... 437.73MB / 450.33MB (97.2%)\rDownloading... 437.81MB / 450.33MB (97.2%)\rDownloading... 437.89MB / 450.33MB (97.2%)\rDownloading... 437.97MB / 450.33MB (97.3%)\rDownloading... 438.05MB / 450.33MB (97.3%)\rDownloading... 438.12MB / 450.33MB (97.3%)\rDownloading... 438.20MB / 450.33MB (97.3%)\rDownloading... 438.28MB / 450.33MB (97.3%)\rDownloading... 438.36MB / 450.33MB (97.3%)\rDownloading... 438.44MB / 450.33MB (97.4%)\rDownloading... 438.52MB / 450.33MB (97.4%)\rDownloading... 438.59MB / 450.33MB (97.4%)\rDownloading... 438.67MB / 450.33MB (97.4%)\rDownloading... 438.75MB / 450.33MB (97.4%)\rDownloading... 438.83MB / 450.33MB (97.4%)\rDownloading... 438.91MB / 450.33MB (97.5%)\rDownloading... 438.98MB / 450.33MB (97.5%)\rDownloading... 439.06MB / 450.33MB (97.5%)\rDownloading... 439.14MB / 450.33MB (97.5%)\rDownloading... 439.22MB / 450.33MB (97.5%)\rDownloading... 439.30MB / 450.33MB (97.6%)\rDownloading... 439.38MB / 450.33MB (97.6%)\rDownloading... 439.45MB / 450.33MB (97.6%)\rDownloading... 439.53MB / 450.33MB (97.6%)\rDownloading... 439.61MB / 450.33MB (97.6%)\rDownloading... 439.69MB / 450.33MB (97.6%)\rDownloading... 439.77MB / 450.33MB (97.7%)\rDownloading... 439.84MB / 450.33MB (97.7%)\r"
                ]
              },
              {
                "output_type": "stream",
                "name": "stdout",
                "text": [
                  "Downloading... 439.92MB / 450.33MB (97.7%)\rDownloading... 440.00MB / 450.33MB (97.7%)\rDownloading... 440.08MB / 450.33MB (97.7%)\rDownloading... 440.16MB / 450.33MB (97.7%)\rDownloading... 440.23MB / 450.33MB (97.8%)\rDownloading... 440.31MB / 450.33MB (97.8%)\rDownloading... 440.39MB / 450.33MB (97.8%)\rDownloading... 440.47MB / 450.33MB (97.8%)\rDownloading... 440.55MB / 450.33MB (97.8%)\rDownloading... 440.62MB / 450.33MB (97.8%)\rDownloading... 440.70MB / 450.33MB (97.9%)\rDownloading... 440.78MB / 450.33MB (97.9%)\rDownloading... 440.86MB / 450.33MB (97.9%)\rDownloading... 440.94MB / 450.33MB (97.9%)\rDownloading... 441.02MB / 450.33MB (97.9%)\rDownloading... 441.09MB / 450.33MB (97.9%)\rDownloading... 441.17MB / 450.33MB (98.0%)\rDownloading... 441.25MB / 450.33MB (98.0%)\rDownloading... 441.33MB / 450.33MB (98.0%)\rDownloading... 441.41MB / 450.33MB (98.0%)\rDownloading... 441.48MB / 450.33MB (98.0%)\rDownloading... 441.56MB / 450.33MB (98.1%)\rDownloading... 441.64MB / 450.33MB (98.1%)\rDownloading... 441.72MB / 450.33MB (98.1%)\rDownloading... 441.80MB / 450.33MB (98.1%)\rDownloading... 441.88MB / 450.33MB (98.1%)\rDownloading... 441.95MB / 450.33MB (98.1%)\rDownloading... 442.03MB / 450.33MB (98.2%)\rDownloading... 442.11MB / 450.33MB (98.2%)\rDownloading... 442.19MB / 450.33MB (98.2%)\rDownloading... 442.27MB / 450.33MB (98.2%)\rDownloading... 442.34MB / 450.33MB (98.2%)\rDownloading... 442.42MB / 450.33MB (98.2%)\rDownloading... 442.50MB / 450.33MB (98.3%)\rDownloading... 442.58MB / 450.33MB (98.3%)\r"
                ]
              },
              {
                "output_type": "stream",
                "name": "stdout",
                "text": [
                  "Downloading... 442.66MB / 450.33MB (98.3%)\rDownloading... 442.73MB / 450.33MB (98.3%)\rDownloading... 442.81MB / 450.33MB (98.3%)\rDownloading... 442.89MB / 450.33MB (98.3%)\rDownloading... 442.97MB / 450.33MB (98.4%)\rDownloading... 443.05MB / 450.33MB (98.4%)\rDownloading... 443.12MB / 450.33MB (98.4%)\rDownloading... 443.20MB / 450.33MB (98.4%)\rDownloading... 443.28MB / 450.33MB (98.4%)\rDownloading... 443.36MB / 450.33MB (98.5%)\rDownloading... 443.44MB / 450.33MB (98.5%)\rDownloading... 443.52MB / 450.33MB (98.5%)\rDownloading... 443.59MB / 450.33MB (98.5%)\rDownloading... 443.67MB / 450.33MB (98.5%)\rDownloading... 443.75MB / 450.33MB (98.5%)\rDownloading... 443.83MB / 450.33MB (98.6%)\rDownloading... 443.91MB / 450.33MB (98.6%)\rDownloading... 443.98MB / 450.33MB (98.6%)\rDownloading... 444.06MB / 450.33MB (98.6%)\rDownloading... 444.14MB / 450.33MB (98.6%)\rDownloading... 444.22MB / 450.33MB (98.6%)\rDownloading... 444.30MB / 450.33MB (98.7%)\rDownloading... 444.38MB / 450.33MB (98.7%)\rDownloading... 444.45MB / 450.33MB (98.7%)\rDownloading... 444.53MB / 450.33MB (98.7%)\rDownloading... 444.61MB / 450.33MB (98.7%)\rDownloading... 444.69MB / 450.33MB (98.7%)\rDownloading... 444.77MB / 450.33MB (98.8%)\rDownloading... 444.84MB / 450.33MB (98.8%)\rDownloading... 444.92MB / 450.33MB (98.8%)\rDownloading... 445.00MB / 450.33MB (98.8%)\rDownloading... 445.08MB / 450.33MB (98.8%)\rDownloading... 445.16MB / 450.33MB (98.9%)\r"
                ]
              },
              {
                "output_type": "stream",
                "name": "stdout",
                "text": [
                  "Downloading... 445.23MB / 450.33MB (98.9%)\rDownloading... 445.31MB / 450.33MB (98.9%)\rDownloading... 445.39MB / 450.33MB (98.9%)\rDownloading... 445.47MB / 450.33MB (98.9%)\rDownloading... 445.55MB / 450.33MB (98.9%)\rDownloading... 445.62MB / 450.33MB (99.0%)\rDownloading... 445.70MB / 450.33MB (99.0%)\rDownloading... 445.78MB / 450.33MB (99.0%)\rDownloading... 445.86MB / 450.33MB (99.0%)\rDownloading... 445.94MB / 450.33MB (99.0%)\rDownloading... 446.02MB / 450.33MB (99.0%)\rDownloading... 446.09MB / 450.33MB (99.1%)\rDownloading... 446.17MB / 450.33MB (99.1%)\rDownloading... 446.25MB / 450.33MB (99.1%)\rDownloading... 446.33MB / 450.33MB (99.1%)\rDownloading... 446.41MB / 450.33MB (99.1%)\rDownloading... 446.48MB / 450.33MB (99.1%)\rDownloading... 446.56MB / 450.33MB (99.2%)\rDownloading... 446.64MB / 450.33MB (99.2%)\rDownloading... 446.72MB / 450.33MB (99.2%)\rDownloading... 446.80MB / 450.33MB (99.2%)\rDownloading... 446.88MB / 450.33MB (99.2%)\rDownloading... 446.95MB / 450.33MB (99.3%)\rDownloading... 447.03MB / 450.33MB (99.3%)\rDownloading... 447.11MB / 450.33MB (99.3%)\rDownloading... 447.19MB / 450.33MB (99.3%)\rDownloading... 447.27MB / 450.33MB (99.3%)\rDownloading... 447.34MB / 450.33MB (99.3%)\rDownloading... 447.42MB / 450.33MB (99.4%)\rDownloading... 447.50MB / 450.33MB (99.4%)\rDownloading... 447.58MB / 450.33MB (99.4%)\rDownloading... 447.66MB / 450.33MB (99.4%)\rDownloading... 447.73MB / 450.33MB (99.4%)\rDownloading... 447.81MB / 450.33MB (99.4%)\rDownloading... 447.89MB / 450.33MB (99.5%)\r"
                ]
              },
              {
                "output_type": "stream",
                "name": "stdout",
                "text": [
                  "Downloading... 447.97MB / 450.33MB (99.5%)\rDownloading... 448.05MB / 450.33MB (99.5%)\rDownloading... 448.12MB / 450.33MB (99.5%)\rDownloading... 448.20MB / 450.33MB (99.5%)\rDownloading... 448.28MB / 450.33MB (99.5%)\rDownloading... 448.36MB / 450.33MB (99.6%)\rDownloading... 448.44MB / 450.33MB (99.6%)\rDownloading... 448.52MB / 450.33MB (99.6%)\rDownloading... 448.59MB / 450.33MB (99.6%)\rDownloading... 448.67MB / 450.33MB (99.6%)\rDownloading... 448.75MB / 450.33MB (99.6%)\rDownloading... 448.83MB / 450.33MB (99.7%)\rDownloading... 448.91MB / 450.33MB (99.7%)\rDownloading... 448.98MB / 450.33MB (99.7%)\rDownloading... 449.06MB / 450.33MB (99.7%)\rDownloading... 449.14MB / 450.33MB (99.7%)\rDownloading... 449.22MB / 450.33MB (99.8%)\rDownloading... 449.30MB / 450.33MB (99.8%)\rDownloading... 449.38MB / 450.33MB (99.8%)\rDownloading... 449.45MB / 450.33MB (99.8%)\rDownloading... 449.53MB / 450.33MB (99.8%)\rDownloading... 449.61MB / 450.33MB (99.8%)\rDownloading... 449.69MB / 450.33MB (99.9%)\rDownloading... 449.77MB / 450.33MB (99.9%)\rDownloading... 449.84MB / 450.33MB (99.9%)\rDownloading... 449.92MB / 450.33MB (99.9%)\rDownloading... 450.00MB / 450.33MB (99.9%)\rDownloading... 450.08MB / 450.33MB (99.9%)\rDownloading... 450.16MB / 450.33MB (100.0%)\rDownloading... 450.23MB / 450.33MB (100.0%)\rDownloading... 450.31MB / 450.33MB (100.0%)\rDownloading... 450.33MB / 450.33MB (100.0%)\r\n",
                  "Downloaded successfully to: /content/espplus102_2025.mp4   \n",
                  "\n",
                  "Starting transcription for: espplus102_2025.mp4\n",
                  "Please be patient, this may take a while...\n",
                  "Extracting audio from video...\n"
                ]
              },
              {
                "output_type": "stream",
                "name": "stdout",
                "text": [
                  "MoviePy - Writing audio in /content/extracted_audio_espplus102_2025_20250514_161709.wav\n"
                ]
              },
              {
                "output_type": "stream",
                "name": "stderr",
                "text": [
                  "\rchunk:   0%|          | 0/61509 [00:00<?, ?it/s, now=None]"
                ]
              },
              {
                "output_type": "stream",
                "name": "stderr",
                "text": [
                  "\rchunk:   0%|          | 234/61509 [00:00<00:26, 2337.53it/s, now=None]"
                ]
              },
              {
                "output_type": "stream",
                "name": "stderr",
                "text": [
                  "\rchunk:   1%|          | 468/61509 [00:00<00:27, 2219.71it/s, now=None]"
                ]
              },
              {
                "output_type": "stream",
                "name": "stderr",
                "text": [
                  "\rchunk:   1%|          | 691/61509 [00:00<00:27, 2204.98it/s, now=None]"
                ]
              },
              {
                "output_type": "stream",
                "name": "stderr",
                "text": [
                  "\rchunk:   1%|▏         | 912/61509 [00:00<00:27, 2169.51it/s, now=None]"
                ]
              },
              {
                "output_type": "stream",
                "name": "stderr",
                "text": [
                  "\rchunk:   2%|▏         | 1161/61509 [00:00<00:26, 2268.62it/s, now=None]"
                ]
              },
              {
                "output_type": "stream",
                "name": "stderr",
                "text": [
                  "\rchunk:   2%|▏         | 1389/61509 [00:00<00:26, 2258.79it/s, now=None]"
                ]
              },
              {
                "output_type": "stream",
                "name": "stderr",
                "text": [
                  "\rchunk:   3%|▎         | 1616/61509 [00:00<00:26, 2248.00it/s, now=None]"
                ]
              },
              {
                "output_type": "stream",
                "name": "stderr",
                "text": [
                  "\rchunk:   3%|▎         | 1870/61509 [00:00<00:25, 2339.21it/s, now=None]"
                ]
              },
              {
                "output_type": "stream",
                "name": "stderr",
                "text": [
                  "\rchunk:   3%|▎         | 2120/61509 [00:00<00:24, 2379.54it/s, now=None]"
                ]
              },
              {
                "output_type": "stream",
                "name": "stderr",
                "text": [
                  "\rchunk:   4%|▍         | 2359/61509 [00:01<00:24, 2366.76it/s, now=None]"
                ]
              },
              {
                "output_type": "stream",
                "name": "stderr",
                "text": [
                  "\rchunk:   4%|▍         | 2596/61509 [00:01<00:26, 2242.15it/s, now=None]"
                ]
              },
              {
                "output_type": "stream",
                "name": "stderr",
                "text": [
                  "\rchunk:   5%|▍         | 2822/61509 [00:01<00:26, 2217.99it/s, now=None]"
                ]
              },
              {
                "output_type": "stream",
                "name": "stderr",
                "text": [
                  "\rchunk:   5%|▍         | 3045/61509 [00:01<00:26, 2186.34it/s, now=None]"
                ]
              },
              {
                "output_type": "stream",
                "name": "stderr",
                "text": [
                  "\rchunk:   5%|▌         | 3265/61509 [00:01<00:27, 2127.25it/s, now=None]"
                ]
              },
              {
                "output_type": "stream",
                "name": "stderr",
                "text": [
                  "\rchunk:   6%|▌         | 3481/61509 [00:01<00:27, 2102.47it/s, now=None]"
                ]
              },
              {
                "output_type": "stream",
                "name": "stderr",
                "text": [
                  "\rchunk:   6%|▌         | 3692/61509 [00:01<00:27, 2081.89it/s, now=None]"
                ]
              },
              {
                "output_type": "stream",
                "name": "stderr",
                "text": [
                  "\rchunk:   6%|▋         | 3901/61509 [00:01<00:28, 2033.12it/s, now=None]"
                ]
              },
              {
                "output_type": "stream",
                "name": "stderr",
                "text": [
                  "\rchunk:   7%|▋         | 4105/61509 [00:01<00:31, 1823.10it/s, now=None]"
                ]
              },
              {
                "output_type": "stream",
                "name": "stderr",
                "text": [
                  "\rchunk:   7%|▋         | 4402/61509 [00:02<00:26, 2130.95it/s, now=None]"
                ]
              },
              {
                "output_type": "stream",
                "name": "stderr",
                "text": [
                  "\rchunk:   8%|▊         | 4712/61509 [00:02<00:23, 2399.49it/s, now=None]"
                ]
              },
              {
                "output_type": "stream",
                "name": "stderr",
                "text": [
                  "\rchunk:   8%|▊         | 5015/61509 [00:02<00:21, 2576.85it/s, now=None]"
                ]
              },
              {
                "output_type": "stream",
                "name": "stderr",
                "text": [
                  "\rchunk:   9%|▊         | 5308/61509 [00:02<00:20, 2677.21it/s, now=None]"
                ]
              },
              {
                "output_type": "stream",
                "name": "stderr",
                "text": [
                  "\rchunk:   9%|▉         | 5617/61509 [00:02<00:19, 2797.08it/s, now=None]"
                ]
              },
              {
                "output_type": "stream",
                "name": "stderr",
                "text": [
                  "\rchunk:  10%|▉         | 5913/61509 [00:02<00:19, 2844.20it/s, now=None]"
                ]
              },
              {
                "output_type": "stream",
                "name": "stderr",
                "text": [
                  "\rchunk:  10%|█         | 6204/61509 [00:02<00:19, 2863.60it/s, now=None]"
                ]
              },
              {
                "output_type": "stream",
                "name": "stderr",
                "text": [
                  "\rchunk:  11%|█         | 6507/61509 [00:02<00:19, 2882.29it/s, now=None]"
                ]
              },
              {
                "output_type": "stream",
                "name": "stderr",
                "text": [
                  "\rchunk:  11%|█         | 6797/61509 [00:02<00:19, 2825.75it/s, now=None]"
                ]
              },
              {
                "output_type": "stream",
                "name": "stderr",
                "text": [
                  "\rchunk:  12%|█▏        | 7083/61509 [00:02<00:19, 2833.85it/s, now=None]"
                ]
              },
              {
                "output_type": "stream",
                "name": "stderr",
                "text": [
                  "\rchunk:  12%|█▏        | 7368/61509 [00:03<00:19, 2811.96it/s, now=None]"
                ]
              },
              {
                "output_type": "stream",
                "name": "stderr",
                "text": [
                  "\rchunk:  12%|█▏        | 7667/61509 [00:03<00:18, 2864.28it/s, now=None]"
                ]
              },
              {
                "output_type": "stream",
                "name": "stderr",
                "text": [
                  "\rchunk:  13%|█▎        | 7976/61509 [00:03<00:18, 2929.96it/s, now=None]"
                ]
              },
              {
                "output_type": "stream",
                "name": "stderr",
                "text": [
                  "\rchunk:  13%|█▎        | 8283/61509 [00:03<00:17, 2970.62it/s, now=None]"
                ]
              },
              {
                "output_type": "stream",
                "name": "stderr",
                "text": [
                  "\rchunk:  14%|█▍        | 8581/61509 [00:03<00:17, 2962.79it/s, now=None]"
                ]
              },
              {
                "output_type": "stream",
                "name": "stderr",
                "text": [
                  "\rchunk:  14%|█▍        | 8878/61509 [00:03<00:17, 2936.12it/s, now=None]"
                ]
              },
              {
                "output_type": "stream",
                "name": "stderr",
                "text": [
                  "\rchunk:  15%|█▍        | 9178/61509 [00:03<00:17, 2952.03it/s, now=None]"
                ]
              },
              {
                "output_type": "stream",
                "name": "stderr",
                "text": [
                  "\rchunk:  15%|█▌        | 9481/61509 [00:03<00:17, 2973.94it/s, now=None]"
                ]
              },
              {
                "output_type": "stream",
                "name": "stderr",
                "text": [
                  "\rchunk:  16%|█▌        | 9779/61509 [00:03<00:18, 2803.37it/s, now=None]"
                ]
              },
              {
                "output_type": "stream",
                "name": "stderr",
                "text": [
                  "\rchunk:  16%|█▋        | 10071/61509 [00:03<00:18, 2836.41it/s, now=None]"
                ]
              },
              {
                "output_type": "stream",
                "name": "stderr",
                "text": [
                  "\rchunk:  17%|█▋        | 10374/61509 [00:04<00:17, 2890.73it/s, now=None]"
                ]
              },
              {
                "output_type": "stream",
                "name": "stderr",
                "text": [
                  "\rchunk:  17%|█▋        | 10682/61509 [00:04<00:17, 2946.15it/s, now=None]"
                ]
              },
              {
                "output_type": "stream",
                "name": "stderr",
                "text": [
                  "\rchunk:  18%|█▊        | 10978/61509 [00:04<00:17, 2936.58it/s, now=None]"
                ]
              },
              {
                "output_type": "stream",
                "name": "stderr",
                "text": [
                  "\rchunk:  18%|█▊        | 11273/61509 [00:04<00:17, 2882.03it/s, now=None]"
                ]
              },
              {
                "output_type": "stream",
                "name": "stderr",
                "text": [
                  "\rchunk:  19%|█▉        | 11581/61509 [00:04<00:16, 2938.57it/s, now=None]"
                ]
              },
              {
                "output_type": "stream",
                "name": "stderr",
                "text": [
                  "\rchunk:  19%|█▉        | 11880/61509 [00:04<00:16, 2952.07it/s, now=None]"
                ]
              },
              {
                "output_type": "stream",
                "name": "stderr",
                "text": [
                  "\rchunk:  20%|█▉        | 12190/61509 [00:04<00:16, 2995.70it/s, now=None]"
                ]
              },
              {
                "output_type": "stream",
                "name": "stderr",
                "text": [
                  "\rchunk:  20%|██        | 12490/61509 [00:04<00:16, 2965.55it/s, now=None]"
                ]
              },
              {
                "output_type": "stream",
                "name": "stderr",
                "text": [
                  "\rchunk:  21%|██        | 12787/61509 [00:04<00:16, 2887.00it/s, now=None]"
                ]
              },
              {
                "output_type": "stream",
                "name": "stderr",
                "text": [
                  "\rchunk:  21%|██▏       | 13077/61509 [00:04<00:16, 2867.43it/s, now=None]"
                ]
              },
              {
                "output_type": "stream",
                "name": "stderr",
                "text": [
                  "\rchunk:  22%|██▏       | 13384/61509 [00:05<00:16, 2926.50it/s, now=None]"
                ]
              },
              {
                "output_type": "stream",
                "name": "stderr",
                "text": [
                  "\rchunk:  22%|██▏       | 13698/61509 [00:05<00:16, 2987.68it/s, now=None]"
                ]
              },
              {
                "output_type": "stream",
                "name": "stderr",
                "text": [
                  "\rchunk:  23%|██▎       | 14006/61509 [00:05<00:15, 3013.97it/s, now=None]"
                ]
              },
              {
                "output_type": "stream",
                "name": "stderr",
                "text": [
                  "\rchunk:  23%|██▎       | 14308/61509 [00:05<00:15, 2976.45it/s, now=None]"
                ]
              },
              {
                "output_type": "stream",
                "name": "stderr",
                "text": [
                  "\rchunk:  24%|██▍       | 14618/61509 [00:05<00:15, 3011.48it/s, now=None]"
                ]
              },
              {
                "output_type": "stream",
                "name": "stderr",
                "text": [
                  "\rchunk:  24%|██▍       | 14927/61509 [00:05<00:15, 3033.68it/s, now=None]"
                ]
              },
              {
                "output_type": "stream",
                "name": "stderr",
                "text": [
                  "\rchunk:  25%|██▍       | 15231/61509 [00:05<00:15, 2993.73it/s, now=None]"
                ]
              },
              {
                "output_type": "stream",
                "name": "stderr",
                "text": [
                  "\rchunk:  25%|██▌       | 15543/61509 [00:05<00:15, 3030.70it/s, now=None]"
                ]
              },
              {
                "output_type": "stream",
                "name": "stderr",
                "text": [
                  "\rchunk:  26%|██▌       | 15850/61509 [00:05<00:15, 3041.19it/s, now=None]"
                ]
              },
              {
                "output_type": "stream",
                "name": "stderr",
                "text": [
                  "\rchunk:  26%|██▋       | 16155/61509 [00:06<00:15, 2905.36it/s, now=None]"
                ]
              },
              {
                "output_type": "stream",
                "name": "stderr",
                "text": [
                  "\rchunk:  27%|██▋       | 16486/61509 [00:06<00:14, 3020.85it/s, now=None]"
                ]
              },
              {
                "output_type": "stream",
                "name": "stderr",
                "text": [
                  "\rchunk:  27%|██▋       | 16795/61509 [00:06<00:14, 3027.17it/s, now=None]"
                ]
              },
              {
                "output_type": "stream",
                "name": "stderr",
                "text": [
                  "\rchunk:  28%|██▊       | 17100/61509 [00:06<00:14, 3033.64it/s, now=None]"
                ]
              },
              {
                "output_type": "stream",
                "name": "stderr",
                "text": [
                  "\rchunk:  28%|██▊       | 17425/61509 [00:06<00:14, 3096.15it/s, now=None]"
                ]
              },
              {
                "output_type": "stream",
                "name": "stderr",
                "text": [
                  "\rchunk:  29%|██▉       | 17742/61509 [00:06<00:14, 3117.28it/s, now=None]"
                ]
              },
              {
                "output_type": "stream",
                "name": "stderr",
                "text": [
                  "\rchunk:  29%|██▉       | 18055/61509 [00:06<00:14, 3087.15it/s, now=None]"
                ]
              },
              {
                "output_type": "stream",
                "name": "stderr",
                "text": [
                  "\rchunk:  30%|██▉       | 18365/61509 [00:06<00:14, 3048.95it/s, now=None]"
                ]
              },
              {
                "output_type": "stream",
                "name": "stderr",
                "text": [
                  "\rchunk:  30%|███       | 18671/61509 [00:06<00:14, 3040.15it/s, now=None]"
                ]
              },
              {
                "output_type": "stream",
                "name": "stderr",
                "text": [
                  "\rchunk:  31%|███       | 18976/61509 [00:06<00:14, 2977.59it/s, now=None]"
                ]
              },
              {
                "output_type": "stream",
                "name": "stderr",
                "text": [
                  "\rchunk:  31%|███▏      | 19275/61509 [00:07<00:14, 2833.70it/s, now=None]"
                ]
              },
              {
                "output_type": "stream",
                "name": "stderr",
                "text": [
                  "\rchunk:  32%|███▏      | 19582/61509 [00:07<00:14, 2899.11it/s, now=None]"
                ]
              },
              {
                "output_type": "stream",
                "name": "stderr",
                "text": [
                  "\rchunk:  32%|███▏      | 19876/61509 [00:07<00:14, 2908.93it/s, now=None]"
                ]
              },
              {
                "output_type": "stream",
                "name": "stderr",
                "text": [
                  "\rchunk:  33%|███▎      | 20179/61509 [00:07<00:14, 2942.23it/s, now=None]"
                ]
              },
              {
                "output_type": "stream",
                "name": "stderr",
                "text": [
                  "\rchunk:  33%|███▎      | 20476/61509 [00:07<00:13, 2944.25it/s, now=None]"
                ]
              },
              {
                "output_type": "stream",
                "name": "stderr",
                "text": [
                  "\rchunk:  34%|███▍      | 20772/61509 [00:07<00:13, 2948.89it/s, now=None]"
                ]
              },
              {
                "output_type": "stream",
                "name": "stderr",
                "text": [
                  "\rchunk:  34%|███▍      | 21070/61509 [00:07<00:13, 2956.91it/s, now=None]"
                ]
              },
              {
                "output_type": "stream",
                "name": "stderr",
                "text": [
                  "\rchunk:  35%|███▍      | 21366/61509 [00:07<00:13, 2954.35it/s, now=None]"
                ]
              },
              {
                "output_type": "stream",
                "name": "stderr",
                "text": [
                  "\rchunk:  35%|███▌      | 21681/61509 [00:07<00:13, 3011.12it/s, now=None]"
                ]
              },
              {
                "output_type": "stream",
                "name": "stderr",
                "text": [
                  "\rchunk:  36%|███▌      | 21989/61509 [00:07<00:13, 3022.71it/s, now=None]"
                ]
              },
              {
                "output_type": "stream",
                "name": "stderr",
                "text": [
                  "\rchunk:  36%|███▌      | 22292/61509 [00:08<00:13, 2914.23it/s, now=None]"
                ]
              },
              {
                "output_type": "stream",
                "name": "stderr",
                "text": [
                  "\rchunk:  37%|███▋      | 22594/61509 [00:08<00:13, 2912.15it/s, now=None]"
                ]
              },
              {
                "output_type": "stream",
                "name": "stderr",
                "text": [
                  "\rchunk:  37%|███▋      | 22897/61509 [00:08<00:13, 2929.42it/s, now=None]"
                ]
              },
              {
                "output_type": "stream",
                "name": "stderr",
                "text": [
                  "\rchunk:  38%|███▊      | 23191/61509 [00:08<00:13, 2739.90it/s, now=None]"
                ]
              },
              {
                "output_type": "stream",
                "name": "stderr",
                "text": [
                  "\rchunk:  38%|███▊      | 23468/61509 [00:08<00:14, 2643.83it/s, now=None]"
                ]
              },
              {
                "output_type": "stream",
                "name": "stderr",
                "text": [
                  "\rchunk:  39%|███▊      | 23756/61509 [00:08<00:13, 2708.99it/s, now=None]"
                ]
              },
              {
                "output_type": "stream",
                "name": "stderr",
                "text": [
                  "\rchunk:  39%|███▉      | 24053/61509 [00:08<00:13, 2782.34it/s, now=None]"
                ]
              },
              {
                "output_type": "stream",
                "name": "stderr",
                "text": [
                  "\rchunk:  40%|███▉      | 24334/61509 [00:08<00:13, 2789.06it/s, now=None]"
                ]
              },
              {
                "output_type": "stream",
                "name": "stderr",
                "text": [
                  "\rchunk:  40%|████      | 24615/61509 [00:08<00:13, 2766.99it/s, now=None]"
                ]
              },
              {
                "output_type": "stream",
                "name": "stderr",
                "text": [
                  "\rchunk:  40%|████      | 24896/61509 [00:09<00:13, 2777.41it/s, now=None]"
                ]
              },
              {
                "output_type": "stream",
                "name": "stderr",
                "text": [
                  "\rchunk:  41%|████      | 25175/61509 [00:09<00:13, 2695.50it/s, now=None]"
                ]
              },
              {
                "output_type": "stream",
                "name": "stderr",
                "text": [
                  "\rchunk:  41%|████▏     | 25469/61509 [00:09<00:13, 2750.57it/s, now=None]"
                ]
              },
              {
                "output_type": "stream",
                "name": "stderr",
                "text": [
                  "\rchunk:  42%|████▏     | 25778/61509 [00:09<00:12, 2848.90it/s, now=None]"
                ]
              },
              {
                "output_type": "stream",
                "name": "stderr",
                "text": [
                  "\rchunk:  42%|████▏     | 26076/61509 [00:09<00:12, 2885.87it/s, now=None]"
                ]
              },
              {
                "output_type": "stream",
                "name": "stderr",
                "text": [
                  "\rchunk:  43%|████▎     | 26391/61509 [00:09<00:11, 2962.31it/s, now=None]"
                ]
              },
              {
                "output_type": "stream",
                "name": "stderr",
                "text": [
                  "\rchunk:  43%|████▎     | 26695/61509 [00:09<00:11, 2983.94it/s, now=None]"
                ]
              },
              {
                "output_type": "stream",
                "name": "stderr",
                "text": [
                  "\rchunk:  44%|████▍     | 27007/61509 [00:09<00:11, 3022.20it/s, now=None]"
                ]
              },
              {
                "output_type": "stream",
                "name": "stderr",
                "text": [
                  "\rchunk:  44%|████▍     | 27310/61509 [00:09<00:11, 2886.33it/s, now=None]"
                ]
              },
              {
                "output_type": "stream",
                "name": "stderr",
                "text": [
                  "\rchunk:  45%|████▍     | 27603/61509 [00:09<00:11, 2898.63it/s, now=None]"
                ]
              },
              {
                "output_type": "stream",
                "name": "stderr",
                "text": [
                  "\rchunk:  45%|████▌     | 27898/61509 [00:10<00:11, 2911.95it/s, now=None]"
                ]
              },
              {
                "output_type": "stream",
                "name": "stderr",
                "text": [
                  "\rchunk:  46%|████▌     | 28190/61509 [00:10<00:11, 2869.54it/s, now=None]"
                ]
              },
              {
                "output_type": "stream",
                "name": "stderr",
                "text": [
                  "\rchunk:  46%|████▋     | 28495/61509 [00:10<00:11, 2903.30it/s, now=None]"
                ]
              },
              {
                "output_type": "stream",
                "name": "stderr",
                "text": [
                  "\rchunk:  47%|████▋     | 28797/61509 [00:10<00:11, 2932.52it/s, now=None]"
                ]
              },
              {
                "output_type": "stream",
                "name": "stderr",
                "text": [
                  "\rchunk:  47%|████▋     | 29109/61509 [00:10<00:10, 2987.80it/s, now=None]"
                ]
              },
              {
                "output_type": "stream",
                "name": "stderr",
                "text": [
                  "\rchunk:  48%|████▊     | 29409/61509 [00:10<00:10, 2959.85it/s, now=None]"
                ]
              },
              {
                "output_type": "stream",
                "name": "stderr",
                "text": [
                  "\rchunk:  48%|████▊     | 29709/61509 [00:10<00:10, 2969.34it/s, now=None]"
                ]
              },
              {
                "output_type": "stream",
                "name": "stderr",
                "text": [
                  "\rchunk:  49%|████▉     | 30023/61509 [00:10<00:10, 3018.53it/s, now=None]"
                ]
              },
              {
                "output_type": "stream",
                "name": "stderr",
                "text": [
                  "\rchunk:  49%|████▉     | 30326/61509 [00:10<00:10, 2983.38it/s, now=None]"
                ]
              },
              {
                "output_type": "stream",
                "name": "stderr",
                "text": [
                  "\rchunk:  50%|████▉     | 30629/61509 [00:10<00:10, 2996.97it/s, now=None]"
                ]
              },
              {
                "output_type": "stream",
                "name": "stderr",
                "text": [
                  "\rchunk:  50%|█████     | 30929/61509 [00:11<00:10, 2979.94it/s, now=None]"
                ]
              },
              {
                "output_type": "stream",
                "name": "stderr",
                "text": [
                  "\rchunk:  51%|█████     | 31228/61509 [00:11<00:10, 2894.86it/s, now=None]"
                ]
              },
              {
                "output_type": "stream",
                "name": "stderr",
                "text": [
                  "\rchunk:  51%|█████     | 31521/61509 [00:11<00:10, 2901.43it/s, now=None]"
                ]
              },
              {
                "output_type": "stream",
                "name": "stderr",
                "text": [
                  "\rchunk:  52%|█████▏    | 31823/61509 [00:11<00:10, 2934.93it/s, now=None]"
                ]
              },
              {
                "output_type": "stream",
                "name": "stderr",
                "text": [
                  "\rchunk:  52%|█████▏    | 32126/61509 [00:11<00:10, 2936.34it/s, now=None]"
                ]
              },
              {
                "output_type": "stream",
                "name": "stderr",
                "text": [
                  "\rchunk:  53%|█████▎    | 32440/61509 [00:11<00:09, 2995.54it/s, now=None]"
                ]
              },
              {
                "output_type": "stream",
                "name": "stderr",
                "text": [
                  "\rchunk:  53%|█████▎    | 32740/61509 [00:11<00:09, 2940.87it/s, now=None]"
                ]
              },
              {
                "output_type": "stream",
                "name": "stderr",
                "text": [
                  "\rchunk:  54%|█████▎    | 33058/61509 [00:11<00:09, 3010.52it/s, now=None]"
                ]
              },
              {
                "output_type": "stream",
                "name": "stderr",
                "text": [
                  "\rchunk:  54%|█████▍    | 33375/61509 [00:11<00:09, 3056.18it/s, now=None]"
                ]
              },
              {
                "output_type": "stream",
                "name": "stderr",
                "text": [
                  "\rchunk:  55%|█████▍    | 33681/61509 [00:12<00:10, 2652.29it/s, now=None]"
                ]
              },
              {
                "output_type": "stream",
                "name": "stderr",
                "text": [
                  "\rchunk:  55%|█████▌    | 33956/61509 [00:12<00:11, 2427.71it/s, now=None]"
                ]
              },
              {
                "output_type": "stream",
                "name": "stderr",
                "text": [
                  "\rchunk:  56%|█████▌    | 34208/61509 [00:12<00:11, 2280.77it/s, now=None]"
                ]
              },
              {
                "output_type": "stream",
                "name": "stderr",
                "text": [
                  "\rchunk:  56%|█████▌    | 34445/61509 [00:12<00:11, 2273.92it/s, now=None]"
                ]
              },
              {
                "output_type": "stream",
                "name": "stderr",
                "text": [
                  "\rchunk:  56%|█████▋    | 34678/61509 [00:12<00:11, 2257.12it/s, now=None]"
                ]
              },
              {
                "output_type": "stream",
                "name": "stderr",
                "text": [
                  "\rchunk:  57%|█████▋    | 34907/61509 [00:12<00:12, 2199.59it/s, now=None]"
                ]
              },
              {
                "output_type": "stream",
                "name": "stderr",
                "text": [
                  "\rchunk:  57%|█████▋    | 35130/61509 [00:12<00:12, 2196.33it/s, now=None]"
                ]
              },
              {
                "output_type": "stream",
                "name": "stderr",
                "text": [
                  "\rchunk:  57%|█████▋    | 35353/61509 [00:12<00:12, 2173.89it/s, now=None]"
                ]
              },
              {
                "output_type": "stream",
                "name": "stderr",
                "text": [
                  "\rchunk:  58%|█████▊    | 35572/61509 [00:12<00:11, 2172.20it/s, now=None]"
                ]
              },
              {
                "output_type": "stream",
                "name": "stderr",
                "text": [
                  "\rchunk:  58%|█████▊    | 35790/61509 [00:13<00:12, 2138.95it/s, now=None]"
                ]
              },
              {
                "output_type": "stream",
                "name": "stderr",
                "text": [
                  "\rchunk:  59%|█████▊    | 36010/61509 [00:13<00:11, 2154.86it/s, now=None]"
                ]
              },
              {
                "output_type": "stream",
                "name": "stderr",
                "text": [
                  "\rchunk:  59%|█████▉    | 36244/61509 [00:13<00:11, 2202.45it/s, now=None]"
                ]
              },
              {
                "output_type": "stream",
                "name": "stderr",
                "text": [
                  "\rchunk:  59%|█████▉    | 36465/61509 [00:13<00:11, 2138.31it/s, now=None]"
                ]
              },
              {
                "output_type": "stream",
                "name": "stderr",
                "text": [
                  "\rchunk:  60%|█████▉    | 36707/61509 [00:13<00:11, 2219.46it/s, now=None]"
                ]
              },
              {
                "output_type": "stream",
                "name": "stderr",
                "text": [
                  "\rchunk:  60%|██████    | 36930/61509 [00:13<00:11, 2191.77it/s, now=None]"
                ]
              },
              {
                "output_type": "stream",
                "name": "stderr",
                "text": [
                  "\rchunk:  60%|██████    | 37150/61509 [00:13<00:11, 2155.97it/s, now=None]"
                ]
              },
              {
                "output_type": "stream",
                "name": "stderr",
                "text": [
                  "\rchunk:  61%|██████    | 37370/61509 [00:13<00:11, 2144.21it/s, now=None]"
                ]
              },
              {
                "output_type": "stream",
                "name": "stderr",
                "text": [
                  "\rchunk:  61%|██████    | 37585/61509 [00:13<00:11, 2125.41it/s, now=None]"
                ]
              },
              {
                "output_type": "stream",
                "name": "stderr",
                "text": [
                  "\rchunk:  61%|██████▏   | 37798/61509 [00:14<00:13, 1760.35it/s, now=None]"
                ]
              },
              {
                "output_type": "stream",
                "name": "stderr",
                "text": [
                  "\rchunk:  62%|██████▏   | 37985/61509 [00:14<00:13, 1702.37it/s, now=None]"
                ]
              },
              {
                "output_type": "stream",
                "name": "stderr",
                "text": [
                  "\rchunk:  62%|██████▏   | 38195/61509 [00:14<00:12, 1803.86it/s, now=None]"
                ]
              },
              {
                "output_type": "stream",
                "name": "stderr",
                "text": [
                  "\rchunk:  62%|██████▏   | 38414/61509 [00:14<00:12, 1907.53it/s, now=None]"
                ]
              },
              {
                "output_type": "stream",
                "name": "stderr",
                "text": [
                  "\rchunk:  63%|██████▎   | 38631/61509 [00:14<00:11, 1965.48it/s, now=None]"
                ]
              },
              {
                "output_type": "stream",
                "name": "stderr",
                "text": [
                  "\rchunk:  63%|██████▎   | 38865/61509 [00:14<00:10, 2068.86it/s, now=None]"
                ]
              },
              {
                "output_type": "stream",
                "name": "stderr",
                "text": [
                  "\rchunk:  64%|██████▎   | 39076/61509 [00:14<00:10, 2054.83it/s, now=None]"
                ]
              },
              {
                "output_type": "stream",
                "name": "stderr",
                "text": [
                  "\rchunk:  64%|██████▍   | 39285/61509 [00:14<00:10, 2040.45it/s, now=None]"
                ]
              },
              {
                "output_type": "stream",
                "name": "stderr",
                "text": [
                  "\rchunk:  64%|██████▍   | 39491/61509 [00:14<00:10, 2016.13it/s, now=None]"
                ]
              },
              {
                "output_type": "stream",
                "name": "stderr",
                "text": [
                  "\rchunk:  65%|██████▍   | 39698/61509 [00:14<00:10, 2031.44it/s, now=None]"
                ]
              },
              {
                "output_type": "stream",
                "name": "stderr",
                "text": [
                  "\rchunk:  65%|██████▍   | 39912/61509 [00:15<00:10, 2062.90it/s, now=None]"
                ]
              },
              {
                "output_type": "stream",
                "name": "stderr",
                "text": [
                  "\rchunk:  65%|██████▌   | 40120/61509 [00:15<00:10, 2001.74it/s, now=None]"
                ]
              },
              {
                "output_type": "stream",
                "name": "stderr",
                "text": [
                  "\rchunk:  66%|██████▌   | 40342/61509 [00:15<00:10, 2062.86it/s, now=None]"
                ]
              },
              {
                "output_type": "stream",
                "name": "stderr",
                "text": [
                  "\rchunk:  66%|██████▌   | 40550/61509 [00:15<00:10, 1952.08it/s, now=None]"
                ]
              },
              {
                "output_type": "stream",
                "name": "stderr",
                "text": [
                  "\rchunk:  66%|██████▌   | 40747/61509 [00:15<00:10, 1942.64it/s, now=None]"
                ]
              },
              {
                "output_type": "stream",
                "name": "stderr",
                "text": [
                  "\rchunk:  67%|██████▋   | 40968/61509 [00:15<00:10, 2018.94it/s, now=None]"
                ]
              },
              {
                "output_type": "stream",
                "name": "stderr",
                "text": [
                  "\rchunk:  67%|██████▋   | 41187/61509 [00:15<00:09, 2066.98it/s, now=None]"
                ]
              },
              {
                "output_type": "stream",
                "name": "stderr",
                "text": [
                  "\rchunk:  67%|██████▋   | 41423/61509 [00:15<00:09, 2152.27it/s, now=None]"
                ]
              },
              {
                "output_type": "stream",
                "name": "stderr",
                "text": [
                  "\rchunk:  68%|██████▊   | 41657/61509 [00:15<00:09, 2168.40it/s, now=None]"
                ]
              },
              {
                "output_type": "stream",
                "name": "stderr",
                "text": [
                  "\rchunk:  68%|██████▊   | 41875/61509 [00:16<00:09, 2166.07it/s, now=None]"
                ]
              },
              {
                "output_type": "stream",
                "name": "stderr",
                "text": [
                  "\rchunk:  68%|██████▊   | 42101/61509 [00:16<00:08, 2191.38it/s, now=None]"
                ]
              },
              {
                "output_type": "stream",
                "name": "stderr",
                "text": [
                  "\rchunk:  69%|██████▉   | 42321/61509 [00:16<00:08, 2164.00it/s, now=None]"
                ]
              },
              {
                "output_type": "stream",
                "name": "stderr",
                "text": [
                  "\rchunk:  69%|██████▉   | 42543/61509 [00:16<00:08, 2179.25it/s, now=None]"
                ]
              },
              {
                "output_type": "stream",
                "name": "stderr",
                "text": [
                  "\rchunk:  70%|██████▉   | 42764/61509 [00:16<00:08, 2184.76it/s, now=None]"
                ]
              },
              {
                "output_type": "stream",
                "name": "stderr",
                "text": [
                  "\rchunk:  70%|██████▉   | 42983/61509 [00:16<00:09, 2057.46it/s, now=None]"
                ]
              },
              {
                "output_type": "stream",
                "name": "stderr",
                "text": [
                  "\rchunk:  70%|███████   | 43191/61509 [00:16<00:08, 2037.23it/s, now=None]"
                ]
              },
              {
                "output_type": "stream",
                "name": "stderr",
                "text": [
                  "\rchunk:  71%|███████   | 43410/61509 [00:16<00:08, 2080.61it/s, now=None]"
                ]
              },
              {
                "output_type": "stream",
                "name": "stderr",
                "text": [
                  "\rchunk:  71%|███████   | 43624/61509 [00:16<00:08, 2084.22it/s, now=None]"
                ]
              },
              {
                "output_type": "stream",
                "name": "stderr",
                "text": [
                  "\rchunk:  71%|███████▏  | 43851/61509 [00:16<00:08, 2137.52it/s, now=None]"
                ]
              },
              {
                "output_type": "stream",
                "name": "stderr",
                "text": [
                  "\rchunk:  72%|███████▏  | 44069/61509 [00:17<00:08, 2149.00it/s, now=None]"
                ]
              },
              {
                "output_type": "stream",
                "name": "stderr",
                "text": [
                  "\rchunk:  72%|███████▏  | 44291/61509 [00:17<00:07, 2169.81it/s, now=None]"
                ]
              },
              {
                "output_type": "stream",
                "name": "stderr",
                "text": [
                  "\rchunk:  72%|███████▏  | 44521/61509 [00:17<00:07, 2207.23it/s, now=None]"
                ]
              },
              {
                "output_type": "stream",
                "name": "stderr",
                "text": [
                  "\rchunk:  73%|███████▎  | 44811/61509 [00:17<00:06, 2413.16it/s, now=None]"
                ]
              },
              {
                "output_type": "stream",
                "name": "stderr",
                "text": [
                  "\rchunk:  73%|███████▎  | 45104/61509 [00:17<00:06, 2565.65it/s, now=None]"
                ]
              },
              {
                "output_type": "stream",
                "name": "stderr",
                "text": [
                  "\rchunk:  74%|███████▍  | 45391/61509 [00:17<00:06, 2654.70it/s, now=None]"
                ]
              },
              {
                "output_type": "stream",
                "name": "stderr",
                "text": [
                  "\rchunk:  74%|███████▍  | 45664/61509 [00:17<00:05, 2676.79it/s, now=None]"
                ]
              },
              {
                "output_type": "stream",
                "name": "stderr",
                "text": [
                  "\rchunk:  75%|███████▍  | 45950/61509 [00:17<00:05, 2731.40it/s, now=None]"
                ]
              },
              {
                "output_type": "stream",
                "name": "stderr",
                "text": [
                  "\rchunk:  75%|███████▌  | 46247/61509 [00:17<00:05, 2802.18it/s, now=None]"
                ]
              },
              {
                "output_type": "stream",
                "name": "stderr",
                "text": [
                  "\rchunk:  76%|███████▌  | 46556/61509 [00:17<00:05, 2887.95it/s, now=None]"
                ]
              },
              {
                "output_type": "stream",
                "name": "stderr",
                "text": [
                  "\rchunk:  76%|███████▌  | 46859/61509 [00:18<00:05, 2929.90it/s, now=None]"
                ]
              },
              {
                "output_type": "stream",
                "name": "stderr",
                "text": [
                  "\rchunk:  77%|███████▋  | 47164/61509 [00:18<00:04, 2965.57it/s, now=None]"
                ]
              },
              {
                "output_type": "stream",
                "name": "stderr",
                "text": [
                  "\rchunk:  77%|███████▋  | 47461/61509 [00:18<00:04, 2961.94it/s, now=None]"
                ]
              },
              {
                "output_type": "stream",
                "name": "stderr",
                "text": [
                  "\rchunk:  78%|███████▊  | 47768/61509 [00:18<00:04, 2993.97it/s, now=None]"
                ]
              },
              {
                "output_type": "stream",
                "name": "stderr",
                "text": [
                  "\rchunk:  78%|███████▊  | 48077/61509 [00:18<00:04, 3021.61it/s, now=None]"
                ]
              },
              {
                "output_type": "stream",
                "name": "stderr",
                "text": [
                  "\rchunk:  79%|███████▊  | 48387/61509 [00:18<00:04, 3044.96it/s, now=None]"
                ]
              },
              {
                "output_type": "stream",
                "name": "stderr",
                "text": [
                  "\rchunk:  79%|███████▉  | 48692/61509 [00:18<00:04, 2902.81it/s, now=None]"
                ]
              },
              {
                "output_type": "stream",
                "name": "stderr",
                "text": [
                  "\rchunk:  80%|███████▉  | 48997/61509 [00:18<00:04, 2945.02it/s, now=None]"
                ]
              },
              {
                "output_type": "stream",
                "name": "stderr",
                "text": [
                  "\rchunk:  80%|████████  | 49296/61509 [00:18<00:04, 2956.81it/s, now=None]"
                ]
              },
              {
                "output_type": "stream",
                "name": "stderr",
                "text": [
                  "\rchunk:  81%|████████  | 49593/61509 [00:18<00:04, 2917.11it/s, now=None]"
                ]
              },
              {
                "output_type": "stream",
                "name": "stderr",
                "text": [
                  "\rchunk:  81%|████████  | 49888/61509 [00:19<00:03, 2925.22it/s, now=None]"
                ]
              },
              {
                "output_type": "stream",
                "name": "stderr",
                "text": [
                  "\rchunk:  82%|████████▏ | 50189/61509 [00:19<00:03, 2948.01it/s, now=None]"
                ]
              },
              {
                "output_type": "stream",
                "name": "stderr",
                "text": [
                  "\rchunk:  82%|████████▏ | 50493/61509 [00:19<00:03, 2973.23it/s, now=None]"
                ]
              },
              {
                "output_type": "stream",
                "name": "stderr",
                "text": [
                  "\rchunk:  83%|████████▎ | 50791/61509 [00:19<00:03, 2974.65it/s, now=None]"
                ]
              },
              {
                "output_type": "stream",
                "name": "stderr",
                "text": [
                  "\rchunk:  83%|████████▎ | 51089/61509 [00:19<00:03, 2971.65it/s, now=None]"
                ]
              },
              {
                "output_type": "stream",
                "name": "stderr",
                "text": [
                  "\rchunk:  84%|████████▎ | 51390/61509 [00:19<00:03, 2962.66it/s, now=None]"
                ]
              },
              {
                "output_type": "stream",
                "name": "stderr",
                "text": [
                  "\rchunk:  84%|████████▍ | 51687/61509 [00:19<00:03, 2898.12it/s, now=None]"
                ]
              },
              {
                "output_type": "stream",
                "name": "stderr",
                "text": [
                  "\rchunk:  85%|████████▍ | 51980/61509 [00:19<00:03, 2905.80it/s, now=None]"
                ]
              },
              {
                "output_type": "stream",
                "name": "stderr",
                "text": [
                  "\rchunk:  85%|████████▍ | 52275/61509 [00:19<00:03, 2916.90it/s, now=None]"
                ]
              },
              {
                "output_type": "stream",
                "name": "stderr",
                "text": [
                  "\rchunk:  85%|████████▌ | 52587/61509 [00:19<00:02, 2975.78it/s, now=None]"
                ]
              },
              {
                "output_type": "stream",
                "name": "stderr",
                "text": [
                  "\rchunk:  86%|████████▌ | 52885/61509 [00:20<00:03, 2874.34it/s, now=None]"
                ]
              },
              {
                "output_type": "stream",
                "name": "stderr",
                "text": [
                  "\rchunk:  86%|████████▋ | 53174/61509 [00:20<00:03, 2677.19it/s, now=None]"
                ]
              },
              {
                "output_type": "stream",
                "name": "stderr",
                "text": [
                  "\rchunk:  87%|████████▋ | 53445/61509 [00:20<00:03, 2605.96it/s, now=None]"
                ]
              },
              {
                "output_type": "stream",
                "name": "stderr",
                "text": [
                  "\rchunk:  87%|████████▋ | 53732/61509 [00:20<00:02, 2678.78it/s, now=None]"
                ]
              },
              {
                "output_type": "stream",
                "name": "stderr",
                "text": [
                  "\rchunk:  88%|████████▊ | 54029/61509 [00:20<00:02, 2761.63it/s, now=None]"
                ]
              },
              {
                "output_type": "stream",
                "name": "stderr",
                "text": [
                  "\rchunk:  88%|████████▊ | 54335/61509 [00:20<00:02, 2846.52it/s, now=None]"
                ]
              },
              {
                "output_type": "stream",
                "name": "stderr",
                "text": [
                  "\rchunk:  89%|████████▉ | 54622/61509 [00:20<00:02, 2739.96it/s, now=None]"
                ]
              },
              {
                "output_type": "stream",
                "name": "stderr",
                "text": [
                  "\rchunk:  89%|████████▉ | 54932/61509 [00:20<00:02, 2842.34it/s, now=None]"
                ]
              },
              {
                "output_type": "stream",
                "name": "stderr",
                "text": [
                  "\rchunk:  90%|████████▉ | 55244/61509 [00:20<00:02, 2922.57it/s, now=None]"
                ]
              },
              {
                "output_type": "stream",
                "name": "stderr",
                "text": [
                  "\rchunk:  90%|█████████ | 55538/61509 [00:21<00:02, 2912.79it/s, now=None]"
                ]
              },
              {
                "output_type": "stream",
                "name": "stderr",
                "text": [
                  "\rchunk:  91%|█████████ | 55831/61509 [00:21<00:01, 2910.60it/s, now=None]"
                ]
              },
              {
                "output_type": "stream",
                "name": "stderr",
                "text": [
                  "\rchunk:  91%|█████████▏| 56131/61509 [00:21<00:01, 2920.90it/s, now=None]"
                ]
              },
              {
                "output_type": "stream",
                "name": "stderr",
                "text": [
                  "\rchunk:  92%|█████████▏| 56424/61509 [00:21<00:01, 2910.51it/s, now=None]"
                ]
              },
              {
                "output_type": "stream",
                "name": "stderr",
                "text": [
                  "\rchunk:  92%|█████████▏| 56716/61509 [00:21<00:01, 2900.07it/s, now=None]"
                ]
              },
              {
                "output_type": "stream",
                "name": "stderr",
                "text": [
                  "\rchunk:  93%|█████████▎| 57011/61509 [00:21<00:01, 2914.26it/s, now=None]"
                ]
              },
              {
                "output_type": "stream",
                "name": "stderr",
                "text": [
                  "\rchunk:  93%|█████████▎| 57303/61509 [00:21<00:01, 2906.68it/s, now=None]"
                ]
              },
              {
                "output_type": "stream",
                "name": "stderr",
                "text": [
                  "\rchunk:  94%|█████████▎| 57594/61509 [00:21<00:01, 2770.56it/s, now=None]"
                ]
              },
              {
                "output_type": "stream",
                "name": "stderr",
                "text": [
                  "\rchunk:  94%|█████████▍| 57896/61509 [00:21<00:01, 2817.58it/s, now=None]"
                ]
              },
              {
                "output_type": "stream",
                "name": "stderr",
                "text": [
                  "\rchunk:  95%|█████████▍| 58198/61509 [00:21<00:01, 2876.14it/s, now=None]"
                ]
              },
              {
                "output_type": "stream",
                "name": "stderr",
                "text": [
                  "\rchunk:  95%|█████████▌| 58503/61509 [00:22<00:01, 2925.80it/s, now=None]"
                ]
              },
              {
                "output_type": "stream",
                "name": "stderr",
                "text": [
                  "\rchunk:  96%|█████████▌| 58803/61509 [00:22<00:00, 2946.23it/s, now=None]"
                ]
              },
              {
                "output_type": "stream",
                "name": "stderr",
                "text": [
                  "\rchunk:  96%|█████████▌| 59106/61509 [00:22<00:00, 2948.11it/s, now=None]"
                ]
              },
              {
                "output_type": "stream",
                "name": "stderr",
                "text": [
                  "\rchunk:  97%|█████████▋| 59413/61509 [00:22<00:00, 2982.13it/s, now=None]"
                ]
              },
              {
                "output_type": "stream",
                "name": "stderr",
                "text": [
                  "\rchunk:  97%|█████████▋| 59712/61509 [00:22<00:00, 2964.08it/s, now=None]"
                ]
              },
              {
                "output_type": "stream",
                "name": "stderr",
                "text": [
                  "\rchunk:  98%|█████████▊| 60013/61509 [00:22<00:00, 2977.04it/s, now=None]"
                ]
              },
              {
                "output_type": "stream",
                "name": "stderr",
                "text": [
                  "\rchunk:  98%|█████████▊| 60311/61509 [00:22<00:00, 2835.31it/s, now=None]"
                ]
              },
              {
                "output_type": "stream",
                "name": "stderr",
                "text": [
                  "\rchunk:  99%|█████████▊| 60596/61509 [00:22<00:00, 2731.59it/s, now=None]"
                ]
              },
              {
                "output_type": "stream",
                "name": "stderr",
                "text": [
                  "\rchunk:  99%|█████████▉| 60884/61509 [00:22<00:00, 2772.31it/s, now=None]"
                ]
              },
              {
                "output_type": "stream",
                "name": "stderr",
                "text": [
                  "\rchunk:  99%|█████████▉| 61194/61509 [00:23<00:00, 2865.19it/s, now=None]"
                ]
              },
              {
                "output_type": "stream",
                "name": "stderr",
                "text": [
                  "\rchunk: 100%|█████████▉| 61490/61509 [00:23<00:00, 2892.29it/s, now=None]"
                ]
              },
              {
                "output_type": "stream",
                "name": "stderr",
                "text": [
                  "\r                                                                        "
                ]
              },
              {
                "output_type": "stream",
                "name": "stderr",
                "text": [
                  "\r"
                ]
              },
              {
                "output_type": "stream",
                "name": "stdout",
                "text": [
                  "MoviePy - Done.\n",
                  "Audio extracted to: /content/extracted_audio_espplus102_2025_20250514_161709.wav\n",
                  "Transcribing 'extracted_audio_espplus102_2025_20250514_161709.wav' with Whisper model 'small'...\n",
                  "GPU detected. Using FP16 for faster transcription.\n"
                ]
              },
              {
                "output_type": "stream",
                "name": "stdout",
                "text": [
                  "\n",
                  "--- Transcription Complete! ---\n",
                  "Cleaned up temporary audio file: /content/extracted_audio_espplus102_2025_20250514_161709.wav\n",
                  "Cleaned up processed file: /content/espplus102_2025.mp4\n"
                ]
              }
            ]
          }
        },
        "0530fd9514074c6b890ad2d0b3ad304a": {
          "model_module": "@jupyter-widgets/controls",
          "model_name": "TextareaModel",
          "model_module_version": "1.5.0",
          "state": {
            "_dom_classes": [],
            "_model_module": "@jupyter-widgets/controls",
            "_model_module_version": "1.5.0",
            "_model_name": "TextareaModel",
            "_view_count": null,
            "_view_module": "@jupyter-widgets/controls",
            "_view_module_version": "1.5.0",
            "_view_name": "TextareaView",
            "continuous_update": true,
            "description": "Transcript:",
            "description_tooltip": null,
            "disabled": true,
            "layout": "IPY_MODEL_98f9f1c76d96436e85929a1e21151e51",
            "placeholder": "Transcription will appear here...",
            "rows": null,
            "style": "IPY_MODEL_517c47f51b5d4be1a45519f9e3334deb",
            "value": " Welcome to the ESP Plus 102 presentation webinar. My name is Jennifer and I will be your facilitator today. This is the second part in our ESP Plus training series. There is a prior class to this, which is ESP Plus 101. That training class is available via our live training calendar, as well as a recorded version on our ESP Plus Knowledge Base. To access the ESP Plus Knowledge Base, you can go to kbespplus.asicentral.com, or you can click right here on this help icon and then go right to Knowledge Base. In this webinar, we're going to build off of that previous webinar. So this webinar is going to focus on the presentation in and of itself and sharing it with the customer. The presentation is housed within the project. So when we create a new presentation, we will simultaneously need to create a project. So in this one hour session, that will be our primary focus. So the presentation, as I mentioned, is housed within the project, and there can be one dynamic presentation per project. And what I mean by dynamic is that the presentation is basically a living breathing document. It can be shared with your customer via the client portal, and then any changes you make to the presentation, as soon as you save, it will automatically update on your client's portal. To begin a presentation, you can do so from the presentations on this main toolbar. You can create a presentation from search results or from within a collection. If you're not familiar with collections, they're a really handy tool. You can create as many collections as you want with up to 250 products in each collection, and they can be focused on the centralized theme or a specific type of product. Really a handy tool to have. For today, we are going to create a presentation directly from the search results. So we are going to search for some t-shirts. We're going to come in here, and we're just going to mark a few t-shirts. This one looks nice. This one's good. Let's scroll down a little bit in our search results, and we will grab that one. We've marked three items to present to the customer. Now we're going to come down here to this Add button and select Add to Presentation. If you are working with a single item, you can use the plus sign on the individual product, and it will also give you the Add to Presentation option. You would just be working with one product versus the three that we're working with right here. So we're going to Add to Presentation. We're going to create a brand new presentation, and we're going to enter the presentation name. So we're going to call this t-shirts. What company is it for? If we have the company already saved in our CRM, they'll be available to choose from right here, or we can start typing. If we don't see the company that we need, we can create a new company right here on the fly. So let's do that. Let's create a new company. Our company, we only got two examples, so we'll finish typing in their name. So example, Customer Company. Then we can actually pull in their branding information just by using their website. So to do that, we're going to come right here. It populates for us. We'll just say ASICentral.com. Search that brand, and it pulls in the company logo, the icon, and the primary brand color. This icon right here, this is also sometimes called a Fabicon, and it's this little tiny icon that shows on the tab right up there. So it pulls in the main company logo, the icon or Fabicon, and then the primary branding color, just by typing in their website address. As we come down a little bit more, we can choose from our saved presentation templates. If you would like to use a presentation template, you would have to create them in the presentation section, but you can customize the look and feel of the presentation itself, as well as choose to add a landing page and customize the information on that page. And we're going to get into that just a little bit later in this webinar. Next, we're going to select the event type. In this case, we're going to say Other. And so those are the three required fields. You have to have a presentation name. Your presentation name will also serve as the main project name. You have your company name. And then you also have to have an event type. These fields are helpful to have, but you do not have to have. You also will be able to update this information at a later time after the presentation and project have been created. But if you have the information, by all means, go ahead and put it in there. So if the event date, let's say it's May 17th, there'll be 40 attendees. The in-hand state will have to be before the event date. So we'll say we'll put that on May 12th. And our budget is, let's say $5,000 right here. Are we flexible or firm? Flexible means it would be great if we had it in our hands by this date, but if it's a few days off, that's okay too. Or firm means no, I must have it in my hands by this date, no exceptions. We're going to choose firm for today. And then we're going to add a contact. So we added the company, which is the actual organization. Now we need to add a contact at that company, which is the person that we will be working with. So let's add the contact. And again, this can, you can add contacts at a later time, but for the sake of continuity and for the sake of ease, if you can do it on the fly, absolutely do it. Because it will be saved into, the contact will be saved into your CRM for future use. And it's great just to have them all set up. So our contact is John Doe. His work email is JDoe at examplecustomercompany.com. And then we have to choose a role. So what role does John play at this company? Does he approve orders? Yes. Is he in charge of billing? Yes. And in this case, he's also in charge of shipping. Can you have different people for each one of these roles? Absolutely. Can one person serve one, two or all three roles? Also absolutely. But the important thing is that you have at least one contact set up for each one of these roles because it just makes the order process so much easier. Okay. So our office phone. Type that in here. And then we're going to put in our address, which automatically we can just select and it fills in for us. And there we go. So at this point, we've set up a presentation and project name, selected our company, and we've actually added a brand new company. We've set the event type, entered some demographic information about the event, and we've added a contact. Nothing to it, but to do it at this point. So let's go ahead and create the presentation. It's going to take just a second here because it's doing a lot of information in the background. It's adding a new project, a new presentation. It's moving that company and that contact into our CRM. Awesome. So we're not, we're going to say no, thank you. We don't need to save that address. But we do get the success message right down here. And it says we can edit the presentation just by clicking on this link. And that is a handy shortcut to have and it's excellent. The one thing to keep in mind though is that it is temporary. So if you get called away and the message goes away, it's okay. Don't worry. There's two very quick and easy ways to get back to that project and that presentation. The one is from up here on the projects. You can come in. There's that t-shirts that will open the project and then you can just go to the presentation tab. Or you can do a hop, skip and a jump, come into presentations. And there it is right here. Now while we're on the screen, I did mention before about templates, choosing templates and creating templates. This is where you would come to do that. So presentations and then presentation templates. And when you click on presentation templates here, you can come in. You'll have all templates, which is this contains all templates built by any user in your company and templates that are set to be shared with all users within your company. You have owned by me. These are templates that you've created and shared with me. These are templates that have either been shared with every user in your company or have specifically named you as a collaborator on that template. And then archived are the templates that are no longer being used, but they're not deleted. They're just sort of deactivated for the moment. So if I come in to owned by me, I don't have any templates yet. That's okay though. We're going to create a new one. So we're going to create a new template. We're going to call it T shirts and create that new template. And you'll see here in the template settings, I can commit, I can change the name. So if I say, hmm, you know what, I don't want this to be for T shirts. I'd rather set this up for my company and have it be for example, customer company. There we go. We'll have our branding where we can upload the customer's logo specific to this template. We can put it right here. So let's we can upload a favicon if we need to. We can even customize the colors so we can choose any colors that we want. We can even just click right here and choose a color. As we saw before when we pulled the branding information in, we had that code. If you wanted to jot down that code to put it here, you could absolutely do that. We have our landing page. Do we want to use the landing page? We can just upload it up to us if we do the sliders enabled and then we can come down here and customize the information in this section. If we did not want to use a landing page, we don't have to. We can pull that. We can just disable that for the time being. Then we'll have a presentation and a product details page. We can change the banner using the options right here. And we can also change the footer information using the options right here. So you can really customize templates as you see fit. And if you're looking at it and you go, ooh, that's this little bright right there, you can reset the color so you can always reset. So this is how the presentation main page will appear. This is how the product details will appear on the pages. And I say, you know what, I really like that. That looks excellent. So I'm going to come up and save that template. And there we go. I see success. Your presentation template was saved. Perfect. Now let's go into the presentation and put it into this template. So we'll go back to templates. This will put us back to the presentation templates page. We now have this in our owned by me. So we'll come back to presentations up here. That puts us on our main page. Here's our t-shirts that we just created. And clicking right here is going to open the project, but it's going to open the project directly in that presentation tab. So from the presentation tab, we have our products. We're going to come right back to products in just a second. I want to talk about the global product configuration and the settings first. Because we're in that template frame of mind. Let's put that template on this presentation. And that can be done in the settings area. So here in the settings, it currently says no template. Not anymore because we're going to select. We're going to choose our example cost customer company. And save. And just like that. Now our templates being applied on the same note. In this presentation settings area. We can allow customers to select product variants when requesting a quote. I want everybody to keep that in mind. This is a very important slider. This slider means that when we share this presentation with our customer, they will be able to use the colors, the shapes, the sizes, the materials, the input methods. To choose which of those variants that they want in what quantities when they place a quote request via their client portal. Okay, so it's a very important slider. We are going to come back to it, but it's a very important slider. We can also choose to include a signature and expiration date and a personal note. And we can generate this personal note using AI if we want to. That looks good. So we're going to save. We do have an expiration date here. We can set that expiration date to up to 90 days in the future if we need to. If our customer does choose to access this link after the expiration date, they're just going to get a message that the presentation has expired. If that does happen, we as the distributors, we can come in, we can change this expiration date and extend it if we need to. But the reason why it does that is to just ensure that the presentation pricing and the presentation information is as up to date as possible on the live presentations. So these are the settings. You have your global product configuration. So for every product within this presentation, we're looking at a preview of that product detail page with our template applied. And we can see that we're showing all the pricing, the price range, all of this information in here. We may want to say, oh, let's show the product options. And we're going to get a live update over here. It doesn't look like this particular product has some product options. So let's do client discount. So when we enable the client discount, we'll see this little flag right here. One thing to keep in mind is that the client discount, it is just a notification. It's like a sales pitch almost. It lets the customer know, hey, you're getting a discount, but it doesn't actually touch the pricing. So it's a handy little flag to have. You can also choose to show the imprint information. So right now we are showing every possible field for every possible product in this presentation. What if we don't want to show specific fields for specific products? Or what if we want to only show one field for the products? Sorry, what if we only wanted to show a field on one product and we have, let's say, 50 products? Would we have to allow it here and then go into all the other 49 products and hide that field? No. So the global product detail settings here enables you to sort of set like a default for all of the products within the presentation. In the product section, each individual product can have its fields managed. So this means that even if I chose not to show the client discount flag for all products, I can still go into individual items and display it on specific products if I want it to. And vice versa is still true. If I'm showing a field and I want to hide it for a specific product, I can do that as well. So this is just a generic default setting. Hey, I want to show these fields. You know, if you have products where you want to show the field more often than you want to hide it, enable it. If you want to hide it more often than you want to show it, disable it, and then go into the individual products right here in this product section and manage the individual fields for that particular product. Right here in the in the product section of the presentation, we do see the presentation engagement info. We don't actually have any yet because we haven't shared the presentation, but as we share this presentation with our customer and as they view it on the client portal, these statistics will start to populate. In the project details here, as I mentioned before, these are the project details that were set up during the project slash presentation creation window. But that can be changed by clicking on this edit. And you can change any of that information. So let's say our client up their budget and they said it's $6,000. We can change it right there and save. Ta-da! We get a little pop up right there. So as we come down to the actual product section, there is one other option that we have in terms of managing all of the products. So in terms of managing all the products, we can use sort of a global price adjustment and we can choose to adjust all prices based on any one of these options. So you have your profit margin, you can add a fixed amount to the list price, a fixed amount to the net cost, and just a quick review on pricing. Your net cost, that's the amount that you as the distributor are going to pay the supplier for the product. The margin is the percentage that you are going of the sale that you'll walk away with and put in your pocket. And the price is what you, what the supplier is suggesting that you sell to the customer for. Now, while there are always exceptions to every rule, there are some distributors who get special pricing with certain suppliers. However, in general, the net cost is fairly set in stone. So if the net cost here is $1.395, that is what it's going to cost per share to the supplier. So that is what you as the distributor will pay the supplier. There is the option for adjusting the margin and that's what this option up here does. So right now it's on a 50% margin. If we wanted to come in and we'll say, you know what, we're going to mark it up to 55 and apply. Now we'll see the pricing has changed. Okay, so now we're having a 55% margin. Right in here. Okay. We can always reset the prices, or we can undo. So we can undo less calculation. And that actually undoes the reset because that was the only calculation that we need. We can also choose to update the list price by a fixed amount. So let's say instead of adding a percentage, we just want to mark up by a dollar. So we're going to add a dollar. And there we go. So now we'll see we have that dollar. Okay. And we can reset prices, we can undo, or we can save those changes. So let's save those changes. And now we know that all of the products have we've added a dollar to all of the suggested list prices. We can arrange the products. So you can arrange the products by any one of these options. You can also drag and drop to reorganize. So if I wanted to drag and drop and reorganize how the products are going to be presented, I can do it this way. Put him in the middle. There we go. There's also all of these different ways that products get categorized. However, we haven't sent the presentation yet. So products are going to be shared across these different fields, primarily after sending the presentation. Everything will always, every product will always be available in the all products with the exception of hidden products, hidden products. You can come in to this plus sign right here and you can hide from presentation. And just like with that archived, essentially what it does is it just sort of hides the product from the active presentation. So if we click here on hide from presentation, that product is going to be moved over here into the hidden area. There's that product. And if we want to bring that product back into the live presentation, we can just choose show in presentation. Now we have nothing hidden. And the product is back in the all products. Okay. And again, as the customer interacts with the client portal and with the presentation, we are going to be getting some feedback as to what products are like products or dislike what products have they actually opened and seen, and which products. Have been added to the cart or had a quote requested with them. You can also use the add products button right here. And what that will do is that will enable you to add products from just do a quick search for a product number or search term, as well as add products in from an existing collection. So again, with those collections up to 250 items with a centralized theme or a specific or a specific type of product. So for example, if we needed a mug to add, you could just click and add. That's it. We just added a product to the presentation. In addition to hide, there is delete, but delete will completely remove the product from the presentation. It is a permanent action. The only way to get a deleted product back into the presentation is to go get it and add it back in. Okay. So now that we've worked with our products. Let's really customize a product. So let's click right here on this product. This will open the product configuration window. And what we can do in here is we can literally manage all of the information for this item. We can choose specifically if we want to show our hides individual images. So let's say we didn't want to show this main image we could hide it. And then we can also do a virtual sample. So a virtual sample enables us to basically create a digital rendering of the client's logo on the product. So let's click on the virtual sample studio button. And then we can either click on upload to browse the computer for an image or drag and drop a logo right into the virtual sample studio. So we have a nice little logo here and we can tilt it. And you can see as we're tilting it, the rotation is updating. And so you can also use the rotation here to control the slider. You can make it larger. You can make it smaller. So let's make this pretty small right here and we'll put it right up here on the left chest. We can also use this icon to move it around. You saw that I just sort of clicked in the middle and moved it. That works too. But you can click on this icon as well and then delete will completely remove the the logo from the product. So one thing that stands out is this product has a white background. I don't really like how it looks. So I'm going to click right here and I'm going to remove the white background. Oh, but now I can't see it because we have black text on a black shirt, but that's okay. We can come right down here to the artwork colors and I can change that to white. And now I can see it. Whoa, it's a little too bright. Let's make it a nice blue. That looks pretty. Okay, so we can also flip horizontal, flip vertical. Again, we can use the rotate here or here. But once we click outside of the image, then we can see a virtual rendering of the image. And again, we can relocate it if necessary and change the size if we need to. So if we want to do it center chest, right chest, we could do whatever we wanted with this with this logo. So I'm going to tilt it just a little bit and that looks really nice on the shirt there. Okay, so once we have created a virtual rendering, we can hit the next button down here. We're going to change the design name. We're going to say your logo here, left chest and save the design. And there it is. So now rather than show the black shirt, I'm going to hide that because I want to use this image of the black shirt with my logo. And I could repeat this process to logo the red shirt, the blue shirt and the white shirt. Or I could just click here, apply my save design, make it nice and small again, put it right back up where it was. And this time instead of blue, let's change it back to black. Next, save as new design. We'll save this as two. And just like that. Now I have an imprint where the imprint is in two different colors, but it's showing very clearly on the shirts just to give a digital idea of what the finished product will look like. I can show all seven images and I can choose, okay, well I'm going to hide this one because I have a logo version. And I don't want to offer them the red and blue. I just want to offer them the white and the black shirts. Okay, so that all looks good. I have my images set. I can come down to the product name and oh, just a side note on images. I'm sorry if I wanted to reorganize them, I could drag and drop to change the order of how the items are presented, how the images are presented for the item. Moving down, I can change the product name. If I don't want them to know it's, you know, Fortin company, I can just say cotton t-shirt. This is a lot of information in here, so I'm just going to generate a new description using AI. Perfect. Maybe one more. Let's see. Excellent. Love it. Simple classic to the point. We don't want to see various colors available though. So even if you do use AI definitely read through it. Make it your own. So black and white available. There we go. We can write a personal note to the customer. So if there's any information we'd like to convey to the customer that we haven't done in the product name or the description, we can do so right here for this product. We're just going to choose not to show these particular colors. We do want to see how many sizes are offered. Okay, we're going to offer all the sizes. Materials, well, we say it's caught in several places, so I'm just going to undo materials. So this is an example where even though materials was set in that global product configuration to show the materials field for this particular product, I don't want to show materials. So I'm just going to disable that slider and that field will be hidden for this product only. No other products will be affected. Imprint information. Soak screen transfer, direct to garment. We just want to offer so screen. So we're going to uncheck these. There's the imprint sizes. My customer might find that a little bit confusing. So I'm just going to offer three inch by three inch. On the left chest because that's what they were looking for. And the imprint colors. We're just going to say black and light blue. Because those are the two colors that they need. Take out all these extra colors here. And again, if you wanted to show more colors, you could leave that information in. This is just an example. Price range. If I want to show what I can. I don't have to adjust pricing. So the pricing here is broken down by what it looks like is color and then sizes. So the pricing for the item is going to vary depending on the colors and sizes. It looks like there's different pricing for the white and different colors pricing for the darker colors. So if I needed to change this, let's say I wanted to offer this price for both the black and the white shirts that I'm offering. What I can do is I can come down here to the price grid. Open this up. Say, you know what this is going to be. Standard sizes because I'm offering it for both the black and the white standard size is typically small through Excel. Okay, I can just like I did with that. Sort of global or configure all prices. Again, I can come in, I can change the margins, I can change the pricing. I can choose what price breakdowns to show and not to show. So if I knew that my customer was not ordering in these higher quantities, I could choose not to show them on that price grid just by clicking on this little I or I can be enabled by clicking on the I if I wanted to. I can also choose to include a price include statement. So let's say the price includes one color imprint one location. I can do that. Okay, so now we have the white and two Excel. And again, we can do the same thing here. We can just change it. We don't need to say the color. We can just say to Excel and save. Pricing looks good. Then we'll take out that 504 because we know they're not going to offer that. And we'll take out the 288. So we're just showing 96 and 144. 96 and 144. And then our final extended size here. Drop that down. We'll just say three Excel and four Excel. I prefer the dash, just a personal preference. Save hide hide. All looks good. And again, with that one color imprint one location, I can control C. Control V. Control V. So now I have updated the information for the two for the three to four Excel, the two Excel. And the standard sizes. Let's I'm going to save this. Let's collapse these. And so now we have our price ranges. We don't need these anymore. These three. These three are not. We just don't want to include them. So what we're going to do is come up here and choose and not to add them. And just like that, they're going to disappear from down here. So what we've done is we've, we've updated the information. We've updated the customer facing. The price range. The price range. The price range. The price range. The name of the price grids. The information in them will stay the same. That information is here. And you can still choose to adjust the pricing for all price rate for all. Available price grids. Using this right here, but this price adjustment will only affect this particular product. Not all the products within the presentation. And now we have our product configuration, all these different options here. You just make your selection. Enter your fixed amount of percentage and then apply. And that will update the pricing for the price grids. Again, with this client discount flag, it is just that it's an indication. That there is a discount applied. Because the global product configuration setting was set to off. Now we can turn it on for this particular product. In addition, we're showing additional charges. We can pick and choose which charges we want to show. In this case, because we're choosing not to use the direct to garment. We can leave those charges off, but we can choose to include the setup charges. So this relates directly to silk screen. So screen flash charge. That's a different, that's a run charge. And we also might need an additional location charge if our customer may need the product on a different location on the shirt. And just like we did with the price grid, there's these charge details. If we open that up, we can adjust the pricing. Okay. If we needed to add a custom charge, we absolutely could do that. Just click right here on add custom charge. It does default to a setup charge. But just like with these charges up here, open up those charge details. You can change what the charges, lots of different charges to choose from. So it's an additional color charge. Price includes, we'll say one additional color. And we will make it. 5 cents on a 50% margin. So it'll be 10 cents for the customer. It is not a per order charge, meaning that the additional color of this 10 cents will be applied once for every T-shirt that's ordered. No, no, no, no, no. This is a per unit charge or a run charge, which means that this charge will be applied per quantity. So for every single T-shirt ordered, there's going to be an extra 10 cents for that additional color. Okay. So we have our additional charge. We've selected which vendor charges we want to show. We've updated the price grades and selected which ones we want to appear. We've updated the imprint methods for good on sizes, updated the colors, changed the description and product info, created virtual samples and chosen our product images. We are good to go. We are going to click on save. And so with the presentation, we could click to previous product and it will open the previous product in the presentation with all the fields editable in this format, or we can click back to presentation. Okay, so we have our updated product here. Previous product would have opened to this product for editing, and then we could have moved forward into this product. So you just click on the product. All the fields are available for editing. And you can repeat the process as many times as you need. For today, we're going to go back to presentation. And now we're ready to share this with our customer. And we want to enable the customer to place a quote request. To do this. I just want to review that there are a couple key fields that we want to make sure are enabled. If we choose to use the quote. So with the quote, we're going to go into the global product configuration first. We want to make sure that the pricing is enabled. And additional charges. So these two fields right here. Again, with that client discount. If you do choose to show it, that's great. You don't have to. It does not affect the pricing or ordering in any way, shape, or form. Pricing and additional charges. These are the two global product detail settings that you want to have enabled in the actual setting section. It is imperative that you allow customers to select product variants when requesting a quote. So if you are going to choose to allow your customers to place a quote request directly from the client portal. Absolutely make sure that the slider is enabled. But we have the slider enabled. We know our products are configured properly. We can come back to the products. We look them over. We're done editing the products. And again, in real time, you would go through each product and review the information for each field. But for today, we are just going to share with customer. And when you share the presentation with the customer, you can either share via email and send an email with a link to the client portal or share via link. And when we share via link, if you do have a tech savvy client, you as the distributor can copy the link. It takes a second and you can say to your customer, oh, here, check out this link. I'm going to send you. Once you copy that link and it saves into your. Into your, your mouse clipboard. You can right click, paste and go. So this is what your customer will see. This is the link that gets sent to your customer. So we're going to shift hats for a second. We're going to take off the distributor hat and we're going to look at this through the eyes of the customer. So customer cap on. And this is what the customer will receive. When you send a presentation. So let's review some of the things we did. We have our, the details that we set up when we created the project and the presentation. Here's that custom template. Here's the products. So there's that like, there's that dislike. So you can say, oh, I like that. Well, we're not going to dislike the product that we customize. So we're going to like that product. Sorry, going to dislike her. Then they can click into the product. Now that the information follows through so that like follows through. We can see the standard sizing right here. As we come down here are those customized price grids here are those additional charges. There we go. And then we just see all the imprint like in the colors jet black and white. We have our sizes, imprint methods, only the information that we enabled is what's going to be shown. So the customer looks this product over says, you know what, this is great. This is exactly what I need. It's perfect. They're going to request information. So when they request information, this is that slider. This is that allow customers to select product variant slider in action. So they can select their color. They can select their size. And they can put in their quantity. And the customer will save that selection and they can continue to build out their request just like this. Give me just one second here and we'll fill all this in because we needed 40 t shirts. So we're ordering 10 and medium, 10 and large, 10 and medium, 10 and large, different colors. And then any customization comments so they can provide any specific information. This can include different imprint colors that they want different input locations that they want any sort of information regarding the imprinting or customization or decoration for this product. They've up to 250 characters to express through here. And then they can upload any files that they need. And these don't have to just be artwork files. These can be any files directly related to the imprinting. So think of a baseball jersey for a second, you have one logo on the front. And then you would have like names and numbers on the back and that would be considered personalization where it's different information for each product. So in that case, they would have to upload two documents, the logo, and then probably an Excel sheet of names and numbers to be personalized on the back of the jersey. So that's why it's not just artwork files, you can see all of the different file types right here. There are Excel documents, there's Word documents that can also be provided by the customer to the distributor right through here. Okay. So once the customer has finished entering the configuration information so their colors, sizes, shapes, materials, etc. Entered any comments for customization and uploaded the necessary files. They can request information. This will put the products into the cart. The reason why the products get held into a cart and not directly sent through a quote is because the customer can go back to all products and request to be quoted from multiple products in one single transaction. Okay, so they can continue to build their cart. But once they have all the products into the cart, right here, they can edit them, they can remove them. And then request a quote. And this is why we're circling all the way back because bonus points, if you remember, I mentioned in the beginning when we set up that contact, it is important to make sure that your contacts have a role. This is where that role fills in. So order approver, shipping and billing. And this is why it's important. It makes it so much easier for your customer when they come in to request a quote because all of this information automatically pulls from your CRM and populates for them. If we did not have those roles selected, the customer would have to come in and grant it the only thing that they would actually have to type in are these three fields here. But look how much nicer and neater this is. Makes it nice and easy for them. They can just come in and review the information say yep. That all looks great. Let me send that quote request. So they send the quote request. Again, it just takes a second. There's lots of stuff going on in the background. And they'll see that their card is gone. They now have a pending quote. And if they click back on products, they get a nice little box right around here, letting them know that a quote has been requested. From this point, they can continue to provide feedback on products if they want to, but they cannot request information on more products. So that request info button is now gone for them. And after a customer requests a quote, the ball is really in the distributors court. The link stays live. So this portal right here where the presentation was presented. This will still be the main landing page for the quote, if you want to send order acknowledgments if you need to send proofs if you need to send invoices. All of that information will just continue to populate a toolbar right here across the top. So the client portal really does act as a living breathing portal for the customer to access all of their information related to this event. So right now they have the presentation, which is under the products. And they have a pending quote, because we as the distributor now have to take that quote request, review it, customize it and send it back to them, where they can then approve the quote, and move on through the order process. But again, presentation, which is this products quotes, proofs, order acknowledgments and invoices can all be sent to the same exact client portal. What we have to do is refresh. That's it. So let's switch caps back. So customer cap down distributor cap on speaking of refresh, let's do that. So we're going to just refresh here. And now we can see we have some notifications happening. We have John Doe has been has can't read today. John Doe has requested to be quoted for products on presentation t shirts. So we can see all of the information related to the client visiting their portal. Now we have some feedback statistics as well. As I mentioned before, the products will now be categorized into these different fields. So here's the dislike products, the liked products added to cart is just a temporary sometimes customers hold items in the cart. We went right from cart to court requested. But here's the product that was that a quote was requested upon. Additionally, we have a court request received. And we can click here on see details, or we can just click right here on quotes. And this is where we can manage that quote. So if you are interested in learning more about utilizing quotes and the entire order process in and of itself. That is actually the next part in our series that is ESP plus 103 quotes orders and invoices. So that is something you are interested in I really do strongly encourage you to take that training. So let's conclude our session for today. I do want to let you guys know that you can visit the ESP plus knowledge base at KB ESP plus ASI central dot com. That is available 24 seven. You can also click again right here as I mentioned in the beginning of the training right here on this little plus or little question mark icon. So that's the knowledge base for information on ESP plus. There are step by step articles and short videos, as well as recorded webinars on the ESP plus knowledge base you can also access the ESP plus training calendar, and you can register for the next webinar in this ESP plus training series, which is the ESP plus 103 quotes orders and invoices webinar I mentioned before. If you do have any further questions about ESP, please contact the ASI technical product support team at 805461350 prompt to or email support at ASI central dot com. We have agents available Monday through Friday, 8am to 8pm Eastern time. Thank you for attending the ESP plus 102 presentation webinar and for your time and attention today."
          }
        },
        "6c3cb536f61847cc9b62562a29d82d16": {
          "model_module": "@jupyter-widgets/base",
          "model_name": "LayoutModel",
          "model_module_version": "1.2.0",
          "state": {
            "_model_module": "@jupyter-widgets/base",
            "_model_module_version": "1.2.0",
            "_model_name": "LayoutModel",
            "_view_count": null,
            "_view_module": "@jupyter-widgets/base",
            "_view_module_version": "1.2.0",
            "_view_name": "LayoutView",
            "align_content": null,
            "align_items": null,
            "align_self": null,
            "border": null,
            "bottom": null,
            "display": null,
            "flex": null,
            "flex_flow": null,
            "grid_area": null,
            "grid_auto_columns": null,
            "grid_auto_flow": null,
            "grid_auto_rows": null,
            "grid_column": null,
            "grid_gap": null,
            "grid_row": null,
            "grid_template_areas": null,
            "grid_template_columns": null,
            "grid_template_rows": null,
            "height": null,
            "justify_content": null,
            "justify_items": null,
            "left": null,
            "margin": null,
            "max_height": null,
            "max_width": null,
            "min_height": null,
            "min_width": null,
            "object_fit": null,
            "object_position": null,
            "order": null,
            "overflow": null,
            "overflow_x": null,
            "overflow_y": null,
            "padding": null,
            "right": null,
            "top": null,
            "visibility": null,
            "width": null
          }
        },
        "8ed9885896b644259ef631a7c65e5a30": {
          "model_module": "@jupyter-widgets/base",
          "model_name": "LayoutModel",
          "model_module_version": "1.2.0",
          "state": {
            "_model_module": "@jupyter-widgets/base",
            "_model_module_version": "1.2.0",
            "_model_name": "LayoutModel",
            "_view_count": null,
            "_view_module": "@jupyter-widgets/base",
            "_view_module_version": "1.2.0",
            "_view_name": "LayoutView",
            "align_content": null,
            "align_items": null,
            "align_self": null,
            "border": null,
            "bottom": null,
            "display": null,
            "flex": null,
            "flex_flow": null,
            "grid_area": null,
            "grid_auto_columns": null,
            "grid_auto_flow": null,
            "grid_auto_rows": null,
            "grid_column": null,
            "grid_gap": null,
            "grid_row": null,
            "grid_template_areas": null,
            "grid_template_columns": null,
            "grid_template_rows": null,
            "height": null,
            "justify_content": null,
            "justify_items": null,
            "left": null,
            "margin": null,
            "max_height": null,
            "max_width": null,
            "min_height": null,
            "min_width": null,
            "object_fit": null,
            "object_position": null,
            "order": null,
            "overflow": null,
            "overflow_x": null,
            "overflow_y": null,
            "padding": null,
            "right": null,
            "top": null,
            "visibility": null,
            "width": null
          }
        },
        "82100f72a639484b968b233ad2534512": {
          "model_module": "@jupyter-widgets/controls",
          "model_name": "DescriptionStyleModel",
          "model_module_version": "1.5.0",
          "state": {
            "_model_module": "@jupyter-widgets/controls",
            "_model_module_version": "1.5.0",
            "_model_name": "DescriptionStyleModel",
            "_view_count": null,
            "_view_module": "@jupyter-widgets/base",
            "_view_module_version": "1.2.0",
            "_view_name": "StyleView",
            "description_width": ""
          }
        },
        "210ff52078b641d4b5d1f9d5ba3662c8": {
          "model_module": "@jupyter-widgets/base",
          "model_name": "LayoutModel",
          "model_module_version": "1.2.0",
          "state": {
            "_model_module": "@jupyter-widgets/base",
            "_model_module_version": "1.2.0",
            "_model_name": "LayoutModel",
            "_view_count": null,
            "_view_module": "@jupyter-widgets/base",
            "_view_module_version": "1.2.0",
            "_view_name": "LayoutView",
            "align_content": null,
            "align_items": null,
            "align_self": null,
            "border": null,
            "bottom": null,
            "display": null,
            "flex": null,
            "flex_flow": null,
            "grid_area": null,
            "grid_auto_columns": null,
            "grid_auto_flow": null,
            "grid_auto_rows": null,
            "grid_column": null,
            "grid_gap": null,
            "grid_row": null,
            "grid_template_areas": null,
            "grid_template_columns": null,
            "grid_template_rows": null,
            "height": null,
            "justify_content": null,
            "justify_items": null,
            "left": null,
            "margin": null,
            "max_height": null,
            "max_width": null,
            "min_height": null,
            "min_width": null,
            "object_fit": null,
            "object_position": null,
            "order": null,
            "overflow": null,
            "overflow_x": null,
            "overflow_y": null,
            "padding": null,
            "right": null,
            "top": null,
            "visibility": null,
            "width": null
          }
        },
        "c02334950910412898400b6da3239b1b": {
          "model_module": "@jupyter-widgets/controls",
          "model_name": "DescriptionStyleModel",
          "model_module_version": "1.5.0",
          "state": {
            "_model_module": "@jupyter-widgets/controls",
            "_model_module_version": "1.5.0",
            "_model_name": "DescriptionStyleModel",
            "_view_count": null,
            "_view_module": "@jupyter-widgets/base",
            "_view_module_version": "1.2.0",
            "_view_name": "StyleView",
            "description_width": ""
          }
        },
        "85b374cff8e248b6a55b7d908d864e25": {
          "model_module": "@jupyter-widgets/base",
          "model_name": "LayoutModel",
          "model_module_version": "1.2.0",
          "state": {
            "_model_module": "@jupyter-widgets/base",
            "_model_module_version": "1.2.0",
            "_model_name": "LayoutModel",
            "_view_count": null,
            "_view_module": "@jupyter-widgets/base",
            "_view_module_version": "1.2.0",
            "_view_name": "LayoutView",
            "align_content": null,
            "align_items": null,
            "align_self": null,
            "border": null,
            "bottom": null,
            "display": "none",
            "flex": null,
            "flex_flow": null,
            "grid_area": null,
            "grid_auto_columns": null,
            "grid_auto_flow": null,
            "grid_auto_rows": null,
            "grid_column": null,
            "grid_gap": null,
            "grid_row": null,
            "grid_template_areas": null,
            "grid_template_columns": null,
            "grid_template_rows": null,
            "height": null,
            "justify_content": null,
            "justify_items": null,
            "left": null,
            "margin": null,
            "max_height": null,
            "max_width": null,
            "min_height": null,
            "min_width": null,
            "object_fit": null,
            "object_position": null,
            "order": null,
            "overflow": null,
            "overflow_x": null,
            "overflow_y": null,
            "padding": null,
            "right": null,
            "top": null,
            "visibility": null,
            "width": null
          }
        },
        "60cbe69c5f9247fda66978c6af3be2ef": {
          "model_module": "@jupyter-widgets/controls",
          "model_name": "ButtonStyleModel",
          "model_module_version": "1.5.0",
          "state": {
            "_model_module": "@jupyter-widgets/controls",
            "_model_module_version": "1.5.0",
            "_model_name": "ButtonStyleModel",
            "_view_count": null,
            "_view_module": "@jupyter-widgets/base",
            "_view_module_version": "1.2.0",
            "_view_name": "StyleView",
            "button_color": null,
            "font_weight": ""
          }
        },
        "e52bfc5c2e6f4d4f8517263173a2ce57": {
          "model_module": "@jupyter-widgets/base",
          "model_name": "LayoutModel",
          "model_module_version": "1.2.0",
          "state": {
            "_model_module": "@jupyter-widgets/base",
            "_model_module_version": "1.2.0",
            "_model_name": "LayoutModel",
            "_view_count": null,
            "_view_module": "@jupyter-widgets/base",
            "_view_module_version": "1.2.0",
            "_view_name": "LayoutView",
            "align_content": null,
            "align_items": null,
            "align_self": null,
            "border": null,
            "bottom": null,
            "display": "flex",
            "flex": null,
            "flex_flow": null,
            "grid_area": null,
            "grid_auto_columns": null,
            "grid_auto_flow": null,
            "grid_auto_rows": null,
            "grid_column": null,
            "grid_gap": null,
            "grid_row": null,
            "grid_template_areas": null,
            "grid_template_columns": null,
            "grid_template_rows": null,
            "height": null,
            "justify_content": null,
            "justify_items": null,
            "left": null,
            "margin": null,
            "max_height": null,
            "max_width": null,
            "min_height": null,
            "min_width": null,
            "object_fit": null,
            "object_position": null,
            "order": null,
            "overflow": null,
            "overflow_x": null,
            "overflow_y": null,
            "padding": null,
            "right": null,
            "top": null,
            "visibility": null,
            "width": "95%"
          }
        },
        "7c8996a291a341e8958b2ccd7c6107fa": {
          "model_module": "@jupyter-widgets/controls",
          "model_name": "DescriptionStyleModel",
          "model_module_version": "1.5.0",
          "state": {
            "_model_module": "@jupyter-widgets/controls",
            "_model_module_version": "1.5.0",
            "_model_name": "DescriptionStyleModel",
            "_view_count": null,
            "_view_module": "@jupyter-widgets/base",
            "_view_module_version": "1.2.0",
            "_view_name": "StyleView",
            "description_width": ""
          }
        },
        "3645348aed904393abe3327ec5fcf7da": {
          "model_module": "@jupyter-widgets/controls",
          "model_name": "ButtonModel",
          "model_module_version": "1.5.0",
          "state": {
            "_dom_classes": [],
            "_model_module": "@jupyter-widgets/controls",
            "_model_module_version": "1.5.0",
            "_model_name": "ButtonModel",
            "_view_count": null,
            "_view_module": "@jupyter-widgets/controls",
            "_view_module_version": "1.5.0",
            "_view_name": "ButtonView",
            "button_style": "info",
            "description": "Transcribe",
            "disabled": false,
            "icon": "microphone",
            "layout": "IPY_MODEL_8b50fe0fe600499da978c53c32c7a30b",
            "style": "IPY_MODEL_33abf971315e4968a255b76cb94d784a",
            "tooltip": "Upload a file or enter a URL, then click to transcribe"
          }
        },
        "ceff05fef4a949d4961d5373c06c43cc": {
          "model_module": "@jupyter-widgets/controls",
          "model_name": "ButtonModel",
          "model_module_version": "1.5.0",
          "state": {
            "_dom_classes": [],
            "_model_module": "@jupyter-widgets/controls",
            "_model_module_version": "1.5.0",
            "_model_name": "ButtonModel",
            "_view_count": null,
            "_view_module": "@jupyter-widgets/controls",
            "_view_module_version": "1.5.0",
            "_view_name": "ButtonView",
            "button_style": "success",
            "description": "Download Transcript (.txt)",
            "disabled": false,
            "icon": "download",
            "layout": "IPY_MODEL_2b027886b16d4c0d9de7037290b48caf",
            "style": "IPY_MODEL_76fabab845ea41dcb058040a04462e70",
            "tooltip": "Download the transcript as a text file"
          }
        },
        "917a5c957d1f43ccbe755c4236619b0e": {
          "model_module": "@jupyter-widgets/base",
          "model_name": "LayoutModel",
          "model_module_version": "1.2.0",
          "state": {
            "_model_module": "@jupyter-widgets/base",
            "_model_module_version": "1.2.0",
            "_model_name": "LayoutModel",
            "_view_count": null,
            "_view_module": "@jupyter-widgets/base",
            "_view_module_version": "1.2.0",
            "_view_name": "LayoutView",
            "align_content": null,
            "align_items": null,
            "align_self": null,
            "border": null,
            "bottom": null,
            "display": null,
            "flex": null,
            "flex_flow": null,
            "grid_area": null,
            "grid_auto_columns": null,
            "grid_auto_flow": null,
            "grid_auto_rows": null,
            "grid_column": null,
            "grid_gap": null,
            "grid_row": null,
            "grid_template_areas": null,
            "grid_template_columns": null,
            "grid_template_rows": null,
            "height": null,
            "justify_content": null,
            "justify_items": null,
            "left": null,
            "margin": null,
            "max_height": null,
            "max_width": null,
            "min_height": null,
            "min_width": null,
            "object_fit": null,
            "object_position": null,
            "order": null,
            "overflow": null,
            "overflow_x": null,
            "overflow_y": null,
            "padding": null,
            "right": null,
            "top": null,
            "visibility": null,
            "width": null
          }
        },
        "98f9f1c76d96436e85929a1e21151e51": {
          "model_module": "@jupyter-widgets/base",
          "model_name": "LayoutModel",
          "model_module_version": "1.2.0",
          "state": {
            "_model_module": "@jupyter-widgets/base",
            "_model_module_version": "1.2.0",
            "_model_name": "LayoutModel",
            "_view_count": null,
            "_view_module": "@jupyter-widgets/base",
            "_view_module_version": "1.2.0",
            "_view_name": "LayoutView",
            "align_content": null,
            "align_items": null,
            "align_self": null,
            "border": null,
            "bottom": null,
            "display": null,
            "flex": null,
            "flex_flow": null,
            "grid_area": null,
            "grid_auto_columns": null,
            "grid_auto_flow": null,
            "grid_auto_rows": null,
            "grid_column": null,
            "grid_gap": null,
            "grid_row": null,
            "grid_template_areas": null,
            "grid_template_columns": null,
            "grid_template_rows": null,
            "height": "200px",
            "justify_content": null,
            "justify_items": null,
            "left": null,
            "margin": null,
            "max_height": null,
            "max_width": null,
            "min_height": null,
            "min_width": null,
            "object_fit": null,
            "object_position": null,
            "order": null,
            "overflow": null,
            "overflow_x": null,
            "overflow_y": null,
            "padding": null,
            "right": null,
            "top": null,
            "visibility": null,
            "width": "95%"
          }
        },
        "517c47f51b5d4be1a45519f9e3334deb": {
          "model_module": "@jupyter-widgets/controls",
          "model_name": "DescriptionStyleModel",
          "model_module_version": "1.5.0",
          "state": {
            "_model_module": "@jupyter-widgets/controls",
            "_model_module_version": "1.5.0",
            "_model_name": "DescriptionStyleModel",
            "_view_count": null,
            "_view_module": "@jupyter-widgets/base",
            "_view_module_version": "1.2.0",
            "_view_name": "StyleView",
            "description_width": ""
          }
        },
        "8b50fe0fe600499da978c53c32c7a30b": {
          "model_module": "@jupyter-widgets/base",
          "model_name": "LayoutModel",
          "model_module_version": "1.2.0",
          "state": {
            "_model_module": "@jupyter-widgets/base",
            "_model_module_version": "1.2.0",
            "_model_name": "LayoutModel",
            "_view_count": null,
            "_view_module": "@jupyter-widgets/base",
            "_view_module_version": "1.2.0",
            "_view_name": "LayoutView",
            "align_content": null,
            "align_items": null,
            "align_self": null,
            "border": null,
            "bottom": null,
            "display": null,
            "flex": null,
            "flex_flow": null,
            "grid_area": null,
            "grid_auto_columns": null,
            "grid_auto_flow": null,
            "grid_auto_rows": null,
            "grid_column": null,
            "grid_gap": null,
            "grid_row": null,
            "grid_template_areas": null,
            "grid_template_columns": null,
            "grid_template_rows": null,
            "height": null,
            "justify_content": null,
            "justify_items": null,
            "left": null,
            "margin": null,
            "max_height": null,
            "max_width": null,
            "min_height": null,
            "min_width": null,
            "object_fit": null,
            "object_position": null,
            "order": null,
            "overflow": null,
            "overflow_x": null,
            "overflow_y": null,
            "padding": null,
            "right": null,
            "top": null,
            "visibility": null,
            "width": null
          }
        },
        "33abf971315e4968a255b76cb94d784a": {
          "model_module": "@jupyter-widgets/controls",
          "model_name": "ButtonStyleModel",
          "model_module_version": "1.5.0",
          "state": {
            "_model_module": "@jupyter-widgets/controls",
            "_model_module_version": "1.5.0",
            "_model_name": "ButtonStyleModel",
            "_view_count": null,
            "_view_module": "@jupyter-widgets/base",
            "_view_module_version": "1.2.0",
            "_view_name": "StyleView",
            "button_color": null,
            "font_weight": ""
          }
        },
        "2b027886b16d4c0d9de7037290b48caf": {
          "model_module": "@jupyter-widgets/base",
          "model_name": "LayoutModel",
          "model_module_version": "1.2.0",
          "state": {
            "_model_module": "@jupyter-widgets/base",
            "_model_module_version": "1.2.0",
            "_model_name": "LayoutModel",
            "_view_count": null,
            "_view_module": "@jupyter-widgets/base",
            "_view_module_version": "1.2.0",
            "_view_name": "LayoutView",
            "align_content": null,
            "align_items": null,
            "align_self": null,
            "border": null,
            "bottom": null,
            "display": null,
            "flex": null,
            "flex_flow": null,
            "grid_area": null,
            "grid_auto_columns": null,
            "grid_auto_flow": null,
            "grid_auto_rows": null,
            "grid_column": null,
            "grid_gap": null,
            "grid_row": null,
            "grid_template_areas": null,
            "grid_template_columns": null,
            "grid_template_rows": null,
            "height": null,
            "justify_content": null,
            "justify_items": null,
            "left": null,
            "margin": null,
            "max_height": null,
            "max_width": null,
            "min_height": null,
            "min_width": null,
            "object_fit": null,
            "object_position": null,
            "order": null,
            "overflow": null,
            "overflow_x": null,
            "overflow_y": null,
            "padding": null,
            "right": null,
            "top": null,
            "visibility": null,
            "width": null
          }
        },
        "76fabab845ea41dcb058040a04462e70": {
          "model_module": "@jupyter-widgets/controls",
          "model_name": "ButtonStyleModel",
          "model_module_version": "1.5.0",
          "state": {
            "_model_module": "@jupyter-widgets/controls",
            "_model_module_version": "1.5.0",
            "_model_name": "ButtonStyleModel",
            "_view_count": null,
            "_view_module": "@jupyter-widgets/base",
            "_view_module_version": "1.2.0",
            "_view_name": "StyleView",
            "button_color": null,
            "font_weight": ""
          }
        },
        "b7fa0d45b28c42d29b0c265fd68e3496": {
          "model_module": "@jupyter-widgets/base",
          "model_name": "LayoutModel",
          "model_module_version": "1.2.0",
          "state": {
            "_model_module": "@jupyter-widgets/base",
            "_model_module_version": "1.2.0",
            "_model_name": "LayoutModel",
            "_view_count": null,
            "_view_module": "@jupyter-widgets/base",
            "_view_module_version": "1.2.0",
            "_view_name": "LayoutView",
            "align_content": null,
            "align_items": null,
            "align_self": null,
            "border": null,
            "bottom": null,
            "display": null,
            "flex": null,
            "flex_flow": null,
            "grid_area": null,
            "grid_auto_columns": null,
            "grid_auto_flow": null,
            "grid_auto_rows": null,
            "grid_column": null,
            "grid_gap": null,
            "grid_row": null,
            "grid_template_areas": null,
            "grid_template_columns": null,
            "grid_template_rows": null,
            "height": null,
            "justify_content": null,
            "justify_items": null,
            "left": null,
            "margin": null,
            "max_height": null,
            "max_width": null,
            "min_height": null,
            "min_width": null,
            "object_fit": null,
            "object_position": null,
            "order": null,
            "overflow": null,
            "overflow_x": null,
            "overflow_y": null,
            "padding": null,
            "right": null,
            "top": null,
            "visibility": null,
            "width": null
          }
        }
      }
    }
  },
  "cells": [
    {
      "cell_type": "markdown",
      "metadata": {
        "id": "view-in-github",
        "colab_type": "text"
      },
      "source": [
        "<a href=\"https://colab.research.google.com/github/JoshuaStorm1017/FreeTranscriber/blob/main/FreeTrasnscribe.ipynb\" target=\"_parent\"><img src=\"https://colab.research.google.com/assets/colab-badge.svg\" alt=\"Open In Colab\"/></a>"
      ]
    },
    {
      "cell_type": "code",
      "execution_count": 1,
      "metadata": {
        "colab": {
          "base_uri": "https://localhost:8080/",
          "height": 1000,
          "referenced_widgets": [
            "c980053224814e758ea42bcbaa00dba9",
            "194f34c7ec924c64bf9bdd8a5929894b",
            "e84e8b5f890143cb90f750f0637b0a2b",
            "f03f0bd79459416a84fc1f0a71fdaf1b",
            "73865822456040e89aead6a56fda7675",
            "89ecae41d56940239b980a10b6f260bd",
            "72f647c90fbf4e46b368936ebf5f18de",
            "0530fd9514074c6b890ad2d0b3ad304a",
            "6c3cb536f61847cc9b62562a29d82d16",
            "8ed9885896b644259ef631a7c65e5a30",
            "82100f72a639484b968b233ad2534512",
            "210ff52078b641d4b5d1f9d5ba3662c8",
            "c02334950910412898400b6da3239b1b",
            "85b374cff8e248b6a55b7d908d864e25",
            "60cbe69c5f9247fda66978c6af3be2ef",
            "e52bfc5c2e6f4d4f8517263173a2ce57",
            "7c8996a291a341e8958b2ccd7c6107fa",
            "3645348aed904393abe3327ec5fcf7da",
            "ceff05fef4a949d4961d5373c06c43cc",
            "917a5c957d1f43ccbe755c4236619b0e",
            "98f9f1c76d96436e85929a1e21151e51",
            "517c47f51b5d4be1a45519f9e3334deb",
            "8b50fe0fe600499da978c53c32c7a30b",
            "33abf971315e4968a255b76cb94d784a",
            "2b027886b16d4c0d9de7037290b48caf",
            "76fabab845ea41dcb058040a04462e70",
            "b7fa0d45b28c42d29b0c265fd68e3496"
          ]
        },
        "collapsed": true,
        "id": "tFcfJr72YUwz",
        "outputId": "2ddbae0d-5409-4663-d2e8-cbf53ab97bcd"
      },
      "outputs": [
        {
          "output_type": "display_data",
          "data": {
            "text/plain": [
              "<IPython.core.display.HTML object>"
            ],
            "text/html": [
              "<h2>🎙️ Easy Audio/Video Transcriber (with URL support) 📝</h2>"
            ]
          },
          "metadata": {}
        },
        {
          "output_type": "display_data",
          "data": {
            "text/plain": [
              "<IPython.core.display.HTML object>"
            ],
            "text/html": [
              "\n",
              "<p><b>Instructions:</b></p>\n",
              "<ol>\n",
              "    <li>Select your <b>Input Method</b>: \"Upload File\" or \"Enter URL\".</li>\n",
              "    <li>If \"Upload File\": Click <b>'Choose File'</b> to upload your media.</li>\n",
              "    <li>If \"Enter URL\": Paste the direct link to your audio/video file in the <b>'File URL'</b> box. \n",
              "        (e.g., <code>https://example.com/my_podcast_episode.mp3</code>). \n",
              "        Make sure it's a direct link to the file, not a webpage containing the file.</li>\n",
              "    <li>Select the <b>Media Type</b> (Audio or Video) appropriate for your file.</li>\n",
              "    <li>Click the <b>'Transcribe'</b> button.</li>\n",
              "    <li>The transcription will appear in the text box below. You can then click <b>'Download Transcript (.txt)'</b>.</li>\n",
              "</ol>\n",
              "<p><b>Note:</b> The first time you transcribe, the AI model needs to be downloaded (takes a few minutes). Using a GPU (Runtime > Change runtime type) is highly recommended for speed. Large files or long URLs might take significant time to download and process.</p>\n"
            ]
          },
          "metadata": {}
        },
        {
          "output_type": "display_data",
          "data": {
            "text/plain": [
              "VBox(children=(RadioButtons(description='Input Method:', options=('Upload File', 'Enter URL'), value='Upload F…"
            ],
            "application/vnd.jupyter.widget-view+json": {
              "version_major": 2,
              "version_minor": 0,
              "model_id": "c980053224814e758ea42bcbaa00dba9"
            }
          },
          "metadata": {}
        },
        {
          "output_type": "stream",
          "name": "stdout",
          "text": [
            "Transcript prepared as 'espplus102_2025_transcript_20250514_162138.txt'. Offering for download...\n"
          ]
        },
        {
          "output_type": "display_data",
          "data": {
            "text/plain": [
              "<IPython.core.display.Javascript object>"
            ],
            "application/javascript": [
              "\n",
              "    async function download(id, filename, size) {\n",
              "      if (!google.colab.kernel.accessAllowed) {\n",
              "        return;\n",
              "      }\n",
              "      const div = document.createElement('div');\n",
              "      const label = document.createElement('label');\n",
              "      label.textContent = `Downloading \"${filename}\": `;\n",
              "      div.appendChild(label);\n",
              "      const progress = document.createElement('progress');\n",
              "      progress.max = size;\n",
              "      div.appendChild(progress);\n",
              "      document.body.appendChild(div);\n",
              "\n",
              "      const buffers = [];\n",
              "      let downloaded = 0;\n",
              "\n",
              "      const channel = await google.colab.kernel.comms.open(id);\n",
              "      // Send a message to notify the kernel that we're ready.\n",
              "      channel.send({})\n",
              "\n",
              "      for await (const message of channel.messages) {\n",
              "        // Send a message to notify the kernel that we're ready.\n",
              "        channel.send({})\n",
              "        if (message.buffers) {\n",
              "          for (const buffer of message.buffers) {\n",
              "            buffers.push(buffer);\n",
              "            downloaded += buffer.byteLength;\n",
              "            progress.value = downloaded;\n",
              "          }\n",
              "        }\n",
              "      }\n",
              "      const blob = new Blob(buffers, {type: 'application/binary'});\n",
              "      const a = document.createElement('a');\n",
              "      a.href = window.URL.createObjectURL(blob);\n",
              "      a.download = filename;\n",
              "      div.appendChild(a);\n",
              "      a.click();\n",
              "      div.remove();\n",
              "    }\n",
              "  "
            ]
          },
          "metadata": {}
        },
        {
          "output_type": "display_data",
          "data": {
            "text/plain": [
              "<IPython.core.display.Javascript object>"
            ],
            "application/javascript": [
              "download(\"download_74dd98b4-5bd1-4961-b784-a3a7ec944c6a\", \"espplus102_2025_transcript_20250514_162138.txt\", 40950)"
            ]
          },
          "metadata": {}
        }
      ],
      "source": [
        "#@title 🎙️ Easy Audio/Video Transcriber (with URL support) 📝\n",
        "#@markdown 1. Run this cell (click the \"play\" button or press Shift+Enter).\n",
        "#@markdown 2. It will install necessary tools (may take a minute or two the first time).\n",
        "#@markdown 3. Choose your **Input Method**: \"Upload File\" or \"Enter URL\".\n",
        "#@markdown 4.  - If \"Upload File\": Click \"Choose Files\" to upload your file.\n",
        "#@markdown     - If \"Enter URL\": Paste the direct link to your audio/video file in the \"File URL\" box.\n",
        "#@markdown 5. Select the **Media Type** (Audio or Video).\n",
        "#@markdown 6. Click the \"Transcribe\" button.\n",
        "#@markdown 7. Wait for the magic! The transcript will appear below, and a download link for a .txt file will be provided.\n",
        "\n",
        "# --- 1. Install necessary libraries ---\n",
        "# -q for \"quiet\" installation\n",
        "print(\"Installing necessary libraries... This might take a minute or two the first time.\")\n",
        "!pip install -q openai-whisper moviepy requests\n",
        "!apt-get -qq install ffmpeg # Ensure ffmpeg is available for moviepy\n",
        "\n",
        "import whisper\n",
        "import moviepy.editor as mp\n",
        "import ipywidgets as widgets\n",
        "from IPython.display import display, clear_output, HTML\n",
        "from google.colab import files\n",
        "import os\n",
        "import datetime\n",
        "import requests # For downloading from URL\n",
        "import urllib.parse # For parsing URLs\n",
        "import torch # To check for GPU availability for fp16\n",
        "\n",
        "# --- 2. Global variables and helper functions ---\n",
        "MODEL_NAME = \"small\" # \"tiny\", \"base\", \"small\", \"medium\", \"large\". \"small\" is a good balance.\n",
        "UPLOADED_FILE_INFO = {} # Store uploaded file data from FileUpload widget\n",
        "DOWNLOADED_FILE_PATH_FROM_URL = None # Store path of file downloaded from URL\n",
        "TRANSCRIPT_TEXT = \"\"\n",
        "model = None # To load the model only once\n",
        "\n",
        "def load_whisper_model():\n",
        "    global model\n",
        "    if model is None:\n",
        "        print(f\"Loading Whisper model ('{MODEL_NAME}')... This can take some time, especially for larger models.\")\n",
        "        try:\n",
        "            model = whisper.load_model(MODEL_NAME)\n",
        "            print(f\"Whisper model '{MODEL_NAME}' loaded successfully!\")\n",
        "        except Exception as e:\n",
        "            print(f\"Error loading Whisper model: {e}\")\n",
        "            print(\"This might be due to insufficient RAM/GPU memory. Try a smaller model (e.g., 'tiny' or 'base')\")\n",
        "            print(\"Or, go to Runtime > Change runtime type and ensure a GPU is selected (if available).\")\n",
        "            model = None\n",
        "    return model\n",
        "\n",
        "def get_formatted_timestamp():\n",
        "    return datetime.datetime.now().strftime(\"%Y%m%d_%H%M%S\")\n",
        "\n",
        "def get_filename_from_url(url):\n",
        "    try:\n",
        "        parsed_url = urllib.parse.urlparse(url)\n",
        "        filename = os.path.basename(parsed_url.path)\n",
        "        if not filename: # If URL ends with / or has no clear filename\n",
        "            # Try to get it from content-disposition header if we were to download,\n",
        "            # but for now, just create a generic one.\n",
        "            content_type = requests.head(url, timeout=10).headers.get('content-type', '').split('/')[0]\n",
        "            extension_map = {'audio': 'mp3', 'video': 'mp4', 'application': 'bin'} # very basic map\n",
        "            ext = extension_map.get(content_type, 'dat')\n",
        "            filename = f\"downloaded_media_{get_formatted_timestamp()}.{ext}\"\n",
        "        return filename\n",
        "    except Exception:\n",
        "        return f\"downloaded_media_{get_formatted_timestamp()}\"\n",
        "\n",
        "\n",
        "# --- 3. Widget Setup ---\n",
        "input_method_radio = widgets.RadioButtons(\n",
        "    options=['Upload File', 'Enter URL'],\n",
        "    description='Input Method:',\n",
        "    value='Upload File',\n",
        "    disabled=False,\n",
        ")\n",
        "\n",
        "file_type_dropdown = widgets.Dropdown(\n",
        "    options=['Audio', 'Video'],\n",
        "    value='Audio', # Default, user should pick based on their file\n",
        "    description='Media Type:',\n",
        "    disabled=False,\n",
        ")\n",
        "\n",
        "file_uploader = widgets.FileUpload(\n",
        "    accept='.mp3,.wav,.m4a,.ogg,.flac,.mp4,.mov,.avi,.mkv',\n",
        "    multiple=False,\n",
        "    description='Choose File',\n",
        "    layout={'display': 'flex'} # Initially visible\n",
        ")\n",
        "\n",
        "url_input_text = widgets.Text(\n",
        "    value='',\n",
        "    placeholder='e.g., https://example.com/audio.mp3',\n",
        "    description='File URL:',\n",
        "    layout={'width': '95%', 'display': 'none'}, # Initially hidden\n",
        "    disabled=False\n",
        ")\n",
        "\n",
        "transcribe_button = widgets.Button(\n",
        "    description='Transcribe',\n",
        "    disabled=True,\n",
        "    button_style='info',\n",
        "    tooltip='Upload a file or enter a URL, then click to transcribe',\n",
        "    icon='microphone'\n",
        ")\n",
        "\n",
        "download_button = widgets.Button(\n",
        "    description='Download Transcript (.txt)',\n",
        "    disabled=True,\n",
        "    button_style='success',\n",
        "    tooltip='Download the transcript as a text file',\n",
        "    icon='download'\n",
        ")\n",
        "\n",
        "output_area = widgets.Output()\n",
        "transcription_display = widgets.Textarea(\n",
        "    value='',\n",
        "    placeholder='Transcription will appear here...',\n",
        "    description='Transcript:',\n",
        "    layout={'height': '200px', 'width': '95%'},\n",
        "    disabled=True\n",
        ")\n",
        "\n",
        "# --- 4. Event Handlers ---\n",
        "def on_input_method_change(change):\n",
        "    \"\"\"Shows/hides UI elements based on input method selection.\"\"\"\n",
        "    global UPLOADED_FILE_INFO, DOWNLOADED_FILE_PATH_FROM_URL\n",
        "\n",
        "    if change.new == 'Upload File':\n",
        "        file_uploader.layout.display = 'flex'\n",
        "        url_input_text.layout.display = 'none'\n",
        "        DOWNLOADED_FILE_PATH_FROM_URL = None # Clear any downloaded file path info\n",
        "        if url_input_text.value: # Clear the text if user switches back\n",
        "            url_input_text.value = \"\"\n",
        "\n",
        "        # UPLOADED_FILE_INFO retains its state from before switching.\n",
        "        # If it's empty (e.g., first time, or after URL mode cleared it), button is disabled.\n",
        "        transcribe_button.disabled = not bool(UPLOADED_FILE_INFO)\n",
        "\n",
        "        # If the file_uploader widget still visually shows a file (from before switching modes)\n",
        "        # but our UPLOADED_FILE_INFO is empty (because we switched to URL then back),\n",
        "        # inform the user.\n",
        "        if not UPLOADED_FILE_INFO and file_uploader.value:\n",
        "            with output_area:\n",
        "                clear_output(wait=True) # Clear other messages from output_area\n",
        "                print(\"Switched to 'Upload File' mode. If a file name is shown from a previous selection, please re-select it or choose a new file to activate the 'Transcribe' button.\")\n",
        "\n",
        "    elif change.new == 'Enter URL':\n",
        "        file_uploader.layout.display = 'none'\n",
        "        url_input_text.layout.display = 'flex'\n",
        "        UPLOADED_FILE_INFO = {} # CRITICAL: Clear our program's state for any previously uploaded file.\n",
        "        # The FileUpload widget's visual might not clear, but our logic relies on UPLOADED_FILE_INFO.\n",
        "        transcribe_button.disabled = not url_input_text.value.strip()\n",
        "\n",
        "    download_button.disabled = True\n",
        "    transcription_display.value = \"\"\n",
        "\n",
        "def on_file_upload_change(change):\n",
        "    \"\"\"Handles file upload and enables transcribe button if in 'Upload File' mode.\"\"\"\n",
        "    global UPLOADED_FILE_INFO\n",
        "    with output_area:\n",
        "        clear_output(wait=True) # Clear previous messages in output_area\n",
        "        if file_uploader.value: # file_uploader.value is a dict: {'filename': {metadata..., content...}}\n",
        "            uploaded_file_data_list = list(file_uploader.value.values())\n",
        "            if uploaded_file_data_list:\n",
        "                UPLOADED_FILE_INFO = uploaded_file_data_list[0]\n",
        "                filename = UPLOADED_FILE_INFO['metadata']['name']\n",
        "                print(f\"File '{filename}' selected.\")\n",
        "                if input_method_radio.value == 'Upload File':\n",
        "                    transcribe_button.disabled = False\n",
        "            else: # Should be rare if file_uploader.value is truthy\n",
        "                UPLOADED_FILE_INFO = {}\n",
        "                if input_method_radio.value == 'Upload File':\n",
        "                    transcribe_button.disabled = True\n",
        "                print(\"File selection event, but no file data processed. Please try again.\")\n",
        "        else: # User cleared the file selection in the browser, or initial state\n",
        "            UPLOADED_FILE_INFO = {}\n",
        "            if input_method_radio.value == 'Upload File':\n",
        "                transcribe_button.disabled = True\n",
        "            print(\"No file selected, or selection cleared.\")\n",
        "    download_button.disabled = True\n",
        "    transcription_display.value = \"\"\n",
        "\n",
        "def on_url_input_change(change):\n",
        "    \"\"\"Enables transcribe button if a URL is entered and in 'Enter URL' mode.\"\"\"\n",
        "    if input_method_radio.value == 'Enter URL':\n",
        "        transcribe_button.disabled = not change.new.strip() # Enable if URL is not empty\n",
        "    download_button.disabled = True # Reset download and transcript\n",
        "    transcription_display.value = \"\"\n",
        "\n",
        "\n",
        "def on_transcribe_button_clicked(b):\n",
        "    global TRANSCRIPT_TEXT, UPLOADED_FILE_INFO, DOWNLOADED_FILE_PATH_FROM_URL\n",
        "\n",
        "    current_file_to_process = None\n",
        "    original_filename_for_cleanup = None # Store the path of the file we might need to clean up\n",
        "\n",
        "    # Disable buttons during processing\n",
        "    transcribe_button.disabled = True\n",
        "    download_button.disabled = True\n",
        "    file_uploader.disabled = True\n",
        "    url_input_text.disabled = True\n",
        "    file_type_dropdown.disabled = True\n",
        "    input_method_radio.disabled = True\n",
        "\n",
        "    with output_area:\n",
        "        clear_output(wait=True)\n",
        "\n",
        "        # --- Determine input source and prepare file ---\n",
        "        if input_method_radio.value == 'Upload File':\n",
        "            if not UPLOADED_FILE_INFO:\n",
        "                print(\"Error: No file has been selected for upload, or selection was cleared. Please select a file.\")\n",
        "                _reenable_inputs(); return\n",
        "\n",
        "            filename = UPLOADED_FILE_INFO['metadata']['name']\n",
        "            content = UPLOADED_FILE_INFO['content']\n",
        "            # Save uploaded file to a temporary path in Colab for processing\n",
        "            current_file_to_process = f\"/content/{filename}\"\n",
        "            original_filename_for_cleanup = current_file_to_process # Mark for potential cleanup\n",
        "            with open(current_file_to_process, 'wb') as f:\n",
        "                f.write(content)\n",
        "            print(f\"Processing uploaded file: {filename}\")\n",
        "\n",
        "        elif input_method_radio.value == 'Enter URL':\n",
        "            url = url_input_text.value.strip()\n",
        "            if not url:\n",
        "                print(\"Error: No URL provided!\")\n",
        "                _reenable_inputs(); return\n",
        "\n",
        "            print(f\"Attempting to download from URL: {url}\")\n",
        "            try:\n",
        "                # Use a generic name or try to get from URL; ensure it's unique enough\n",
        "                filename_from_url = get_filename_from_url(url)\n",
        "                DOWNLOADED_FILE_PATH_FROM_URL = f\"/content/{filename_from_url}\"\n",
        "                current_file_to_process = DOWNLOADED_FILE_PATH_FROM_URL\n",
        "                original_filename_for_cleanup = DOWNLOADED_FILE_PATH_FROM_URL # Mark for cleanup\n",
        "\n",
        "                response = requests.get(url, stream=True, timeout=180) # 180s timeout\n",
        "                response.raise_for_status()\n",
        "                total_size = int(response.headers.get('content-length', 0))\n",
        "                downloaded_size = 0\n",
        "\n",
        "                with open(DOWNLOADED_FILE_PATH_FROM_URL, 'wb') as f:\n",
        "                    for chunk in response.iter_content(chunk_size=81920): # Increased chunk size\n",
        "                        f.write(chunk)\n",
        "                        downloaded_size += len(chunk)\n",
        "                        if total_size > 0:\n",
        "                            progress = (downloaded_size / total_size) * 100\n",
        "                            print(f\"Downloading... {downloaded_size / (1024*1024):.2f}MB / {total_size / (1024*1024):.2f}MB ({progress:.1f}%)\", end='\\r')\n",
        "                        else:\n",
        "                            print(f\"Downloading... {downloaded_size / (1024*1024):.2f}MB (total size unknown)\", end='\\r')\n",
        "                print(f\"\\nDownloaded successfully to: {DOWNLOADED_FILE_PATH_FROM_URL}   \") # Spaces to clear line\n",
        "            except requests.exceptions.Timeout:\n",
        "                print(f\"\\nError: The download from {url} timed out. Check the URL and your connection.\")\n",
        "                _reenable_inputs(); return\n",
        "            except requests.exceptions.RequestException as e:\n",
        "                print(f\"\\nError downloading from URL {url}: {e}\")\n",
        "                _reenable_inputs(); return\n",
        "            except Exception as e:\n",
        "                print(f\"\\nAn unexpected error occurred during download: {e}\")\n",
        "                _reenable_inputs(); return\n",
        "        else:\n",
        "            print(\"Error: Invalid input method selected.\")\n",
        "            _reenable_inputs(); return\n",
        "\n",
        "        if not current_file_to_process or not os.path.exists(current_file_to_process):\n",
        "            print(f\"Error: File to process ('{current_file_to_process}') is not available or could not be prepared.\")\n",
        "            _reenable_inputs(); return\n",
        "\n",
        "        print(f\"\\nStarting transcription for: {os.path.basename(current_file_to_process)}\")\n",
        "        print(\"Please be patient, this may take a while...\")\n",
        "\n",
        "        audio_path_to_transcribe = current_file_to_process\n",
        "        selected_media_type = file_type_dropdown.value\n",
        "\n",
        "        current_whisper_model = load_whisper_model()\n",
        "        if not current_whisper_model:\n",
        "            print(\"Transcription cannot proceed: Whisper model failed to load.\")\n",
        "            _reenable_inputs(keep_transcribe_disabled_if_no_input=True); return\n",
        "\n",
        "        try:\n",
        "            temp_extracted_audio_path = None\n",
        "            if selected_media_type == 'Video':\n",
        "                print(\"Extracting audio from video...\")\n",
        "                video_clip = mp.VideoFileClip(current_file_to_process)\n",
        "                if not video_clip.audio:\n",
        "                    print(\"Error: The video file does not seem to contain an audio track.\")\n",
        "                    _reenable_inputs(keep_transcribe_disabled_if_no_input=True); return\n",
        "\n",
        "                # Create a unique name for the extracted audio\n",
        "                base_vid_name = os.path.splitext(os.path.basename(current_file_to_process))[0]\n",
        "                temp_extracted_audio_path = f\"/content/extracted_audio_{base_vid_name}_{get_formatted_timestamp()}.wav\"\n",
        "\n",
        "                video_clip.audio.write_audiofile(temp_extracted_audio_path, codec='pcm_s16le')\n",
        "                video_clip.close()\n",
        "                if video_clip.audio: video_clip.audio.close() # Ensure audio resources are freed\n",
        "                audio_path_to_transcribe = temp_extracted_audio_path\n",
        "                print(f\"Audio extracted to: {audio_path_to_transcribe}\")\n",
        "\n",
        "            print(f\"Transcribing '{os.path.basename(audio_path_to_transcribe)}' with Whisper model '{MODEL_NAME}'...\")\n",
        "            use_fp16 = torch.cuda.is_available()\n",
        "            if use_fp16:\n",
        "                print(\"GPU detected. Using FP16 for faster transcription.\")\n",
        "            else:\n",
        "                print(\"No GPU detected or not using CUDA. Using FP32. This might be slower.\")\n",
        "\n",
        "\n",
        "            result = current_whisper_model.transcribe(audio_path_to_transcribe, fp16=use_fp16)\n",
        "            TRANSCRIPT_TEXT = result[\"text\"]\n",
        "\n",
        "            print(\"\\n--- Transcription Complete! ---\")\n",
        "            transcription_display.value = TRANSCRIPT_TEXT\n",
        "            download_button.disabled = False\n",
        "\n",
        "            # Clean up temporary extracted audio file\n",
        "            if temp_extracted_audio_path and os.path.exists(temp_extracted_audio_path):\n",
        "                os.remove(temp_extracted_audio_path)\n",
        "                print(f\"Cleaned up temporary audio file: {temp_extracted_audio_path}\")\n",
        "\n",
        "            # Clean up the main processed file (either uploaded or downloaded)\n",
        "            if original_filename_for_cleanup and os.path.exists(original_filename_for_cleanup):\n",
        "                 # Only remove if it wasn't the *source* of extracted audio that's still needed for some reason\n",
        "                 # (though by this point, it shouldn't be).\n",
        "                 # And ensure it's not the same as temp_extracted_audio_path if that wasn't cleaned for some reason\n",
        "                if original_filename_for_cleanup != temp_extracted_audio_path :\n",
        "                    os.remove(original_filename_for_cleanup)\n",
        "                    print(f\"Cleaned up processed file: {original_filename_for_cleanup}\")\n",
        "                    if original_filename_for_cleanup == DOWNLOADED_FILE_PATH_FROM_URL:\n",
        "                        DOWNLOADED_FILE_PATH_FROM_URL = None # Reset if it was the downloaded file\n",
        "\n",
        "        except Exception as e:\n",
        "            print(f\"\\n--- An error occurred during transcription or audio extraction: ---\")\n",
        "            print(e)\n",
        "            import traceback\n",
        "            traceback.print_exc() # Print full traceback for debugging\n",
        "        finally:\n",
        "            _reenable_inputs(keep_transcribe_disabled_if_no_input=True)\n",
        "            # download_button should be enabled only if TRANSCRIPT_TEXT is not empty\n",
        "            download_button.disabled = not bool(TRANSCRIPT_TEXT)\n",
        "\n",
        "\n",
        "def _reenable_inputs(keep_transcribe_disabled_if_no_input=False):\n",
        "    \"\"\"Helper to re-enable input widgets after processing or error.\"\"\"\n",
        "    file_uploader.disabled = False\n",
        "    url_input_text.disabled = False\n",
        "    file_type_dropdown.disabled = False\n",
        "    input_method_radio.disabled = False\n",
        "    if keep_transcribe_disabled_if_no_input:\n",
        "        if input_method_radio.value == 'Upload File':\n",
        "            transcribe_button.disabled = not bool(UPLOADED_FILE_INFO)\n",
        "        elif input_method_radio.value == 'Enter URL':\n",
        "            transcribe_button.disabled = not url_input_text.value.strip()\n",
        "        else: # Should not happen\n",
        "            transcribe_button.disabled = True\n",
        "    else: # This case isn't typically used, but for completeness\n",
        "        transcribe_button.disabled = False\n",
        "\n",
        "\n",
        "def on_download_button_clicked(b):\n",
        "    global TRANSCRIPT_TEXT\n",
        "    if not TRANSCRIPT_TEXT:\n",
        "        with output_area:\n",
        "            # clear_output(wait=True) # Let's not clear if there's other important info\n",
        "            print(\"No transcript available to download.\")\n",
        "        return\n",
        "\n",
        "    # No need to clear output_area for download, just offer the file\n",
        "    # with output_area:\n",
        "    #     clear_output(wait=True)\n",
        "    base_filename_for_dl = \"transcription\"\n",
        "    # Try to get a base filename from the original input more robustly\n",
        "    if input_method_radio.value == 'Upload File' and UPLOADED_FILE_INFO and 'metadata' in UPLOADED_FILE_INFO:\n",
        "        base_filename_for_dl = os.path.splitext(UPLOADED_FILE_INFO['metadata']['name'])[0]\n",
        "    elif input_method_radio.value == 'Enter URL' and url_input_text.value:\n",
        "         parsed_url_filename = get_filename_from_url(url_input_text.value)\n",
        "         base_filename_for_dl = os.path.splitext(parsed_url_filename)[0]\n",
        "\n",
        "    transcript_filename = f\"{base_filename_for_dl}_transcript_{get_formatted_timestamp()}.txt\"\n",
        "    try:\n",
        "        with open(transcript_filename, \"w\", encoding=\"utf-8\") as f:\n",
        "            f.write(TRANSCRIPT_TEXT)\n",
        "        print(f\"Transcript prepared as '{transcript_filename}'. Offering for download...\")\n",
        "        files.download(transcript_filename)\n",
        "        # Remove the local server-side copy after download is initiated\n",
        "        # Note: files.download() is asynchronous in some ways with Colab's backend.\n",
        "        # A short delay or trying to remove it later might be more robust, but usually fine.\n",
        "        if os.path.exists(transcript_filename):\n",
        "             # os.remove(transcript_filename) # Optional: clean up .txt file from Colab after download\n",
        "             pass # Let's keep it for this session for now. Colab cleans up /content on termination.\n",
        "\n",
        "    except Exception as e:\n",
        "        with output_area:\n",
        "            print(f\"Error preparing transcript for download: {e}\")\n",
        "\n",
        "\n",
        "# --- 5. Link event handlers to widgets ---\n",
        "input_method_radio.observe(on_input_method_change, names='value')\n",
        "file_uploader.observe(on_file_upload_change, names='value')\n",
        "url_input_text.observe(on_url_input_change, names='value')\n",
        "transcribe_button.on_click(on_transcribe_button_clicked)\n",
        "download_button.on_click(on_download_button_clicked)\n",
        "\n",
        "# --- 6. Display the UI ---\n",
        "clear_output(wait=True) # Clear installation messages before showing UI\n",
        "\n",
        "display(HTML(\"<h2>🎙️ Easy Audio/Video Transcriber (with URL support) 📝</h2>\"))\n",
        "display(HTML(\"\"\"\n",
        "<p><b>Instructions:</b></p>\n",
        "<ol>\n",
        "    <li>Select your <b>Input Method</b>: \"Upload File\" or \"Enter URL\".</li>\n",
        "    <li>If \"Upload File\": Click <b>'Choose File'</b> to upload your media.</li>\n",
        "    <li>If \"Enter URL\": Paste the direct link to your audio/video file in the <b>'File URL'</b> box.\n",
        "        (e.g., <code>https://example.com/my_podcast_episode.mp3</code>).\n",
        "        Make sure it's a direct link to the file, not a webpage containing the file.</li>\n",
        "    <li>Select the <b>Media Type</b> (Audio or Video) appropriate for your file.</li>\n",
        "    <li>Click the <b>'Transcribe'</b> button.</li>\n",
        "    <li>The transcription will appear in the text box below. You can then click <b>'Download Transcript (.txt)'</b>.</li>\n",
        "</ol>\n",
        "<p><b>Note:</b> The first time you transcribe, the AI model needs to be downloaded (takes a few minutes). Using a GPU (Runtime > Change runtime type) is highly recommended for speed. Large files or long URLs might take significant time to download and process.</p>\n",
        "\"\"\"))\n",
        "\n",
        "ui_layout = widgets.VBox([\n",
        "    input_method_radio,\n",
        "    file_type_dropdown,\n",
        "    file_uploader, # Will be shown/hidden by logic\n",
        "    url_input_text, # Will be shown/hidden by logic\n",
        "    widgets.HBox([transcribe_button, download_button]),\n",
        "    output_area,\n",
        "    transcription_display\n",
        "])\n",
        "\n",
        "display(ui_layout)\n",
        "\n",
        "# Pre-load the model after UI is displayed, messages will go into output_area\n",
        "if not model:\n",
        "    with output_area: # Show loading message in the output area\n",
        "        load_whisper_model()"
      ]
    }
  ]
}